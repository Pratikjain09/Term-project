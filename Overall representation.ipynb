{
 "cells": [
  {
   "cell_type": "code",
   "execution_count": 13,
   "metadata": {
    "collapsed": true
   },
   "outputs": [],
   "source": [
    "import plotly.plotly as py\n",
    "import pandas as pd\n",
    "import plotly\n"
   ]
  },
  {
   "cell_type": "code",
   "execution_count": 14,
   "metadata": {
    "collapsed": false
   },
   "outputs": [],
   "source": [
    "plotly.tools.set_credentials_file(username='qwerty03', api_key='zalzm7bui9')"
   ]
  },
  {
   "cell_type": "markdown",
   "metadata": {},
   "source": [
    "# Africa"
   ]
  },
  {
   "cell_type": "code",
   "execution_count": 37,
   "metadata": {
    "collapsed": false
   },
   "outputs": [],
   "source": [
    "df = pd.read_csv('africa_pneumonia.csv')\n",
    "\n",
    "data1 =  dict(\n",
    "        type = 'choropleth',\n",
    "        locations = df['ISO_Code'],\n",
    "        z = df['Pneumonia'],\n",
    "        text = df['CountryName'],\n",
    "        colorscale = [[0,\"rgb(5, 10, 172)\"],[0.35,\"rgb(40, 60, 190)\"],[0.5,\"rgb(70, 100, 245)\"],\\\n",
    "            [0.6,\"rgb(90, 120, 245)\"],[0.7,\"rgb(106, 137, 247)\"],[1,\"rgb(220, 220, 220)\"]],\n",
    "        autocolorscale = False,\n",
    "        reversescale = True,\n",
    "        name = 'pneumonia',\n",
    "        marker = dict(\n",
    "            line = dict (\n",
    "                color = 'rgb(220,220,0)',\n",
    "                width = 1.0\n",
    "            ) ),\n",
    "        \n",
    "      ) "
   ]
  },
  {
   "cell_type": "markdown",
   "metadata": {},
   "source": [
    "# Asia"
   ]
  },
  {
   "cell_type": "code",
   "execution_count": 31,
   "metadata": {
    "collapsed": true
   },
   "outputs": [],
   "source": [
    "df1 = pd.read_csv('asia_preterm.csv')\n",
    "\n",
    "data2 =  dict(\n",
    "        type = 'choropleth',\n",
    "        locations = df1['ISO_Code'],\n",
    "        z = df1['Preterm'],\n",
    "        text = df1['CountryName'],\n",
    "        colorscale = [[0,\"rgb(172, 10, 5)\"],[0.35,\"rgb(190, 60, 40)\"],[0.5,\"rgb(245, 100, 70)\"],\\\n",
    "            [0.6,\"rgb(245, 120, 90)\"],[0.7,\"rgb(247, 137, 106)\"],[1,\"rgb(220, 220, 220)\"]],\n",
    "        autocolorscale = False,\n",
    "        reversescale = True,\n",
    "        marker = dict(\n",
    "            line = dict (\n",
    "                color = 'rgb(0,0,0)',\n",
    "                width = 1.0\n",
    "            ) ),\n",
    "       \n",
    "      ) "
   ]
  },
  {
   "cell_type": "markdown",
   "metadata": {},
   "source": [
    "# Europe"
   ]
  },
  {
   "cell_type": "code",
   "execution_count": 33,
   "metadata": {
    "collapsed": false
   },
   "outputs": [],
   "source": [
    "df2 = pd.read_csv('europe_congenital.csv')\n",
    "\n",
    "data3 =  dict(\n",
    "        type = 'choropleth',\n",
    "        locations = df2['ISO_Code'],\n",
    "        z = df2['Congenital'],\n",
    "        text = df2['CountryName'],\n",
    "        colorscale = [[0,\"rgb(5, 172, 10)\"],[0.35,\"rgb(40, 190, 60)\"],[0.5,\"rgb(70, 245, 100)\"],\\\n",
    "            [0.6,\"rgb(90, 245, 120)\"],[0.7,\"rgb(106, 247, 137)\"],[1,\"rgb(220, 220, 220)\"]],\n",
    "        autocolorscale = False,\n",
    "        reversescale = True,\n",
    "        marker = dict(\n",
    "            line = dict (\n",
    "                color = 'rgb(220,0,0)',\n",
    "                width = 1.0\n",
    "            ) )\n",
    "      ) "
   ]
  },
  {
   "cell_type": "markdown",
   "metadata": {},
   "source": [
    "# North America"
   ]
  },
  {
   "cell_type": "code",
   "execution_count": 28,
   "metadata": {
    "collapsed": true
   },
   "outputs": [],
   "source": [
    "df3 = pd.read_csv('north_america_preterm.csv')\n",
    "\n",
    "data4 =  dict(\n",
    "        type = 'choropleth',\n",
    "        locations = df3['ISO_Code'],\n",
    "        z = df3['Preterm'],\n",
    "        text = df3['CountryName'],\n",
    "        colorscale = [[0,\"rgb(172, 10, 5)\"],[0.35,\"rgb(190, 60, 40)\"],[0.5,\"rgb(245, 100, 70)\"],\\\n",
    "            [0.6,\"rgb(245, 120, 90)\"],[0.7,\"rgb(247, 137, 106)\"],[1,\"rgb(220, 220, 220)\"]],\n",
    "        autocolorscale = False,\n",
    "        reversescale = True,\n",
    "        marker = dict(\n",
    "            line = dict (\n",
    "                color = 'rgb(0,0,0)',\n",
    "                width = 1.0\n",
    "            ) ),\n",
    "        \n",
    "      ) "
   ]
  },
  {
   "cell_type": "markdown",
   "metadata": {},
   "source": [
    "# South America"
   ]
  },
  {
   "cell_type": "code",
   "execution_count": 34,
   "metadata": {
    "collapsed": true
   },
   "outputs": [],
   "source": [
    "df4 = pd.read_csv('south_america_congenital.csv')\n",
    "\n",
    "data5 = dict(\n",
    "        type = 'choropleth',\n",
    "        locations = df4['ISO_Code'],\n",
    "        z = df4['Congenital'],\n",
    "        text = df4['CountryName'],\n",
    "        colorscale = [[0,\"rgb(5, 172, 10)\"],[0.35,\"rgb(40, 220, 60)\"],[0.5,\"rgb(70, 245, 100)\"],\\\n",
    "            [0.6,\"rgb(90, 245, 120)\"],[0.7,\"rgb(106, 247, 137)\"],[1,\"rgb(220, 220, 220)\"]],\n",
    "        autocolorscale = False,\n",
    "        reversescale = True,\n",
    "        marker = dict(\n",
    "            line = dict (\n",
    "                color = 'rgb(220,0,0)',\n",
    "                width = 1.0\n",
    "            ) ),\n",
    "        \n",
    "      ) "
   ]
  },
  {
   "cell_type": "code",
   "execution_count": 40,
   "metadata": {
    "collapsed": false
   },
   "outputs": [],
   "source": [
    "layout = dict(\n",
    "    title = 'Overall representation of the unicef-data for under 5 death due to cause',\n",
    "    geo = dict(\n",
    "        showlegend=True,\n",
    "        showframe = False,\n",
    "        showcoastlines = False,\n",
    "        projection = dict(\n",
    "            type = 'albers'\n",
    "        )\n",
    "    )\n",
    ")\n",
    "\n",
    "\n",
    "fig = dict( data=[data1,data2,data3,data4,data5], layout=layout )\n"
   ]
  },
  {
   "cell_type": "markdown",
   "metadata": {
    "collapsed": true
   },
   "source": [
    "# Red : Preterm\n",
    "# Green : Congenital\n",
    "# Blue : Pneumonia"
   ]
  },
  {
   "cell_type": "code",
   "execution_count": 41,
   "metadata": {
    "collapsed": false
   },
   "outputs": [
    {
     "data": {
      "text/html": [
       "<iframe id=\"igraph\" scrolling=\"no\" style=\"border:none;\" seamless=\"seamless\" src=\"https://plot.ly/~qwerty03/14.embed\" height=\"525px\" width=\"100%\"></iframe>"
      ],
      "text/plain": [
       "<plotly.tools.PlotlyDisplay object>"
      ]
     },
     "execution_count": 41,
     "metadata": {},
     "output_type": "execute_result"
    }
   ],
   "source": [
    "py.iplot( fig, validate=False, filename='d3-world-map' )"
   ]
  }
 ],
 "metadata": {
  "kernelspec": {
   "display_name": "IPython (Python 3)",
   "language": "python",
   "name": "python3"
  },
  "language_info": {
   "codemirror_mode": {
    "name": "ipython",
    "version": 3
   },
   "file_extension": ".py",
   "mimetype": "text/x-python",
   "name": "python",
   "nbconvert_exporter": "python",
   "pygments_lexer": "ipython3",
   "version": "3.5.2"
  }
 },
 "nbformat": 4,
 "nbformat_minor": 1
}
