{
 "cells": [
  {
   "cell_type": "code",
   "execution_count": 1,
   "metadata": {
    "collapsed": true
   },
   "outputs": [],
   "source": [
    "import pandas as pd\n",
    "import numpy as np\n",
    "import plotly.plotly as py\n",
    "py.sign_in(\"PRETIKCP\",'75srk3pujb')"
   ]
  },
  {
   "cell_type": "code",
   "execution_count": 2,
   "metadata": {
    "collapsed": false,
    "scrolled": true
   },
   "outputs": [],
   "source": [
    "Septop30 = pd.read_csv('Sepsis_top30.csv')\n",
    "Sepsistop30 = Septop30[['CountryName','Sepis ']]\n",
    "Sepsis = Sepsistop30.rename(columns={'CountryName':'Country'})\n",
    "Sepsis = Sepsis.sort_values(by='Country')\n",
    "Sepsis = Sepsis.reset_index(drop=True)\n",
    "#Sepsis"
   ]
  },
  {
   "cell_type": "code",
   "execution_count": 3,
   "metadata": {
    "collapsed": true
   },
   "outputs": [],
   "source": [
    "latlon = pd.read_csv('latitude_longitude.csv')\n",
    "latlonsorted = latlon.sort_values(by='Country      ')\n",
    "latlonsorted = latlonsorted[['Country      ','lat','lon']]\n",
    "latitude_longitude = latlonsorted.rename(columns={'Country      ':'Country'})\n",
    "latitude_longitude = latitude_longitude.reset_index(drop=True)\n",
    "#latitude_longitude"
   ]
  },
  {
   "cell_type": "code",
   "execution_count": 4,
   "metadata": {
    "collapsed": true
   },
   "outputs": [],
   "source": [
    "remove_spaces = [x.strip().replace(' ', ' ') for x in latitude_longitude.Country]\n",
    "remove_spaces = pd.DataFrame(remove_spaces)\n",
    "formated = remove_spaces.rename(columns={0:\"Country1\"})\n",
    "#formated"
   ]
  },
  {
   "cell_type": "code",
   "execution_count": 5,
   "metadata": {
    "collapsed": true
   },
   "outputs": [],
   "source": [
    "new_frame = pd.concat([latitude_longitude,formated],axis=1)\n",
    "new_frame = new_frame[['Country1','lat','lon']]\n",
    "#new_frame"
   ]
  },
  {
   "cell_type": "code",
   "execution_count": 6,
   "metadata": {
    "collapsed": true
   },
   "outputs": [],
   "source": [
    "country_list =list(Sepsis.Country)\n",
    "country_latlon = new_frame.loc[new_frame['Country1'].isin(country_list)]\n",
    "country_latlon = country_latlon.reset_index(drop=True)\n",
    "#country_latlon"
   ]
  },
  {
   "cell_type": "code",
   "execution_count": 7,
   "metadata": {
    "collapsed": true
   },
   "outputs": [],
   "source": [
    "Sepsis_final = pd.concat([Sepsis,country_latlon],axis=1)\n",
    "final = Sepsis_final[['Country1','Sepis ','lat','lon']]\n",
    "final.to_csv('Sepsis_with_latlon.csv')"
   ]
  },
  {
   "cell_type": "code",
   "execution_count": 8,
   "metadata": {
    "collapsed": false
   },
   "outputs": [
    {
     "data": {
      "text/html": [
       "<iframe id=\"igraph\" scrolling=\"no\" style=\"border:none;\" seamless=\"seamless\" src=\"https://plot.ly/~PRETIKCP/6.embed\" height=\"525px\" width=\"100%\"></iframe>"
      ],
      "text/plain": [
       "<plotly.tools.PlotlyDisplay object>"
      ]
     },
     "execution_count": 8,
     "metadata": {},
     "output_type": "execute_result"
    }
   ],
   "source": [
    "df = pd.read_csv('Sepsis_with_latlon.csv')\n",
    "df.head()\n",
    "\n",
    "df['text'] = df['Country1'] + '<br>Percentage_value ' + (df['Sepis ']).astype(str)\n",
    "\n",
    "#scl = [ [0,\"rgb(5, 10, 172)\"],[0.35,\"rgb(40, 60, 190)\"],[0.5,\"rgb(70, 100, 245)\"],\\\n",
    " #   [0.6,\"rgb(90, 120, 245)\"],[0.7,\"rgb(106, 137, 247)\"],[1,\"rgb(220, 220, 220)\"] ]\n",
    "\n",
    "scl = [ [0,\"rgb(5, 10, 172)\"],[0.35,\"rgb(40, 60, 190)\"],\\\n",
    "    [0.5,\"rgb(70, 100, 245)\"],[1,\"rgb(220, 220, 220)\"] ]\n",
    "\n",
    "\n",
    "\n",
    "data = [ dict(\n",
    "        type = 'scattergeo',\n",
    "        locationmode = 'IS0-3',\n",
    "        lon = df['lon'],\n",
    "        lat = df['lat'],\n",
    "        text = df['text'],\n",
    "        mode = 'markers',\n",
    "        marker = dict( \n",
    "            size = 8, \n",
    "            opacity = 0.8,\n",
    "            reversescale = True,\n",
    "            autocolorscale = False,\n",
    "            symbol = 'square',\n",
    "            line = dict(\n",
    "                width=1,\n",
    "                color='rgba(102, 102, 102)'\n",
    "            ),\n",
    "            colorscale = scl,\n",
    "            cmin = 0,\n",
    "            color = df['Sepis '],\n",
    "            cmax = df['Sepis '].max(),\n",
    "            colorbar=dict(\n",
    "                title=\"Percentage Value for 2015 \"\n",
    "            )\n",
    "        ))]\n",
    "\n",
    "layout = dict(\n",
    "        title = 'Deaths of children under-five years of age due to Sepis<br>(Top 30 countries)',\n",
    "        colorbar = True,   \n",
    "        geo = dict(\n",
    "            scope='World',\n",
    "            projection=dict( type='Distance Preserving' ),\n",
    "            showland = True,\n",
    "            landcolor = \"rgb(220, 230, 200)\",\n",
    "            subunitcolor = \"rgb(220, 220, 117)\",\n",
    "            countrycolor = \"rgb(217, 117, 117)\",\n",
    "            countrywidth = 0.5,\n",
    "            subunitwidth = 0.5        \n",
    "        ),\n",
    "    )\n",
    "\n",
    "fig = dict( data=data, layout=layout )\n",
    "py.iplot( fig, validate=False, filename='Cause of death due to Sepis' )"
   ]
  },
  {
   "cell_type": "code",
   "execution_count": null,
   "metadata": {
    "collapsed": true
   },
   "outputs": [],
   "source": []
  }
 ],
 "metadata": {
  "kernelspec": {
   "display_name": "Python 3",
   "language": "python",
   "name": "python3"
  },
  "language_info": {
   "codemirror_mode": {
    "name": "ipython",
    "version": 3
   },
   "file_extension": ".py",
   "mimetype": "text/x-python",
   "name": "python",
   "nbconvert_exporter": "python",
   "pygments_lexer": "ipython3",
   "version": "3.5.2"
  }
 },
 "nbformat": 4,
 "nbformat_minor": 1
}
