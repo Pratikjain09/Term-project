{
 "cells": [
  {
   "cell_type": "markdown",
   "metadata": {
    "collapsed": true
   },
   "source": [
    "  --------------------------------------------------------\n",
    "    Project Code :Python for Data Analysis\n",
    "    Participants : Pretik C P, Deepak Nayak\n",
    "    ME Big Data, SOIS\n",
    "  -----------------------------------------------------------\n"
   ]
  },
  {
   "cell_type": "code",
   "execution_count": 1,
   "metadata": {
    "collapsed": false
   },
   "outputs": [
    {
     "name": "stdout",
     "output_type": "stream",
     "text": [
      "loaded nvd3 IPython extension\n",
      "run nvd3.ipynb.initialize_javascript() to set up the notebook\n",
      "help(nvd3.ipynb.initialize_javascript) for options\n"
     ]
    },
    {
     "data": {
      "text/html": [
       "<link media=\"all\" href=\"files/nv.d3.css\" type=\"text/css\"\n",
       "                        rel=\"stylesheet\"/>"
      ],
      "text/plain": [
       "<IPython.core.display.HTML object>"
      ]
     },
     "metadata": {},
     "output_type": "display_data"
    },
    {
     "data": {
      "application/javascript": [
       "$.getScript(\"files/nv.d3.js\")"
      ],
      "text/plain": [
       "<IPython.core.display.Javascript object>"
      ]
     },
     "metadata": {},
     "output_type": "display_data"
    },
    {
     "data": {
      "application/javascript": [
       "$.getScript(\"files/d3.v3.js\", function() {\n",
       "                              $.getScript(\"files/nv.d3.js\", function() {})});"
      ],
      "text/plain": [
       "<IPython.core.display.Javascript object>"
      ]
     },
     "metadata": {},
     "output_type": "display_data"
    },
    {
     "data": {
      "text/html": [
       "<script src=\"files/d3.v3.js\"></script>"
      ],
      "text/plain": [
       "<IPython.core.display.HTML object>"
      ]
     },
     "metadata": {},
     "output_type": "display_data"
    },
    {
     "data": {
      "text/html": [
       "<script src=\"files/nv.d3.js\"></script>"
      ],
      "text/plain": [
       "<IPython.core.display.HTML object>"
      ]
     },
     "metadata": {},
     "output_type": "display_data"
    }
   ],
   "source": [
    "import pandas as pd\n",
    "import numpy as np\n",
    "import matplotlib.pyplot as plt\n",
    "from nvd3 import multiBarChart,multiBarHorizontalChart\n",
    "import nvd3\n",
    "nvd3.ipynb.initialize_javascript()\n",
    "from IPython.core.display import display, HTML\n",
    "get_ipython().magic('matplotlib nbagg')"
   ]
  },
  {
   "cell_type": "markdown",
   "metadata": {},
   "source": [
    "# Reading xlsx file "
   ]
  },
  {
   "cell_type": "code",
   "execution_count": 2,
   "metadata": {
    "collapsed": false,
    "scrolled": true
   },
   "outputs": [],
   "source": [
    "df = pd.read_excel('cod.xlsx')\n",
    "#df\n",
    "\n"
   ]
  },
  {
   "cell_type": "markdown",
   "metadata": {},
   "source": [
    "# Creating DataFrames"
   ]
  },
  {
   "cell_type": "code",
   "execution_count": 3,
   "metadata": {
    "collapsed": false,
    "scrolled": true
   },
   "outputs": [],
   "source": [
    "df1 = pd.DataFrame(df)\n",
    "#df1"
   ]
  },
  {
   "cell_type": "markdown",
   "metadata": {
    "collapsed": false
   },
   "source": [
    "# Converting to csv file"
   ]
  },
  {
   "cell_type": "code",
   "execution_count": 4,
   "metadata": {
    "collapsed": false,
    "scrolled": true
   },
   "outputs": [],
   "source": [
    "df1.to_csv('cod_data.csv')\n"
   ]
  },
  {
   "cell_type": "code",
   "execution_count": 5,
   "metadata": {
    "collapsed": false
   },
   "outputs": [],
   "source": [
    "csv_file = pd.read_csv('cod_data.csv')\n",
    "#list(csv_file,)"
   ]
  },
  {
   "cell_type": "markdown",
   "metadata": {},
   "source": [
    "# Deaths of children Under 5 year"
   ]
  },
  {
   "cell_type": "code",
   "execution_count": 6,
   "metadata": {
    "collapsed": false
   },
   "outputs": [],
   "source": [
    "selected_columns_under5 = csv_file[['ISO_Code',\n",
    "'CountryName',\n",
    " 'Year','Preterm',\n",
    " 'Pertussis',\n",
    " 'Intrapartum',\n",
    " 'Sepsis',\n",
    " 'Tetanus',\n",
    " 'Congenital',\n",
    " 'Pneumonia',\n",
    " 'Diarrhoea',\n",
    " 'Malaria',\n",
    " 'Aids',\n",
    " 'Measles',\n",
    " 'Injury',\n",
    " 'Meningitis']]"
   ]
  },
  {
   "cell_type": "code",
   "execution_count": 7,
   "metadata": {
    "collapsed": false,
    "scrolled": false
   },
   "outputs": [
    {
     "data": {
      "text/plain": [
       "['ISO_Code',\n",
       " 'CountryName',\n",
       " 'Year',\n",
       " 'Preterm',\n",
       " 'Pertussis',\n",
       " 'Intrapartum',\n",
       " 'Sepsis',\n",
       " 'Tetanus',\n",
       " 'Congenital',\n",
       " 'Pneumonia',\n",
       " 'Diarrhoea',\n",
       " 'Malaria',\n",
       " 'Aids',\n",
       " 'Measles',\n",
       " 'Injury',\n",
       " 'Meningitis']"
      ]
     },
     "execution_count": 7,
     "metadata": {},
     "output_type": "execute_result"
    }
   ],
   "source": [
    "list(selected_columns_under5)"
   ]
  },
  {
   "cell_type": "code",
   "execution_count": 8,
   "metadata": {
    "collapsed": false,
    "scrolled": true
   },
   "outputs": [],
   "source": [
    "under_five = pd.DataFrame(selected_columns_under5)"
   ]
  },
  {
   "cell_type": "code",
   "execution_count": 9,
   "metadata": {
    "collapsed": false,
    "scrolled": true
   },
   "outputs": [],
   "source": [
    "#under_five"
   ]
  },
  {
   "cell_type": "markdown",
   "metadata": {
    "collapsed": false
   },
   "source": [
    "# New born(first month)"
   ]
  },
  {
   "cell_type": "code",
   "execution_count": 10,
   "metadata": {
    "collapsed": true
   },
   "outputs": [],
   "source": [
    "selected_columns_2 = csv_file[['ISO_Code',\n",
    " 'CountryName',\n",
    " 'Year','Pneumonia .1',\n",
    " 'Preterm ',\n",
    " 'Intrapartum ',\n",
    " 'Sepis ',\n",
    " 'Tetanus ',\n",
    " 'Congenital ',\n",
    " 'Diarrheoea ']]"
   ]
  },
  {
   "cell_type": "code",
   "execution_count": 11,
   "metadata": {
    "collapsed": false
   },
   "outputs": [
    {
     "data": {
      "text/plain": [
       "['ISO_Code',\n",
       " 'CountryName',\n",
       " 'Year',\n",
       " 'Pneumonia .1',\n",
       " 'Preterm ',\n",
       " 'Intrapartum ',\n",
       " 'Sepis ',\n",
       " 'Tetanus ',\n",
       " 'Congenital ',\n",
       " 'Diarrheoea ']"
      ]
     },
     "execution_count": 11,
     "metadata": {},
     "output_type": "execute_result"
    }
   ],
   "source": [
    "list(selected_columns_2)"
   ]
  },
  {
   "cell_type": "code",
   "execution_count": 12,
   "metadata": {
    "collapsed": true
   },
   "outputs": [],
   "source": [
    "new_born_first_month = pd.DataFrame(selected_columns_2)"
   ]
  },
  {
   "cell_type": "code",
   "execution_count": 13,
   "metadata": {
    "collapsed": false,
    "scrolled": true
   },
   "outputs": [],
   "source": [
    "#new_born_first_month\n"
   ]
  },
  {
   "cell_type": "markdown",
   "metadata": {},
   "source": [
    "# Death of childrens in Newborn"
   ]
  },
  {
   "cell_type": "code",
   "execution_count": 14,
   "metadata": {
    "collapsed": true
   },
   "outputs": [],
   "source": [
    "selected_columns_3 = csv_file[['ISO_Code',\n",
    " 'CountryName',\n",
    " 'Year','Pneumonia (Newborn)',\n",
    " 'Preterm (Newborn)',\n",
    " 'Intrapartum (Newborn)',\n",
    " 'Sepis (Newborn)',\n",
    " 'Tetanus (Newborn)',\n",
    " 'Congenital (Newborn)',\n",
    " 'Diarrheoea (Newborn)']]"
   ]
  },
  {
   "cell_type": "code",
   "execution_count": 15,
   "metadata": {
    "collapsed": false
   },
   "outputs": [
    {
     "data": {
      "text/plain": [
       "['ISO_Code',\n",
       " 'CountryName',\n",
       " 'Year',\n",
       " 'Pneumonia (Newborn)',\n",
       " 'Preterm (Newborn)',\n",
       " 'Intrapartum (Newborn)',\n",
       " 'Sepis (Newborn)',\n",
       " 'Tetanus (Newborn)',\n",
       " 'Congenital (Newborn)',\n",
       " 'Diarrheoea (Newborn)']"
      ]
     },
     "execution_count": 15,
     "metadata": {},
     "output_type": "execute_result"
    }
   ],
   "source": [
    "list(selected_columns_3)"
   ]
  },
  {
   "cell_type": "code",
   "execution_count": 16,
   "metadata": {
    "collapsed": true
   },
   "outputs": [],
   "source": [
    "new_born = pd.DataFrame(selected_columns_3)"
   ]
  },
  {
   "cell_type": "code",
   "execution_count": 17,
   "metadata": {
    "collapsed": false,
    "scrolled": true
   },
   "outputs": [],
   "source": [
    "#new_born"
   ]
  },
  {
   "cell_type": "markdown",
   "metadata": {},
   "source": [
    "# Death in 1-59 months"
   ]
  },
  {
   "cell_type": "code",
   "execution_count": 18,
   "metadata": {
    "collapsed": false
   },
   "outputs": [],
   "source": [
    "selected_columns_4 = csv_file[['ISO_Code',\n",
    " 'CountryName',\n",
    " 'Year','Pneumonia ',\n",
    " 'Diarrhoea ',\n",
    " 'Malaria ',\n",
    " 'AIDS ',\n",
    " 'Measles ',\n",
    " 'Injuries ',\n",
    " 'Meningitis ']]"
   ]
  },
  {
   "cell_type": "code",
   "execution_count": 19,
   "metadata": {
    "collapsed": true
   },
   "outputs": [],
   "source": [
    "one_to_59 = pd.DataFrame(selected_columns_4)"
   ]
  },
  {
   "cell_type": "code",
   "execution_count": 20,
   "metadata": {
    "collapsed": false,
    "scrolled": true
   },
   "outputs": [],
   "source": [
    "#one_to_59\n"
   ]
  },
  {
   "cell_type": "markdown",
   "metadata": {},
   "source": [
    "### List of dataframes"
   ]
  },
  {
   "cell_type": "code",
   "execution_count": 21,
   "metadata": {
    "collapsed": false
   },
   "outputs": [],
   "source": [
    "#under_five\n",
    "#new_born_first_month\n",
    "#new_born\n",
    "#one_to_59"
   ]
  },
  {
   "cell_type": "markdown",
   "metadata": {},
   "source": [
    "# --------------Under_Five-------------------"
   ]
  },
  {
   "cell_type": "markdown",
   "metadata": {},
   "source": [
    "# Creating a list of Dveloping Countries"
   ]
  },
  {
   "cell_type": "code",
   "execution_count": 22,
   "metadata": {
    "collapsed": false
   },
   "outputs": [],
   "source": [
    "a = ['AFG','ALB','DZA','AGO','ARG','ARM','AZE','BGD','BLR','BLZ','BEN','BTN','BOL','BIH','BWA','BRA','BGR','BFA',\n",
    "     'BDI','KHM','CMR','CAF','TCD','CHN','COL','COM','COG','CRI','CIV','CUB','DJI','DMA','DOM','ECU','EGY','SLV','ERI',\n",
    "     'ETH','FJI','GAB','GMB','GEO','GHA','GRD','GTM','GIN','GNB','GUY','HTI','HUN','IND','IDN','IRN','IRQ','JAM','JOR',\n",
    "     'KAZ','KEN','KIR','KGZ','LAO','LBN','LSO','LBR','LBY','MDG','MYS','MDV','MLI','MHL','MRT','MUS','MEX','MNG','MNE',\n",
    "     'MAR','MOZ','MMR','NAM','NPL','NIC','NER','NGA','PAK','PLW','PAN','PNG','PRY','PER','PHL','ROU','RUS','RWA','WSM',\n",
    "     'STP','SEN','SRB','SYC','SLE','SLB','SOM','ZAF','SSD','LKA','SDN','SUR','SWZ','SYR','TJK','THA','TLS','TGO','TON',\n",
    "     'TUN','TUR','TKM','TUV','UGA','UKR','UZB','VUT','VEN','VNM','YEM','ZMB','ZWE']  "
   ]
  },
  {
   "cell_type": "markdown",
   "metadata": {},
   "source": [
    "# DataFrame for Developing countries"
   ]
  },
  {
   "cell_type": "code",
   "execution_count": 23,
   "metadata": {
    "collapsed": false,
    "scrolled": true
   },
   "outputs": [
    {
     "data": {
      "text/html": [
       "<div>\n",
       "<table border=\"1\" class=\"dataframe\">\n",
       "  <thead>\n",
       "    <tr style=\"text-align: right;\">\n",
       "      <th></th>\n",
       "      <th>ISO_Code</th>\n",
       "      <th>CountryName</th>\n",
       "      <th>Year</th>\n",
       "      <th>Preterm</th>\n",
       "      <th>Pertussis</th>\n",
       "      <th>Intrapartum</th>\n",
       "      <th>Sepsis</th>\n",
       "      <th>Tetanus</th>\n",
       "      <th>Congenital</th>\n",
       "      <th>Pneumonia</th>\n",
       "      <th>Diarrhoea</th>\n",
       "      <th>Malaria</th>\n",
       "      <th>Aids</th>\n",
       "      <th>Measles</th>\n",
       "      <th>Injury</th>\n",
       "      <th>Meningitis</th>\n",
       "    </tr>\n",
       "  </thead>\n",
       "  <tbody>\n",
       "    <tr>\n",
       "      <th>0</th>\n",
       "      <td>AFG</td>\n",
       "      <td>Afghanistan</td>\n",
       "      <td>2015</td>\n",
       "      <td>14.6</td>\n",
       "      <td>1.2</td>\n",
       "      <td>11.0</td>\n",
       "      <td>7.0</td>\n",
       "      <td>0.8</td>\n",
       "      <td>4.9</td>\n",
       "      <td>19.8</td>\n",
       "      <td>12.4</td>\n",
       "      <td>0.0</td>\n",
       "      <td>0.0</td>\n",
       "      <td>1.0</td>\n",
       "      <td>7.3</td>\n",
       "      <td>2.5</td>\n",
       "    </tr>\n",
       "    <tr>\n",
       "      <th>1</th>\n",
       "      <td>ALB</td>\n",
       "      <td>Albania</td>\n",
       "      <td>2015</td>\n",
       "      <td>20.8</td>\n",
       "      <td>0.7</td>\n",
       "      <td>7.5</td>\n",
       "      <td>2.7</td>\n",
       "      <td>0.4</td>\n",
       "      <td>27.5</td>\n",
       "      <td>11.9</td>\n",
       "      <td>1.2</td>\n",
       "      <td>0.0</td>\n",
       "      <td>0.3</td>\n",
       "      <td>0.0</td>\n",
       "      <td>8.7</td>\n",
       "      <td>1.9</td>\n",
       "    </tr>\n",
       "    <tr>\n",
       "      <th>2</th>\n",
       "      <td>DZA</td>\n",
       "      <td>Algeria</td>\n",
       "      <td>2015</td>\n",
       "      <td>21.9</td>\n",
       "      <td>0.8</td>\n",
       "      <td>13.7</td>\n",
       "      <td>8.8</td>\n",
       "      <td>0.2</td>\n",
       "      <td>16.3</td>\n",
       "      <td>12.9</td>\n",
       "      <td>5.0</td>\n",
       "      <td>0.0</td>\n",
       "      <td>0.1</td>\n",
       "      <td>0.1</td>\n",
       "      <td>6.2</td>\n",
       "      <td>0.8</td>\n",
       "    </tr>\n",
       "    <tr>\n",
       "      <th>3</th>\n",
       "      <td>AGO</td>\n",
       "      <td>Angola</td>\n",
       "      <td>2015</td>\n",
       "      <td>12.5</td>\n",
       "      <td>0.5</td>\n",
       "      <td>10.8</td>\n",
       "      <td>5.0</td>\n",
       "      <td>1.2</td>\n",
       "      <td>5.8</td>\n",
       "      <td>17.4</td>\n",
       "      <td>14.7</td>\n",
       "      <td>6.3</td>\n",
       "      <td>1.2</td>\n",
       "      <td>0.3</td>\n",
       "      <td>5.3</td>\n",
       "      <td>1.4</td>\n",
       "    </tr>\n",
       "    <tr>\n",
       "      <th>4</th>\n",
       "      <td>ARG</td>\n",
       "      <td>Argentina</td>\n",
       "      <td>2015</td>\n",
       "      <td>25.7</td>\n",
       "      <td>0.6</td>\n",
       "      <td>3.9</td>\n",
       "      <td>4.9</td>\n",
       "      <td>0.0</td>\n",
       "      <td>28.1</td>\n",
       "      <td>7.4</td>\n",
       "      <td>1.3</td>\n",
       "      <td>0.0</td>\n",
       "      <td>0.1</td>\n",
       "      <td>0.0</td>\n",
       "      <td>7.8</td>\n",
       "      <td>1.3</td>\n",
       "    </tr>\n",
       "    <tr>\n",
       "      <th>5</th>\n",
       "      <td>ARM</td>\n",
       "      <td>Armenia</td>\n",
       "      <td>2015</td>\n",
       "      <td>23.4</td>\n",
       "      <td>0.6</td>\n",
       "      <td>8.5</td>\n",
       "      <td>3.5</td>\n",
       "      <td>0.0</td>\n",
       "      <td>26.4</td>\n",
       "      <td>10.7</td>\n",
       "      <td>1.3</td>\n",
       "      <td>0.0</td>\n",
       "      <td>0.2</td>\n",
       "      <td>0.0</td>\n",
       "      <td>8.5</td>\n",
       "      <td>1.7</td>\n",
       "    </tr>\n",
       "    <tr>\n",
       "      <th>6</th>\n",
       "      <td>AZE</td>\n",
       "      <td>Azerbaijan</td>\n",
       "      <td>2015</td>\n",
       "      <td>24.3</td>\n",
       "      <td>0.5</td>\n",
       "      <td>13.6</td>\n",
       "      <td>6.9</td>\n",
       "      <td>0.2</td>\n",
       "      <td>14.1</td>\n",
       "      <td>12.2</td>\n",
       "      <td>5.9</td>\n",
       "      <td>0.0</td>\n",
       "      <td>0.1</td>\n",
       "      <td>0.0</td>\n",
       "      <td>6.2</td>\n",
       "      <td>0.6</td>\n",
       "    </tr>\n",
       "    <tr>\n",
       "      <th>7</th>\n",
       "      <td>BGD</td>\n",
       "      <td>Bangladesh</td>\n",
       "      <td>2015</td>\n",
       "      <td>19.8</td>\n",
       "      <td>0.4</td>\n",
       "      <td>14.9</td>\n",
       "      <td>12.4</td>\n",
       "      <td>0.3</td>\n",
       "      <td>9.3</td>\n",
       "      <td>14.5</td>\n",
       "      <td>6.0</td>\n",
       "      <td>0.2</td>\n",
       "      <td>0.0</td>\n",
       "      <td>1.9</td>\n",
       "      <td>6.0</td>\n",
       "      <td>1.5</td>\n",
       "    </tr>\n",
       "    <tr>\n",
       "      <th>8</th>\n",
       "      <td>BLR</td>\n",
       "      <td>Belarus</td>\n",
       "      <td>2015</td>\n",
       "      <td>20.7</td>\n",
       "      <td>1.4</td>\n",
       "      <td>7.1</td>\n",
       "      <td>2.4</td>\n",
       "      <td>0.0</td>\n",
       "      <td>35.4</td>\n",
       "      <td>6.1</td>\n",
       "      <td>0.6</td>\n",
       "      <td>0.0</td>\n",
       "      <td>0.1</td>\n",
       "      <td>0.0</td>\n",
       "      <td>8.1</td>\n",
       "      <td>1.3</td>\n",
       "    </tr>\n",
       "    <tr>\n",
       "      <th>9</th>\n",
       "      <td>BLZ</td>\n",
       "      <td>Belize</td>\n",
       "      <td>2015</td>\n",
       "      <td>17.3</td>\n",
       "      <td>0.0</td>\n",
       "      <td>8.0</td>\n",
       "      <td>7.6</td>\n",
       "      <td>0.0</td>\n",
       "      <td>23.9</td>\n",
       "      <td>8.3</td>\n",
       "      <td>3.1</td>\n",
       "      <td>0.0</td>\n",
       "      <td>1.2</td>\n",
       "      <td>0.0</td>\n",
       "      <td>7.0</td>\n",
       "      <td>1.5</td>\n",
       "    </tr>\n",
       "    <tr>\n",
       "      <th>10</th>\n",
       "      <td>BEN</td>\n",
       "      <td>Benin</td>\n",
       "      <td>2015</td>\n",
       "      <td>12.9</td>\n",
       "      <td>1.0</td>\n",
       "      <td>9.4</td>\n",
       "      <td>7.0</td>\n",
       "      <td>0.2</td>\n",
       "      <td>5.1</td>\n",
       "      <td>15.4</td>\n",
       "      <td>10.8</td>\n",
       "      <td>11.6</td>\n",
       "      <td>1.1</td>\n",
       "      <td>0.7</td>\n",
       "      <td>5.7</td>\n",
       "      <td>2.4</td>\n",
       "    </tr>\n",
       "    <tr>\n",
       "      <th>11</th>\n",
       "      <td>BTN</td>\n",
       "      <td>Bhutan</td>\n",
       "      <td>2015</td>\n",
       "      <td>21.9</td>\n",
       "      <td>0.4</td>\n",
       "      <td>12.0</td>\n",
       "      <td>9.0</td>\n",
       "      <td>0.2</td>\n",
       "      <td>11.1</td>\n",
       "      <td>14.6</td>\n",
       "      <td>6.2</td>\n",
       "      <td>0.0</td>\n",
       "      <td>1.6</td>\n",
       "      <td>0.0</td>\n",
       "      <td>7.5</td>\n",
       "      <td>1.2</td>\n",
       "    </tr>\n",
       "    <tr>\n",
       "      <th>12</th>\n",
       "      <td>BOL</td>\n",
       "      <td>Bolivia</td>\n",
       "      <td>2015</td>\n",
       "      <td>18.7</td>\n",
       "      <td>2.9</td>\n",
       "      <td>14.5</td>\n",
       "      <td>6.5</td>\n",
       "      <td>0.3</td>\n",
       "      <td>14.6</td>\n",
       "      <td>13.9</td>\n",
       "      <td>6.1</td>\n",
       "      <td>0.0</td>\n",
       "      <td>0.3</td>\n",
       "      <td>0.0</td>\n",
       "      <td>7.5</td>\n",
       "      <td>1.0</td>\n",
       "    </tr>\n",
       "    <tr>\n",
       "      <th>13</th>\n",
       "      <td>BIH</td>\n",
       "      <td>Bosnia &amp; Herzegovina</td>\n",
       "      <td>2015</td>\n",
       "      <td>31.4</td>\n",
       "      <td>0.6</td>\n",
       "      <td>9.8</td>\n",
       "      <td>4.9</td>\n",
       "      <td>0.0</td>\n",
       "      <td>32.5</td>\n",
       "      <td>5.1</td>\n",
       "      <td>0.4</td>\n",
       "      <td>0.0</td>\n",
       "      <td>0.1</td>\n",
       "      <td>0.8</td>\n",
       "      <td>2.9</td>\n",
       "      <td>0.5</td>\n",
       "    </tr>\n",
       "    <tr>\n",
       "      <th>14</th>\n",
       "      <td>BWA</td>\n",
       "      <td>Botswana</td>\n",
       "      <td>2015</td>\n",
       "      <td>21.6</td>\n",
       "      <td>0.3</td>\n",
       "      <td>12.2</td>\n",
       "      <td>7.0</td>\n",
       "      <td>0.2</td>\n",
       "      <td>11.1</td>\n",
       "      <td>12.4</td>\n",
       "      <td>6.3</td>\n",
       "      <td>0.0</td>\n",
       "      <td>5.1</td>\n",
       "      <td>0.7</td>\n",
       "      <td>6.4</td>\n",
       "      <td>0.6</td>\n",
       "    </tr>\n",
       "    <tr>\n",
       "      <th>15</th>\n",
       "      <td>BRA</td>\n",
       "      <td>Brazil</td>\n",
       "      <td>2015</td>\n",
       "      <td>18.9</td>\n",
       "      <td>0.2</td>\n",
       "      <td>9.3</td>\n",
       "      <td>7.8</td>\n",
       "      <td>0.0</td>\n",
       "      <td>22.1</td>\n",
       "      <td>9.1</td>\n",
       "      <td>2.5</td>\n",
       "      <td>0.0</td>\n",
       "      <td>0.2</td>\n",
       "      <td>0.0</td>\n",
       "      <td>6.1</td>\n",
       "      <td>1.2</td>\n",
       "    </tr>\n",
       "    <tr>\n",
       "      <th>16</th>\n",
       "      <td>BGR</td>\n",
       "      <td>Bulgaria</td>\n",
       "      <td>2015</td>\n",
       "      <td>25.5</td>\n",
       "      <td>0.0</td>\n",
       "      <td>9.8</td>\n",
       "      <td>2.5</td>\n",
       "      <td>0.0</td>\n",
       "      <td>25.0</td>\n",
       "      <td>17.0</td>\n",
       "      <td>1.1</td>\n",
       "      <td>0.0</td>\n",
       "      <td>0.0</td>\n",
       "      <td>0.4</td>\n",
       "      <td>5.2</td>\n",
       "      <td>1.8</td>\n",
       "    </tr>\n",
       "    <tr>\n",
       "      <th>17</th>\n",
       "      <td>BFA</td>\n",
       "      <td>Burkina Faso</td>\n",
       "      <td>2015</td>\n",
       "      <td>11.2</td>\n",
       "      <td>1.0</td>\n",
       "      <td>9.0</td>\n",
       "      <td>6.8</td>\n",
       "      <td>0.2</td>\n",
       "      <td>4.3</td>\n",
       "      <td>12.8</td>\n",
       "      <td>8.2</td>\n",
       "      <td>21.4</td>\n",
       "      <td>0.6</td>\n",
       "      <td>2.3</td>\n",
       "      <td>5.8</td>\n",
       "      <td>2.0</td>\n",
       "    </tr>\n",
       "    <tr>\n",
       "      <th>18</th>\n",
       "      <td>BDI</td>\n",
       "      <td>Burundi</td>\n",
       "      <td>2015</td>\n",
       "      <td>12.9</td>\n",
       "      <td>1.1</td>\n",
       "      <td>12.0</td>\n",
       "      <td>6.0</td>\n",
       "      <td>0.3</td>\n",
       "      <td>5.6</td>\n",
       "      <td>16.0</td>\n",
       "      <td>10.1</td>\n",
       "      <td>6.5</td>\n",
       "      <td>0.9</td>\n",
       "      <td>0.1</td>\n",
       "      <td>7.9</td>\n",
       "      <td>1.8</td>\n",
       "    </tr>\n",
       "    <tr>\n",
       "      <th>19</th>\n",
       "      <td>KHM</td>\n",
       "      <td>Cambodia</td>\n",
       "      <td>2015</td>\n",
       "      <td>16.4</td>\n",
       "      <td>2.9</td>\n",
       "      <td>13.0</td>\n",
       "      <td>8.7</td>\n",
       "      <td>0.2</td>\n",
       "      <td>10.7</td>\n",
       "      <td>16.5</td>\n",
       "      <td>6.7</td>\n",
       "      <td>0.3</td>\n",
       "      <td>0.5</td>\n",
       "      <td>0.0</td>\n",
       "      <td>8.1</td>\n",
       "      <td>1.8</td>\n",
       "    </tr>\n",
       "    <tr>\n",
       "      <th>20</th>\n",
       "      <td>CMR</td>\n",
       "      <td>Cameroon</td>\n",
       "      <td>2015</td>\n",
       "      <td>10.4</td>\n",
       "      <td>1.1</td>\n",
       "      <td>10.8</td>\n",
       "      <td>5.3</td>\n",
       "      <td>0.3</td>\n",
       "      <td>6.2</td>\n",
       "      <td>15.5</td>\n",
       "      <td>11.3</td>\n",
       "      <td>9.9</td>\n",
       "      <td>4.0</td>\n",
       "      <td>0.2</td>\n",
       "      <td>6.9</td>\n",
       "      <td>1.8</td>\n",
       "    </tr>\n",
       "    <tr>\n",
       "      <th>21</th>\n",
       "      <td>CAF</td>\n",
       "      <td>Central African Republic</td>\n",
       "      <td>2015</td>\n",
       "      <td>10.8</td>\n",
       "      <td>0.9</td>\n",
       "      <td>11.9</td>\n",
       "      <td>5.1</td>\n",
       "      <td>1.3</td>\n",
       "      <td>4.0</td>\n",
       "      <td>16.0</td>\n",
       "      <td>10.4</td>\n",
       "      <td>15.3</td>\n",
       "      <td>3.4</td>\n",
       "      <td>0.9</td>\n",
       "      <td>4.4</td>\n",
       "      <td>3.5</td>\n",
       "    </tr>\n",
       "    <tr>\n",
       "      <th>22</th>\n",
       "      <td>TCD</td>\n",
       "      <td>Chad</td>\n",
       "      <td>2015</td>\n",
       "      <td>10.1</td>\n",
       "      <td>0.9</td>\n",
       "      <td>10.4</td>\n",
       "      <td>4.6</td>\n",
       "      <td>1.2</td>\n",
       "      <td>4.2</td>\n",
       "      <td>23.3</td>\n",
       "      <td>13.7</td>\n",
       "      <td>6.0</td>\n",
       "      <td>2.1</td>\n",
       "      <td>0.2</td>\n",
       "      <td>5.6</td>\n",
       "      <td>5.0</td>\n",
       "    </tr>\n",
       "    <tr>\n",
       "      <th>23</th>\n",
       "      <td>CHN</td>\n",
       "      <td>China</td>\n",
       "      <td>2015</td>\n",
       "      <td>18.3</td>\n",
       "      <td>0.8</td>\n",
       "      <td>14.3</td>\n",
       "      <td>2.9</td>\n",
       "      <td>0.1</td>\n",
       "      <td>17.9</td>\n",
       "      <td>12.1</td>\n",
       "      <td>2.8</td>\n",
       "      <td>0.0</td>\n",
       "      <td>0.2</td>\n",
       "      <td>0.3</td>\n",
       "      <td>16.6</td>\n",
       "      <td>1.4</td>\n",
       "    </tr>\n",
       "    <tr>\n",
       "      <th>24</th>\n",
       "      <td>COL</td>\n",
       "      <td>Colombia</td>\n",
       "      <td>2015</td>\n",
       "      <td>21.0</td>\n",
       "      <td>0.3</td>\n",
       "      <td>5.7</td>\n",
       "      <td>7.2</td>\n",
       "      <td>0.0</td>\n",
       "      <td>24.8</td>\n",
       "      <td>10.2</td>\n",
       "      <td>2.1</td>\n",
       "      <td>0.1</td>\n",
       "      <td>0.2</td>\n",
       "      <td>0.0</td>\n",
       "      <td>6.7</td>\n",
       "      <td>1.2</td>\n",
       "    </tr>\n",
       "    <tr>\n",
       "      <th>25</th>\n",
       "      <td>COM</td>\n",
       "      <td>Comoros</td>\n",
       "      <td>2015</td>\n",
       "      <td>19.3</td>\n",
       "      <td>1.5</td>\n",
       "      <td>12.2</td>\n",
       "      <td>7.1</td>\n",
       "      <td>0.5</td>\n",
       "      <td>6.3</td>\n",
       "      <td>15.8</td>\n",
       "      <td>7.5</td>\n",
       "      <td>7.9</td>\n",
       "      <td>1.1</td>\n",
       "      <td>0.0</td>\n",
       "      <td>5.1</td>\n",
       "      <td>2.1</td>\n",
       "    </tr>\n",
       "    <tr>\n",
       "      <th>26</th>\n",
       "      <td>COG</td>\n",
       "      <td>Congo</td>\n",
       "      <td>2015</td>\n",
       "      <td>15.6</td>\n",
       "      <td>2.0</td>\n",
       "      <td>11.2</td>\n",
       "      <td>5.9</td>\n",
       "      <td>0.2</td>\n",
       "      <td>9.6</td>\n",
       "      <td>13.4</td>\n",
       "      <td>7.1</td>\n",
       "      <td>5.6</td>\n",
       "      <td>6.3</td>\n",
       "      <td>0.7</td>\n",
       "      <td>6.8</td>\n",
       "      <td>1.0</td>\n",
       "    </tr>\n",
       "    <tr>\n",
       "      <th>27</th>\n",
       "      <td>CRI</td>\n",
       "      <td>Costa Rica</td>\n",
       "      <td>2015</td>\n",
       "      <td>27.7</td>\n",
       "      <td>0.1</td>\n",
       "      <td>7.6</td>\n",
       "      <td>1.4</td>\n",
       "      <td>0.0</td>\n",
       "      <td>38.8</td>\n",
       "      <td>5.0</td>\n",
       "      <td>1.0</td>\n",
       "      <td>0.0</td>\n",
       "      <td>0.0</td>\n",
       "      <td>0.0</td>\n",
       "      <td>3.8</td>\n",
       "      <td>1.0</td>\n",
       "    </tr>\n",
       "    <tr>\n",
       "      <th>28</th>\n",
       "      <td>CIV</td>\n",
       "      <td>Cote d Ivoire</td>\n",
       "      <td>2015</td>\n",
       "      <td>14.5</td>\n",
       "      <td>0.9</td>\n",
       "      <td>12.2</td>\n",
       "      <td>8.4</td>\n",
       "      <td>0.6</td>\n",
       "      <td>4.7</td>\n",
       "      <td>14.5</td>\n",
       "      <td>7.6</td>\n",
       "      <td>16.7</td>\n",
       "      <td>2.1</td>\n",
       "      <td>0.2</td>\n",
       "      <td>4.3</td>\n",
       "      <td>2.1</td>\n",
       "    </tr>\n",
       "    <tr>\n",
       "      <th>29</th>\n",
       "      <td>CUB</td>\n",
       "      <td>Cuba</td>\n",
       "      <td>2015</td>\n",
       "      <td>16.8</td>\n",
       "      <td>0.0</td>\n",
       "      <td>7.7</td>\n",
       "      <td>4.6</td>\n",
       "      <td>0.0</td>\n",
       "      <td>23.5</td>\n",
       "      <td>11.2</td>\n",
       "      <td>1.3</td>\n",
       "      <td>0.0</td>\n",
       "      <td>0.1</td>\n",
       "      <td>0.0</td>\n",
       "      <td>8.5</td>\n",
       "      <td>2.9</td>\n",
       "    </tr>\n",
       "    <tr>\n",
       "      <th>...</th>\n",
       "      <td>...</td>\n",
       "      <td>...</td>\n",
       "      <td>...</td>\n",
       "      <td>...</td>\n",
       "      <td>...</td>\n",
       "      <td>...</td>\n",
       "      <td>...</td>\n",
       "      <td>...</td>\n",
       "      <td>...</td>\n",
       "      <td>...</td>\n",
       "      <td>...</td>\n",
       "      <td>...</td>\n",
       "      <td>...</td>\n",
       "      <td>...</td>\n",
       "      <td>...</td>\n",
       "      <td>...</td>\n",
       "    </tr>\n",
       "    <tr>\n",
       "      <th>222</th>\n",
       "      <td>SRB</td>\n",
       "      <td>Serbia</td>\n",
       "      <td>2000</td>\n",
       "      <td>31.2</td>\n",
       "      <td>0.0</td>\n",
       "      <td>16.4</td>\n",
       "      <td>4.7</td>\n",
       "      <td>0.0</td>\n",
       "      <td>26.4</td>\n",
       "      <td>5.4</td>\n",
       "      <td>0.9</td>\n",
       "      <td>0.0</td>\n",
       "      <td>0.3</td>\n",
       "      <td>0.0</td>\n",
       "      <td>4.8</td>\n",
       "      <td>1.4</td>\n",
       "    </tr>\n",
       "    <tr>\n",
       "      <th>223</th>\n",
       "      <td>SYC</td>\n",
       "      <td>Seychelles</td>\n",
       "      <td>2000</td>\n",
       "      <td>27.3</td>\n",
       "      <td>0.0</td>\n",
       "      <td>9.4</td>\n",
       "      <td>6.3</td>\n",
       "      <td>0.0</td>\n",
       "      <td>25.3</td>\n",
       "      <td>6.6</td>\n",
       "      <td>1.2</td>\n",
       "      <td>0.0</td>\n",
       "      <td>0.0</td>\n",
       "      <td>0.0</td>\n",
       "      <td>8.3</td>\n",
       "      <td>1.0</td>\n",
       "    </tr>\n",
       "    <tr>\n",
       "      <th>224</th>\n",
       "      <td>SLE</td>\n",
       "      <td>Sierra Leone</td>\n",
       "      <td>2000</td>\n",
       "      <td>7.0</td>\n",
       "      <td>0.5</td>\n",
       "      <td>5.6</td>\n",
       "      <td>3.0</td>\n",
       "      <td>1.0</td>\n",
       "      <td>2.5</td>\n",
       "      <td>12.8</td>\n",
       "      <td>13.6</td>\n",
       "      <td>26.0</td>\n",
       "      <td>0.5</td>\n",
       "      <td>15.8</td>\n",
       "      <td>2.0</td>\n",
       "      <td>2.6</td>\n",
       "    </tr>\n",
       "    <tr>\n",
       "      <th>225</th>\n",
       "      <td>SLB</td>\n",
       "      <td>Solomon Islands</td>\n",
       "      <td>2000</td>\n",
       "      <td>13.5</td>\n",
       "      <td>2.9</td>\n",
       "      <td>12.3</td>\n",
       "      <td>6.5</td>\n",
       "      <td>0.2</td>\n",
       "      <td>9.7</td>\n",
       "      <td>16.4</td>\n",
       "      <td>7.7</td>\n",
       "      <td>12.1</td>\n",
       "      <td>0.0</td>\n",
       "      <td>0.0</td>\n",
       "      <td>5.6</td>\n",
       "      <td>2.9</td>\n",
       "    </tr>\n",
       "    <tr>\n",
       "      <th>226</th>\n",
       "      <td>SOM</td>\n",
       "      <td>Somalia</td>\n",
       "      <td>2000</td>\n",
       "      <td>7.4</td>\n",
       "      <td>0.7</td>\n",
       "      <td>8.2</td>\n",
       "      <td>2.9</td>\n",
       "      <td>1.7</td>\n",
       "      <td>2.8</td>\n",
       "      <td>17.7</td>\n",
       "      <td>15.7</td>\n",
       "      <td>1.1</td>\n",
       "      <td>0.4</td>\n",
       "      <td>26.2</td>\n",
       "      <td>3.3</td>\n",
       "      <td>3.9</td>\n",
       "    </tr>\n",
       "    <tr>\n",
       "      <th>227</th>\n",
       "      <td>ZAF</td>\n",
       "      <td>South Africa</td>\n",
       "      <td>2000</td>\n",
       "      <td>9.5</td>\n",
       "      <td>0.2</td>\n",
       "      <td>5.7</td>\n",
       "      <td>2.7</td>\n",
       "      <td>0.0</td>\n",
       "      <td>4.8</td>\n",
       "      <td>14.6</td>\n",
       "      <td>11.7</td>\n",
       "      <td>0.2</td>\n",
       "      <td>28.5</td>\n",
       "      <td>0.6</td>\n",
       "      <td>5.0</td>\n",
       "      <td>1.3</td>\n",
       "    </tr>\n",
       "    <tr>\n",
       "      <th>228</th>\n",
       "      <td>SSD</td>\n",
       "      <td>South Sudan</td>\n",
       "      <td>2000</td>\n",
       "      <td>8.5</td>\n",
       "      <td>1.1</td>\n",
       "      <td>10.9</td>\n",
       "      <td>3.2</td>\n",
       "      <td>4.8</td>\n",
       "      <td>3.3</td>\n",
       "      <td>18.8</td>\n",
       "      <td>15.9</td>\n",
       "      <td>12.8</td>\n",
       "      <td>1.5</td>\n",
       "      <td>3.4</td>\n",
       "      <td>3.3</td>\n",
       "      <td>4.4</td>\n",
       "    </tr>\n",
       "    <tr>\n",
       "      <th>229</th>\n",
       "      <td>LKA</td>\n",
       "      <td>Sri Lanka</td>\n",
       "      <td>2000</td>\n",
       "      <td>22.8</td>\n",
       "      <td>0.6</td>\n",
       "      <td>8.4</td>\n",
       "      <td>4.0</td>\n",
       "      <td>0.5</td>\n",
       "      <td>23.6</td>\n",
       "      <td>10.1</td>\n",
       "      <td>4.1</td>\n",
       "      <td>0.3</td>\n",
       "      <td>0.0</td>\n",
       "      <td>0.0</td>\n",
       "      <td>6.1</td>\n",
       "      <td>0.9</td>\n",
       "    </tr>\n",
       "    <tr>\n",
       "      <th>230</th>\n",
       "      <td>SDN</td>\n",
       "      <td>Sudan</td>\n",
       "      <td>2000</td>\n",
       "      <td>13.3</td>\n",
       "      <td>1.2</td>\n",
       "      <td>9.8</td>\n",
       "      <td>5.1</td>\n",
       "      <td>0.8</td>\n",
       "      <td>3.6</td>\n",
       "      <td>21.1</td>\n",
       "      <td>15.0</td>\n",
       "      <td>2.2</td>\n",
       "      <td>0.1</td>\n",
       "      <td>5.6</td>\n",
       "      <td>5.1</td>\n",
       "      <td>5.0</td>\n",
       "    </tr>\n",
       "    <tr>\n",
       "      <th>231</th>\n",
       "      <td>SUR</td>\n",
       "      <td>Suriname</td>\n",
       "      <td>2000</td>\n",
       "      <td>20.9</td>\n",
       "      <td>0.0</td>\n",
       "      <td>7.9</td>\n",
       "      <td>14.7</td>\n",
       "      <td>0.0</td>\n",
       "      <td>12.2</td>\n",
       "      <td>8.2</td>\n",
       "      <td>6.6</td>\n",
       "      <td>3.0</td>\n",
       "      <td>1.2</td>\n",
       "      <td>0.0</td>\n",
       "      <td>8.2</td>\n",
       "      <td>2.1</td>\n",
       "    </tr>\n",
       "    <tr>\n",
       "      <th>232</th>\n",
       "      <td>SWZ</td>\n",
       "      <td>Swaziland</td>\n",
       "      <td>2000</td>\n",
       "      <td>6.8</td>\n",
       "      <td>0.8</td>\n",
       "      <td>6.0</td>\n",
       "      <td>2.3</td>\n",
       "      <td>0.1</td>\n",
       "      <td>4.3</td>\n",
       "      <td>15.9</td>\n",
       "      <td>12.3</td>\n",
       "      <td>0.0</td>\n",
       "      <td>35.2</td>\n",
       "      <td>0.0</td>\n",
       "      <td>3.6</td>\n",
       "      <td>2.0</td>\n",
       "    </tr>\n",
       "    <tr>\n",
       "      <th>233</th>\n",
       "      <td>SYR</td>\n",
       "      <td>Syria</td>\n",
       "      <td>2000</td>\n",
       "      <td>22.6</td>\n",
       "      <td>0.9</td>\n",
       "      <td>10.9</td>\n",
       "      <td>3.6</td>\n",
       "      <td>0.6</td>\n",
       "      <td>20.7</td>\n",
       "      <td>14.4</td>\n",
       "      <td>9.5</td>\n",
       "      <td>0.0</td>\n",
       "      <td>0.0</td>\n",
       "      <td>0.1</td>\n",
       "      <td>4.2</td>\n",
       "      <td>0.6</td>\n",
       "    </tr>\n",
       "    <tr>\n",
       "      <th>234</th>\n",
       "      <td>TJK</td>\n",
       "      <td>Tajikistan</td>\n",
       "      <td>2000</td>\n",
       "      <td>13.8</td>\n",
       "      <td>0.2</td>\n",
       "      <td>10.1</td>\n",
       "      <td>3.9</td>\n",
       "      <td>0.5</td>\n",
       "      <td>5.5</td>\n",
       "      <td>22.6</td>\n",
       "      <td>15.5</td>\n",
       "      <td>0.0</td>\n",
       "      <td>0.3</td>\n",
       "      <td>0.0</td>\n",
       "      <td>6.0</td>\n",
       "      <td>4.5</td>\n",
       "    </tr>\n",
       "    <tr>\n",
       "      <th>235</th>\n",
       "      <td>THA</td>\n",
       "      <td>Thailand</td>\n",
       "      <td>2000</td>\n",
       "      <td>23.3</td>\n",
       "      <td>0.4</td>\n",
       "      <td>8.1</td>\n",
       "      <td>5.6</td>\n",
       "      <td>0.4</td>\n",
       "      <td>20.4</td>\n",
       "      <td>13.0</td>\n",
       "      <td>4.8</td>\n",
       "      <td>1.0</td>\n",
       "      <td>3.5</td>\n",
       "      <td>0.2</td>\n",
       "      <td>4.6</td>\n",
       "      <td>1.1</td>\n",
       "    </tr>\n",
       "    <tr>\n",
       "      <th>236</th>\n",
       "      <td>TLS</td>\n",
       "      <td>Timor Leste</td>\n",
       "      <td>2000</td>\n",
       "      <td>12.3</td>\n",
       "      <td>0.9</td>\n",
       "      <td>11.1</td>\n",
       "      <td>4.3</td>\n",
       "      <td>1.5</td>\n",
       "      <td>3.6</td>\n",
       "      <td>22.5</td>\n",
       "      <td>16.1</td>\n",
       "      <td>7.2</td>\n",
       "      <td>0.0</td>\n",
       "      <td>0.0</td>\n",
       "      <td>5.5</td>\n",
       "      <td>3.3</td>\n",
       "    </tr>\n",
       "    <tr>\n",
       "      <th>237</th>\n",
       "      <td>TGO</td>\n",
       "      <td>Togo</td>\n",
       "      <td>2000</td>\n",
       "      <td>9.3</td>\n",
       "      <td>0.9</td>\n",
       "      <td>9.1</td>\n",
       "      <td>4.9</td>\n",
       "      <td>0.7</td>\n",
       "      <td>2.8</td>\n",
       "      <td>11.8</td>\n",
       "      <td>8.4</td>\n",
       "      <td>26.9</td>\n",
       "      <td>4.0</td>\n",
       "      <td>10.2</td>\n",
       "      <td>2.5</td>\n",
       "      <td>2.1</td>\n",
       "    </tr>\n",
       "    <tr>\n",
       "      <th>238</th>\n",
       "      <td>TON</td>\n",
       "      <td>Tonga</td>\n",
       "      <td>2000</td>\n",
       "      <td>19.5</td>\n",
       "      <td>0.0</td>\n",
       "      <td>6.0</td>\n",
       "      <td>4.6</td>\n",
       "      <td>0.0</td>\n",
       "      <td>23.6</td>\n",
       "      <td>12.8</td>\n",
       "      <td>4.9</td>\n",
       "      <td>0.0</td>\n",
       "      <td>0.0</td>\n",
       "      <td>0.0</td>\n",
       "      <td>8.9</td>\n",
       "      <td>1.7</td>\n",
       "    </tr>\n",
       "    <tr>\n",
       "      <th>239</th>\n",
       "      <td>TUN</td>\n",
       "      <td>Tunisia</td>\n",
       "      <td>2000</td>\n",
       "      <td>24.6</td>\n",
       "      <td>0.3</td>\n",
       "      <td>11.5</td>\n",
       "      <td>3.4</td>\n",
       "      <td>1.3</td>\n",
       "      <td>17.7</td>\n",
       "      <td>15.2</td>\n",
       "      <td>5.5</td>\n",
       "      <td>0.0</td>\n",
       "      <td>0.0</td>\n",
       "      <td>0.0</td>\n",
       "      <td>4.9</td>\n",
       "      <td>0.7</td>\n",
       "    </tr>\n",
       "    <tr>\n",
       "      <th>240</th>\n",
       "      <td>TUR</td>\n",
       "      <td>Turkey</td>\n",
       "      <td>2000</td>\n",
       "      <td>24.0</td>\n",
       "      <td>0.0</td>\n",
       "      <td>7.2</td>\n",
       "      <td>3.9</td>\n",
       "      <td>0.0</td>\n",
       "      <td>24.7</td>\n",
       "      <td>8.1</td>\n",
       "      <td>1.0</td>\n",
       "      <td>0.0</td>\n",
       "      <td>0.0</td>\n",
       "      <td>0.0</td>\n",
       "      <td>3.3</td>\n",
       "      <td>0.7</td>\n",
       "    </tr>\n",
       "    <tr>\n",
       "      <th>241</th>\n",
       "      <td>TKM</td>\n",
       "      <td>Turkmenistan</td>\n",
       "      <td>2000</td>\n",
       "      <td>16.3</td>\n",
       "      <td>0.2</td>\n",
       "      <td>10.4</td>\n",
       "      <td>3.7</td>\n",
       "      <td>0.4</td>\n",
       "      <td>7.6</td>\n",
       "      <td>21.1</td>\n",
       "      <td>14.3</td>\n",
       "      <td>0.0</td>\n",
       "      <td>0.0</td>\n",
       "      <td>0.0</td>\n",
       "      <td>6.0</td>\n",
       "      <td>2.8</td>\n",
       "    </tr>\n",
       "    <tr>\n",
       "      <th>242</th>\n",
       "      <td>TUV</td>\n",
       "      <td>Tuvalu</td>\n",
       "      <td>2000</td>\n",
       "      <td>26.5</td>\n",
       "      <td>0.0</td>\n",
       "      <td>11.3</td>\n",
       "      <td>4.7</td>\n",
       "      <td>0.0</td>\n",
       "      <td>13.0</td>\n",
       "      <td>17.9</td>\n",
       "      <td>6.0</td>\n",
       "      <td>0.0</td>\n",
       "      <td>0.0</td>\n",
       "      <td>0.0</td>\n",
       "      <td>6.3</td>\n",
       "      <td>1.5</td>\n",
       "    </tr>\n",
       "    <tr>\n",
       "      <th>243</th>\n",
       "      <td>UGA</td>\n",
       "      <td>Uganda</td>\n",
       "      <td>2000</td>\n",
       "      <td>7.5</td>\n",
       "      <td>0.8</td>\n",
       "      <td>7.4</td>\n",
       "      <td>3.5</td>\n",
       "      <td>0.3</td>\n",
       "      <td>2.6</td>\n",
       "      <td>13.2</td>\n",
       "      <td>10.1</td>\n",
       "      <td>27.2</td>\n",
       "      <td>7.5</td>\n",
       "      <td>7.0</td>\n",
       "      <td>2.8</td>\n",
       "      <td>2.7</td>\n",
       "    </tr>\n",
       "    <tr>\n",
       "      <th>244</th>\n",
       "      <td>UKR</td>\n",
       "      <td>Ukraine</td>\n",
       "      <td>2000</td>\n",
       "      <td>25.8</td>\n",
       "      <td>0.5</td>\n",
       "      <td>7.9</td>\n",
       "      <td>4.0</td>\n",
       "      <td>0.0</td>\n",
       "      <td>22.8</td>\n",
       "      <td>14.7</td>\n",
       "      <td>2.0</td>\n",
       "      <td>0.0</td>\n",
       "      <td>3.7</td>\n",
       "      <td>0.2</td>\n",
       "      <td>6.5</td>\n",
       "      <td>1.6</td>\n",
       "    </tr>\n",
       "    <tr>\n",
       "      <th>245</th>\n",
       "      <td>UZB</td>\n",
       "      <td>Uzbekistan</td>\n",
       "      <td>2000</td>\n",
       "      <td>19.6</td>\n",
       "      <td>0.3</td>\n",
       "      <td>12.2</td>\n",
       "      <td>4.5</td>\n",
       "      <td>0.5</td>\n",
       "      <td>9.2</td>\n",
       "      <td>18.7</td>\n",
       "      <td>11.0</td>\n",
       "      <td>0.0</td>\n",
       "      <td>0.2</td>\n",
       "      <td>0.0</td>\n",
       "      <td>5.3</td>\n",
       "      <td>2.9</td>\n",
       "    </tr>\n",
       "    <tr>\n",
       "      <th>246</th>\n",
       "      <td>VUT</td>\n",
       "      <td>Vanuatu</td>\n",
       "      <td>2000</td>\n",
       "      <td>17.4</td>\n",
       "      <td>1.8</td>\n",
       "      <td>8.3</td>\n",
       "      <td>2.9</td>\n",
       "      <td>0.7</td>\n",
       "      <td>15.7</td>\n",
       "      <td>15.6</td>\n",
       "      <td>15.6</td>\n",
       "      <td>7.9</td>\n",
       "      <td>0.0</td>\n",
       "      <td>0.0</td>\n",
       "      <td>5.2</td>\n",
       "      <td>1.4</td>\n",
       "    </tr>\n",
       "    <tr>\n",
       "      <th>247</th>\n",
       "      <td>VEN</td>\n",
       "      <td>Venezuela</td>\n",
       "      <td>2000</td>\n",
       "      <td>25.2</td>\n",
       "      <td>0.5</td>\n",
       "      <td>9.0</td>\n",
       "      <td>9.7</td>\n",
       "      <td>0.0</td>\n",
       "      <td>14.9</td>\n",
       "      <td>8.1</td>\n",
       "      <td>10.4</td>\n",
       "      <td>0.1</td>\n",
       "      <td>0.2</td>\n",
       "      <td>0.0</td>\n",
       "      <td>6.5</td>\n",
       "      <td>1.9</td>\n",
       "    </tr>\n",
       "    <tr>\n",
       "      <th>248</th>\n",
       "      <td>VNM</td>\n",
       "      <td>Vietnam</td>\n",
       "      <td>2000</td>\n",
       "      <td>18.0</td>\n",
       "      <td>0.2</td>\n",
       "      <td>6.7</td>\n",
       "      <td>3.4</td>\n",
       "      <td>0.4</td>\n",
       "      <td>15.1</td>\n",
       "      <td>19.2</td>\n",
       "      <td>13.9</td>\n",
       "      <td>0.2</td>\n",
       "      <td>0.2</td>\n",
       "      <td>6.7</td>\n",
       "      <td>3.4</td>\n",
       "      <td>1.5</td>\n",
       "    </tr>\n",
       "    <tr>\n",
       "      <th>249</th>\n",
       "      <td>YEM</td>\n",
       "      <td>Yemen</td>\n",
       "      <td>2000</td>\n",
       "      <td>14.2</td>\n",
       "      <td>1.2</td>\n",
       "      <td>9.8</td>\n",
       "      <td>6.2</td>\n",
       "      <td>1.3</td>\n",
       "      <td>3.7</td>\n",
       "      <td>21.9</td>\n",
       "      <td>14.8</td>\n",
       "      <td>1.2</td>\n",
       "      <td>0.0</td>\n",
       "      <td>5.2</td>\n",
       "      <td>5.6</td>\n",
       "      <td>3.0</td>\n",
       "    </tr>\n",
       "    <tr>\n",
       "      <th>250</th>\n",
       "      <td>ZMB</td>\n",
       "      <td>Zambia</td>\n",
       "      <td>2000</td>\n",
       "      <td>6.8</td>\n",
       "      <td>0.6</td>\n",
       "      <td>7.7</td>\n",
       "      <td>3.8</td>\n",
       "      <td>0.3</td>\n",
       "      <td>3.0</td>\n",
       "      <td>16.5</td>\n",
       "      <td>14.4</td>\n",
       "      <td>15.0</td>\n",
       "      <td>11.2</td>\n",
       "      <td>4.8</td>\n",
       "      <td>3.3</td>\n",
       "      <td>2.8</td>\n",
       "    </tr>\n",
       "    <tr>\n",
       "      <th>251</th>\n",
       "      <td>ZWE</td>\n",
       "      <td>Zimbabwe</td>\n",
       "      <td>2000</td>\n",
       "      <td>7.7</td>\n",
       "      <td>0.2</td>\n",
       "      <td>6.7</td>\n",
       "      <td>2.7</td>\n",
       "      <td>0.2</td>\n",
       "      <td>3.3</td>\n",
       "      <td>12.3</td>\n",
       "      <td>8.7</td>\n",
       "      <td>3.4</td>\n",
       "      <td>41.2</td>\n",
       "      <td>0.3</td>\n",
       "      <td>2.9</td>\n",
       "      <td>1.9</td>\n",
       "    </tr>\n",
       "  </tbody>\n",
       "</table>\n",
       "<p>252 rows × 16 columns</p>\n",
       "</div>"
      ],
      "text/plain": [
       "    ISO_Code               CountryName  Year  Preterm  Pertussis  Intrapartum  \\\n",
       "0        AFG               Afghanistan  2015     14.6        1.2         11.0   \n",
       "1        ALB                   Albania  2015     20.8        0.7          7.5   \n",
       "2        DZA                   Algeria  2015     21.9        0.8         13.7   \n",
       "3        AGO                    Angola  2015     12.5        0.5         10.8   \n",
       "4        ARG                 Argentina  2015     25.7        0.6          3.9   \n",
       "5        ARM                   Armenia  2015     23.4        0.6          8.5   \n",
       "6        AZE                Azerbaijan  2015     24.3        0.5         13.6   \n",
       "7        BGD                Bangladesh  2015     19.8        0.4         14.9   \n",
       "8        BLR                   Belarus  2015     20.7        1.4          7.1   \n",
       "9        BLZ                    Belize  2015     17.3        0.0          8.0   \n",
       "10       BEN                     Benin  2015     12.9        1.0          9.4   \n",
       "11       BTN                    Bhutan  2015     21.9        0.4         12.0   \n",
       "12       BOL                   Bolivia  2015     18.7        2.9         14.5   \n",
       "13       BIH      Bosnia & Herzegovina  2015     31.4        0.6          9.8   \n",
       "14       BWA                  Botswana  2015     21.6        0.3         12.2   \n",
       "15       BRA                    Brazil  2015     18.9        0.2          9.3   \n",
       "16       BGR                  Bulgaria  2015     25.5        0.0          9.8   \n",
       "17       BFA              Burkina Faso  2015     11.2        1.0          9.0   \n",
       "18       BDI                   Burundi  2015     12.9        1.1         12.0   \n",
       "19       KHM                  Cambodia  2015     16.4        2.9         13.0   \n",
       "20       CMR                  Cameroon  2015     10.4        1.1         10.8   \n",
       "21       CAF  Central African Republic  2015     10.8        0.9         11.9   \n",
       "22       TCD                      Chad  2015     10.1        0.9         10.4   \n",
       "23       CHN                     China  2015     18.3        0.8         14.3   \n",
       "24       COL                  Colombia  2015     21.0        0.3          5.7   \n",
       "25       COM                   Comoros  2015     19.3        1.5         12.2   \n",
       "26       COG                     Congo  2015     15.6        2.0         11.2   \n",
       "27       CRI                Costa Rica  2015     27.7        0.1          7.6   \n",
       "28       CIV             Cote d Ivoire  2015     14.5        0.9         12.2   \n",
       "29       CUB                      Cuba  2015     16.8        0.0          7.7   \n",
       "..       ...                       ...   ...      ...        ...          ...   \n",
       "222      SRB                    Serbia  2000     31.2        0.0         16.4   \n",
       "223      SYC                Seychelles  2000     27.3        0.0          9.4   \n",
       "224      SLE              Sierra Leone  2000      7.0        0.5          5.6   \n",
       "225      SLB           Solomon Islands  2000     13.5        2.9         12.3   \n",
       "226      SOM                   Somalia  2000      7.4        0.7          8.2   \n",
       "227      ZAF              South Africa  2000      9.5        0.2          5.7   \n",
       "228      SSD               South Sudan  2000      8.5        1.1         10.9   \n",
       "229      LKA                 Sri Lanka  2000     22.8        0.6          8.4   \n",
       "230      SDN                     Sudan  2000     13.3        1.2          9.8   \n",
       "231      SUR                  Suriname  2000     20.9        0.0          7.9   \n",
       "232      SWZ                 Swaziland  2000      6.8        0.8          6.0   \n",
       "233      SYR                     Syria  2000     22.6        0.9         10.9   \n",
       "234      TJK                Tajikistan  2000     13.8        0.2         10.1   \n",
       "235      THA                  Thailand  2000     23.3        0.4          8.1   \n",
       "236      TLS               Timor Leste  2000     12.3        0.9         11.1   \n",
       "237      TGO                      Togo  2000      9.3        0.9          9.1   \n",
       "238      TON                     Tonga  2000     19.5        0.0          6.0   \n",
       "239      TUN                   Tunisia  2000     24.6        0.3         11.5   \n",
       "240      TUR                    Turkey  2000     24.0        0.0          7.2   \n",
       "241      TKM              Turkmenistan  2000     16.3        0.2         10.4   \n",
       "242      TUV                    Tuvalu  2000     26.5        0.0         11.3   \n",
       "243      UGA                    Uganda  2000      7.5        0.8          7.4   \n",
       "244      UKR                   Ukraine  2000     25.8        0.5          7.9   \n",
       "245      UZB                Uzbekistan  2000     19.6        0.3         12.2   \n",
       "246      VUT                   Vanuatu  2000     17.4        1.8          8.3   \n",
       "247      VEN                 Venezuela  2000     25.2        0.5          9.0   \n",
       "248      VNM                   Vietnam  2000     18.0        0.2          6.7   \n",
       "249      YEM                     Yemen  2000     14.2        1.2          9.8   \n",
       "250      ZMB                    Zambia  2000      6.8        0.6          7.7   \n",
       "251      ZWE                  Zimbabwe  2000      7.7        0.2          6.7   \n",
       "\n",
       "     Sepsis  Tetanus  Congenital  Pneumonia  Diarrhoea  Malaria  Aids  \\\n",
       "0       7.0      0.8         4.9       19.8       12.4      0.0   0.0   \n",
       "1       2.7      0.4        27.5       11.9        1.2      0.0   0.3   \n",
       "2       8.8      0.2        16.3       12.9        5.0      0.0   0.1   \n",
       "3       5.0      1.2         5.8       17.4       14.7      6.3   1.2   \n",
       "4       4.9      0.0        28.1        7.4        1.3      0.0   0.1   \n",
       "5       3.5      0.0        26.4       10.7        1.3      0.0   0.2   \n",
       "6       6.9      0.2        14.1       12.2        5.9      0.0   0.1   \n",
       "7      12.4      0.3         9.3       14.5        6.0      0.2   0.0   \n",
       "8       2.4      0.0        35.4        6.1        0.6      0.0   0.1   \n",
       "9       7.6      0.0        23.9        8.3        3.1      0.0   1.2   \n",
       "10      7.0      0.2         5.1       15.4       10.8     11.6   1.1   \n",
       "11      9.0      0.2        11.1       14.6        6.2      0.0   1.6   \n",
       "12      6.5      0.3        14.6       13.9        6.1      0.0   0.3   \n",
       "13      4.9      0.0        32.5        5.1        0.4      0.0   0.1   \n",
       "14      7.0      0.2        11.1       12.4        6.3      0.0   5.1   \n",
       "15      7.8      0.0        22.1        9.1        2.5      0.0   0.2   \n",
       "16      2.5      0.0        25.0       17.0        1.1      0.0   0.0   \n",
       "17      6.8      0.2         4.3       12.8        8.2     21.4   0.6   \n",
       "18      6.0      0.3         5.6       16.0       10.1      6.5   0.9   \n",
       "19      8.7      0.2        10.7       16.5        6.7      0.3   0.5   \n",
       "20      5.3      0.3         6.2       15.5       11.3      9.9   4.0   \n",
       "21      5.1      1.3         4.0       16.0       10.4     15.3   3.4   \n",
       "22      4.6      1.2         4.2       23.3       13.7      6.0   2.1   \n",
       "23      2.9      0.1        17.9       12.1        2.8      0.0   0.2   \n",
       "24      7.2      0.0        24.8       10.2        2.1      0.1   0.2   \n",
       "25      7.1      0.5         6.3       15.8        7.5      7.9   1.1   \n",
       "26      5.9      0.2         9.6       13.4        7.1      5.6   6.3   \n",
       "27      1.4      0.0        38.8        5.0        1.0      0.0   0.0   \n",
       "28      8.4      0.6         4.7       14.5        7.6     16.7   2.1   \n",
       "29      4.6      0.0        23.5       11.2        1.3      0.0   0.1   \n",
       "..      ...      ...         ...        ...        ...      ...   ...   \n",
       "222     4.7      0.0        26.4        5.4        0.9      0.0   0.3   \n",
       "223     6.3      0.0        25.3        6.6        1.2      0.0   0.0   \n",
       "224     3.0      1.0         2.5       12.8       13.6     26.0   0.5   \n",
       "225     6.5      0.2         9.7       16.4        7.7     12.1   0.0   \n",
       "226     2.9      1.7         2.8       17.7       15.7      1.1   0.4   \n",
       "227     2.7      0.0         4.8       14.6       11.7      0.2  28.5   \n",
       "228     3.2      4.8         3.3       18.8       15.9     12.8   1.5   \n",
       "229     4.0      0.5        23.6       10.1        4.1      0.3   0.0   \n",
       "230     5.1      0.8         3.6       21.1       15.0      2.2   0.1   \n",
       "231    14.7      0.0        12.2        8.2        6.6      3.0   1.2   \n",
       "232     2.3      0.1         4.3       15.9       12.3      0.0  35.2   \n",
       "233     3.6      0.6        20.7       14.4        9.5      0.0   0.0   \n",
       "234     3.9      0.5         5.5       22.6       15.5      0.0   0.3   \n",
       "235     5.6      0.4        20.4       13.0        4.8      1.0   3.5   \n",
       "236     4.3      1.5         3.6       22.5       16.1      7.2   0.0   \n",
       "237     4.9      0.7         2.8       11.8        8.4     26.9   4.0   \n",
       "238     4.6      0.0        23.6       12.8        4.9      0.0   0.0   \n",
       "239     3.4      1.3        17.7       15.2        5.5      0.0   0.0   \n",
       "240     3.9      0.0        24.7        8.1        1.0      0.0   0.0   \n",
       "241     3.7      0.4         7.6       21.1       14.3      0.0   0.0   \n",
       "242     4.7      0.0        13.0       17.9        6.0      0.0   0.0   \n",
       "243     3.5      0.3         2.6       13.2       10.1     27.2   7.5   \n",
       "244     4.0      0.0        22.8       14.7        2.0      0.0   3.7   \n",
       "245     4.5      0.5         9.2       18.7       11.0      0.0   0.2   \n",
       "246     2.9      0.7        15.7       15.6       15.6      7.9   0.0   \n",
       "247     9.7      0.0        14.9        8.1       10.4      0.1   0.2   \n",
       "248     3.4      0.4        15.1       19.2       13.9      0.2   0.2   \n",
       "249     6.2      1.3         3.7       21.9       14.8      1.2   0.0   \n",
       "250     3.8      0.3         3.0       16.5       14.4     15.0  11.2   \n",
       "251     2.7      0.2         3.3       12.3        8.7      3.4  41.2   \n",
       "\n",
       "     Measles  Injury  Meningitis  \n",
       "0        1.0     7.3         2.5  \n",
       "1        0.0     8.7         1.9  \n",
       "2        0.1     6.2         0.8  \n",
       "3        0.3     5.3         1.4  \n",
       "4        0.0     7.8         1.3  \n",
       "5        0.0     8.5         1.7  \n",
       "6        0.0     6.2         0.6  \n",
       "7        1.9     6.0         1.5  \n",
       "8        0.0     8.1         1.3  \n",
       "9        0.0     7.0         1.5  \n",
       "10       0.7     5.7         2.4  \n",
       "11       0.0     7.5         1.2  \n",
       "12       0.0     7.5         1.0  \n",
       "13       0.8     2.9         0.5  \n",
       "14       0.7     6.4         0.6  \n",
       "15       0.0     6.1         1.2  \n",
       "16       0.4     5.2         1.8  \n",
       "17       2.3     5.8         2.0  \n",
       "18       0.1     7.9         1.8  \n",
       "19       0.0     8.1         1.8  \n",
       "20       0.2     6.9         1.8  \n",
       "21       0.9     4.4         3.5  \n",
       "22       0.2     5.6         5.0  \n",
       "23       0.3    16.6         1.4  \n",
       "24       0.0     6.7         1.2  \n",
       "25       0.0     5.1         2.1  \n",
       "26       0.7     6.8         1.0  \n",
       "27       0.0     3.8         1.0  \n",
       "28       0.2     4.3         2.1  \n",
       "29       0.0     8.5         2.9  \n",
       "..       ...     ...         ...  \n",
       "222      0.0     4.8         1.4  \n",
       "223      0.0     8.3         1.0  \n",
       "224     15.8     2.0         2.6  \n",
       "225      0.0     5.6         2.9  \n",
       "226     26.2     3.3         3.9  \n",
       "227      0.6     5.0         1.3  \n",
       "228      3.4     3.3         4.4  \n",
       "229      0.0     6.1         0.9  \n",
       "230      5.6     5.1         5.0  \n",
       "231      0.0     8.2         2.1  \n",
       "232      0.0     3.6         2.0  \n",
       "233      0.1     4.2         0.6  \n",
       "234      0.0     6.0         4.5  \n",
       "235      0.2     4.6         1.1  \n",
       "236      0.0     5.5         3.3  \n",
       "237     10.2     2.5         2.1  \n",
       "238      0.0     8.9         1.7  \n",
       "239      0.0     4.9         0.7  \n",
       "240      0.0     3.3         0.7  \n",
       "241      0.0     6.0         2.8  \n",
       "242      0.0     6.3         1.5  \n",
       "243      7.0     2.8         2.7  \n",
       "244      0.2     6.5         1.6  \n",
       "245      0.0     5.3         2.9  \n",
       "246      0.0     5.2         1.4  \n",
       "247      0.0     6.5         1.9  \n",
       "248      6.7     3.4         1.5  \n",
       "249      5.2     5.6         3.0  \n",
       "250      4.8     3.3         2.8  \n",
       "251      0.3     2.9         1.9  \n",
       "\n",
       "[252 rows x 16 columns]"
      ]
     },
     "execution_count": 23,
     "metadata": {},
     "output_type": "execute_result"
    }
   ],
   "source": [
    "developing_countries = under_five.loc[under_five['ISO_Code'].isin(a)]\n",
    "developing_countries.reset_index(drop=True)\n",
    "\n",
    "            \n",
    "      "
   ]
  },
  {
   "cell_type": "markdown",
   "metadata": {},
   "source": [
    "# DataFrame for Developed Countries"
   ]
  },
  {
   "cell_type": "code",
   "execution_count": 24,
   "metadata": {
    "collapsed": false,
    "scrolled": true
   },
   "outputs": [
    {
     "data": {
      "text/html": [
       "<div>\n",
       "<table border=\"1\" class=\"dataframe\">\n",
       "  <thead>\n",
       "    <tr style=\"text-align: right;\">\n",
       "      <th></th>\n",
       "      <th>ISO_Code</th>\n",
       "      <th>CountryName</th>\n",
       "      <th>Year</th>\n",
       "      <th>Preterm</th>\n",
       "      <th>Pertussis</th>\n",
       "      <th>Intrapartum</th>\n",
       "      <th>Sepsis</th>\n",
       "      <th>Tetanus</th>\n",
       "      <th>Congenital</th>\n",
       "      <th>Pneumonia</th>\n",
       "      <th>Diarrhoea</th>\n",
       "      <th>Malaria</th>\n",
       "      <th>Aids</th>\n",
       "      <th>Measles</th>\n",
       "      <th>Injury</th>\n",
       "      <th>Meningitis</th>\n",
       "    </tr>\n",
       "  </thead>\n",
       "  <tbody>\n",
       "    <tr>\n",
       "      <th>0</th>\n",
       "      <td>AND</td>\n",
       "      <td>Andorra</td>\n",
       "      <td>2015</td>\n",
       "      <td>24.3</td>\n",
       "      <td>0.0</td>\n",
       "      <td>7.4</td>\n",
       "      <td>2.9</td>\n",
       "      <td>0.0</td>\n",
       "      <td>36.0</td>\n",
       "      <td>2.7</td>\n",
       "      <td>0.1</td>\n",
       "      <td>0.0</td>\n",
       "      <td>0.0</td>\n",
       "      <td>0.0</td>\n",
       "      <td>6.1</td>\n",
       "      <td>0.8</td>\n",
       "    </tr>\n",
       "    <tr>\n",
       "      <th>1</th>\n",
       "      <td>ATG</td>\n",
       "      <td>Antigua &amp; Barbuda</td>\n",
       "      <td>2015</td>\n",
       "      <td>26.5</td>\n",
       "      <td>0.0</td>\n",
       "      <td>14.2</td>\n",
       "      <td>0.0</td>\n",
       "      <td>0.0</td>\n",
       "      <td>21.6</td>\n",
       "      <td>3.2</td>\n",
       "      <td>0.0</td>\n",
       "      <td>0.0</td>\n",
       "      <td>2.6</td>\n",
       "      <td>0.0</td>\n",
       "      <td>4.5</td>\n",
       "      <td>0.0</td>\n",
       "    </tr>\n",
       "    <tr>\n",
       "      <th>2</th>\n",
       "      <td>AUS</td>\n",
       "      <td>Australia</td>\n",
       "      <td>2015</td>\n",
       "      <td>19.7</td>\n",
       "      <td>0.1</td>\n",
       "      <td>10.4</td>\n",
       "      <td>1.2</td>\n",
       "      <td>0.0</td>\n",
       "      <td>28.0</td>\n",
       "      <td>2.7</td>\n",
       "      <td>0.3</td>\n",
       "      <td>0.1</td>\n",
       "      <td>0.0</td>\n",
       "      <td>0.0</td>\n",
       "      <td>7.7</td>\n",
       "      <td>0.9</td>\n",
       "    </tr>\n",
       "    <tr>\n",
       "      <th>3</th>\n",
       "      <td>AUT</td>\n",
       "      <td>Austria</td>\n",
       "      <td>2015</td>\n",
       "      <td>23.5</td>\n",
       "      <td>0.0</td>\n",
       "      <td>6.5</td>\n",
       "      <td>1.6</td>\n",
       "      <td>0.0</td>\n",
       "      <td>33.6</td>\n",
       "      <td>1.5</td>\n",
       "      <td>0.4</td>\n",
       "      <td>0.0</td>\n",
       "      <td>0.1</td>\n",
       "      <td>0.0</td>\n",
       "      <td>4.9</td>\n",
       "      <td>1.8</td>\n",
       "    </tr>\n",
       "    <tr>\n",
       "      <th>4</th>\n",
       "      <td>BHS</td>\n",
       "      <td>Bahamas</td>\n",
       "      <td>2015</td>\n",
       "      <td>28.2</td>\n",
       "      <td>0.0</td>\n",
       "      <td>8.3</td>\n",
       "      <td>3.9</td>\n",
       "      <td>0.0</td>\n",
       "      <td>11.7</td>\n",
       "      <td>13.0</td>\n",
       "      <td>0.6</td>\n",
       "      <td>0.0</td>\n",
       "      <td>0.9</td>\n",
       "      <td>0.0</td>\n",
       "      <td>9.9</td>\n",
       "      <td>0.6</td>\n",
       "    </tr>\n",
       "    <tr>\n",
       "      <th>5</th>\n",
       "      <td>BHR</td>\n",
       "      <td>Bahrain</td>\n",
       "      <td>2015</td>\n",
       "      <td>21.9</td>\n",
       "      <td>0.0</td>\n",
       "      <td>2.9</td>\n",
       "      <td>0.6</td>\n",
       "      <td>0.0</td>\n",
       "      <td>36.1</td>\n",
       "      <td>2.3</td>\n",
       "      <td>0.4</td>\n",
       "      <td>0.0</td>\n",
       "      <td>0.4</td>\n",
       "      <td>0.0</td>\n",
       "      <td>5.6</td>\n",
       "      <td>1.2</td>\n",
       "    </tr>\n",
       "    <tr>\n",
       "      <th>6</th>\n",
       "      <td>BRB</td>\n",
       "      <td>Barbados</td>\n",
       "      <td>2015</td>\n",
       "      <td>19.1</td>\n",
       "      <td>0.0</td>\n",
       "      <td>12.7</td>\n",
       "      <td>13.1</td>\n",
       "      <td>0.0</td>\n",
       "      <td>18.8</td>\n",
       "      <td>2.6</td>\n",
       "      <td>0.0</td>\n",
       "      <td>0.0</td>\n",
       "      <td>0.0</td>\n",
       "      <td>0.0</td>\n",
       "      <td>6.6</td>\n",
       "      <td>0.0</td>\n",
       "    </tr>\n",
       "    <tr>\n",
       "      <th>7</th>\n",
       "      <td>BEL</td>\n",
       "      <td>Belgium</td>\n",
       "      <td>2015</td>\n",
       "      <td>16.3</td>\n",
       "      <td>0.3</td>\n",
       "      <td>9.1</td>\n",
       "      <td>2.0</td>\n",
       "      <td>0.0</td>\n",
       "      <td>29.4</td>\n",
       "      <td>1.6</td>\n",
       "      <td>0.1</td>\n",
       "      <td>0.0</td>\n",
       "      <td>0.0</td>\n",
       "      <td>0.0</td>\n",
       "      <td>9.7</td>\n",
       "      <td>1.6</td>\n",
       "    </tr>\n",
       "    <tr>\n",
       "      <th>8</th>\n",
       "      <td>BRN</td>\n",
       "      <td>Brunei</td>\n",
       "      <td>2015</td>\n",
       "      <td>18.1</td>\n",
       "      <td>0.0</td>\n",
       "      <td>8.7</td>\n",
       "      <td>8.0</td>\n",
       "      <td>0.0</td>\n",
       "      <td>25.2</td>\n",
       "      <td>3.7</td>\n",
       "      <td>2.3</td>\n",
       "      <td>0.0</td>\n",
       "      <td>0.0</td>\n",
       "      <td>0.0</td>\n",
       "      <td>2.8</td>\n",
       "      <td>0.3</td>\n",
       "    </tr>\n",
       "    <tr>\n",
       "      <th>9</th>\n",
       "      <td>CAN</td>\n",
       "      <td>Canada</td>\n",
       "      <td>2015</td>\n",
       "      <td>27.1</td>\n",
       "      <td>0.2</td>\n",
       "      <td>9.2</td>\n",
       "      <td>3.2</td>\n",
       "      <td>0.0</td>\n",
       "      <td>31.4</td>\n",
       "      <td>2.1</td>\n",
       "      <td>0.3</td>\n",
       "      <td>0.0</td>\n",
       "      <td>0.0</td>\n",
       "      <td>0.0</td>\n",
       "      <td>6.7</td>\n",
       "      <td>1.0</td>\n",
       "    </tr>\n",
       "    <tr>\n",
       "      <th>10</th>\n",
       "      <td>CPV</td>\n",
       "      <td>Cape Verde</td>\n",
       "      <td>2015</td>\n",
       "      <td>20.9</td>\n",
       "      <td>0.7</td>\n",
       "      <td>8.5</td>\n",
       "      <td>4.5</td>\n",
       "      <td>0.4</td>\n",
       "      <td>20.9</td>\n",
       "      <td>13.7</td>\n",
       "      <td>5.3</td>\n",
       "      <td>0.0</td>\n",
       "      <td>0.7</td>\n",
       "      <td>0.0</td>\n",
       "      <td>4.8</td>\n",
       "      <td>1.3</td>\n",
       "    </tr>\n",
       "    <tr>\n",
       "      <th>11</th>\n",
       "      <td>CHL</td>\n",
       "      <td>Chile</td>\n",
       "      <td>2015</td>\n",
       "      <td>26.5</td>\n",
       "      <td>0.5</td>\n",
       "      <td>4.2</td>\n",
       "      <td>2.7</td>\n",
       "      <td>0.0</td>\n",
       "      <td>39.9</td>\n",
       "      <td>3.5</td>\n",
       "      <td>0.1</td>\n",
       "      <td>0.0</td>\n",
       "      <td>0.1</td>\n",
       "      <td>0.0</td>\n",
       "      <td>6.5</td>\n",
       "      <td>0.9</td>\n",
       "    </tr>\n",
       "    <tr>\n",
       "      <th>12</th>\n",
       "      <td>COD</td>\n",
       "      <td>Congo DR</td>\n",
       "      <td>2015</td>\n",
       "      <td>12.6</td>\n",
       "      <td>1.0</td>\n",
       "      <td>9.9</td>\n",
       "      <td>5.0</td>\n",
       "      <td>0.4</td>\n",
       "      <td>4.8</td>\n",
       "      <td>15.2</td>\n",
       "      <td>10.5</td>\n",
       "      <td>11.9</td>\n",
       "      <td>1.1</td>\n",
       "      <td>3.1</td>\n",
       "      <td>5.7</td>\n",
       "      <td>2.6</td>\n",
       "    </tr>\n",
       "    <tr>\n",
       "      <th>13</th>\n",
       "      <td>COK</td>\n",
       "      <td>Cook Islands</td>\n",
       "      <td>2015</td>\n",
       "      <td>28.2</td>\n",
       "      <td>0.0</td>\n",
       "      <td>11.2</td>\n",
       "      <td>3.8</td>\n",
       "      <td>0.0</td>\n",
       "      <td>29.0</td>\n",
       "      <td>4.8</td>\n",
       "      <td>0.7</td>\n",
       "      <td>0.0</td>\n",
       "      <td>0.0</td>\n",
       "      <td>0.0</td>\n",
       "      <td>5.5</td>\n",
       "      <td>0.8</td>\n",
       "    </tr>\n",
       "    <tr>\n",
       "      <th>14</th>\n",
       "      <td>HRV</td>\n",
       "      <td>Croatia</td>\n",
       "      <td>2015</td>\n",
       "      <td>15.6</td>\n",
       "      <td>0.0</td>\n",
       "      <td>7.2</td>\n",
       "      <td>3.4</td>\n",
       "      <td>0.0</td>\n",
       "      <td>27.3</td>\n",
       "      <td>2.7</td>\n",
       "      <td>0.0</td>\n",
       "      <td>0.0</td>\n",
       "      <td>0.0</td>\n",
       "      <td>0.0</td>\n",
       "      <td>4.5</td>\n",
       "      <td>2.5</td>\n",
       "    </tr>\n",
       "    <tr>\n",
       "      <th>15</th>\n",
       "      <td>CYP</td>\n",
       "      <td>Cyprus</td>\n",
       "      <td>2015</td>\n",
       "      <td>24.8</td>\n",
       "      <td>1.2</td>\n",
       "      <td>8.4</td>\n",
       "      <td>3.3</td>\n",
       "      <td>0.0</td>\n",
       "      <td>35.8</td>\n",
       "      <td>2.6</td>\n",
       "      <td>0.2</td>\n",
       "      <td>0.0</td>\n",
       "      <td>0.1</td>\n",
       "      <td>0.0</td>\n",
       "      <td>5.0</td>\n",
       "      <td>0.7</td>\n",
       "    </tr>\n",
       "    <tr>\n",
       "      <th>16</th>\n",
       "      <td>CZE</td>\n",
       "      <td>Czech Republic</td>\n",
       "      <td>2015</td>\n",
       "      <td>25.9</td>\n",
       "      <td>0.0</td>\n",
       "      <td>10.1</td>\n",
       "      <td>4.6</td>\n",
       "      <td>0.0</td>\n",
       "      <td>22.6</td>\n",
       "      <td>6.0</td>\n",
       "      <td>1.0</td>\n",
       "      <td>0.0</td>\n",
       "      <td>0.0</td>\n",
       "      <td>0.0</td>\n",
       "      <td>8.3</td>\n",
       "      <td>1.5</td>\n",
       "    </tr>\n",
       "    <tr>\n",
       "      <th>17</th>\n",
       "      <td>DNK</td>\n",
       "      <td>Denmark</td>\n",
       "      <td>2015</td>\n",
       "      <td>38.4</td>\n",
       "      <td>0.0</td>\n",
       "      <td>8.3</td>\n",
       "      <td>1.4</td>\n",
       "      <td>0.0</td>\n",
       "      <td>24.7</td>\n",
       "      <td>1.2</td>\n",
       "      <td>0.6</td>\n",
       "      <td>0.0</td>\n",
       "      <td>0.0</td>\n",
       "      <td>0.0</td>\n",
       "      <td>4.1</td>\n",
       "      <td>0.9</td>\n",
       "    </tr>\n",
       "    <tr>\n",
       "      <th>18</th>\n",
       "      <td>GNQ</td>\n",
       "      <td>Equatorial Guinea</td>\n",
       "      <td>2015</td>\n",
       "      <td>13.1</td>\n",
       "      <td>1.3</td>\n",
       "      <td>11.3</td>\n",
       "      <td>4.4</td>\n",
       "      <td>0.5</td>\n",
       "      <td>6.1</td>\n",
       "      <td>15.8</td>\n",
       "      <td>7.5</td>\n",
       "      <td>8.6</td>\n",
       "      <td>4.5</td>\n",
       "      <td>9.2</td>\n",
       "      <td>4.5</td>\n",
       "      <td>1.1</td>\n",
       "    </tr>\n",
       "    <tr>\n",
       "      <th>19</th>\n",
       "      <td>EST</td>\n",
       "      <td>Estonia</td>\n",
       "      <td>2015</td>\n",
       "      <td>10.8</td>\n",
       "      <td>0.0</td>\n",
       "      <td>12.4</td>\n",
       "      <td>8.3</td>\n",
       "      <td>0.0</td>\n",
       "      <td>28.0</td>\n",
       "      <td>5.6</td>\n",
       "      <td>0.5</td>\n",
       "      <td>0.0</td>\n",
       "      <td>0.0</td>\n",
       "      <td>0.0</td>\n",
       "      <td>16.4</td>\n",
       "      <td>2.1</td>\n",
       "    </tr>\n",
       "    <tr>\n",
       "      <th>20</th>\n",
       "      <td>FSM</td>\n",
       "      <td>Federated States of Micronesia</td>\n",
       "      <td>2015</td>\n",
       "      <td>19.5</td>\n",
       "      <td>0.0</td>\n",
       "      <td>13.8</td>\n",
       "      <td>7.0</td>\n",
       "      <td>0.2</td>\n",
       "      <td>12.4</td>\n",
       "      <td>14.6</td>\n",
       "      <td>6.2</td>\n",
       "      <td>0.0</td>\n",
       "      <td>0.0</td>\n",
       "      <td>0.0</td>\n",
       "      <td>7.0</td>\n",
       "      <td>1.4</td>\n",
       "    </tr>\n",
       "    <tr>\n",
       "      <th>21</th>\n",
       "      <td>FIN</td>\n",
       "      <td>Finland</td>\n",
       "      <td>2015</td>\n",
       "      <td>20.0</td>\n",
       "      <td>0.0</td>\n",
       "      <td>9.0</td>\n",
       "      <td>2.8</td>\n",
       "      <td>0.0</td>\n",
       "      <td>31.9</td>\n",
       "      <td>2.6</td>\n",
       "      <td>0.0</td>\n",
       "      <td>0.0</td>\n",
       "      <td>0.0</td>\n",
       "      <td>0.0</td>\n",
       "      <td>7.6</td>\n",
       "      <td>0.7</td>\n",
       "    </tr>\n",
       "    <tr>\n",
       "      <th>22</th>\n",
       "      <td>FRA</td>\n",
       "      <td>France</td>\n",
       "      <td>2015</td>\n",
       "      <td>17.6</td>\n",
       "      <td>0.0</td>\n",
       "      <td>10.1</td>\n",
       "      <td>3.0</td>\n",
       "      <td>0.0</td>\n",
       "      <td>26.8</td>\n",
       "      <td>1.8</td>\n",
       "      <td>1.2</td>\n",
       "      <td>0.0</td>\n",
       "      <td>0.1</td>\n",
       "      <td>0.0</td>\n",
       "      <td>7.3</td>\n",
       "      <td>1.6</td>\n",
       "    </tr>\n",
       "    <tr>\n",
       "      <th>23</th>\n",
       "      <td>DEU</td>\n",
       "      <td>Germany</td>\n",
       "      <td>2015</td>\n",
       "      <td>28.0</td>\n",
       "      <td>0.0</td>\n",
       "      <td>6.8</td>\n",
       "      <td>2.1</td>\n",
       "      <td>0.0</td>\n",
       "      <td>31.2</td>\n",
       "      <td>1.9</td>\n",
       "      <td>0.4</td>\n",
       "      <td>0.0</td>\n",
       "      <td>0.0</td>\n",
       "      <td>0.0</td>\n",
       "      <td>5.2</td>\n",
       "      <td>0.8</td>\n",
       "    </tr>\n",
       "    <tr>\n",
       "      <th>24</th>\n",
       "      <td>GRC</td>\n",
       "      <td>Greece</td>\n",
       "      <td>2015</td>\n",
       "      <td>34.0</td>\n",
       "      <td>0.0</td>\n",
       "      <td>5.4</td>\n",
       "      <td>0.5</td>\n",
       "      <td>0.0</td>\n",
       "      <td>43.6</td>\n",
       "      <td>3.3</td>\n",
       "      <td>0.0</td>\n",
       "      <td>0.0</td>\n",
       "      <td>0.0</td>\n",
       "      <td>0.0</td>\n",
       "      <td>4.0</td>\n",
       "      <td>0.4</td>\n",
       "    </tr>\n",
       "    <tr>\n",
       "      <th>25</th>\n",
       "      <td>HND</td>\n",
       "      <td>Honduras</td>\n",
       "      <td>2015</td>\n",
       "      <td>19.5</td>\n",
       "      <td>1.1</td>\n",
       "      <td>7.7</td>\n",
       "      <td>7.8</td>\n",
       "      <td>0.6</td>\n",
       "      <td>18.9</td>\n",
       "      <td>11.2</td>\n",
       "      <td>7.8</td>\n",
       "      <td>0.0</td>\n",
       "      <td>1.6</td>\n",
       "      <td>0.0</td>\n",
       "      <td>3.6</td>\n",
       "      <td>1.0</td>\n",
       "    </tr>\n",
       "    <tr>\n",
       "      <th>26</th>\n",
       "      <td>ISL</td>\n",
       "      <td>Iceland</td>\n",
       "      <td>2015</td>\n",
       "      <td>28.8</td>\n",
       "      <td>0.0</td>\n",
       "      <td>4.5</td>\n",
       "      <td>7.3</td>\n",
       "      <td>0.0</td>\n",
       "      <td>14.5</td>\n",
       "      <td>0.0</td>\n",
       "      <td>0.0</td>\n",
       "      <td>0.0</td>\n",
       "      <td>0.0</td>\n",
       "      <td>0.0</td>\n",
       "      <td>2.1</td>\n",
       "      <td>0.0</td>\n",
       "    </tr>\n",
       "    <tr>\n",
       "      <th>27</th>\n",
       "      <td>IRL</td>\n",
       "      <td>Ireland</td>\n",
       "      <td>2015</td>\n",
       "      <td>24.7</td>\n",
       "      <td>0.0</td>\n",
       "      <td>6.6</td>\n",
       "      <td>2.3</td>\n",
       "      <td>0.0</td>\n",
       "      <td>43.1</td>\n",
       "      <td>2.0</td>\n",
       "      <td>0.3</td>\n",
       "      <td>0.0</td>\n",
       "      <td>0.0</td>\n",
       "      <td>0.0</td>\n",
       "      <td>3.9</td>\n",
       "      <td>1.8</td>\n",
       "    </tr>\n",
       "    <tr>\n",
       "      <th>28</th>\n",
       "      <td>ISR</td>\n",
       "      <td>Israel</td>\n",
       "      <td>2015</td>\n",
       "      <td>21.5</td>\n",
       "      <td>0.0</td>\n",
       "      <td>3.9</td>\n",
       "      <td>2.7</td>\n",
       "      <td>0.0</td>\n",
       "      <td>35.7</td>\n",
       "      <td>1.8</td>\n",
       "      <td>0.5</td>\n",
       "      <td>0.0</td>\n",
       "      <td>0.0</td>\n",
       "      <td>0.0</td>\n",
       "      <td>6.6</td>\n",
       "      <td>1.2</td>\n",
       "    </tr>\n",
       "    <tr>\n",
       "      <th>29</th>\n",
       "      <td>ITA</td>\n",
       "      <td>Italy</td>\n",
       "      <td>2015</td>\n",
       "      <td>26.2</td>\n",
       "      <td>0.0</td>\n",
       "      <td>7.5</td>\n",
       "      <td>3.4</td>\n",
       "      <td>0.0</td>\n",
       "      <td>26.9</td>\n",
       "      <td>1.5</td>\n",
       "      <td>0.2</td>\n",
       "      <td>0.0</td>\n",
       "      <td>0.0</td>\n",
       "      <td>0.0</td>\n",
       "      <td>3.4</td>\n",
       "      <td>0.6</td>\n",
       "    </tr>\n",
       "    <tr>\n",
       "      <th>...</th>\n",
       "      <td>...</td>\n",
       "      <td>...</td>\n",
       "      <td>...</td>\n",
       "      <td>...</td>\n",
       "      <td>...</td>\n",
       "      <td>...</td>\n",
       "      <td>...</td>\n",
       "      <td>...</td>\n",
       "      <td>...</td>\n",
       "      <td>...</td>\n",
       "      <td>...</td>\n",
       "      <td>...</td>\n",
       "      <td>...</td>\n",
       "      <td>...</td>\n",
       "      <td>...</td>\n",
       "      <td>...</td>\n",
       "    </tr>\n",
       "    <tr>\n",
       "      <th>106</th>\n",
       "      <td>MWI</td>\n",
       "      <td>Malawi</td>\n",
       "      <td>2000</td>\n",
       "      <td>7.5</td>\n",
       "      <td>0.6</td>\n",
       "      <td>7.0</td>\n",
       "      <td>3.8</td>\n",
       "      <td>0.3</td>\n",
       "      <td>2.9</td>\n",
       "      <td>16.2</td>\n",
       "      <td>13.9</td>\n",
       "      <td>15.7</td>\n",
       "      <td>14.6</td>\n",
       "      <td>0.2</td>\n",
       "      <td>3.1</td>\n",
       "      <td>3.9</td>\n",
       "    </tr>\n",
       "    <tr>\n",
       "      <th>107</th>\n",
       "      <td>MLT</td>\n",
       "      <td>Malta</td>\n",
       "      <td>2000</td>\n",
       "      <td>36.6</td>\n",
       "      <td>0.0</td>\n",
       "      <td>6.7</td>\n",
       "      <td>3.1</td>\n",
       "      <td>0.0</td>\n",
       "      <td>20.6</td>\n",
       "      <td>1.5</td>\n",
       "      <td>0.0</td>\n",
       "      <td>0.0</td>\n",
       "      <td>0.0</td>\n",
       "      <td>0.0</td>\n",
       "      <td>4.8</td>\n",
       "      <td>5.2</td>\n",
       "    </tr>\n",
       "    <tr>\n",
       "      <th>108</th>\n",
       "      <td>MDA</td>\n",
       "      <td>Moldova</td>\n",
       "      <td>2000</td>\n",
       "      <td>5.9</td>\n",
       "      <td>0.0</td>\n",
       "      <td>13.5</td>\n",
       "      <td>8.2</td>\n",
       "      <td>0.0</td>\n",
       "      <td>25.7</td>\n",
       "      <td>26.3</td>\n",
       "      <td>1.4</td>\n",
       "      <td>0.0</td>\n",
       "      <td>0.0</td>\n",
       "      <td>0.0</td>\n",
       "      <td>10.4</td>\n",
       "      <td>1.7</td>\n",
       "    </tr>\n",
       "    <tr>\n",
       "      <th>109</th>\n",
       "      <td>MCO</td>\n",
       "      <td>Monaco</td>\n",
       "      <td>2000</td>\n",
       "      <td>38.8</td>\n",
       "      <td>0.0</td>\n",
       "      <td>13.0</td>\n",
       "      <td>4.0</td>\n",
       "      <td>0.0</td>\n",
       "      <td>32.4</td>\n",
       "      <td>0.4</td>\n",
       "      <td>0.0</td>\n",
       "      <td>0.0</td>\n",
       "      <td>0.0</td>\n",
       "      <td>0.0</td>\n",
       "      <td>0.5</td>\n",
       "      <td>0.0</td>\n",
       "    </tr>\n",
       "    <tr>\n",
       "      <th>110</th>\n",
       "      <td>NRU</td>\n",
       "      <td>Nauru</td>\n",
       "      <td>2000</td>\n",
       "      <td>22.1</td>\n",
       "      <td>0.0</td>\n",
       "      <td>13.9</td>\n",
       "      <td>6.5</td>\n",
       "      <td>0.5</td>\n",
       "      <td>10.9</td>\n",
       "      <td>16.4</td>\n",
       "      <td>8.9</td>\n",
       "      <td>0.0</td>\n",
       "      <td>0.0</td>\n",
       "      <td>0.0</td>\n",
       "      <td>5.3</td>\n",
       "      <td>1.7</td>\n",
       "    </tr>\n",
       "    <tr>\n",
       "      <th>111</th>\n",
       "      <td>NLD</td>\n",
       "      <td>Netherlands</td>\n",
       "      <td>2000</td>\n",
       "      <td>21.2</td>\n",
       "      <td>0.0</td>\n",
       "      <td>11.8</td>\n",
       "      <td>3.3</td>\n",
       "      <td>0.0</td>\n",
       "      <td>35.6</td>\n",
       "      <td>2.3</td>\n",
       "      <td>0.0</td>\n",
       "      <td>0.0</td>\n",
       "      <td>0.0</td>\n",
       "      <td>0.0</td>\n",
       "      <td>5.8</td>\n",
       "      <td>2.9</td>\n",
       "    </tr>\n",
       "    <tr>\n",
       "      <th>112</th>\n",
       "      <td>NZL</td>\n",
       "      <td>New Zealand</td>\n",
       "      <td>2000</td>\n",
       "      <td>22.4</td>\n",
       "      <td>0.4</td>\n",
       "      <td>6.4</td>\n",
       "      <td>1.1</td>\n",
       "      <td>0.0</td>\n",
       "      <td>28.8</td>\n",
       "      <td>5.7</td>\n",
       "      <td>0.4</td>\n",
       "      <td>0.0</td>\n",
       "      <td>0.0</td>\n",
       "      <td>0.0</td>\n",
       "      <td>12.2</td>\n",
       "      <td>4.2</td>\n",
       "    </tr>\n",
       "    <tr>\n",
       "      <th>113</th>\n",
       "      <td>NIU</td>\n",
       "      <td>Niue</td>\n",
       "      <td>2000</td>\n",
       "      <td>4.8</td>\n",
       "      <td>0.0</td>\n",
       "      <td>2.6</td>\n",
       "      <td>0.0</td>\n",
       "      <td>0.0</td>\n",
       "      <td>21.4</td>\n",
       "      <td>20.9</td>\n",
       "      <td>4.0</td>\n",
       "      <td>0.0</td>\n",
       "      <td>0.0</td>\n",
       "      <td>0.0</td>\n",
       "      <td>13.6</td>\n",
       "      <td>4.2</td>\n",
       "    </tr>\n",
       "    <tr>\n",
       "      <th>114</th>\n",
       "      <td>NOR</td>\n",
       "      <td>Norway</td>\n",
       "      <td>2000</td>\n",
       "      <td>12.3</td>\n",
       "      <td>0.0</td>\n",
       "      <td>10.1</td>\n",
       "      <td>1.1</td>\n",
       "      <td>0.0</td>\n",
       "      <td>37.1</td>\n",
       "      <td>3.4</td>\n",
       "      <td>0.5</td>\n",
       "      <td>0.0</td>\n",
       "      <td>0.0</td>\n",
       "      <td>0.0</td>\n",
       "      <td>6.2</td>\n",
       "      <td>5.0</td>\n",
       "    </tr>\n",
       "    <tr>\n",
       "      <th>115</th>\n",
       "      <td>OMN</td>\n",
       "      <td>Oman</td>\n",
       "      <td>2000</td>\n",
       "      <td>18.1</td>\n",
       "      <td>1.0</td>\n",
       "      <td>8.3</td>\n",
       "      <td>2.8</td>\n",
       "      <td>0.0</td>\n",
       "      <td>25.2</td>\n",
       "      <td>11.1</td>\n",
       "      <td>2.2</td>\n",
       "      <td>0.0</td>\n",
       "      <td>0.4</td>\n",
       "      <td>0.0</td>\n",
       "      <td>9.4</td>\n",
       "      <td>0.9</td>\n",
       "    </tr>\n",
       "    <tr>\n",
       "      <th>116</th>\n",
       "      <td>POL</td>\n",
       "      <td>Poland</td>\n",
       "      <td>2000</td>\n",
       "      <td>25.9</td>\n",
       "      <td>0.0</td>\n",
       "      <td>9.2</td>\n",
       "      <td>5.8</td>\n",
       "      <td>0.0</td>\n",
       "      <td>36.3</td>\n",
       "      <td>5.0</td>\n",
       "      <td>0.2</td>\n",
       "      <td>0.0</td>\n",
       "      <td>0.0</td>\n",
       "      <td>0.0</td>\n",
       "      <td>6.1</td>\n",
       "      <td>1.1</td>\n",
       "    </tr>\n",
       "    <tr>\n",
       "      <th>117</th>\n",
       "      <td>PRT</td>\n",
       "      <td>Portugal</td>\n",
       "      <td>2000</td>\n",
       "      <td>18.3</td>\n",
       "      <td>0.1</td>\n",
       "      <td>6.4</td>\n",
       "      <td>2.4</td>\n",
       "      <td>0.0</td>\n",
       "      <td>31.5</td>\n",
       "      <td>3.7</td>\n",
       "      <td>0.2</td>\n",
       "      <td>0.2</td>\n",
       "      <td>0.2</td>\n",
       "      <td>0.0</td>\n",
       "      <td>9.5</td>\n",
       "      <td>4.4</td>\n",
       "    </tr>\n",
       "    <tr>\n",
       "      <th>118</th>\n",
       "      <td>QAT</td>\n",
       "      <td>Qatar</td>\n",
       "      <td>2000</td>\n",
       "      <td>25.0</td>\n",
       "      <td>0.7</td>\n",
       "      <td>9.1</td>\n",
       "      <td>2.6</td>\n",
       "      <td>0.0</td>\n",
       "      <td>25.5</td>\n",
       "      <td>5.2</td>\n",
       "      <td>0.8</td>\n",
       "      <td>0.0</td>\n",
       "      <td>0.1</td>\n",
       "      <td>0.0</td>\n",
       "      <td>9.8</td>\n",
       "      <td>0.8</td>\n",
       "    </tr>\n",
       "    <tr>\n",
       "      <th>119</th>\n",
       "      <td>KNA</td>\n",
       "      <td>Saint Kitts &amp; Nevis</td>\n",
       "      <td>2000</td>\n",
       "      <td>35.1</td>\n",
       "      <td>0.0</td>\n",
       "      <td>19.1</td>\n",
       "      <td>3.7</td>\n",
       "      <td>0.0</td>\n",
       "      <td>12.3</td>\n",
       "      <td>2.6</td>\n",
       "      <td>2.6</td>\n",
       "      <td>0.0</td>\n",
       "      <td>0.0</td>\n",
       "      <td>0.0</td>\n",
       "      <td>1.7</td>\n",
       "      <td>0.0</td>\n",
       "    </tr>\n",
       "    <tr>\n",
       "      <th>120</th>\n",
       "      <td>LCA</td>\n",
       "      <td>Saint Lucia</td>\n",
       "      <td>2000</td>\n",
       "      <td>30.9</td>\n",
       "      <td>0.0</td>\n",
       "      <td>10.4</td>\n",
       "      <td>10.5</td>\n",
       "      <td>0.0</td>\n",
       "      <td>13.7</td>\n",
       "      <td>4.0</td>\n",
       "      <td>2.3</td>\n",
       "      <td>0.0</td>\n",
       "      <td>2.2</td>\n",
       "      <td>0.0</td>\n",
       "      <td>5.7</td>\n",
       "      <td>0.8</td>\n",
       "    </tr>\n",
       "    <tr>\n",
       "      <th>121</th>\n",
       "      <td>SMR</td>\n",
       "      <td>San Marino</td>\n",
       "      <td>2000</td>\n",
       "      <td>3.3</td>\n",
       "      <td>0.0</td>\n",
       "      <td>4.1</td>\n",
       "      <td>0.0</td>\n",
       "      <td>0.0</td>\n",
       "      <td>30.5</td>\n",
       "      <td>5.2</td>\n",
       "      <td>0.2</td>\n",
       "      <td>0.0</td>\n",
       "      <td>0.0</td>\n",
       "      <td>0.0</td>\n",
       "      <td>18.8</td>\n",
       "      <td>3.0</td>\n",
       "    </tr>\n",
       "    <tr>\n",
       "      <th>122</th>\n",
       "      <td>SAU</td>\n",
       "      <td>Saudi Arabia</td>\n",
       "      <td>2000</td>\n",
       "      <td>22.9</td>\n",
       "      <td>0.8</td>\n",
       "      <td>10.4</td>\n",
       "      <td>3.9</td>\n",
       "      <td>0.0</td>\n",
       "      <td>21.4</td>\n",
       "      <td>9.8</td>\n",
       "      <td>2.6</td>\n",
       "      <td>0.0</td>\n",
       "      <td>0.0</td>\n",
       "      <td>0.1</td>\n",
       "      <td>9.0</td>\n",
       "      <td>0.8</td>\n",
       "    </tr>\n",
       "    <tr>\n",
       "      <th>123</th>\n",
       "      <td>SGP</td>\n",
       "      <td>Singapore</td>\n",
       "      <td>2000</td>\n",
       "      <td>20.3</td>\n",
       "      <td>0.0</td>\n",
       "      <td>3.6</td>\n",
       "      <td>1.7</td>\n",
       "      <td>0.0</td>\n",
       "      <td>33.1</td>\n",
       "      <td>8.8</td>\n",
       "      <td>0.0</td>\n",
       "      <td>0.0</td>\n",
       "      <td>0.0</td>\n",
       "      <td>0.0</td>\n",
       "      <td>6.3</td>\n",
       "      <td>4.0</td>\n",
       "    </tr>\n",
       "    <tr>\n",
       "      <th>124</th>\n",
       "      <td>SVK</td>\n",
       "      <td>Slovakia</td>\n",
       "      <td>2000</td>\n",
       "      <td>31.4</td>\n",
       "      <td>0.0</td>\n",
       "      <td>4.9</td>\n",
       "      <td>1.5</td>\n",
       "      <td>0.0</td>\n",
       "      <td>27.9</td>\n",
       "      <td>11.4</td>\n",
       "      <td>1.3</td>\n",
       "      <td>0.0</td>\n",
       "      <td>0.0</td>\n",
       "      <td>0.0</td>\n",
       "      <td>5.2</td>\n",
       "      <td>1.5</td>\n",
       "    </tr>\n",
       "    <tr>\n",
       "      <th>125</th>\n",
       "      <td>SVN</td>\n",
       "      <td>Slovenia</td>\n",
       "      <td>2000</td>\n",
       "      <td>32.2</td>\n",
       "      <td>0.0</td>\n",
       "      <td>7.9</td>\n",
       "      <td>4.9</td>\n",
       "      <td>0.0</td>\n",
       "      <td>38.6</td>\n",
       "      <td>0.0</td>\n",
       "      <td>0.0</td>\n",
       "      <td>0.0</td>\n",
       "      <td>0.0</td>\n",
       "      <td>0.0</td>\n",
       "      <td>6.6</td>\n",
       "      <td>0.0</td>\n",
       "    </tr>\n",
       "    <tr>\n",
       "      <th>126</th>\n",
       "      <td>ESP</td>\n",
       "      <td>Spain</td>\n",
       "      <td>2000</td>\n",
       "      <td>22.8</td>\n",
       "      <td>0.1</td>\n",
       "      <td>8.0</td>\n",
       "      <td>5.2</td>\n",
       "      <td>0.0</td>\n",
       "      <td>34.9</td>\n",
       "      <td>2.0</td>\n",
       "      <td>0.2</td>\n",
       "      <td>0.0</td>\n",
       "      <td>0.1</td>\n",
       "      <td>0.0</td>\n",
       "      <td>5.5</td>\n",
       "      <td>2.9</td>\n",
       "    </tr>\n",
       "    <tr>\n",
       "      <th>127</th>\n",
       "      <td>VCT</td>\n",
       "      <td>St Vincent &amp; the Grenadines</td>\n",
       "      <td>2000</td>\n",
       "      <td>35.8</td>\n",
       "      <td>0.0</td>\n",
       "      <td>11.2</td>\n",
       "      <td>3.5</td>\n",
       "      <td>0.0</td>\n",
       "      <td>16.1</td>\n",
       "      <td>3.3</td>\n",
       "      <td>3.4</td>\n",
       "      <td>0.0</td>\n",
       "      <td>3.2</td>\n",
       "      <td>0.0</td>\n",
       "      <td>6.8</td>\n",
       "      <td>1.1</td>\n",
       "    </tr>\n",
       "    <tr>\n",
       "      <th>128</th>\n",
       "      <td>SWE</td>\n",
       "      <td>Sweden</td>\n",
       "      <td>2000</td>\n",
       "      <td>16.5</td>\n",
       "      <td>0.4</td>\n",
       "      <td>9.0</td>\n",
       "      <td>4.8</td>\n",
       "      <td>0.0</td>\n",
       "      <td>45.1</td>\n",
       "      <td>1.8</td>\n",
       "      <td>0.0</td>\n",
       "      <td>0.0</td>\n",
       "      <td>0.0</td>\n",
       "      <td>0.0</td>\n",
       "      <td>4.2</td>\n",
       "      <td>1.3</td>\n",
       "    </tr>\n",
       "    <tr>\n",
       "      <th>129</th>\n",
       "      <td>CHE</td>\n",
       "      <td>Switzerland</td>\n",
       "      <td>2000</td>\n",
       "      <td>25.8</td>\n",
       "      <td>0.0</td>\n",
       "      <td>8.1</td>\n",
       "      <td>2.7</td>\n",
       "      <td>0.0</td>\n",
       "      <td>30.9</td>\n",
       "      <td>1.5</td>\n",
       "      <td>0.3</td>\n",
       "      <td>0.0</td>\n",
       "      <td>0.0</td>\n",
       "      <td>0.0</td>\n",
       "      <td>8.0</td>\n",
       "      <td>2.0</td>\n",
       "    </tr>\n",
       "    <tr>\n",
       "      <th>130</th>\n",
       "      <td>TZA</td>\n",
       "      <td>Tanzania</td>\n",
       "      <td>2000</td>\n",
       "      <td>7.9</td>\n",
       "      <td>0.8</td>\n",
       "      <td>9.2</td>\n",
       "      <td>4.5</td>\n",
       "      <td>0.4</td>\n",
       "      <td>3.3</td>\n",
       "      <td>18.0</td>\n",
       "      <td>13.6</td>\n",
       "      <td>12.7</td>\n",
       "      <td>9.9</td>\n",
       "      <td>2.0</td>\n",
       "      <td>3.9</td>\n",
       "      <td>3.6</td>\n",
       "    </tr>\n",
       "    <tr>\n",
       "      <th>131</th>\n",
       "      <td>TTO</td>\n",
       "      <td>Trinidad &amp; Tobago</td>\n",
       "      <td>2000</td>\n",
       "      <td>37.5</td>\n",
       "      <td>0.0</td>\n",
       "      <td>26.6</td>\n",
       "      <td>2.8</td>\n",
       "      <td>0.0</td>\n",
       "      <td>12.6</td>\n",
       "      <td>3.2</td>\n",
       "      <td>1.0</td>\n",
       "      <td>0.0</td>\n",
       "      <td>3.0</td>\n",
       "      <td>0.0</td>\n",
       "      <td>2.5</td>\n",
       "      <td>1.2</td>\n",
       "    </tr>\n",
       "    <tr>\n",
       "      <th>132</th>\n",
       "      <td>ARE</td>\n",
       "      <td>United Arab Emirates</td>\n",
       "      <td>2000</td>\n",
       "      <td>25.2</td>\n",
       "      <td>0.9</td>\n",
       "      <td>9.0</td>\n",
       "      <td>2.2</td>\n",
       "      <td>0.0</td>\n",
       "      <td>26.3</td>\n",
       "      <td>5.4</td>\n",
       "      <td>0.8</td>\n",
       "      <td>0.0</td>\n",
       "      <td>0.0</td>\n",
       "      <td>0.0</td>\n",
       "      <td>8.7</td>\n",
       "      <td>0.8</td>\n",
       "    </tr>\n",
       "    <tr>\n",
       "      <th>133</th>\n",
       "      <td>GBR</td>\n",
       "      <td>United Kingdom</td>\n",
       "      <td>2000</td>\n",
       "      <td>35.0</td>\n",
       "      <td>0.1</td>\n",
       "      <td>6.2</td>\n",
       "      <td>2.7</td>\n",
       "      <td>0.0</td>\n",
       "      <td>23.7</td>\n",
       "      <td>4.1</td>\n",
       "      <td>1.3</td>\n",
       "      <td>0.0</td>\n",
       "      <td>0.1</td>\n",
       "      <td>0.0</td>\n",
       "      <td>5.0</td>\n",
       "      <td>3.0</td>\n",
       "    </tr>\n",
       "    <tr>\n",
       "      <th>134</th>\n",
       "      <td>USA</td>\n",
       "      <td>United States of America</td>\n",
       "      <td>2000</td>\n",
       "      <td>27.4</td>\n",
       "      <td>0.0</td>\n",
       "      <td>4.8</td>\n",
       "      <td>2.7</td>\n",
       "      <td>0.0</td>\n",
       "      <td>25.3</td>\n",
       "      <td>3.1</td>\n",
       "      <td>2.0</td>\n",
       "      <td>0.0</td>\n",
       "      <td>0.1</td>\n",
       "      <td>0.0</td>\n",
       "      <td>11.4</td>\n",
       "      <td>0.9</td>\n",
       "    </tr>\n",
       "    <tr>\n",
       "      <th>135</th>\n",
       "      <td>URY</td>\n",
       "      <td>Uruguay</td>\n",
       "      <td>2000</td>\n",
       "      <td>21.9</td>\n",
       "      <td>0.0</td>\n",
       "      <td>7.4</td>\n",
       "      <td>6.5</td>\n",
       "      <td>0.0</td>\n",
       "      <td>26.0</td>\n",
       "      <td>8.8</td>\n",
       "      <td>3.1</td>\n",
       "      <td>0.0</td>\n",
       "      <td>0.4</td>\n",
       "      <td>0.0</td>\n",
       "      <td>7.4</td>\n",
       "      <td>1.2</td>\n",
       "    </tr>\n",
       "  </tbody>\n",
       "</table>\n",
       "<p>136 rows × 16 columns</p>\n",
       "</div>"
      ],
      "text/plain": [
       "    ISO_Code                     CountryName  Year  Preterm  Pertussis  \\\n",
       "0        AND                         Andorra  2015     24.3        0.0   \n",
       "1        ATG               Antigua & Barbuda  2015     26.5        0.0   \n",
       "2        AUS                       Australia  2015     19.7        0.1   \n",
       "3        AUT                         Austria  2015     23.5        0.0   \n",
       "4        BHS                         Bahamas  2015     28.2        0.0   \n",
       "5        BHR                         Bahrain  2015     21.9        0.0   \n",
       "6        BRB                        Barbados  2015     19.1        0.0   \n",
       "7        BEL                         Belgium  2015     16.3        0.3   \n",
       "8        BRN                          Brunei  2015     18.1        0.0   \n",
       "9        CAN                          Canada  2015     27.1        0.2   \n",
       "10       CPV                      Cape Verde  2015     20.9        0.7   \n",
       "11       CHL                           Chile  2015     26.5        0.5   \n",
       "12       COD                        Congo DR  2015     12.6        1.0   \n",
       "13       COK                    Cook Islands  2015     28.2        0.0   \n",
       "14       HRV                         Croatia  2015     15.6        0.0   \n",
       "15       CYP                          Cyprus  2015     24.8        1.2   \n",
       "16       CZE                  Czech Republic  2015     25.9        0.0   \n",
       "17       DNK                         Denmark  2015     38.4        0.0   \n",
       "18       GNQ               Equatorial Guinea  2015     13.1        1.3   \n",
       "19       EST                         Estonia  2015     10.8        0.0   \n",
       "20       FSM  Federated States of Micronesia  2015     19.5        0.0   \n",
       "21       FIN                         Finland  2015     20.0        0.0   \n",
       "22       FRA                          France  2015     17.6        0.0   \n",
       "23       DEU                         Germany  2015     28.0        0.0   \n",
       "24       GRC                          Greece  2015     34.0        0.0   \n",
       "25       HND                        Honduras  2015     19.5        1.1   \n",
       "26       ISL                         Iceland  2015     28.8        0.0   \n",
       "27       IRL                         Ireland  2015     24.7        0.0   \n",
       "28       ISR                          Israel  2015     21.5        0.0   \n",
       "29       ITA                           Italy  2015     26.2        0.0   \n",
       "..       ...                             ...   ...      ...        ...   \n",
       "106      MWI                          Malawi  2000      7.5        0.6   \n",
       "107      MLT                           Malta  2000     36.6        0.0   \n",
       "108      MDA                         Moldova  2000      5.9        0.0   \n",
       "109      MCO                          Monaco  2000     38.8        0.0   \n",
       "110      NRU                           Nauru  2000     22.1        0.0   \n",
       "111      NLD                     Netherlands  2000     21.2        0.0   \n",
       "112      NZL                     New Zealand  2000     22.4        0.4   \n",
       "113      NIU                            Niue  2000      4.8        0.0   \n",
       "114      NOR                          Norway  2000     12.3        0.0   \n",
       "115      OMN                            Oman  2000     18.1        1.0   \n",
       "116      POL                          Poland  2000     25.9        0.0   \n",
       "117      PRT                        Portugal  2000     18.3        0.1   \n",
       "118      QAT                           Qatar  2000     25.0        0.7   \n",
       "119      KNA             Saint Kitts & Nevis  2000     35.1        0.0   \n",
       "120      LCA                     Saint Lucia  2000     30.9        0.0   \n",
       "121      SMR                      San Marino  2000      3.3        0.0   \n",
       "122      SAU                    Saudi Arabia  2000     22.9        0.8   \n",
       "123      SGP                       Singapore  2000     20.3        0.0   \n",
       "124      SVK                        Slovakia  2000     31.4        0.0   \n",
       "125      SVN                        Slovenia  2000     32.2        0.0   \n",
       "126      ESP                           Spain  2000     22.8        0.1   \n",
       "127      VCT     St Vincent & the Grenadines  2000     35.8        0.0   \n",
       "128      SWE                          Sweden  2000     16.5        0.4   \n",
       "129      CHE                     Switzerland  2000     25.8        0.0   \n",
       "130      TZA                        Tanzania  2000      7.9        0.8   \n",
       "131      TTO               Trinidad & Tobago  2000     37.5        0.0   \n",
       "132      ARE            United Arab Emirates  2000     25.2        0.9   \n",
       "133      GBR                  United Kingdom  2000     35.0        0.1   \n",
       "134      USA        United States of America  2000     27.4        0.0   \n",
       "135      URY                         Uruguay  2000     21.9        0.0   \n",
       "\n",
       "     Intrapartum  Sepsis  Tetanus  Congenital  Pneumonia  Diarrhoea  Malaria  \\\n",
       "0            7.4     2.9      0.0        36.0        2.7        0.1      0.0   \n",
       "1           14.2     0.0      0.0        21.6        3.2        0.0      0.0   \n",
       "2           10.4     1.2      0.0        28.0        2.7        0.3      0.1   \n",
       "3            6.5     1.6      0.0        33.6        1.5        0.4      0.0   \n",
       "4            8.3     3.9      0.0        11.7       13.0        0.6      0.0   \n",
       "5            2.9     0.6      0.0        36.1        2.3        0.4      0.0   \n",
       "6           12.7    13.1      0.0        18.8        2.6        0.0      0.0   \n",
       "7            9.1     2.0      0.0        29.4        1.6        0.1      0.0   \n",
       "8            8.7     8.0      0.0        25.2        3.7        2.3      0.0   \n",
       "9            9.2     3.2      0.0        31.4        2.1        0.3      0.0   \n",
       "10           8.5     4.5      0.4        20.9       13.7        5.3      0.0   \n",
       "11           4.2     2.7      0.0        39.9        3.5        0.1      0.0   \n",
       "12           9.9     5.0      0.4         4.8       15.2       10.5     11.9   \n",
       "13          11.2     3.8      0.0        29.0        4.8        0.7      0.0   \n",
       "14           7.2     3.4      0.0        27.3        2.7        0.0      0.0   \n",
       "15           8.4     3.3      0.0        35.8        2.6        0.2      0.0   \n",
       "16          10.1     4.6      0.0        22.6        6.0        1.0      0.0   \n",
       "17           8.3     1.4      0.0        24.7        1.2        0.6      0.0   \n",
       "18          11.3     4.4      0.5         6.1       15.8        7.5      8.6   \n",
       "19          12.4     8.3      0.0        28.0        5.6        0.5      0.0   \n",
       "20          13.8     7.0      0.2        12.4       14.6        6.2      0.0   \n",
       "21           9.0     2.8      0.0        31.9        2.6        0.0      0.0   \n",
       "22          10.1     3.0      0.0        26.8        1.8        1.2      0.0   \n",
       "23           6.8     2.1      0.0        31.2        1.9        0.4      0.0   \n",
       "24           5.4     0.5      0.0        43.6        3.3        0.0      0.0   \n",
       "25           7.7     7.8      0.6        18.9       11.2        7.8      0.0   \n",
       "26           4.5     7.3      0.0        14.5        0.0        0.0      0.0   \n",
       "27           6.6     2.3      0.0        43.1        2.0        0.3      0.0   \n",
       "28           3.9     2.7      0.0        35.7        1.8        0.5      0.0   \n",
       "29           7.5     3.4      0.0        26.9        1.5        0.2      0.0   \n",
       "..           ...     ...      ...         ...        ...        ...      ...   \n",
       "106          7.0     3.8      0.3         2.9       16.2       13.9     15.7   \n",
       "107          6.7     3.1      0.0        20.6        1.5        0.0      0.0   \n",
       "108         13.5     8.2      0.0        25.7       26.3        1.4      0.0   \n",
       "109         13.0     4.0      0.0        32.4        0.4        0.0      0.0   \n",
       "110         13.9     6.5      0.5        10.9       16.4        8.9      0.0   \n",
       "111         11.8     3.3      0.0        35.6        2.3        0.0      0.0   \n",
       "112          6.4     1.1      0.0        28.8        5.7        0.4      0.0   \n",
       "113          2.6     0.0      0.0        21.4       20.9        4.0      0.0   \n",
       "114         10.1     1.1      0.0        37.1        3.4        0.5      0.0   \n",
       "115          8.3     2.8      0.0        25.2       11.1        2.2      0.0   \n",
       "116          9.2     5.8      0.0        36.3        5.0        0.2      0.0   \n",
       "117          6.4     2.4      0.0        31.5        3.7        0.2      0.2   \n",
       "118          9.1     2.6      0.0        25.5        5.2        0.8      0.0   \n",
       "119         19.1     3.7      0.0        12.3        2.6        2.6      0.0   \n",
       "120         10.4    10.5      0.0        13.7        4.0        2.3      0.0   \n",
       "121          4.1     0.0      0.0        30.5        5.2        0.2      0.0   \n",
       "122         10.4     3.9      0.0        21.4        9.8        2.6      0.0   \n",
       "123          3.6     1.7      0.0        33.1        8.8        0.0      0.0   \n",
       "124          4.9     1.5      0.0        27.9       11.4        1.3      0.0   \n",
       "125          7.9     4.9      0.0        38.6        0.0        0.0      0.0   \n",
       "126          8.0     5.2      0.0        34.9        2.0        0.2      0.0   \n",
       "127         11.2     3.5      0.0        16.1        3.3        3.4      0.0   \n",
       "128          9.0     4.8      0.0        45.1        1.8        0.0      0.0   \n",
       "129          8.1     2.7      0.0        30.9        1.5        0.3      0.0   \n",
       "130          9.2     4.5      0.4         3.3       18.0       13.6     12.7   \n",
       "131         26.6     2.8      0.0        12.6        3.2        1.0      0.0   \n",
       "132          9.0     2.2      0.0        26.3        5.4        0.8      0.0   \n",
       "133          6.2     2.7      0.0        23.7        4.1        1.3      0.0   \n",
       "134          4.8     2.7      0.0        25.3        3.1        2.0      0.0   \n",
       "135          7.4     6.5      0.0        26.0        8.8        3.1      0.0   \n",
       "\n",
       "     Aids  Measles  Injury  Meningitis  \n",
       "0     0.0      0.0     6.1         0.8  \n",
       "1     2.6      0.0     4.5         0.0  \n",
       "2     0.0      0.0     7.7         0.9  \n",
       "3     0.1      0.0     4.9         1.8  \n",
       "4     0.9      0.0     9.9         0.6  \n",
       "5     0.4      0.0     5.6         1.2  \n",
       "6     0.0      0.0     6.6         0.0  \n",
       "7     0.0      0.0     9.7         1.6  \n",
       "8     0.0      0.0     2.8         0.3  \n",
       "9     0.0      0.0     6.7         1.0  \n",
       "10    0.7      0.0     4.8         1.3  \n",
       "11    0.1      0.0     6.5         0.9  \n",
       "12    1.1      3.1     5.7         2.6  \n",
       "13    0.0      0.0     5.5         0.8  \n",
       "14    0.0      0.0     4.5         2.5  \n",
       "15    0.1      0.0     5.0         0.7  \n",
       "16    0.0      0.0     8.3         1.5  \n",
       "17    0.0      0.0     4.1         0.9  \n",
       "18    4.5      9.2     4.5         1.1  \n",
       "19    0.0      0.0    16.4         2.1  \n",
       "20    0.0      0.0     7.0         1.4  \n",
       "21    0.0      0.0     7.6         0.7  \n",
       "22    0.1      0.0     7.3         1.6  \n",
       "23    0.0      0.0     5.2         0.8  \n",
       "24    0.0      0.0     4.0         0.4  \n",
       "25    1.6      0.0     3.6         1.0  \n",
       "26    0.0      0.0     2.1         0.0  \n",
       "27    0.0      0.0     3.9         1.8  \n",
       "28    0.0      0.0     6.6         1.2  \n",
       "29    0.0      0.0     3.4         0.6  \n",
       "..    ...      ...     ...         ...  \n",
       "106  14.6      0.2     3.1         3.9  \n",
       "107   0.0      0.0     4.8         5.2  \n",
       "108   0.0      0.0    10.4         1.7  \n",
       "109   0.0      0.0     0.5         0.0  \n",
       "110   0.0      0.0     5.3         1.7  \n",
       "111   0.0      0.0     5.8         2.9  \n",
       "112   0.0      0.0    12.2         4.2  \n",
       "113   0.0      0.0    13.6         4.2  \n",
       "114   0.0      0.0     6.2         5.0  \n",
       "115   0.4      0.0     9.4         0.9  \n",
       "116   0.0      0.0     6.1         1.1  \n",
       "117   0.2      0.0     9.5         4.4  \n",
       "118   0.1      0.0     9.8         0.8  \n",
       "119   0.0      0.0     1.7         0.0  \n",
       "120   2.2      0.0     5.7         0.8  \n",
       "121   0.0      0.0    18.8         3.0  \n",
       "122   0.0      0.1     9.0         0.8  \n",
       "123   0.0      0.0     6.3         4.0  \n",
       "124   0.0      0.0     5.2         1.5  \n",
       "125   0.0      0.0     6.6         0.0  \n",
       "126   0.1      0.0     5.5         2.9  \n",
       "127   3.2      0.0     6.8         1.1  \n",
       "128   0.0      0.0     4.2         1.3  \n",
       "129   0.0      0.0     8.0         2.0  \n",
       "130   9.9      2.0     3.9         3.6  \n",
       "131   3.0      0.0     2.5         1.2  \n",
       "132   0.0      0.0     8.7         0.8  \n",
       "133   0.1      0.0     5.0         3.0  \n",
       "134   0.1      0.0    11.4         0.9  \n",
       "135   0.4      0.0     7.4         1.2  \n",
       "\n",
       "[136 rows x 16 columns]"
      ]
     },
     "execution_count": 24,
     "metadata": {},
     "output_type": "execute_result"
    }
   ],
   "source": [
    "developed_countries = under_five.loc[~under_five['ISO_Code'].isin(a)]\n",
    "developed_countries.reset_index(drop=True)\n",
    " \n"
   ]
  },
  {
   "cell_type": "markdown",
   "metadata": {},
   "source": [
    "# Calculating aggr value for diseases (Developed)"
   ]
  },
  {
   "cell_type": "code",
   "execution_count": 25,
   "metadata": {
    "collapsed": false,
    "scrolled": true
   },
   "outputs": [
    {
     "data": {
      "text/plain": [
       "23.030882352941184"
      ]
     },
     "execution_count": 25,
     "metadata": {},
     "output_type": "execute_result"
    }
   ],
   "source": [
    "Preterm_developed = developed_countries['Preterm']\n",
    "Preterm_developed = Preterm_developed.mean()\n",
    "Preterm_developed"
   ]
  },
  {
   "cell_type": "code",
   "execution_count": 26,
   "metadata": {
    "collapsed": false
   },
   "outputs": [
    {
     "data": {
      "text/plain": [
       "9.029411764705884"
      ]
     },
     "execution_count": 26,
     "metadata": {},
     "output_type": "execute_result"
    }
   ],
   "source": [
    "Intrapartum_developed = developed_countries['Intrapartum']\n",
    "Intrapartum_developed = Intrapartum_developed.mean()\n",
    "Intrapartum_developed"
   ]
  },
  {
   "cell_type": "code",
   "execution_count": 27,
   "metadata": {
    "collapsed": false
   },
   "outputs": [
    {
     "data": {
      "text/plain": [
       "3.5823529411764707"
      ]
     },
     "execution_count": 27,
     "metadata": {},
     "output_type": "execute_result"
    }
   ],
   "source": [
    "Sepsis_developed = developed_countries['Sepsis']\n",
    "Sepsis_developed = Sepsis_developed.mean()\n",
    "Sepsis_developed"
   ]
  },
  {
   "cell_type": "code",
   "execution_count": 28,
   "metadata": {
    "collapsed": false
   },
   "outputs": [
    {
     "data": {
      "text/plain": [
       "26.03088235294117"
      ]
     },
     "execution_count": 28,
     "metadata": {},
     "output_type": "execute_result"
    }
   ],
   "source": [
    "Congenital_developed = developed_countries['Congenital']\n",
    "Congenital_developed = Congenital_developed.mean()\n",
    "Congenital_developed"
   ]
  },
  {
   "cell_type": "code",
   "execution_count": 29,
   "metadata": {
    "collapsed": false
   },
   "outputs": [
    {
     "data": {
      "text/plain": [
       "6.061029411764706"
      ]
     },
     "execution_count": 29,
     "metadata": {},
     "output_type": "execute_result"
    }
   ],
   "source": [
    "Pneumonia_developed = developed_countries['Pneumonia']\n",
    "Pneumonia_developed = Pneumonia_developed.mean()\n",
    "Pneumonia_developed"
   ]
  },
  {
   "cell_type": "code",
   "execution_count": 30,
   "metadata": {
    "collapsed": false
   },
   "outputs": [
    {
     "data": {
      "text/plain": [
       "7.263970588235293"
      ]
     },
     "execution_count": 30,
     "metadata": {},
     "output_type": "execute_result"
    }
   ],
   "source": [
    "Injury_developed = developed_countries['Injury']\n",
    "Injury_developed = Injury_developed.mean()\n",
    "Injury_developed"
   ]
  },
  {
   "cell_type": "code",
   "execution_count": 31,
   "metadata": {
    "collapsed": false
   },
   "outputs": [
    {
     "data": {
      "text/plain": [
       "1.8720588235294124"
      ]
     },
     "execution_count": 31,
     "metadata": {},
     "output_type": "execute_result"
    }
   ],
   "source": [
    "Diarrhoea_developed = developed_countries['Diarrhoea']\n",
    "Diarrhoea_developed = Diarrhoea_developed.mean()\n",
    "Diarrhoea_developed"
   ]
  },
  {
   "cell_type": "markdown",
   "metadata": {},
   "source": [
    "# Calculating aggr value for diseases (developing)"
   ]
  },
  {
   "cell_type": "code",
   "execution_count": 32,
   "metadata": {
    "collapsed": false
   },
   "outputs": [
    {
     "data": {
      "text/plain": [
       "18.154365079365085"
      ]
     },
     "execution_count": 32,
     "metadata": {},
     "output_type": "execute_result"
    }
   ],
   "source": [
    "Preterm_developing = developing_countries['Preterm']\n",
    "Preterm_developing = Preterm_developing.mean()\n",
    "Preterm_developing"
   ]
  },
  {
   "cell_type": "code",
   "execution_count": 33,
   "metadata": {
    "collapsed": false
   },
   "outputs": [
    {
     "data": {
      "text/plain": [
       "10.483730158730165"
      ]
     },
     "execution_count": 33,
     "metadata": {},
     "output_type": "execute_result"
    }
   ],
   "source": [
    "Intrapartum_developing = developing_countries['Intrapartum']\n",
    "Intrapartum_developing = Intrapartum_developing.mean()\n",
    "Intrapartum_developing"
   ]
  },
  {
   "cell_type": "code",
   "execution_count": 34,
   "metadata": {
    "collapsed": false
   },
   "outputs": [
    {
     "data": {
      "text/plain": [
       "5.587301587301585"
      ]
     },
     "execution_count": 34,
     "metadata": {},
     "output_type": "execute_result"
    }
   ],
   "source": [
    "Sepsis_developing = developing_countries['Sepsis']\n",
    "Sepsis_developing = Sepsis_developing.mean()\n",
    "Sepsis_developing"
   ]
  },
  {
   "cell_type": "code",
   "execution_count": 35,
   "metadata": {
    "collapsed": false
   },
   "outputs": [
    {
     "data": {
      "text/plain": [
       "12.968650793650797"
      ]
     },
     "execution_count": 35,
     "metadata": {},
     "output_type": "execute_result"
    }
   ],
   "source": [
    "Congenital_developing = developing_countries['Congenital']\n",
    "Congenital_developing = Congenital_developing.mean()\n",
    "Congenital_developing"
   ]
  },
  {
   "cell_type": "code",
   "execution_count": 36,
   "metadata": {
    "collapsed": false
   },
   "outputs": [
    {
     "data": {
      "text/plain": [
       "14.255555555555555"
      ]
     },
     "execution_count": 36,
     "metadata": {},
     "output_type": "execute_result"
    }
   ],
   "source": [
    "Pneumonia_developing = developing_countries['Pneumonia']\n",
    "Pneumonia_developing = Pneumonia_developing.mean()\n",
    "Pneumonia_developing"
   ]
  },
  {
   "cell_type": "code",
   "execution_count": 37,
   "metadata": {
    "collapsed": false
   },
   "outputs": [
    {
     "data": {
      "text/plain": [
       "6.099999999999998"
      ]
     },
     "execution_count": 37,
     "metadata": {},
     "output_type": "execute_result"
    }
   ],
   "source": [
    "Injury_developing = developing_countries['Injury']\n",
    "Injury_developing = Injury_developing.mean()\n",
    "Injury_developing"
   ]
  },
  {
   "cell_type": "code",
   "execution_count": 38,
   "metadata": {
    "collapsed": false
   },
   "outputs": [
    {
     "data": {
      "text/plain": [
       "7.750000000000002"
      ]
     },
     "execution_count": 38,
     "metadata": {},
     "output_type": "execute_result"
    }
   ],
   "source": [
    "\n",
    "Diarrhoea_developing = developing_countries['Diarrhoea']\n",
    "Diarrhoea_developing = Diarrhoea_developing.mean()\n",
    "Diarrhoea_developing"
   ]
  },
  {
   "cell_type": "markdown",
   "metadata": {},
   "source": [
    "# Creating a dataframe for aggr values"
   ]
  },
  {
   "cell_type": "code",
   "execution_count": 39,
   "metadata": {
    "collapsed": false
   },
   "outputs": [],
   "source": [
    "developed={'preterm':Preterm_developed}\n",
    "developing={'preterm':Preterm_developing}"
   ]
  },
  {
   "cell_type": "code",
   "execution_count": 40,
   "metadata": {
    "collapsed": false
   },
   "outputs": [
    {
     "data": {
      "text/html": [
       "<div>\n",
       "<table border=\"1\" class=\"dataframe\">\n",
       "  <thead>\n",
       "    <tr style=\"text-align: right;\">\n",
       "      <th></th>\n",
       "      <th>Developed</th>\n",
       "    </tr>\n",
       "  </thead>\n",
       "  <tbody>\n",
       "    <tr>\n",
       "      <th>preterm</th>\n",
       "      <td>23.030882</td>\n",
       "    </tr>\n",
       "  </tbody>\n",
       "</table>\n",
       "</div>"
      ],
      "text/plain": [
       "         Developed\n",
       "preterm  23.030882"
      ]
     },
     "execution_count": 40,
     "metadata": {},
     "output_type": "execute_result"
    }
   ],
   "source": [
    "d=pd.Series(developed)\n",
    "d=pd.DataFrame(d)\n",
    "d.columns=['Developed']\n",
    "d"
   ]
  },
  {
   "cell_type": "code",
   "execution_count": 41,
   "metadata": {
    "collapsed": false
   },
   "outputs": [
    {
     "data": {
      "text/html": [
       "<div>\n",
       "<table border=\"1\" class=\"dataframe\">\n",
       "  <thead>\n",
       "    <tr style=\"text-align: right;\">\n",
       "      <th></th>\n",
       "      <th>Developing</th>\n",
       "    </tr>\n",
       "  </thead>\n",
       "  <tbody>\n",
       "    <tr>\n",
       "      <th>preterm</th>\n",
       "      <td>18.154365</td>\n",
       "    </tr>\n",
       "  </tbody>\n",
       "</table>\n",
       "</div>"
      ],
      "text/plain": [
       "         Developing\n",
       "preterm   18.154365"
      ]
     },
     "execution_count": 41,
     "metadata": {},
     "output_type": "execute_result"
    }
   ],
   "source": [
    "d0 = pd.Series(developing)\n",
    "d0= pd.DataFrame(d0)\n",
    "d0.columns = ['Developing']\n",
    "d0"
   ]
  },
  {
   "cell_type": "code",
   "execution_count": 42,
   "metadata": {
    "collapsed": false
   },
   "outputs": [
    {
     "data": {
      "text/html": [
       "<div>\n",
       "<table border=\"1\" class=\"dataframe\">\n",
       "  <thead>\n",
       "    <tr style=\"text-align: right;\">\n",
       "      <th></th>\n",
       "      <th>Developed</th>\n",
       "      <th>Developing</th>\n",
       "    </tr>\n",
       "  </thead>\n",
       "  <tbody>\n",
       "    <tr>\n",
       "      <th>preterm</th>\n",
       "      <td>23.030882</td>\n",
       "      <td>18.154365</td>\n",
       "    </tr>\n",
       "  </tbody>\n",
       "</table>\n",
       "</div>"
      ],
      "text/plain": [
       "         Developed  Developing\n",
       "preterm  23.030882   18.154365"
      ]
     },
     "execution_count": 42,
     "metadata": {},
     "output_type": "execute_result"
    }
   ],
   "source": [
    "res = pd.concat([d, d0], axis=1, join_axes=[d.index])\n",
    "res"
   ]
  },
  {
   "cell_type": "code",
   "execution_count": 43,
   "metadata": {
    "collapsed": false
   },
   "outputs": [],
   "source": [
    "developed={'Intrapartum':Intrapartum_developed}\n",
    "developing={'Intrapartum':Intrapartum_developing}"
   ]
  },
  {
   "cell_type": "code",
   "execution_count": 44,
   "metadata": {
    "collapsed": false
   },
   "outputs": [
    {
     "data": {
      "text/html": [
       "<div>\n",
       "<table border=\"1\" class=\"dataframe\">\n",
       "  <thead>\n",
       "    <tr style=\"text-align: right;\">\n",
       "      <th></th>\n",
       "      <th>Developed</th>\n",
       "    </tr>\n",
       "  </thead>\n",
       "  <tbody>\n",
       "    <tr>\n",
       "      <th>Intrapartum</th>\n",
       "      <td>9.029412</td>\n",
       "    </tr>\n",
       "  </tbody>\n",
       "</table>\n",
       "</div>"
      ],
      "text/plain": [
       "             Developed\n",
       "Intrapartum   9.029412"
      ]
     },
     "execution_count": 44,
     "metadata": {},
     "output_type": "execute_result"
    }
   ],
   "source": [
    "d1=pd.Series(developed)\n",
    "d1=pd.DataFrame(d1)\n",
    "d1.columns=['Developed']\n",
    "d1"
   ]
  },
  {
   "cell_type": "code",
   "execution_count": 45,
   "metadata": {
    "collapsed": false
   },
   "outputs": [
    {
     "data": {
      "text/html": [
       "<div>\n",
       "<table border=\"1\" class=\"dataframe\">\n",
       "  <thead>\n",
       "    <tr style=\"text-align: right;\">\n",
       "      <th></th>\n",
       "      <th>Developing</th>\n",
       "    </tr>\n",
       "  </thead>\n",
       "  <tbody>\n",
       "    <tr>\n",
       "      <th>Intrapartum</th>\n",
       "      <td>10.48373</td>\n",
       "    </tr>\n",
       "  </tbody>\n",
       "</table>\n",
       "</div>"
      ],
      "text/plain": [
       "             Developing\n",
       "Intrapartum    10.48373"
      ]
     },
     "execution_count": 45,
     "metadata": {},
     "output_type": "execute_result"
    }
   ],
   "source": [
    "d11 = pd.Series(developing)\n",
    "d11 = pd.DataFrame(d11)\n",
    "d11.columns = ['Developing']\n",
    "d11"
   ]
  },
  {
   "cell_type": "code",
   "execution_count": 46,
   "metadata": {
    "collapsed": false
   },
   "outputs": [
    {
     "data": {
      "text/html": [
       "<div>\n",
       "<table border=\"1\" class=\"dataframe\">\n",
       "  <thead>\n",
       "    <tr style=\"text-align: right;\">\n",
       "      <th></th>\n",
       "      <th>Developed</th>\n",
       "      <th>Developing</th>\n",
       "    </tr>\n",
       "  </thead>\n",
       "  <tbody>\n",
       "    <tr>\n",
       "      <th>Intrapartum</th>\n",
       "      <td>9.029412</td>\n",
       "      <td>10.48373</td>\n",
       "    </tr>\n",
       "  </tbody>\n",
       "</table>\n",
       "</div>"
      ],
      "text/plain": [
       "             Developed  Developing\n",
       "Intrapartum   9.029412    10.48373"
      ]
     },
     "execution_count": 46,
     "metadata": {},
     "output_type": "execute_result"
    }
   ],
   "source": [
    "res1 = pd.concat([d1, d11], axis=1, join_axes=[d1.index])\n",
    "res1"
   ]
  },
  {
   "cell_type": "code",
   "execution_count": 47,
   "metadata": {
    "collapsed": true
   },
   "outputs": [],
   "source": [
    "developed={'Sepsis':Sepsis_developed}\n",
    "developing={'Sepsis':Sepsis_developing}"
   ]
  },
  {
   "cell_type": "code",
   "execution_count": 48,
   "metadata": {
    "collapsed": false
   },
   "outputs": [
    {
     "data": {
      "text/html": [
       "<div>\n",
       "<table border=\"1\" class=\"dataframe\">\n",
       "  <thead>\n",
       "    <tr style=\"text-align: right;\">\n",
       "      <th></th>\n",
       "      <th>Developed</th>\n",
       "    </tr>\n",
       "  </thead>\n",
       "  <tbody>\n",
       "    <tr>\n",
       "      <th>Sepsis</th>\n",
       "      <td>3.582353</td>\n",
       "    </tr>\n",
       "  </tbody>\n",
       "</table>\n",
       "</div>"
      ],
      "text/plain": [
       "        Developed\n",
       "Sepsis   3.582353"
      ]
     },
     "execution_count": 48,
     "metadata": {},
     "output_type": "execute_result"
    }
   ],
   "source": [
    "d2=pd.Series(developed)\n",
    "d2=pd.DataFrame(d2)\n",
    "d2.columns=['Developed']\n",
    "d2"
   ]
  },
  {
   "cell_type": "code",
   "execution_count": 49,
   "metadata": {
    "collapsed": false
   },
   "outputs": [
    {
     "data": {
      "text/html": [
       "<div>\n",
       "<table border=\"1\" class=\"dataframe\">\n",
       "  <thead>\n",
       "    <tr style=\"text-align: right;\">\n",
       "      <th></th>\n",
       "      <th>Developing</th>\n",
       "    </tr>\n",
       "  </thead>\n",
       "  <tbody>\n",
       "    <tr>\n",
       "      <th>Sepsis</th>\n",
       "      <td>5.587302</td>\n",
       "    </tr>\n",
       "  </tbody>\n",
       "</table>\n",
       "</div>"
      ],
      "text/plain": [
       "        Developing\n",
       "Sepsis    5.587302"
      ]
     },
     "execution_count": 49,
     "metadata": {},
     "output_type": "execute_result"
    }
   ],
   "source": [
    "d22 = pd.Series(developing)\n",
    "d22 = pd.DataFrame(d22)\n",
    "d22.columns = ['Developing']\n",
    "d22"
   ]
  },
  {
   "cell_type": "code",
   "execution_count": 50,
   "metadata": {
    "collapsed": false
   },
   "outputs": [
    {
     "data": {
      "text/html": [
       "<div>\n",
       "<table border=\"1\" class=\"dataframe\">\n",
       "  <thead>\n",
       "    <tr style=\"text-align: right;\">\n",
       "      <th></th>\n",
       "      <th>Developed</th>\n",
       "      <th>Developing</th>\n",
       "    </tr>\n",
       "  </thead>\n",
       "  <tbody>\n",
       "    <tr>\n",
       "      <th>Sepsis</th>\n",
       "      <td>3.582353</td>\n",
       "      <td>5.587302</td>\n",
       "    </tr>\n",
       "  </tbody>\n",
       "</table>\n",
       "</div>"
      ],
      "text/plain": [
       "        Developed  Developing\n",
       "Sepsis   3.582353    5.587302"
      ]
     },
     "execution_count": 50,
     "metadata": {},
     "output_type": "execute_result"
    }
   ],
   "source": [
    "res2 = pd.concat([d2, d22], axis=1, join_axes=[d2.index])\n",
    "res2"
   ]
  },
  {
   "cell_type": "code",
   "execution_count": 51,
   "metadata": {
    "collapsed": false
   },
   "outputs": [],
   "source": [
    "developed={'Congenital':Congenital_developed}\n",
    "developing={'Congenital':Congenital_developing}"
   ]
  },
  {
   "cell_type": "code",
   "execution_count": 52,
   "metadata": {
    "collapsed": false
   },
   "outputs": [
    {
     "data": {
      "text/html": [
       "<div>\n",
       "<table border=\"1\" class=\"dataframe\">\n",
       "  <thead>\n",
       "    <tr style=\"text-align: right;\">\n",
       "      <th></th>\n",
       "      <th>Developed</th>\n",
       "    </tr>\n",
       "  </thead>\n",
       "  <tbody>\n",
       "    <tr>\n",
       "      <th>Congenital</th>\n",
       "      <td>26.030882</td>\n",
       "    </tr>\n",
       "  </tbody>\n",
       "</table>\n",
       "</div>"
      ],
      "text/plain": [
       "            Developed\n",
       "Congenital  26.030882"
      ]
     },
     "execution_count": 52,
     "metadata": {},
     "output_type": "execute_result"
    }
   ],
   "source": [
    "d3=pd.Series(developed)\n",
    "d3=pd.DataFrame(d3)\n",
    "d3.columns=['Developed']\n",
    "d3"
   ]
  },
  {
   "cell_type": "code",
   "execution_count": 53,
   "metadata": {
    "collapsed": false
   },
   "outputs": [
    {
     "data": {
      "text/html": [
       "<div>\n",
       "<table border=\"1\" class=\"dataframe\">\n",
       "  <thead>\n",
       "    <tr style=\"text-align: right;\">\n",
       "      <th></th>\n",
       "      <th>Developing</th>\n",
       "    </tr>\n",
       "  </thead>\n",
       "  <tbody>\n",
       "    <tr>\n",
       "      <th>Congenital</th>\n",
       "      <td>12.968651</td>\n",
       "    </tr>\n",
       "  </tbody>\n",
       "</table>\n",
       "</div>"
      ],
      "text/plain": [
       "            Developing\n",
       "Congenital   12.968651"
      ]
     },
     "execution_count": 53,
     "metadata": {},
     "output_type": "execute_result"
    }
   ],
   "source": [
    "d33 = pd.Series(developing)\n",
    "d33 = pd.DataFrame(d33)\n",
    "d33.columns = ['Developing']\n",
    "d33"
   ]
  },
  {
   "cell_type": "code",
   "execution_count": 54,
   "metadata": {
    "collapsed": false
   },
   "outputs": [
    {
     "data": {
      "text/html": [
       "<div>\n",
       "<table border=\"1\" class=\"dataframe\">\n",
       "  <thead>\n",
       "    <tr style=\"text-align: right;\">\n",
       "      <th></th>\n",
       "      <th>Developed</th>\n",
       "      <th>Developing</th>\n",
       "    </tr>\n",
       "  </thead>\n",
       "  <tbody>\n",
       "    <tr>\n",
       "      <th>Congenital</th>\n",
       "      <td>26.030882</td>\n",
       "      <td>12.968651</td>\n",
       "    </tr>\n",
       "  </tbody>\n",
       "</table>\n",
       "</div>"
      ],
      "text/plain": [
       "            Developed  Developing\n",
       "Congenital  26.030882   12.968651"
      ]
     },
     "execution_count": 54,
     "metadata": {},
     "output_type": "execute_result"
    }
   ],
   "source": [
    "res3 = pd.concat([d3, d33], axis=1, join_axes=[d3.index])\n",
    "res3"
   ]
  },
  {
   "cell_type": "code",
   "execution_count": 55,
   "metadata": {
    "collapsed": true
   },
   "outputs": [],
   "source": [
    "developed={'Pneumonia':Pneumonia_developed}\n",
    "developing={'Pneumonia':Pneumonia_developing}"
   ]
  },
  {
   "cell_type": "code",
   "execution_count": 56,
   "metadata": {
    "collapsed": false
   },
   "outputs": [
    {
     "data": {
      "text/html": [
       "<div>\n",
       "<table border=\"1\" class=\"dataframe\">\n",
       "  <thead>\n",
       "    <tr style=\"text-align: right;\">\n",
       "      <th></th>\n",
       "      <th>Developed</th>\n",
       "    </tr>\n",
       "  </thead>\n",
       "  <tbody>\n",
       "    <tr>\n",
       "      <th>Pneumonia</th>\n",
       "      <td>6.061029</td>\n",
       "    </tr>\n",
       "  </tbody>\n",
       "</table>\n",
       "</div>"
      ],
      "text/plain": [
       "           Developed\n",
       "Pneumonia   6.061029"
      ]
     },
     "execution_count": 56,
     "metadata": {},
     "output_type": "execute_result"
    }
   ],
   "source": [
    "d4=pd.Series(developed)\n",
    "d4=pd.DataFrame(d4)\n",
    "d4.columns=['Developed']\n",
    "d4"
   ]
  },
  {
   "cell_type": "code",
   "execution_count": 57,
   "metadata": {
    "collapsed": false
   },
   "outputs": [
    {
     "data": {
      "text/html": [
       "<div>\n",
       "<table border=\"1\" class=\"dataframe\">\n",
       "  <thead>\n",
       "    <tr style=\"text-align: right;\">\n",
       "      <th></th>\n",
       "      <th>Developing</th>\n",
       "    </tr>\n",
       "  </thead>\n",
       "  <tbody>\n",
       "    <tr>\n",
       "      <th>Pneumonia</th>\n",
       "      <td>14.255556</td>\n",
       "    </tr>\n",
       "  </tbody>\n",
       "</table>\n",
       "</div>"
      ],
      "text/plain": [
       "           Developing\n",
       "Pneumonia   14.255556"
      ]
     },
     "execution_count": 57,
     "metadata": {},
     "output_type": "execute_result"
    }
   ],
   "source": [
    "d44 = pd.Series(developing)\n",
    "d44 = pd.DataFrame(d44)\n",
    "d44.columns = ['Developing']\n",
    "d44"
   ]
  },
  {
   "cell_type": "code",
   "execution_count": 58,
   "metadata": {
    "collapsed": false
   },
   "outputs": [
    {
     "data": {
      "text/html": [
       "<div>\n",
       "<table border=\"1\" class=\"dataframe\">\n",
       "  <thead>\n",
       "    <tr style=\"text-align: right;\">\n",
       "      <th></th>\n",
       "      <th>Developed</th>\n",
       "      <th>Developing</th>\n",
       "    </tr>\n",
       "  </thead>\n",
       "  <tbody>\n",
       "    <tr>\n",
       "      <th>Pneumonia</th>\n",
       "      <td>6.061029</td>\n",
       "      <td>14.255556</td>\n",
       "    </tr>\n",
       "  </tbody>\n",
       "</table>\n",
       "</div>"
      ],
      "text/plain": [
       "           Developed  Developing\n",
       "Pneumonia   6.061029   14.255556"
      ]
     },
     "execution_count": 58,
     "metadata": {},
     "output_type": "execute_result"
    }
   ],
   "source": [
    "res4 = pd.concat([d4, d44], axis=1, join_axes=[d4.index])\n",
    "res4"
   ]
  },
  {
   "cell_type": "code",
   "execution_count": 59,
   "metadata": {
    "collapsed": true
   },
   "outputs": [],
   "source": [
    "developed={'Injury':Injury_developed}\n",
    "developing={'Injury':Injury_developing}"
   ]
  },
  {
   "cell_type": "code",
   "execution_count": 60,
   "metadata": {
    "collapsed": false
   },
   "outputs": [
    {
     "data": {
      "text/html": [
       "<div>\n",
       "<table border=\"1\" class=\"dataframe\">\n",
       "  <thead>\n",
       "    <tr style=\"text-align: right;\">\n",
       "      <th></th>\n",
       "      <th>Developed</th>\n",
       "    </tr>\n",
       "  </thead>\n",
       "  <tbody>\n",
       "    <tr>\n",
       "      <th>Injury</th>\n",
       "      <td>7.263971</td>\n",
       "    </tr>\n",
       "  </tbody>\n",
       "</table>\n",
       "</div>"
      ],
      "text/plain": [
       "        Developed\n",
       "Injury   7.263971"
      ]
     },
     "execution_count": 60,
     "metadata": {},
     "output_type": "execute_result"
    }
   ],
   "source": [
    "d5=pd.Series(developed)\n",
    "d5=pd.DataFrame(d5)\n",
    "d5.columns=['Developed']\n",
    "d5"
   ]
  },
  {
   "cell_type": "code",
   "execution_count": 61,
   "metadata": {
    "collapsed": false
   },
   "outputs": [
    {
     "data": {
      "text/html": [
       "<div>\n",
       "<table border=\"1\" class=\"dataframe\">\n",
       "  <thead>\n",
       "    <tr style=\"text-align: right;\">\n",
       "      <th></th>\n",
       "      <th>Developing</th>\n",
       "    </tr>\n",
       "  </thead>\n",
       "  <tbody>\n",
       "    <tr>\n",
       "      <th>Injury</th>\n",
       "      <td>6.1</td>\n",
       "    </tr>\n",
       "  </tbody>\n",
       "</table>\n",
       "</div>"
      ],
      "text/plain": [
       "        Developing\n",
       "Injury         6.1"
      ]
     },
     "execution_count": 61,
     "metadata": {},
     "output_type": "execute_result"
    }
   ],
   "source": [
    "d55 = pd.Series(developing)\n",
    "d55 = pd.DataFrame(d55)\n",
    "d55.columns = ['Developing']\n",
    "d55"
   ]
  },
  {
   "cell_type": "code",
   "execution_count": 62,
   "metadata": {
    "collapsed": false
   },
   "outputs": [
    {
     "data": {
      "text/html": [
       "<div>\n",
       "<table border=\"1\" class=\"dataframe\">\n",
       "  <thead>\n",
       "    <tr style=\"text-align: right;\">\n",
       "      <th></th>\n",
       "      <th>Developed</th>\n",
       "      <th>Developing</th>\n",
       "    </tr>\n",
       "  </thead>\n",
       "  <tbody>\n",
       "    <tr>\n",
       "      <th>Injury</th>\n",
       "      <td>7.263971</td>\n",
       "      <td>6.1</td>\n",
       "    </tr>\n",
       "  </tbody>\n",
       "</table>\n",
       "</div>"
      ],
      "text/plain": [
       "        Developed  Developing\n",
       "Injury   7.263971         6.1"
      ]
     },
     "execution_count": 62,
     "metadata": {},
     "output_type": "execute_result"
    }
   ],
   "source": [
    "res5 = pd.concat([d5, d55], axis=1, join_axes=[d5.index])\n",
    "res5"
   ]
  },
  {
   "cell_type": "code",
   "execution_count": 63,
   "metadata": {
    "collapsed": true
   },
   "outputs": [],
   "source": [
    "developed={'Diarrhoea':Diarrhoea_developed}\n",
    "developing={'Diarrhoea':Diarrhoea_developing}"
   ]
  },
  {
   "cell_type": "code",
   "execution_count": 64,
   "metadata": {
    "collapsed": false
   },
   "outputs": [
    {
     "data": {
      "text/html": [
       "<div>\n",
       "<table border=\"1\" class=\"dataframe\">\n",
       "  <thead>\n",
       "    <tr style=\"text-align: right;\">\n",
       "      <th></th>\n",
       "      <th>Developed</th>\n",
       "    </tr>\n",
       "  </thead>\n",
       "  <tbody>\n",
       "    <tr>\n",
       "      <th>Diarrhoea</th>\n",
       "      <td>1.872059</td>\n",
       "    </tr>\n",
       "  </tbody>\n",
       "</table>\n",
       "</div>"
      ],
      "text/plain": [
       "           Developed\n",
       "Diarrhoea   1.872059"
      ]
     },
     "execution_count": 64,
     "metadata": {},
     "output_type": "execute_result"
    }
   ],
   "source": [
    "d6=pd.Series(developed)\n",
    "d6=pd.DataFrame(d6)\n",
    "d6.columns=['Developed']\n",
    "d6"
   ]
  },
  {
   "cell_type": "code",
   "execution_count": 65,
   "metadata": {
    "collapsed": false
   },
   "outputs": [
    {
     "data": {
      "text/html": [
       "<div>\n",
       "<table border=\"1\" class=\"dataframe\">\n",
       "  <thead>\n",
       "    <tr style=\"text-align: right;\">\n",
       "      <th></th>\n",
       "      <th>Developing</th>\n",
       "    </tr>\n",
       "  </thead>\n",
       "  <tbody>\n",
       "    <tr>\n",
       "      <th>Diarrhoea</th>\n",
       "      <td>7.75</td>\n",
       "    </tr>\n",
       "  </tbody>\n",
       "</table>\n",
       "</div>"
      ],
      "text/plain": [
       "           Developing\n",
       "Diarrhoea        7.75"
      ]
     },
     "execution_count": 65,
     "metadata": {},
     "output_type": "execute_result"
    }
   ],
   "source": [
    "\n",
    "d66 = pd.Series(developing)\n",
    "d66 = pd.DataFrame(d66)\n",
    "d66.columns = ['Developing']\n",
    "d66"
   ]
  },
  {
   "cell_type": "code",
   "execution_count": 66,
   "metadata": {
    "collapsed": false
   },
   "outputs": [
    {
     "data": {
      "text/html": [
       "<div>\n",
       "<table border=\"1\" class=\"dataframe\">\n",
       "  <thead>\n",
       "    <tr style=\"text-align: right;\">\n",
       "      <th></th>\n",
       "      <th>Developed</th>\n",
       "      <th>Developing</th>\n",
       "    </tr>\n",
       "  </thead>\n",
       "  <tbody>\n",
       "    <tr>\n",
       "      <th>Diarrhoea</th>\n",
       "      <td>1.872059</td>\n",
       "      <td>7.75</td>\n",
       "    </tr>\n",
       "  </tbody>\n",
       "</table>\n",
       "</div>"
      ],
      "text/plain": [
       "           Developed  Developing\n",
       "Diarrhoea   1.872059        7.75"
      ]
     },
     "execution_count": 66,
     "metadata": {},
     "output_type": "execute_result"
    }
   ],
   "source": [
    "res6 = pd.concat([d6, d66], axis=1, join_axes=[d6.index])\n",
    "res6"
   ]
  },
  {
   "cell_type": "code",
   "execution_count": 67,
   "metadata": {
    "collapsed": false
   },
   "outputs": [],
   "source": [
    "frames = [res,res1,res2,res3,res4,res5,res6]"
   ]
  },
  {
   "cell_type": "code",
   "execution_count": 68,
   "metadata": {
    "collapsed": false
   },
   "outputs": [
    {
     "data": {
      "text/html": [
       "<div>\n",
       "<table border=\"1\" class=\"dataframe\">\n",
       "  <thead>\n",
       "    <tr style=\"text-align: right;\">\n",
       "      <th></th>\n",
       "      <th>Developed</th>\n",
       "      <th>Developing</th>\n",
       "    </tr>\n",
       "  </thead>\n",
       "  <tbody>\n",
       "    <tr>\n",
       "      <th>preterm</th>\n",
       "      <td>23.030882</td>\n",
       "      <td>18.154365</td>\n",
       "    </tr>\n",
       "    <tr>\n",
       "      <th>Intrapartum</th>\n",
       "      <td>9.029412</td>\n",
       "      <td>10.483730</td>\n",
       "    </tr>\n",
       "    <tr>\n",
       "      <th>Sepsis</th>\n",
       "      <td>3.582353</td>\n",
       "      <td>5.587302</td>\n",
       "    </tr>\n",
       "    <tr>\n",
       "      <th>Congenital</th>\n",
       "      <td>26.030882</td>\n",
       "      <td>12.968651</td>\n",
       "    </tr>\n",
       "    <tr>\n",
       "      <th>Pneumonia</th>\n",
       "      <td>6.061029</td>\n",
       "      <td>14.255556</td>\n",
       "    </tr>\n",
       "    <tr>\n",
       "      <th>Injury</th>\n",
       "      <td>7.263971</td>\n",
       "      <td>6.100000</td>\n",
       "    </tr>\n",
       "    <tr>\n",
       "      <th>Diarrhoea</th>\n",
       "      <td>1.872059</td>\n",
       "      <td>7.750000</td>\n",
       "    </tr>\n",
       "  </tbody>\n",
       "</table>\n",
       "</div>"
      ],
      "text/plain": [
       "             Developed  Developing\n",
       "preterm      23.030882   18.154365\n",
       "Intrapartum   9.029412   10.483730\n",
       "Sepsis        3.582353    5.587302\n",
       "Congenital   26.030882   12.968651\n",
       "Pneumonia     6.061029   14.255556\n",
       "Injury        7.263971    6.100000\n",
       "Diarrhoea     1.872059    7.750000"
      ]
     },
     "execution_count": 68,
     "metadata": {},
     "output_type": "execute_result"
    }
   ],
   "source": [
    "final_frames = pd.concat(frames)\n",
    "final_frames"
   ]
  },
  {
   "cell_type": "code",
   "execution_count": 69,
   "metadata": {
    "collapsed": false
   },
   "outputs": [
    {
     "data": {
      "text/html": [
       "<!DOCTYPE html>\n",
       "<html lang=\"en\">\n",
       "    <head>\n",
       "        <meta charset=\"utf-8\" />\n",
       "        <link href=\"https://cdnjs.cloudflare.com/ajax/libs/nvd3/1.7.0/nv.d3.min.css\" rel=\"stylesheet\" />\n",
       "        <script src=\"https://cdnjs.cloudflare.com/ajax/libs/d3/3.5.5/d3.min.js\"></script>\n",
       "        <script src=\"https://cdnjs.cloudflare.com/ajax/libs/nvd3/1.7.0/nv.d3.min.js\"></script>\n",
       "    </head>\n",
       "    <body>\n",
       "        \n",
       "    <div id=\"multibarchart\"><svg style=\"width:1100px;height:500px;\"></svg></div>\n",
       "\n",
       "\n",
       "    <script>\n",
       "\n",
       "\n",
       "\n",
       "        data_multibarchart=[{\"values\": [{\"y\": 23.030882352941184, \"x\": \"preterm\"}, {\"y\": 9.029411764705884, \"x\": \"Intrapartum\"}, {\"y\": 3.5823529411764707, \"x\": \"Sepsis\"}, {\"y\": 26.03088235294117, \"x\": \"Congenital\"}, {\"y\": 6.061029411764706, \"x\": \"Pneumonia\"}, {\"y\": 7.263970588235293, \"x\": \"Injury\"}, {\"y\": 1.8720588235294124, \"x\": \"Diarrhoea\"}], \"yAxis\": \"1\", \"key\": \"Developed\"}, {\"values\": [{\"y\": 18.154365079365085, \"x\": \"preterm\"}, {\"y\": 10.483730158730165, \"x\": \"Intrapartum\"}, {\"y\": 5.587301587301585, \"x\": \"Sepsis\"}, {\"y\": 12.968650793650797, \"x\": \"Congenital\"}, {\"y\": 14.255555555555555, \"x\": \"Pneumonia\"}, {\"y\": 6.099999999999998, \"x\": \"Injury\"}, {\"y\": 7.750000000000002, \"x\": \"Diarrhoea\"}], \"yAxis\": \"1\", \"key\": \"Developing\"}];\n",
       "\n",
       "    nv.addGraph(function() {\n",
       "        var chart = nv.models.multiBarChart();\n",
       "\n",
       "        chart.margin({top: 30, right: 60, bottom: 20, left: 60});\n",
       "\n",
       "        var datum = data_multibarchart;\n",
       "\n",
       "\n",
       "\n",
       "\n",
       "\n",
       "            chart.yAxis\n",
       "                .tickFormat(d3.format(',.2f'));\n",
       "\n",
       "\n",
       "      chart.showLegend(true);\n",
       "\n",
       "\n",
       "\n",
       "        \n",
       "\n",
       "\n",
       "        d3.select('#multibarchart svg')\n",
       "            .datum(datum)\n",
       "            .transition().duration(500)\n",
       "            .attr('width', 1100)\n",
       "            .attr('height', 500)\n",
       "            .call(chart);\n",
       "\n",
       "\n",
       "    });\n",
       "\n",
       "\n",
       "\n",
       "\n",
       "    </script>\n",
       "\n",
       "    </body>\n",
       "</html>"
      ],
      "text/plain": [
       "<IPython.core.display.HTML object>"
      ]
     },
     "metadata": {},
     "output_type": "display_data"
    }
   ],
   "source": [
    "chart = multiBarChart(width=1100, height=500, x_axis_format=None)\n",
    "causes = list(final_frames.index)\n",
    "Developed = list(final_frames.Developed)\n",
    "Developing = list(final_frames.Developing)\n",
    "chart.add_serie(name=\"Developed\", y=Developed, x=causes)\n",
    "chart.add_serie(name=\"Developing\", y=Developing, x=causes)\n",
    "chart.buildhtml()\n",
    "display(HTML(chart.htmlcontent))"
   ]
  },
  {
   "cell_type": "code",
   "execution_count": 70,
   "metadata": {
    "collapsed": false
   },
   "outputs": [],
   "source": [
    "#get_ipython().magic('matplotlib nbagg')\n",
    "#final_frames.plot(kind='barh', title='Variations of the diseases for under 5yrs of age', rot=0, color=(['g','y']),\n",
    "#                  stacked=True, figsize=(12, 6), edgecolor='b', linewidth=1, fontsize='13', )\n",
    "#plt.ylabel('<------ Cause of death ------>', fontsize=14, color='b')\n",
    "#plt.xlabel('<------ Percentage aggregated values ------>', fontsize=14, color='b')\n",
    "\n"
   ]
  },
  {
   "cell_type": "markdown",
   "metadata": {
    "collapsed": true
   },
   "source": [
    "# Divideing developed dataframe according to years"
   ]
  },
  {
   "cell_type": "markdown",
   "metadata": {},
   "source": [
    "# For 2015"
   ]
  },
  {
   "cell_type": "code",
   "execution_count": 71,
   "metadata": {
    "collapsed": false,
    "scrolled": true
   },
   "outputs": [],
   "source": [
    "developed_2015 = developed_countries.reset_index(drop=True)\n",
    "developed_2015 = developed_2015[:68]"
   ]
  },
  {
   "cell_type": "code",
   "execution_count": 72,
   "metadata": {
    "collapsed": false
   },
   "outputs": [],
   "source": [
    "\n",
    "Preterm_developed_2015 = developed_2015['Preterm']\n",
    "Preterm_developed_2015 = Preterm_developed_2015.mean()"
   ]
  },
  {
   "cell_type": "code",
   "execution_count": 73,
   "metadata": {
    "collapsed": true
   },
   "outputs": [],
   "source": [
    "\n",
    "\n",
    "Intrapartum_developed_2015 = developed_2015['Intrapartum']\n",
    "Intrapartum_developed_2015 = Intrapartum_developed_2015.mean()"
   ]
  },
  {
   "cell_type": "code",
   "execution_count": 74,
   "metadata": {
    "collapsed": true
   },
   "outputs": [],
   "source": [
    "Sepsis_developed_2015 = developed_2015['Sepsis']\n",
    "Sepsis_developed_2015 = Sepsis_developed_2015.mean()"
   ]
  },
  {
   "cell_type": "code",
   "execution_count": 75,
   "metadata": {
    "collapsed": true
   },
   "outputs": [],
   "source": [
    "Congenital_developed_2015 = developed_2015['Congenital']\n",
    "Congenital_developed_2015 = Congenital_developed_2015.mean()"
   ]
  },
  {
   "cell_type": "code",
   "execution_count": 76,
   "metadata": {
    "collapsed": true
   },
   "outputs": [],
   "source": [
    "\n",
    "Pneumonia_developed_2015 = developed_2015['Pneumonia']\n",
    "Pneumonia_developed_2015 = Pneumonia_developed_2015.mean()"
   ]
  },
  {
   "cell_type": "code",
   "execution_count": 77,
   "metadata": {
    "collapsed": true
   },
   "outputs": [],
   "source": [
    "Injury_developed_2015 = developed_2015['Injury']\n",
    "Injury_developed_2015 = Injury_developed_2015.mean()"
   ]
  },
  {
   "cell_type": "code",
   "execution_count": 78,
   "metadata": {
    "collapsed": true
   },
   "outputs": [],
   "source": [
    "\n",
    "Diarrhoea_developed_2015 = developed_2015['Diarrhoea']\n",
    "Diarrhoea_developed_2015 = Diarrhoea_developed_2015.mean()"
   ]
  },
  {
   "cell_type": "code",
   "execution_count": 79,
   "metadata": {
    "collapsed": false
   },
   "outputs": [],
   "source": [
    "\n",
    "Meningitis_developed_2015 = developed_2015['Meningitis']\n",
    "Meningitis_developed_2015 = Meningitis_developed_2015.mean()\n"
   ]
  },
  {
   "cell_type": "markdown",
   "metadata": {},
   "source": [
    "\n",
    "# For 2000"
   ]
  },
  {
   "cell_type": "code",
   "execution_count": 80,
   "metadata": {
    "collapsed": false,
    "scrolled": true
   },
   "outputs": [],
   "source": [
    "developed_2000 = developed_countries.reset_index(drop=True)\n",
    "developed_2000 = developed_2000[68:]"
   ]
  },
  {
   "cell_type": "code",
   "execution_count": 81,
   "metadata": {
    "collapsed": false
   },
   "outputs": [],
   "source": [
    "Preterm_developed_2000 = developed_2000['Preterm']\n",
    "Preterm_developed_2000 = Preterm_developed_2000.mean()"
   ]
  },
  {
   "cell_type": "code",
   "execution_count": 82,
   "metadata": {
    "collapsed": true
   },
   "outputs": [],
   "source": [
    "Intrapartum_developed_2000 = developed_2000['Intrapartum']\n",
    "Intrapartum_developed_2000 = Intrapartum_developed_2000.mean()"
   ]
  },
  {
   "cell_type": "code",
   "execution_count": 83,
   "metadata": {
    "collapsed": true
   },
   "outputs": [],
   "source": [
    "Sepsis_developed_2000 = developed_2000['Sepsis']\n",
    "Sepsis_developed_2000 = Sepsis_developed_2000.mean()"
   ]
  },
  {
   "cell_type": "code",
   "execution_count": 84,
   "metadata": {
    "collapsed": true
   },
   "outputs": [],
   "source": [
    "Congenital_developed_2000 = developed_2000['Congenital']\n",
    "Congenital_developed_2000 = Congenital_developed_2000.mean()"
   ]
  },
  {
   "cell_type": "code",
   "execution_count": 85,
   "metadata": {
    "collapsed": true
   },
   "outputs": [],
   "source": [
    "Pneumonia_developed_2000 = developed_2000['Pneumonia']\n",
    "Pneumonia_developed_2000 = Pneumonia_developed_2000.mean()"
   ]
  },
  {
   "cell_type": "code",
   "execution_count": 86,
   "metadata": {
    "collapsed": true
   },
   "outputs": [],
   "source": [
    "Injury_developed_2000 = developed_2000['Injury']\n",
    "Injury_developed_2000 = Injury_developed_2000.mean()"
   ]
  },
  {
   "cell_type": "code",
   "execution_count": 87,
   "metadata": {
    "collapsed": true
   },
   "outputs": [],
   "source": [
    "Diarrhoea_developed_2000 = developed_2000['Diarrhoea']\n",
    "Diarrhoea_developed_2000 = Diarrhoea_developed_2000.mean()"
   ]
  },
  {
   "cell_type": "code",
   "execution_count": 88,
   "metadata": {
    "collapsed": true
   },
   "outputs": [],
   "source": [
    "Meningitis_developed_2000 = developed_2000['Meningitis']\n",
    "Meningitis_developed_2000 = Meningitis_developed_2000.mean()"
   ]
  },
  {
   "cell_type": "markdown",
   "metadata": {},
   "source": [
    "# Creating Dataframe for Developed countries (2000&2015)"
   ]
  },
  {
   "cell_type": "code",
   "execution_count": 89,
   "metadata": {
    "collapsed": false
   },
   "outputs": [
    {
     "data": {
      "text/html": [
       "<div>\n",
       "<table border=\"1\" class=\"dataframe\">\n",
       "  <thead>\n",
       "    <tr style=\"text-align: right;\">\n",
       "      <th></th>\n",
       "      <th>2000</th>\n",
       "      <th>2015</th>\n",
       "    </tr>\n",
       "  </thead>\n",
       "  <tbody>\n",
       "    <tr>\n",
       "      <th>preterm</th>\n",
       "      <td>22.976471</td>\n",
       "      <td>23.085294</td>\n",
       "    </tr>\n",
       "  </tbody>\n",
       "</table>\n",
       "</div>"
      ],
      "text/plain": [
       "              2000       2015\n",
       "preterm  22.976471  23.085294"
      ]
     },
     "execution_count": 89,
     "metadata": {},
     "output_type": "execute_result"
    }
   ],
   "source": [
    "developed_countries_2000 = {'preterm':Preterm_developed_2000}\n",
    "developed_countries_2015 = {'preterm':Preterm_developed_2015}\n",
    "developed_d0 = pd.Series(developed_countries_2000)\n",
    "developed_d0 = pd.DataFrame(developed_d0)\n",
    "developed_d0.columns=['2000']\n",
    "developed_d00 = pd.Series(developed_countries_2015)\n",
    "developed_d00 = pd.DataFrame(developed_d00)\n",
    "developed_d00.columns = ['2015']\n",
    "resd0 = pd.concat([developed_d0, developed_d00], axis=1, join_axes=[developed_d0.index])\n",
    "resd0\n"
   ]
  },
  {
   "cell_type": "code",
   "execution_count": 90,
   "metadata": {
    "collapsed": false
   },
   "outputs": [
    {
     "data": {
      "text/html": [
       "<div>\n",
       "<table border=\"1\" class=\"dataframe\">\n",
       "  <thead>\n",
       "    <tr style=\"text-align: right;\">\n",
       "      <th></th>\n",
       "      <th>2000</th>\n",
       "      <th>2015</th>\n",
       "    </tr>\n",
       "  </thead>\n",
       "  <tbody>\n",
       "    <tr>\n",
       "      <th>Intrapartum</th>\n",
       "      <td>9.272059</td>\n",
       "      <td>8.786765</td>\n",
       "    </tr>\n",
       "  </tbody>\n",
       "</table>\n",
       "</div>"
      ],
      "text/plain": [
       "                 2000      2015\n",
       "Intrapartum  9.272059  8.786765"
      ]
     },
     "execution_count": 90,
     "metadata": {},
     "output_type": "execute_result"
    }
   ],
   "source": [
    "developed_countries_2000 = {'Intrapartum':Intrapartum_developed_2000}\n",
    "developed_countries_2015 = {'Intrapartum':Intrapartum_developed_2015}\n",
    "developed_d1 = pd.Series(developed_countries_2000)\n",
    "developed_d1 = pd.DataFrame(developed_d1)\n",
    "developed_d1.columns=['2000']\n",
    "developed_d11 = pd.Series(developed_countries_2015)\n",
    "developed_d11 = pd.DataFrame(developed_d11)\n",
    "developed_d11.columns = ['2015']\n",
    "resd1 = pd.concat([developed_d1, developed_d11], axis=1, join_axes=[developed_d1.index])\n",
    "resd1\n",
    "\n"
   ]
  },
  {
   "cell_type": "code",
   "execution_count": 91,
   "metadata": {
    "collapsed": false
   },
   "outputs": [
    {
     "data": {
      "text/html": [
       "<div>\n",
       "<table border=\"1\" class=\"dataframe\">\n",
       "  <thead>\n",
       "    <tr style=\"text-align: right;\">\n",
       "      <th></th>\n",
       "      <th>2000</th>\n",
       "      <th>2015</th>\n",
       "    </tr>\n",
       "  </thead>\n",
       "  <tbody>\n",
       "    <tr>\n",
       "      <th>Sepsis</th>\n",
       "      <td>3.208824</td>\n",
       "      <td>3.955882</td>\n",
       "    </tr>\n",
       "  </tbody>\n",
       "</table>\n",
       "</div>"
      ],
      "text/plain": [
       "            2000      2015\n",
       "Sepsis  3.208824  3.955882"
      ]
     },
     "execution_count": 91,
     "metadata": {},
     "output_type": "execute_result"
    }
   ],
   "source": [
    "developed_countries_2000 = {'Sepsis':Sepsis_developed_2000}\n",
    "developed_countries_2015 = {'Sepsis':Sepsis_developed_2015}\n",
    "developed_d2 = pd.Series(developed_countries_2000)\n",
    "developed_d2 = pd.DataFrame(developed_d2)\n",
    "developed_d2.columns=['2000']\n",
    "developed_d22 = pd.Series(developed_countries_2015)\n",
    "developed_d22 = pd.DataFrame(developed_d22)\n",
    "developed_d22.columns = ['2015']\n",
    "resd2 = pd.concat([developed_d2, developed_d22], axis=1, join_axes=[developed_d2.index])\n",
    "resd2"
   ]
  },
  {
   "cell_type": "code",
   "execution_count": 92,
   "metadata": {
    "collapsed": false
   },
   "outputs": [
    {
     "data": {
      "text/html": [
       "<div>\n",
       "<table border=\"1\" class=\"dataframe\">\n",
       "  <thead>\n",
       "    <tr style=\"text-align: right;\">\n",
       "      <th></th>\n",
       "      <th>2000</th>\n",
       "      <th>2015</th>\n",
       "    </tr>\n",
       "  </thead>\n",
       "  <tbody>\n",
       "    <tr>\n",
       "      <th>Congenital</th>\n",
       "      <td>25.788235</td>\n",
       "      <td>26.273529</td>\n",
       "    </tr>\n",
       "  </tbody>\n",
       "</table>\n",
       "</div>"
      ],
      "text/plain": [
       "                 2000       2015\n",
       "Congenital  25.788235  26.273529"
      ]
     },
     "execution_count": 92,
     "metadata": {},
     "output_type": "execute_result"
    }
   ],
   "source": [
    "developed_countries_2000 = {'Congenital':Congenital_developed_2000}\n",
    "developed_countries_2015 = {'Congenital':Congenital_developed_2015}\n",
    "developed_d3 = pd.Series(developed_countries_2000)\n",
    "developed_d3 = pd.DataFrame(developed_d3)\n",
    "developed_d3.columns=['2000']\n",
    "developed_d33 = pd.Series(developed_countries_2015)\n",
    "developed_d33 = pd.DataFrame(developed_d33)\n",
    "developed_d33.columns = ['2015']\n",
    "resd3 = pd.concat([developed_d3, developed_d33], axis=1, join_axes=[developed_d3.index])\n",
    "resd3\n"
   ]
  },
  {
   "cell_type": "code",
   "execution_count": 93,
   "metadata": {
    "collapsed": false
   },
   "outputs": [
    {
     "data": {
      "text/html": [
       "<div>\n",
       "<table border=\"1\" class=\"dataframe\">\n",
       "  <thead>\n",
       "    <tr style=\"text-align: right;\">\n",
       "      <th></th>\n",
       "      <th>2000</th>\n",
       "      <th>2015</th>\n",
       "    </tr>\n",
       "  </thead>\n",
       "  <tbody>\n",
       "    <tr>\n",
       "      <th>Pneumonia</th>\n",
       "      <td>6.583824</td>\n",
       "      <td>5.538235</td>\n",
       "    </tr>\n",
       "  </tbody>\n",
       "</table>\n",
       "</div>"
      ],
      "text/plain": [
       "               2000      2015\n",
       "Pneumonia  6.583824  5.538235"
      ]
     },
     "execution_count": 93,
     "metadata": {},
     "output_type": "execute_result"
    }
   ],
   "source": [
    "developed_countries_2000 = {'Pneumonia':Pneumonia_developed_2000}\n",
    "developed_countries_2015 = {'Pneumonia':Pneumonia_developed_2015}\n",
    "developed_d4 = pd.Series(developed_countries_2000)\n",
    "developed_d4 = pd.DataFrame(developed_d4)\n",
    "developed_d4.columns=['2000']\n",
    "developed_d44 = pd.Series(developed_countries_2015)\n",
    "developed_d44 = pd.DataFrame(developed_d44)\n",
    "developed_d44.columns = ['2015']\n",
    "resd4 = pd.concat([developed_d4, developed_d44], axis=1, join_axes=[developed_d4.index])\n",
    "resd4"
   ]
  },
  {
   "cell_type": "code",
   "execution_count": 94,
   "metadata": {
    "collapsed": false
   },
   "outputs": [
    {
     "data": {
      "text/html": [
       "<div>\n",
       "<table border=\"1\" class=\"dataframe\">\n",
       "  <thead>\n",
       "    <tr style=\"text-align: right;\">\n",
       "      <th></th>\n",
       "      <th>2000</th>\n",
       "      <th>2015</th>\n",
       "    </tr>\n",
       "  </thead>\n",
       "  <tbody>\n",
       "    <tr>\n",
       "      <th>Injury</th>\n",
       "      <td>7.602941</td>\n",
       "      <td>6.925</td>\n",
       "    </tr>\n",
       "  </tbody>\n",
       "</table>\n",
       "</div>"
      ],
      "text/plain": [
       "            2000   2015\n",
       "Injury  7.602941  6.925"
      ]
     },
     "execution_count": 94,
     "metadata": {},
     "output_type": "execute_result"
    }
   ],
   "source": [
    "developed_countries_2000 = {'Injury':Injury_developed_2000}\n",
    "developed_countries_2015 = {'Injury':Injury_developed_2015}\n",
    "developed_d5 = pd.Series(developed_countries_2000)\n",
    "developed_d5 = pd.DataFrame(developed_d5)\n",
    "developed_d5.columns=['2000']\n",
    "developed_d55 = pd.Series(developed_countries_2015)\n",
    "developed_d55 = pd.DataFrame(developed_d55)\n",
    "developed_d55.columns = ['2015']\n",
    "resd5 = pd.concat([developed_d5, developed_d55], axis=1, join_axes=[developed_d5.index])\n",
    "resd5"
   ]
  },
  {
   "cell_type": "code",
   "execution_count": 95,
   "metadata": {
    "collapsed": false
   },
   "outputs": [
    {
     "data": {
      "text/html": [
       "<div>\n",
       "<table border=\"1\" class=\"dataframe\">\n",
       "  <thead>\n",
       "    <tr style=\"text-align: right;\">\n",
       "      <th></th>\n",
       "      <th>2000</th>\n",
       "      <th>2015</th>\n",
       "    </tr>\n",
       "  </thead>\n",
       "  <tbody>\n",
       "    <tr>\n",
       "      <th>Diarrhoea</th>\n",
       "      <td>2.302941</td>\n",
       "      <td>1.441176</td>\n",
       "    </tr>\n",
       "  </tbody>\n",
       "</table>\n",
       "</div>"
      ],
      "text/plain": [
       "               2000      2015\n",
       "Diarrhoea  2.302941  1.441176"
      ]
     },
     "execution_count": 95,
     "metadata": {},
     "output_type": "execute_result"
    }
   ],
   "source": [
    "developed_countries_2000 = {'Diarrhoea':Diarrhoea_developed_2000}\n",
    "developed_countries_2015 = {'Diarrhoea':Diarrhoea_developed_2015}\n",
    "developed_d6 = pd.Series(developed_countries_2000)\n",
    "developed_d6 = pd.DataFrame(developed_d6)\n",
    "developed_d6.columns=['2000']\n",
    "developed_d66 = pd.Series(developed_countries_2015)\n",
    "developed_d66 = pd.DataFrame(developed_d66)\n",
    "developed_d66.columns = ['2015']\n",
    "resd6 = pd.concat([developed_d6, developed_d66], axis=1, join_axes=[developed_d6.index])\n",
    "resd6"
   ]
  },
  {
   "cell_type": "code",
   "execution_count": 96,
   "metadata": {
    "collapsed": false
   },
   "outputs": [
    {
     "data": {
      "text/html": [
       "<div>\n",
       "<table border=\"1\" class=\"dataframe\">\n",
       "  <thead>\n",
       "    <tr style=\"text-align: right;\">\n",
       "      <th></th>\n",
       "      <th>2000</th>\n",
       "      <th>2015</th>\n",
       "    </tr>\n",
       "  </thead>\n",
       "  <tbody>\n",
       "    <tr>\n",
       "      <th>Meningitis</th>\n",
       "      <td>1.905882</td>\n",
       "      <td>1.198529</td>\n",
       "    </tr>\n",
       "  </tbody>\n",
       "</table>\n",
       "</div>"
      ],
      "text/plain": [
       "                2000      2015\n",
       "Meningitis  1.905882  1.198529"
      ]
     },
     "execution_count": 96,
     "metadata": {},
     "output_type": "execute_result"
    }
   ],
   "source": [
    "developed_countries_2000 = {'Meningitis':Meningitis_developed_2000}\n",
    "developed_countries_2015 = {'Meningitis':Meningitis_developed_2015}\n",
    "developed_d7 = pd.Series(developed_countries_2000)\n",
    "developed_d7 = pd.DataFrame(developed_d7)\n",
    "developed_d7.columns=['2000']\n",
    "developed_d77 = pd.Series(developed_countries_2015)\n",
    "developed_d77 = pd.DataFrame(developed_d77)\n",
    "developed_d77.columns = ['2015']\n",
    "resd7 = pd.concat([developed_d7, developed_d77], axis=1, join_axes=[developed_d7.index])\n",
    "resd7"
   ]
  },
  {
   "cell_type": "code",
   "execution_count": 97,
   "metadata": {
    "collapsed": false
   },
   "outputs": [
    {
     "data": {
      "text/html": [
       "<div>\n",
       "<table border=\"1\" class=\"dataframe\">\n",
       "  <thead>\n",
       "    <tr style=\"text-align: right;\">\n",
       "      <th></th>\n",
       "      <th>2000</th>\n",
       "      <th>2015</th>\n",
       "    </tr>\n",
       "  </thead>\n",
       "  <tbody>\n",
       "    <tr>\n",
       "      <th>preterm</th>\n",
       "      <td>22.976471</td>\n",
       "      <td>23.085294</td>\n",
       "    </tr>\n",
       "    <tr>\n",
       "      <th>Intrapartum</th>\n",
       "      <td>9.272059</td>\n",
       "      <td>8.786765</td>\n",
       "    </tr>\n",
       "    <tr>\n",
       "      <th>Sepsis</th>\n",
       "      <td>3.208824</td>\n",
       "      <td>3.955882</td>\n",
       "    </tr>\n",
       "    <tr>\n",
       "      <th>Congenital</th>\n",
       "      <td>25.788235</td>\n",
       "      <td>26.273529</td>\n",
       "    </tr>\n",
       "    <tr>\n",
       "      <th>Pneumonia</th>\n",
       "      <td>6.583824</td>\n",
       "      <td>5.538235</td>\n",
       "    </tr>\n",
       "    <tr>\n",
       "      <th>Injury</th>\n",
       "      <td>7.602941</td>\n",
       "      <td>6.925000</td>\n",
       "    </tr>\n",
       "    <tr>\n",
       "      <th>Diarrhoea</th>\n",
       "      <td>2.302941</td>\n",
       "      <td>1.441176</td>\n",
       "    </tr>\n",
       "    <tr>\n",
       "      <th>Meningitis</th>\n",
       "      <td>1.905882</td>\n",
       "      <td>1.198529</td>\n",
       "    </tr>\n",
       "  </tbody>\n",
       "</table>\n",
       "</div>"
      ],
      "text/plain": [
       "                  2000       2015\n",
       "preterm      22.976471  23.085294\n",
       "Intrapartum   9.272059   8.786765\n",
       "Sepsis        3.208824   3.955882\n",
       "Congenital   25.788235  26.273529\n",
       "Pneumonia     6.583824   5.538235\n",
       "Injury        7.602941   6.925000\n",
       "Diarrhoea     2.302941   1.441176\n",
       "Meningitis    1.905882   1.198529"
      ]
     },
     "execution_count": 97,
     "metadata": {},
     "output_type": "execute_result"
    }
   ],
   "source": [
    "frames1 = [resd0,resd1,resd2,resd3,resd4,resd5,resd6,resd7]\n",
    "final_frames1 = pd.concat(frames1)\n",
    "final_frames1\n",
    "\n"
   ]
  },
  {
   "cell_type": "code",
   "execution_count": 98,
   "metadata": {
    "collapsed": false
   },
   "outputs": [
    {
     "data": {
      "application/javascript": [
       "/* Put everything inside the global mpl namespace */\n",
       "window.mpl = {};\n",
       "\n",
       "mpl.get_websocket_type = function() {\n",
       "    if (typeof(WebSocket) !== 'undefined') {\n",
       "        return WebSocket;\n",
       "    } else if (typeof(MozWebSocket) !== 'undefined') {\n",
       "        return MozWebSocket;\n",
       "    } else {\n",
       "        alert('Your browser does not have WebSocket support.' +\n",
       "              'Please try Chrome, Safari or Firefox ≥ 6. ' +\n",
       "              'Firefox 4 and 5 are also supported but you ' +\n",
       "              'have to enable WebSockets in about:config.');\n",
       "    };\n",
       "}\n",
       "\n",
       "mpl.figure = function(figure_id, websocket, ondownload, parent_element) {\n",
       "    this.id = figure_id;\n",
       "\n",
       "    this.ws = websocket;\n",
       "\n",
       "    this.supports_binary = (this.ws.binaryType != undefined);\n",
       "\n",
       "    if (!this.supports_binary) {\n",
       "        var warnings = document.getElementById(\"mpl-warnings\");\n",
       "        if (warnings) {\n",
       "            warnings.style.display = 'block';\n",
       "            warnings.textContent = (\n",
       "                \"This browser does not support binary websocket messages. \" +\n",
       "                    \"Performance may be slow.\");\n",
       "        }\n",
       "    }\n",
       "\n",
       "    this.imageObj = new Image();\n",
       "\n",
       "    this.context = undefined;\n",
       "    this.message = undefined;\n",
       "    this.canvas = undefined;\n",
       "    this.rubberband_canvas = undefined;\n",
       "    this.rubberband_context = undefined;\n",
       "    this.format_dropdown = undefined;\n",
       "\n",
       "    this.image_mode = 'full';\n",
       "\n",
       "    this.root = $('<div/>');\n",
       "    this._root_extra_style(this.root)\n",
       "    this.root.attr('style', 'display: inline-block');\n",
       "\n",
       "    $(parent_element).append(this.root);\n",
       "\n",
       "    this._init_header(this);\n",
       "    this._init_canvas(this);\n",
       "    this._init_toolbar(this);\n",
       "\n",
       "    var fig = this;\n",
       "\n",
       "    this.waiting = false;\n",
       "\n",
       "    this.ws.onopen =  function () {\n",
       "            fig.send_message(\"supports_binary\", {value: fig.supports_binary});\n",
       "            fig.send_message(\"send_image_mode\", {});\n",
       "            fig.send_message(\"refresh\", {});\n",
       "        }\n",
       "\n",
       "    this.imageObj.onload = function() {\n",
       "            if (fig.image_mode == 'full') {\n",
       "                // Full images could contain transparency (where diff images\n",
       "                // almost always do), so we need to clear the canvas so that\n",
       "                // there is no ghosting.\n",
       "                fig.context.clearRect(0, 0, fig.canvas.width, fig.canvas.height);\n",
       "            }\n",
       "            fig.context.drawImage(fig.imageObj, 0, 0);\n",
       "        };\n",
       "\n",
       "    this.imageObj.onunload = function() {\n",
       "        this.ws.close();\n",
       "    }\n",
       "\n",
       "    this.ws.onmessage = this._make_on_message_function(this);\n",
       "\n",
       "    this.ondownload = ondownload;\n",
       "}\n",
       "\n",
       "mpl.figure.prototype._init_header = function() {\n",
       "    var titlebar = $(\n",
       "        '<div class=\"ui-dialog-titlebar ui-widget-header ui-corner-all ' +\n",
       "        'ui-helper-clearfix\"/>');\n",
       "    var titletext = $(\n",
       "        '<div class=\"ui-dialog-title\" style=\"width: 100%; ' +\n",
       "        'text-align: center; padding: 3px;\"/>');\n",
       "    titlebar.append(titletext)\n",
       "    this.root.append(titlebar);\n",
       "    this.header = titletext[0];\n",
       "}\n",
       "\n",
       "\n",
       "\n",
       "mpl.figure.prototype._canvas_extra_style = function(canvas_div) {\n",
       "\n",
       "}\n",
       "\n",
       "\n",
       "mpl.figure.prototype._root_extra_style = function(canvas_div) {\n",
       "\n",
       "}\n",
       "\n",
       "mpl.figure.prototype._init_canvas = function() {\n",
       "    var fig = this;\n",
       "\n",
       "    var canvas_div = $('<div/>');\n",
       "\n",
       "    canvas_div.attr('style', 'position: relative; clear: both; outline: 0');\n",
       "\n",
       "    function canvas_keyboard_event(event) {\n",
       "        return fig.key_event(event, event['data']);\n",
       "    }\n",
       "\n",
       "    canvas_div.keydown('key_press', canvas_keyboard_event);\n",
       "    canvas_div.keyup('key_release', canvas_keyboard_event);\n",
       "    this.canvas_div = canvas_div\n",
       "    this._canvas_extra_style(canvas_div)\n",
       "    this.root.append(canvas_div);\n",
       "\n",
       "    var canvas = $('<canvas/>');\n",
       "    canvas.addClass('mpl-canvas');\n",
       "    canvas.attr('style', \"left: 0; top: 0; z-index: 0; outline: 0\")\n",
       "\n",
       "    this.canvas = canvas[0];\n",
       "    this.context = canvas[0].getContext(\"2d\");\n",
       "\n",
       "    var rubberband = $('<canvas/>');\n",
       "    rubberband.attr('style', \"position: absolute; left: 0; top: 0; z-index: 1;\")\n",
       "\n",
       "    var pass_mouse_events = true;\n",
       "\n",
       "    canvas_div.resizable({\n",
       "        start: function(event, ui) {\n",
       "            pass_mouse_events = false;\n",
       "        },\n",
       "        resize: function(event, ui) {\n",
       "            fig.request_resize(ui.size.width, ui.size.height);\n",
       "        },\n",
       "        stop: function(event, ui) {\n",
       "            pass_mouse_events = true;\n",
       "            fig.request_resize(ui.size.width, ui.size.height);\n",
       "        },\n",
       "    });\n",
       "\n",
       "    function mouse_event_fn(event) {\n",
       "        if (pass_mouse_events)\n",
       "            return fig.mouse_event(event, event['data']);\n",
       "    }\n",
       "\n",
       "    rubberband.mousedown('button_press', mouse_event_fn);\n",
       "    rubberband.mouseup('button_release', mouse_event_fn);\n",
       "    // Throttle sequential mouse events to 1 every 20ms.\n",
       "    rubberband.mousemove('motion_notify', mouse_event_fn);\n",
       "\n",
       "    rubberband.mouseenter('figure_enter', mouse_event_fn);\n",
       "    rubberband.mouseleave('figure_leave', mouse_event_fn);\n",
       "\n",
       "    canvas_div.on(\"wheel\", function (event) {\n",
       "        event = event.originalEvent;\n",
       "        event['data'] = 'scroll'\n",
       "        if (event.deltaY < 0) {\n",
       "            event.step = 1;\n",
       "        } else {\n",
       "            event.step = -1;\n",
       "        }\n",
       "        mouse_event_fn(event);\n",
       "    });\n",
       "\n",
       "    canvas_div.append(canvas);\n",
       "    canvas_div.append(rubberband);\n",
       "\n",
       "    this.rubberband = rubberband;\n",
       "    this.rubberband_canvas = rubberband[0];\n",
       "    this.rubberband_context = rubberband[0].getContext(\"2d\");\n",
       "    this.rubberband_context.strokeStyle = \"#000000\";\n",
       "\n",
       "    this._resize_canvas = function(width, height) {\n",
       "        // Keep the size of the canvas, canvas container, and rubber band\n",
       "        // canvas in synch.\n",
       "        canvas_div.css('width', width)\n",
       "        canvas_div.css('height', height)\n",
       "\n",
       "        canvas.attr('width', width);\n",
       "        canvas.attr('height', height);\n",
       "\n",
       "        rubberband.attr('width', width);\n",
       "        rubberband.attr('height', height);\n",
       "    }\n",
       "\n",
       "    // Set the figure to an initial 600x600px, this will subsequently be updated\n",
       "    // upon first draw.\n",
       "    this._resize_canvas(600, 600);\n",
       "\n",
       "    // Disable right mouse context menu.\n",
       "    $(this.rubberband_canvas).bind(\"contextmenu\",function(e){\n",
       "        return false;\n",
       "    });\n",
       "\n",
       "    function set_focus () {\n",
       "        canvas.focus();\n",
       "        canvas_div.focus();\n",
       "    }\n",
       "\n",
       "    window.setTimeout(set_focus, 100);\n",
       "}\n",
       "\n",
       "mpl.figure.prototype._init_toolbar = function() {\n",
       "    var fig = this;\n",
       "\n",
       "    var nav_element = $('<div/>')\n",
       "    nav_element.attr('style', 'width: 100%');\n",
       "    this.root.append(nav_element);\n",
       "\n",
       "    // Define a callback function for later on.\n",
       "    function toolbar_event(event) {\n",
       "        return fig.toolbar_button_onclick(event['data']);\n",
       "    }\n",
       "    function toolbar_mouse_event(event) {\n",
       "        return fig.toolbar_button_onmouseover(event['data']);\n",
       "    }\n",
       "\n",
       "    for(var toolbar_ind in mpl.toolbar_items) {\n",
       "        var name = mpl.toolbar_items[toolbar_ind][0];\n",
       "        var tooltip = mpl.toolbar_items[toolbar_ind][1];\n",
       "        var image = mpl.toolbar_items[toolbar_ind][2];\n",
       "        var method_name = mpl.toolbar_items[toolbar_ind][3];\n",
       "\n",
       "        if (!name) {\n",
       "            // put a spacer in here.\n",
       "            continue;\n",
       "        }\n",
       "        var button = $('<button/>');\n",
       "        button.addClass('ui-button ui-widget ui-state-default ui-corner-all ' +\n",
       "                        'ui-button-icon-only');\n",
       "        button.attr('role', 'button');\n",
       "        button.attr('aria-disabled', 'false');\n",
       "        button.click(method_name, toolbar_event);\n",
       "        button.mouseover(tooltip, toolbar_mouse_event);\n",
       "\n",
       "        var icon_img = $('<span/>');\n",
       "        icon_img.addClass('ui-button-icon-primary ui-icon');\n",
       "        icon_img.addClass(image);\n",
       "        icon_img.addClass('ui-corner-all');\n",
       "\n",
       "        var tooltip_span = $('<span/>');\n",
       "        tooltip_span.addClass('ui-button-text');\n",
       "        tooltip_span.html(tooltip);\n",
       "\n",
       "        button.append(icon_img);\n",
       "        button.append(tooltip_span);\n",
       "\n",
       "        nav_element.append(button);\n",
       "    }\n",
       "\n",
       "    var fmt_picker_span = $('<span/>');\n",
       "\n",
       "    var fmt_picker = $('<select/>');\n",
       "    fmt_picker.addClass('mpl-toolbar-option ui-widget ui-widget-content');\n",
       "    fmt_picker_span.append(fmt_picker);\n",
       "    nav_element.append(fmt_picker_span);\n",
       "    this.format_dropdown = fmt_picker[0];\n",
       "\n",
       "    for (var ind in mpl.extensions) {\n",
       "        var fmt = mpl.extensions[ind];\n",
       "        var option = $(\n",
       "            '<option/>', {selected: fmt === mpl.default_extension}).html(fmt);\n",
       "        fmt_picker.append(option)\n",
       "    }\n",
       "\n",
       "    // Add hover states to the ui-buttons\n",
       "    $( \".ui-button\" ).hover(\n",
       "        function() { $(this).addClass(\"ui-state-hover\");},\n",
       "        function() { $(this).removeClass(\"ui-state-hover\");}\n",
       "    );\n",
       "\n",
       "    var status_bar = $('<span class=\"mpl-message\"/>');\n",
       "    nav_element.append(status_bar);\n",
       "    this.message = status_bar[0];\n",
       "}\n",
       "\n",
       "mpl.figure.prototype.request_resize = function(x_pixels, y_pixels) {\n",
       "    // Request matplotlib to resize the figure. Matplotlib will then trigger a resize in the client,\n",
       "    // which will in turn request a refresh of the image.\n",
       "    this.send_message('resize', {'width': x_pixels, 'height': y_pixels});\n",
       "}\n",
       "\n",
       "mpl.figure.prototype.send_message = function(type, properties) {\n",
       "    properties['type'] = type;\n",
       "    properties['figure_id'] = this.id;\n",
       "    this.ws.send(JSON.stringify(properties));\n",
       "}\n",
       "\n",
       "mpl.figure.prototype.send_draw_message = function() {\n",
       "    if (!this.waiting) {\n",
       "        this.waiting = true;\n",
       "        this.ws.send(JSON.stringify({type: \"draw\", figure_id: this.id}));\n",
       "    }\n",
       "}\n",
       "\n",
       "\n",
       "mpl.figure.prototype.handle_save = function(fig, msg) {\n",
       "    var format_dropdown = fig.format_dropdown;\n",
       "    var format = format_dropdown.options[format_dropdown.selectedIndex].value;\n",
       "    fig.ondownload(fig, format);\n",
       "}\n",
       "\n",
       "\n",
       "mpl.figure.prototype.handle_resize = function(fig, msg) {\n",
       "    var size = msg['size'];\n",
       "    if (size[0] != fig.canvas.width || size[1] != fig.canvas.height) {\n",
       "        fig._resize_canvas(size[0], size[1]);\n",
       "        fig.send_message(\"refresh\", {});\n",
       "    };\n",
       "}\n",
       "\n",
       "mpl.figure.prototype.handle_rubberband = function(fig, msg) {\n",
       "    var x0 = msg['x0'];\n",
       "    var y0 = fig.canvas.height - msg['y0'];\n",
       "    var x1 = msg['x1'];\n",
       "    var y1 = fig.canvas.height - msg['y1'];\n",
       "    x0 = Math.floor(x0) + 0.5;\n",
       "    y0 = Math.floor(y0) + 0.5;\n",
       "    x1 = Math.floor(x1) + 0.5;\n",
       "    y1 = Math.floor(y1) + 0.5;\n",
       "    var min_x = Math.min(x0, x1);\n",
       "    var min_y = Math.min(y0, y1);\n",
       "    var width = Math.abs(x1 - x0);\n",
       "    var height = Math.abs(y1 - y0);\n",
       "\n",
       "    fig.rubberband_context.clearRect(\n",
       "        0, 0, fig.canvas.width, fig.canvas.height);\n",
       "\n",
       "    fig.rubberband_context.strokeRect(min_x, min_y, width, height);\n",
       "}\n",
       "\n",
       "mpl.figure.prototype.handle_figure_label = function(fig, msg) {\n",
       "    // Updates the figure title.\n",
       "    fig.header.textContent = msg['label'];\n",
       "}\n",
       "\n",
       "mpl.figure.prototype.handle_cursor = function(fig, msg) {\n",
       "    var cursor = msg['cursor'];\n",
       "    switch(cursor)\n",
       "    {\n",
       "    case 0:\n",
       "        cursor = 'pointer';\n",
       "        break;\n",
       "    case 1:\n",
       "        cursor = 'default';\n",
       "        break;\n",
       "    case 2:\n",
       "        cursor = 'crosshair';\n",
       "        break;\n",
       "    case 3:\n",
       "        cursor = 'move';\n",
       "        break;\n",
       "    }\n",
       "    fig.rubberband_canvas.style.cursor = cursor;\n",
       "}\n",
       "\n",
       "mpl.figure.prototype.handle_message = function(fig, msg) {\n",
       "    fig.message.textContent = msg['message'];\n",
       "}\n",
       "\n",
       "mpl.figure.prototype.handle_draw = function(fig, msg) {\n",
       "    // Request the server to send over a new figure.\n",
       "    fig.send_draw_message();\n",
       "}\n",
       "\n",
       "mpl.figure.prototype.handle_image_mode = function(fig, msg) {\n",
       "    fig.image_mode = msg['mode'];\n",
       "}\n",
       "\n",
       "mpl.figure.prototype.updated_canvas_event = function() {\n",
       "    // Called whenever the canvas gets updated.\n",
       "    this.send_message(\"ack\", {});\n",
       "}\n",
       "\n",
       "// A function to construct a web socket function for onmessage handling.\n",
       "// Called in the figure constructor.\n",
       "mpl.figure.prototype._make_on_message_function = function(fig) {\n",
       "    return function socket_on_message(evt) {\n",
       "        if (evt.data instanceof Blob) {\n",
       "            /* FIXME: We get \"Resource interpreted as Image but\n",
       "             * transferred with MIME type text/plain:\" errors on\n",
       "             * Chrome.  But how to set the MIME type?  It doesn't seem\n",
       "             * to be part of the websocket stream */\n",
       "            evt.data.type = \"image/png\";\n",
       "\n",
       "            /* Free the memory for the previous frames */\n",
       "            if (fig.imageObj.src) {\n",
       "                (window.URL || window.webkitURL).revokeObjectURL(\n",
       "                    fig.imageObj.src);\n",
       "            }\n",
       "\n",
       "            fig.imageObj.src = (window.URL || window.webkitURL).createObjectURL(\n",
       "                evt.data);\n",
       "            fig.updated_canvas_event();\n",
       "            fig.waiting = false;\n",
       "            return;\n",
       "        }\n",
       "        else if (typeof evt.data === 'string' && evt.data.slice(0, 21) == \"data:image/png;base64\") {\n",
       "            fig.imageObj.src = evt.data;\n",
       "            fig.updated_canvas_event();\n",
       "            fig.waiting = false;\n",
       "            return;\n",
       "        }\n",
       "\n",
       "        var msg = JSON.parse(evt.data);\n",
       "        var msg_type = msg['type'];\n",
       "\n",
       "        // Call the  \"handle_{type}\" callback, which takes\n",
       "        // the figure and JSON message as its only arguments.\n",
       "        try {\n",
       "            var callback = fig[\"handle_\" + msg_type];\n",
       "        } catch (e) {\n",
       "            console.log(\"No handler for the '\" + msg_type + \"' message type: \", msg);\n",
       "            return;\n",
       "        }\n",
       "\n",
       "        if (callback) {\n",
       "            try {\n",
       "                // console.log(\"Handling '\" + msg_type + \"' message: \", msg);\n",
       "                callback(fig, msg);\n",
       "            } catch (e) {\n",
       "                console.log(\"Exception inside the 'handler_\" + msg_type + \"' callback:\", e, e.stack, msg);\n",
       "            }\n",
       "        }\n",
       "    };\n",
       "}\n",
       "\n",
       "// from http://stackoverflow.com/questions/1114465/getting-mouse-location-in-canvas\n",
       "mpl.findpos = function(e) {\n",
       "    //this section is from http://www.quirksmode.org/js/events_properties.html\n",
       "    var targ;\n",
       "    if (!e)\n",
       "        e = window.event;\n",
       "    if (e.target)\n",
       "        targ = e.target;\n",
       "    else if (e.srcElement)\n",
       "        targ = e.srcElement;\n",
       "    if (targ.nodeType == 3) // defeat Safari bug\n",
       "        targ = targ.parentNode;\n",
       "\n",
       "    // jQuery normalizes the pageX and pageY\n",
       "    // pageX,Y are the mouse positions relative to the document\n",
       "    // offset() returns the position of the element relative to the document\n",
       "    var x = e.pageX - $(targ).offset().left;\n",
       "    var y = e.pageY - $(targ).offset().top;\n",
       "\n",
       "    return {\"x\": x, \"y\": y};\n",
       "};\n",
       "\n",
       "/*\n",
       " * return a copy of an object with only non-object keys\n",
       " * we need this to avoid circular references\n",
       " * http://stackoverflow.com/a/24161582/3208463\n",
       " */\n",
       "function simpleKeys (original) {\n",
       "  return Object.keys(original).reduce(function (obj, key) {\n",
       "    if (typeof original[key] !== 'object')\n",
       "        obj[key] = original[key]\n",
       "    return obj;\n",
       "  }, {});\n",
       "}\n",
       "\n",
       "mpl.figure.prototype.mouse_event = function(event, name) {\n",
       "    var canvas_pos = mpl.findpos(event)\n",
       "\n",
       "    if (name === 'button_press')\n",
       "    {\n",
       "        this.canvas.focus();\n",
       "        this.canvas_div.focus();\n",
       "    }\n",
       "\n",
       "    var x = canvas_pos.x;\n",
       "    var y = canvas_pos.y;\n",
       "\n",
       "    this.send_message(name, {x: x, y: y, button: event.button,\n",
       "                             step: event.step,\n",
       "                             guiEvent: simpleKeys(event)});\n",
       "\n",
       "    /* This prevents the web browser from automatically changing to\n",
       "     * the text insertion cursor when the button is pressed.  We want\n",
       "     * to control all of the cursor setting manually through the\n",
       "     * 'cursor' event from matplotlib */\n",
       "    event.preventDefault();\n",
       "    return false;\n",
       "}\n",
       "\n",
       "mpl.figure.prototype._key_event_extra = function(event, name) {\n",
       "    // Handle any extra behaviour associated with a key event\n",
       "}\n",
       "\n",
       "mpl.figure.prototype.key_event = function(event, name) {\n",
       "\n",
       "    // Prevent repeat events\n",
       "    if (name == 'key_press')\n",
       "    {\n",
       "        if (event.which === this._key)\n",
       "            return;\n",
       "        else\n",
       "            this._key = event.which;\n",
       "    }\n",
       "    if (name == 'key_release')\n",
       "        this._key = null;\n",
       "\n",
       "    var value = '';\n",
       "    if (event.ctrlKey && event.which != 17)\n",
       "        value += \"ctrl+\";\n",
       "    if (event.altKey && event.which != 18)\n",
       "        value += \"alt+\";\n",
       "    if (event.shiftKey && event.which != 16)\n",
       "        value += \"shift+\";\n",
       "\n",
       "    value += 'k';\n",
       "    value += event.which.toString();\n",
       "\n",
       "    this._key_event_extra(event, name);\n",
       "\n",
       "    this.send_message(name, {key: value,\n",
       "                             guiEvent: simpleKeys(event)});\n",
       "    return false;\n",
       "}\n",
       "\n",
       "mpl.figure.prototype.toolbar_button_onclick = function(name) {\n",
       "    if (name == 'download') {\n",
       "        this.handle_save(this, null);\n",
       "    } else {\n",
       "        this.send_message(\"toolbar_button\", {name: name});\n",
       "    }\n",
       "};\n",
       "\n",
       "mpl.figure.prototype.toolbar_button_onmouseover = function(tooltip) {\n",
       "    this.message.textContent = tooltip;\n",
       "};\n",
       "mpl.toolbar_items = [[\"Home\", \"Reset original view\", \"fa fa-home icon-home\", \"home\"], [\"Back\", \"Back to  previous view\", \"fa fa-arrow-left icon-arrow-left\", \"back\"], [\"Forward\", \"Forward to next view\", \"fa fa-arrow-right icon-arrow-right\", \"forward\"], [\"\", \"\", \"\", \"\"], [\"Pan\", \"Pan axes with left mouse, zoom with right\", \"fa fa-arrows icon-move\", \"pan\"], [\"Zoom\", \"Zoom to rectangle\", \"fa fa-square-o icon-check-empty\", \"zoom\"], [\"\", \"\", \"\", \"\"], [\"Download\", \"Download plot\", \"fa fa-floppy-o icon-save\", \"download\"]];\n",
       "\n",
       "mpl.extensions = [\"eps\", \"jpeg\", \"pdf\", \"png\", \"ps\", \"raw\", \"svg\", \"tif\"];\n",
       "\n",
       "mpl.default_extension = \"png\";var comm_websocket_adapter = function(comm) {\n",
       "    // Create a \"websocket\"-like object which calls the given IPython comm\n",
       "    // object with the appropriate methods. Currently this is a non binary\n",
       "    // socket, so there is still some room for performance tuning.\n",
       "    var ws = {};\n",
       "\n",
       "    ws.close = function() {\n",
       "        comm.close()\n",
       "    };\n",
       "    ws.send = function(m) {\n",
       "        //console.log('sending', m);\n",
       "        comm.send(m);\n",
       "    };\n",
       "    // Register the callback with on_msg.\n",
       "    comm.on_msg(function(msg) {\n",
       "        //console.log('receiving', msg['content']['data'], msg);\n",
       "        // Pass the mpl event to the overriden (by mpl) onmessage function.\n",
       "        ws.onmessage(msg['content']['data'])\n",
       "    });\n",
       "    return ws;\n",
       "}\n",
       "\n",
       "mpl.mpl_figure_comm = function(comm, msg) {\n",
       "    // This is the function which gets called when the mpl process\n",
       "    // starts-up an IPython Comm through the \"matplotlib\" channel.\n",
       "\n",
       "    var id = msg.content.data.id;\n",
       "    // Get hold of the div created by the display call when the Comm\n",
       "    // socket was opened in Python.\n",
       "    var element = $(\"#\" + id);\n",
       "    var ws_proxy = comm_websocket_adapter(comm)\n",
       "\n",
       "    function ondownload(figure, format) {\n",
       "        window.open(figure.imageObj.src);\n",
       "    }\n",
       "\n",
       "    var fig = new mpl.figure(id, ws_proxy,\n",
       "                           ondownload,\n",
       "                           element.get(0));\n",
       "\n",
       "    // Call onopen now - mpl needs it, as it is assuming we've passed it a real\n",
       "    // web socket which is closed, not our websocket->open comm proxy.\n",
       "    ws_proxy.onopen();\n",
       "\n",
       "    fig.parent_element = element.get(0);\n",
       "    fig.cell_info = mpl.find_output_cell(\"<div id='\" + id + \"'></div>\");\n",
       "    if (!fig.cell_info) {\n",
       "        console.error(\"Failed to find cell for figure\", id, fig);\n",
       "        return;\n",
       "    }\n",
       "\n",
       "    var output_index = fig.cell_info[2]\n",
       "    var cell = fig.cell_info[0];\n",
       "\n",
       "};\n",
       "\n",
       "mpl.figure.prototype.handle_close = function(fig, msg) {\n",
       "    fig.root.unbind('remove')\n",
       "\n",
       "    // Update the output cell to use the data from the current canvas.\n",
       "    fig.push_to_output();\n",
       "    var dataURL = fig.canvas.toDataURL();\n",
       "    // Re-enable the keyboard manager in IPython - without this line, in FF,\n",
       "    // the notebook keyboard shortcuts fail.\n",
       "    IPython.keyboard_manager.enable()\n",
       "    $(fig.parent_element).html('<img src=\"' + dataURL + '\">');\n",
       "    fig.close_ws(fig, msg);\n",
       "}\n",
       "\n",
       "mpl.figure.prototype.close_ws = function(fig, msg){\n",
       "    fig.send_message('closing', msg);\n",
       "    // fig.ws.close()\n",
       "}\n",
       "\n",
       "mpl.figure.prototype.push_to_output = function(remove_interactive) {\n",
       "    // Turn the data on the canvas into data in the output cell.\n",
       "    var dataURL = this.canvas.toDataURL();\n",
       "    this.cell_info[1]['text/html'] = '<img src=\"' + dataURL + '\">';\n",
       "}\n",
       "\n",
       "mpl.figure.prototype.updated_canvas_event = function() {\n",
       "    // Tell IPython that the notebook contents must change.\n",
       "    IPython.notebook.set_dirty(true);\n",
       "    this.send_message(\"ack\", {});\n",
       "    var fig = this;\n",
       "    // Wait a second, then push the new image to the DOM so\n",
       "    // that it is saved nicely (might be nice to debounce this).\n",
       "    setTimeout(function () { fig.push_to_output() }, 1000);\n",
       "}\n",
       "\n",
       "mpl.figure.prototype._init_toolbar = function() {\n",
       "    var fig = this;\n",
       "\n",
       "    var nav_element = $('<div/>')\n",
       "    nav_element.attr('style', 'width: 100%');\n",
       "    this.root.append(nav_element);\n",
       "\n",
       "    // Define a callback function for later on.\n",
       "    function toolbar_event(event) {\n",
       "        return fig.toolbar_button_onclick(event['data']);\n",
       "    }\n",
       "    function toolbar_mouse_event(event) {\n",
       "        return fig.toolbar_button_onmouseover(event['data']);\n",
       "    }\n",
       "\n",
       "    for(var toolbar_ind in mpl.toolbar_items){\n",
       "        var name = mpl.toolbar_items[toolbar_ind][0];\n",
       "        var tooltip = mpl.toolbar_items[toolbar_ind][1];\n",
       "        var image = mpl.toolbar_items[toolbar_ind][2];\n",
       "        var method_name = mpl.toolbar_items[toolbar_ind][3];\n",
       "\n",
       "        if (!name) { continue; };\n",
       "\n",
       "        var button = $('<button class=\"btn btn-default\" href=\"#\" title=\"' + name + '\"><i class=\"fa ' + image + ' fa-lg\"></i></button>');\n",
       "        button.click(method_name, toolbar_event);\n",
       "        button.mouseover(tooltip, toolbar_mouse_event);\n",
       "        nav_element.append(button);\n",
       "    }\n",
       "\n",
       "    // Add the status bar.\n",
       "    var status_bar = $('<span class=\"mpl-message\" style=\"text-align:right; float: right;\"/>');\n",
       "    nav_element.append(status_bar);\n",
       "    this.message = status_bar[0];\n",
       "\n",
       "    // Add the close button to the window.\n",
       "    var buttongrp = $('<div class=\"btn-group inline pull-right\"></div>');\n",
       "    var button = $('<button class=\"btn btn-mini btn-primary\" href=\"#\" title=\"Stop Interaction\"><i class=\"fa fa-power-off icon-remove icon-large\"></i></button>');\n",
       "    button.click(function (evt) { fig.handle_close(fig, {}); } );\n",
       "    button.mouseover('Stop Interaction', toolbar_mouse_event);\n",
       "    buttongrp.append(button);\n",
       "    var titlebar = this.root.find($('.ui-dialog-titlebar'));\n",
       "    titlebar.prepend(buttongrp);\n",
       "}\n",
       "\n",
       "mpl.figure.prototype._root_extra_style = function(el){\n",
       "    var fig = this\n",
       "    el.on(\"remove\", function(){\n",
       "\tfig.close_ws(fig, {});\n",
       "    });\n",
       "}\n",
       "\n",
       "mpl.figure.prototype._canvas_extra_style = function(el){\n",
       "    // this is important to make the div 'focusable\n",
       "    el.attr('tabindex', 0)\n",
       "    // reach out to IPython and tell the keyboard manager to turn it's self\n",
       "    // off when our div gets focus\n",
       "\n",
       "    // location in version 3\n",
       "    if (IPython.notebook.keyboard_manager) {\n",
       "        IPython.notebook.keyboard_manager.register_events(el);\n",
       "    }\n",
       "    else {\n",
       "        // location in version 2\n",
       "        IPython.keyboard_manager.register_events(el);\n",
       "    }\n",
       "\n",
       "}\n",
       "\n",
       "mpl.figure.prototype._key_event_extra = function(event, name) {\n",
       "    var manager = IPython.notebook.keyboard_manager;\n",
       "    if (!manager)\n",
       "        manager = IPython.keyboard_manager;\n",
       "\n",
       "    // Check for shift+enter\n",
       "    if (event.shiftKey && event.which == 13) {\n",
       "        this.canvas_div.blur();\n",
       "        // select the cell after this one\n",
       "        var index = IPython.notebook.find_cell_index(this.cell_info[0]);\n",
       "        IPython.notebook.select(index + 1);\n",
       "    }\n",
       "}\n",
       "\n",
       "mpl.figure.prototype.handle_save = function(fig, msg) {\n",
       "    fig.ondownload(fig, null);\n",
       "}\n",
       "\n",
       "\n",
       "mpl.find_output_cell = function(html_output) {\n",
       "    // Return the cell and output element which can be found *uniquely* in the notebook.\n",
       "    // Note - this is a bit hacky, but it is done because the \"notebook_saving.Notebook\"\n",
       "    // IPython event is triggered only after the cells have been serialised, which for\n",
       "    // our purposes (turning an active figure into a static one), is too late.\n",
       "    var cells = IPython.notebook.get_cells();\n",
       "    var ncells = cells.length;\n",
       "    for (var i=0; i<ncells; i++) {\n",
       "        var cell = cells[i];\n",
       "        if (cell.cell_type === 'code'){\n",
       "            for (var j=0; j<cell.output_area.outputs.length; j++) {\n",
       "                var data = cell.output_area.outputs[j];\n",
       "                if (data.data) {\n",
       "                    // IPython >= 3 moved mimebundle to data attribute of output\n",
       "                    data = data.data;\n",
       "                }\n",
       "                if (data['text/html'] == html_output) {\n",
       "                    return [cell, data, j];\n",
       "                }\n",
       "            }\n",
       "        }\n",
       "    }\n",
       "}\n",
       "\n",
       "// Register the function which deals with the matplotlib target/channel.\n",
       "// The kernel may be null if the page has been refreshed.\n",
       "if (IPython.notebook.kernel != null) {\n",
       "    IPython.notebook.kernel.comm_manager.register_target('matplotlib', mpl.mpl_figure_comm);\n",
       "}\n"
      ],
      "text/plain": [
       "<IPython.core.display.Javascript object>"
      ]
     },
     "metadata": {},
     "output_type": "display_data"
    },
    {
     "data": {
      "text/html": [
       "<img src=\"data:image/png;base64,iVBORw0KGgoAAAANSUhEUgAAA3AAAAKACAYAAADdD5p6AAAgAElEQVR4nOzdeZxdZWH/8c9MQBIgEQlV4rC5ANJaMRJFEAlbAFFRFovSChTEorG1af1p0SIBxVqsC11EZIkiKkQEFYEJmfscCWoRK6Ip4hJBDFhBIAxbgiTz/P54zk3unDmzZDIz50zu5/16fV/JvffMPc/dz/ee5YIkSZIkSZIkSZIkSZIkSZIkSZIkSZIkSZIkSZIkSZIkSZIkSZIkSZIkSZIkSZIkSZIkSZIkSZIkSZIkSZIkSZIkSZIkSZIkSZIkSZIkSZIkSZIkSZIkSZIkSZIkSZIkSZIkSZIkSZIkSZIkSZIkSZIkSZIkSZIkSZIkSZIkSZIkSZIkSZIkSZIkSZIkSZIkSZIkSZIkSZIkSZIkSZIkSZIkSZIkSZIkSZIkSZIkSZIkSZIkSZIkSZIkSZIkSZIkSZIkSZIkSZIkSZIkSZIkSZIkSZIkSZIkSZIkSZIkSZIkSZIkSZIkSZIkSZIkSXX1DeBhYMtBLt8WeBK4bAznuRL4/Cj+7hjgvSXnHwr0AftvyqDGwWnAOuD5Y3R9w93+A8doPhtjvO/75wBnAy8ruey7QBin+QLsBXwH6CU9jkeN47wmyhXAryZgPi8iPS+KWQdsPQHzHyvbAF8GHiSN/fxqhzNis4DrgEdI4373BM9/Cunx/uAEz7eorp8NTc3XyYlVD6TFl4BfVj0ISdLQjiF9wB8zyOV/nV8+luVgb2C3Ufzdl4C7S87fFngVaWGrTmaSxrXFGF3fYLf/UMb+MRqp5rzHawGpuYBzUslltzC+Be4mUtmZR3ocZ4zjvCbKRC2cNR+3haT7rjWTyQeBp4G3kca+U7XDGbHPk76YewNp3H8ywfOvU4Ebz/enTVXHAvcCyr8wkyTVyJbAH4BrB7k8A+4Zo3k9axP/frAC0y7ascC9mOoK3G+BS8bw+jb1+T8WxrLADXV7hireY2Ui7s8vASsmYD5jbRnQM4bXt7H3tQVuZDalwNXh/USSVKH/ANYA2xfO35n04XdOy3m7kxZq7gGeIi3c/Cfw7MLfXpFPsz/w/XzaT+SX3Uf/TSifC1xEWrB8Erg3n8eslmm+xIZNsJqbYzUXRA+jfDOZfwR+kd+2+4F/p/9auuZCxtnA3+fjfYxUCl5SuK7X5bfjUeBx4C7gTIb2jvz6WzehXAksIn1g3wU8AdwG7DfMdQ11+5sLKUcBnwUeIm3y9UVgeuF6pgAfAn5Oul/uI20WNpKFgT8BriTdR4+QNqs9hvL7/njgVtLjuQq4CugqTHMi6QuCB/Pr/BHwly2XNxduWm/zOjYs7DQL3Dzg9nxey4E3FuazJ2lT4QeA1aTn15VD3M7mZlet8/1jy+VH5bftqfy2XUMqmq2+m9+2NwE/zuc7f5D5DbawW7Zw13xdvYJ0+58kPcffUXK9h+fzXkN6rryD8gK3Dem1eQ9pbdOvgQ8UpmneJ28CLiV96fPgILendexDFbjnk+7Xd5Vc9lHSa2Pb/PRQ9+c/AD8jPR4Pk15Pbxhivk0nAz8h3T8PAl8gvRfBhsek+Nwbqgh8hPQ87CXdPz3AK0ummwN8jw3Pxffnt/eZwnSjea0O9pppvge9GmiQ3sMeJ61l3qdwHUO9d5fpBD4G/B/p+dgAXkr5c3o2adPOVfn13kL/+/RM0v1S/DyB9Lxd3HJ6pM/bssdtpJ8NC4F/Jt33q0mbVL+0ZGwjeb/bGvgc6Tn6OOl947WMrMB9NJ9uL9Jj9jjwtVHM/6J8/o/lf/+akvmXbWb9/Pz8P5DuhztIa6VbNT/v5gBfIb0O7gc+zeC7aEiSNsEc0htvcUHqg6QPv9aF04NICypvAA4ATiF9sC4r/O2XSG/g9+TXe2A+Hxi4D9xewKdIC2cHACcAPyR9iDQ3P3wBcCPpA+GVpM2Cmpt5lH1In5/fpk+TCt7fkxYIW9fYND+k7wauB15P+iD8DalcdeTTvZj0Qb+ItFB8MPBO4DyGVrYP3Mr8+v+bVH5eT/owfIgNC6tlhrv9faQy3by9f0v6oL24cD1fI314nwkckk/3KPDVYW4L+ZgfAc4g3Q+LSGupivf9e/LzLgKOAP6CtBD6S/rv//Sh/LoOy8dyLmmB/tT88mcBxzFwU7zmFw235PfHT4G35mPqIS3M7doyn7tJC6JvJi0wvZX0/OygXHOT3IdIa6ZfxYYF8Tfkt635fHkbacHx/9iw8N8c2+9Jj8lJpOf/nw0yv40pcF8iLaDdSXp+HUp67PpIC2NNLyXdD98hFdrmY/Bb+he4LUj3zYOkx+1g0uOyBviXlumaz7GVpIXQeQwsymVjf4BUTB4lleg/LUz3ddLzv9UU0uN6Uct5g92fJ5GeM2cCc4EjSQvxJw8xNkj7hPUBl5Oeo+8gLZzeCUzNp3kVaWH5Xja85obaTPsS0vPhQFLJv4r0GtyrZZo/Id0XPwGOBY4mvXf+hv5fEsDoXqtb5uNcTlqgb457C1J5Wp2ff0w+//8hLfS3Pi5DvXeX+Rdgbf7vYaTn8a9Jr5PW5/Qr83l9J5/364Bv52NqvpftnF9X8QuJfUmPV7OYb8zzdlM+G34L3Ex6nE4gvXYeoP/m1CN9v/tqflvfn8/3E6TnVuuXUoP5CBu+tPsA6bn+2o2c/5Wk0vy+/H75OOkxLs6/+CXPtqTX3e9J781HkPYL7SN9/jedlp/3c+DDpOfsWfn1f2iY2ydJGqX/JS2gt/oZ6ZvvoUwhfZiso/8C6pfy844s+ZvhDmIyhbSPXB9pIbn1OofahLD5Ib0DaeH1osJ0JxfG1PyQ/hnpW+SmE/Lp5hROTxtizGUGK3B/oH9Zay6cHD/M9Q11+/sYeJ9eSPqmtungfLoTCtOdxMDHr+h1+d8W95W8if73/XTSQueFheleQFpAHexgCh2kx+MyUnlvGm4fuDX0L2s75tO/Lz/9vPx02fNwOP/HwPv0DtLzpbX8vYhUUj5eGNtaBhaWMhtb4IoLpFuRivV/tpx3FWmBa6uW83YlPQatC2fNfVz3Lcz7w6SFzefkp5vPsaHWXLbqysfzJlKxfAdpYXEV/b8Qar52W+d/bH7e7JbzBrs/LyQVko0xhbTgv6Rw/lzSbTyj5byvMrpNTjtJJWMF/ddenU9aiG4t+9Py8bQWuE15rUJ6L7+pcN43SF9KtJbQZ5Mek9bHdaj37qLtSaXsgsL5H2Tgc/pmUnFtfa/tJK0Ja12zFvJpW/0n6T6akp/emOftpnw2FF9DLyS91s/KT4/0/W6v/PoXFKb7PCMvcOvo/9zcmPn/af73xYNg/VfJ/IsF7u/zaYpbiWSkL1qamgWu+D52I2n5QpI0Dt5P/7VtryK9GZ9emO5ZpE1K7iItiLRupnNsy3Rfyi8vU1bg5pM+3B8vXOc/FK5zJAXujZTvE/YsNnxTDBs+pD9TmO5P8/Obt2cP0of+dfl5Owxyu4oGK3DfKEy3dT6/f2BowxW4NxfOf3c+/+Yaq4+TFramkm57M7MYuOBadA6pLBXXWp1K//v+yPz0awvz2IK0dqN1QXEPUtG4j/S4NB/3x1qmGa7AFdfeQFrQ+/f8/x2k4vBT0uPxoiFuY1GxwE3Px/LhQcby34XTPx/hfDa2wD1ach23Ad9qOX0v5fvvLaP/wtmV+ekphexH/+LbfI69ddhbM7hdSK/vywrn31U4bwn9SzwMfn+eSlqg/gzpG/+RfMny5wz+nFpJ/zVcG1PgDict1D5E//ew1sflZmBpyd9+kf4FblNeq1Be4B6m/GjCXyI911tPD/beXXQw6TYeUDj/hfR/Tm9Neo3/MwPfFz5LKkpNf51P2/xiZgvSa7q1JG7M83ZTPhvKXkPfB27I//86RvZ+13yfLB4E5xBGtglls8DtWDh/pO+3zfkXN6tsflEwVIH7OuWfO83Ptz0Lp19emO58+r+nS5LG0PNJH2Dn5qf/k/QhXtwX4QLSgvwHSJtT7sOGzdyKHwKDHfykWOAW5H//cdIH7j6kfTWKC7UjLXDNb1N3L5n2D2z49rX5IV1cIC9bcD6Y9E3ik/l1f5+BCy1FgxW44kLUYAvwRcPd/uJCSXH+l1F+aPfmguZQm7l8nv7ftja9nv73/UnDzKO58DqdtHnST0mbnb2atF/XIvovyA5X4ELJ+cXn1wtIC8h/YMOmpsUvJsoUC9yulH+pAWlzt18UxpaNYB6w8QWu7DlwC/0X2J+mfBPfr9F/4Sww9OPV3Cex+RybO+ytGdoS0uZ9rd5L2oTt2aQF/3Vs2Iy2aaj782+AH5Dev54CriZtijeY5hYD80ou+yH918yNtMDNIT1vryGVhFeSns8/pf/j8kvS5mdF59P/eb8pr1UoL3DrKH9OfIL0fGka6r276ETK32u3of9zehcG7pvXentab3vzp2uat/HofJrW/Qk39nk72s+GsvvrWtKXjTD8+13zMWjujlDcF+zP2LgCV7Sp829+WTlUgctI+2wWNd/7m2vmmp83u5SMvbh5sCRpDHWTFg63JH3jWbavxe9Jm120ah5EZCQLmjBwAftWNnyj2dQ8+uBoClzzW9bXFqbbkrSQ97H89MYUuKZnkcrc90j7iWxXMk1T3QrcJ0hrQGaTFi6LKX6722qka+Ben9+Wtw0yj+aCU/Ob4+JBHr7M2Be4VnuTDsLRR7rfhjLYGrizSqa9hVTqhxvbYJ4m7efXqrkWfDQFbqRr4JrFc7DnRHFTtOJzbGPdRCo1rZ5Nel7+LWkNyKMM/K24kdyf25E2Obw/n34wzTVwby+5bCXpAAxNIy1wHye9HxRfH/fR/3EZbA3c5fR/3m/KaxUGXwN3acm0XwJ+Vzg92Ht3UXMNznBr4KaTnj+fZPDb1OorpDWzkDavvKtw+cY+b0f72TDcGriRvt81N/nc1DVwRRs7/9Gugft1ybybny97FE5b4CRpgr2N9Ab8b/m/ryuZppeB+zt8hfLt6Eda4H4KfLMwzccYuBP8JfTf1KdpsP0cikWz+e3rEfnp0RS4pubv5+09xDRjXeCGu/3DFbjmdMWFl5E4kv6blTYtpf9931wYLys5rcr2c5pJen61ftjvlM/3b0quYzQFDtLCXR/lP4reqmwfuNsZuAapuV/Mx1rO29gCt4K05qjVuYz8dVUscFeSvmyZ2nLebgzcB+400j5Dw21aOhYFbjfSc6PssbmYtG/h70lHxS3amPvzAtJ+XYOZQvqC6vrC+c194N7Zct5IC9y/kwpSa4E7PL++1sflX0lrCZ/Xct7WpLU/rc/7TXmtQnmBu4Z0AI7WzUyfTdp/srW0bkyBa+4D9++F8z/EwPfvWygvr2WamybOI91fxSP+buzzdrSfDcXX0ItIr/V/zk+P9P2uuQ9ccTP5i9m4feCKRjr/5j5wf184/8KS+RcL3N/l0xR/wzEwcB84C5wkVWAq6dvvdaSF186SaRaTPjDOIH24fp50tMhNKXDnkz4UP0D6wP0X0rerxQWAf8jPO520yVJzR/7m/jmtB3b4V9I3qp/Mx7kgH3ejZZqRFrh357fnL0kLsMeTDnn/G4Y+PPJYF7jhbv9wBQ7SPmcPkxaw5uV5J2mzoBcMM//vkxb23kVaOP0C5UehfDdpIemzpG+855Luy4uBt+TTPI+0X8StpIW1E0jF6Jf0/7DvzOf5HdLC7D5s+HZ9JAVuNunIlO8k3U+Hk57Daxj+x2rLCtzrSc+rb+f/P5H0/P8dA49CuTEF7qOk2/1P+TjPYcNrYDQF7s9Ij8Ey0iZobyWtxbiX/gtnW+bTrCQV2kNIZf1v8+trPr8He44N5tOkL4KOJ21q/a583g+RCm/Ry9mw2VfZYdoHuz8vIa2tOpb0/DidVIaGO9jKu/J5fYENR6F8gHSwhdYF9pEWuKPy6/si6T6cT3pOrKT/49I8CuVPSffNm/Pb9hvSc7LVprxWywrcy0ll6PukL6COI20y+gQDj0I50gIH6YuLtaS1kEMdhXIO6T24m3SkxANJj9vHSM//Vp2k19/K/LqLpWBjn7ej/Wy4l/6voV+SSl3rUShH8n4HqSSvJn3OHUZ6fWzMUSjLCtzGzP+rpMf//+Xzbz0KZeu+rcUCty3pPe5+0hYXR5K2lFhH/6O9WuAkqULNbwT/bZDLdyAtHD1CWrj4AmkzuLIFzbLNLiAt9LceBWxr0jeBD5DWwFzLhn1hWr953Zb0IfRwflnzQ6b4LWvTP9D/N5Q+Q/9Ns6bkf1f89vJFhduzP+nAI78lfQDfT/owLv72V1FZgfotAzdjao5juN+VG+72j6TAdZAWeO4gfZg/Qlqr9C8M/TMGkB77r7Lhd+AuJS2Alt33R5EWuHtJC4i/ID239miZ5pB83k/lt+XdlH/YH0PaIf9p+j8ut9B/oaup9fn1PNJz9Bf5OB7Kx3XIMLcV0gJ48Wh1kArnf7Phd+CuZuCagMHGNpippLUY95MW8K8gfeM90tfVLQw8qmLz9/FWkxbATiVtqlcsJFuRNt+8K5/2D6Tb988t02zsGrh3kA6s8jDpcbs/n/dQa0xWMPhRbwe7P08m7aPzABt+l/J8hj7cf9PbSa+D1aQ1cpeRClarr9J/38ah/B2p+DxJ+mJiLmnhv/i47EO6nU+RnqtnktY6PlCYblNeq/9dMl9IR23sIRWWx/JpZhemGeq9u8wU0r5izd+B62HDGp/ie9pepM+PB0jvy/eS1gweXnK9n8qvY7B9HzfmeTuaz4Y+0m+Efiif5inSe0fZFwwjeb+bRvqca/4O2zWkTU9HWuDWDnH5SObf/Jxtnf8b8tvZurXNlxj4nJ9Fev02fwfuxww8QupQBe5pJEmStFlpLvD/VdUDqcAU0trnG6seiNYbbOuMzc2ZpGI43D6VkiRJEpAOqnAQaQ3bvQy9SfLm4qOktX9zSZsxLiEtRA93UB1NnM2xwL2RtPnk4XnOI61N+2KVg5IkSdLk0tw0bDkDfyh4c/VR0iatT5I2Zfwu5QeMUnUG27x+MjuYtGnvI6RNR39Nei62w5cmkiRJkiRJkiRJkiS1uQ7SfhYzjDHGGGOMqVm66P87klLb6wKiMcYYY4wxNU0XktabAcSVK1fG3t5eM4kzf/78ysdgfAyNj+PmEh/HyR8fw8mflStXNgvcjIqXl6VamQHE3t7eqMltwYIFVQ9Bm8jHcPPg47h58HGc/HwMJ7/e3l4LnFTCAreZ8INq8vMx3Dz4OG4efBwnPx/Dyc8CJ5WzwG0muru7qx6CNpGP4ebBx3Hz4OM4+fkYTn4WOKmcBU6SJEm1Y4GTylngJEmSVDsWOKmcBU6SJLWd1atXV36URdMbV69ePehjZIGTylngJElSW1m9enXccccdq/5tMwNxxx13HLTEWeCkchY4SZLUVprFwN/BrTbN33kbbDnUAieVs8BJkqS20iwGLv9Ua7jHwQInlbPASZKktmKBqwcLnDQ6FjhJktRWLHD1YIGTRscCJ0mS2ooFrh4scNLoWOAkSVJb2RwL3NVXXx2PO+64uOuuu8Zp06bFPffcM5555pnx8ccf7zfdqlWr4mmnnRZ32GGHuM0228TDDjssLl++fMD1rVmzJr7vfe+Ls2bNitOmTYv77bdfXLZs2YDp+vr64sc+9rG42267xalTp8a99947fv3rXx/RmC1w0uhY4CRJUlvZHAvcq1/96njCCSfEr3zlK3HZsmXxggsuiNttt13cb7/9+k13wAEHxJ133jleddVVccmSJXHu3Llxhx12iPfff3+/6U488cT4nOc8J1566aUxhBCPPfbYOG3atPiTn/yk33Qf/OAH49SpU+OnPvWp+J3vfCeeccYZsbOzM954443DjtkCJ42OBU6SJLWVYQvcnDkxdnVNbObM2aTb9NBDDw047/LLL4+dnZ0xy7IYY4zf+MY3YmdnZ7z55pv73Rfbb799fO9737v+vDvuuCN2dHTEL37xi+vPW7t2bdxzzz3jm970pvXnPfjgg3GrrbaK55xzTr/5HnrooXHvvfcedswWOGl0ZgBx9uzeOr8nSZIkjZlhC1xXV4wwsenqGvPbedddd8WOjo54xRVXxBhjPO200+JOO+00YLqTTz457rbbbutPn3vuuXGrrbYa8APbZ599dpw6dWr84x//GGPcUBBXrFjRb7pFixbFzs7O+Jvf/GbI8VngpNGZAcRZs3on23uSJEnSqLRLgbvwwgtjZ2dnvP3222OMaTPLI488csB0559/fuzs7IxPPvlkjDHGt771rfElL3nJgOkWL14cOzs7489+9rMYY4z/9E//FKdNmzZguttuuy12dHTEG264YcjxWeCk0bHASZKkttIOBe6+++6Lz33uc+MRRxyx/rw99tgjvu1tbxsw7SWXXBI7OzvjfffdF2OM8fDDDx+w71yMMfb09MTOzs743e9+N8YY4zvf+c44a9asAdOtWLGi35q/wVjgpNGxwEmSpLayuRe4J554Iu6zzz5xp5126ndwkt133z2eeOKJA6a/+OKL+xW4efPmxf3333/AdEuXLu1X4E4//fT4/Oc/f8B0v/rVryxw0jiywEmSpLayORe4NWvWxIMPPjjOnDkz3nnnnf0u23fffUe0CeUJJ5wwok0oP/CBD7gJpVQBC5wkSWorm2uBe+aZZ+JRRx0Vp0+fHm+77bYBl5966qlx5513HnD+KaecskkHMfn1r3/dbzoPYiKNLwucJElqK5tjgevr64tvectb4rRp09b/bEBR82cEWn+Qu7e3N86cObP0ZwQuv/zy9eetXbs27rXXXqU/I3Duuef2m8+hhx4aX/aylw07ZgucNDoWOEmS1FY2x9+BO+OMM2JHR0c866yz4q233tovzX3b+vr64v777x932WWXeOWVV8bu7u44d+7cOHPmzPXTNL31rW+N22+/fbzkkktio9GIxx13XJw2bVq84447+k3XPBJl6w95T5kyJV5//fXDjtkCJ42OBU6SJLWVYQvcJLTbbrvFzs7O0rT+0PaqVaviaaedFmfOnBm32WabOG/evLh8+fIB17dmzZr4j//4j3HWrFlx2rRp8dWvfnW/NXdNfX198bzzzou77bZbnDp1atx7773jNddcM6IxW+Ck0bHASZKktrI5FrjJyAInjY4FTpIktRULXD1Y4KTRscBJkqS2YoGrBwucNDoWOEmS1FYscPVggZNGxwInSZLaigWuHixwqoszge4xvs4bgA8NM82FwOdHcd0WOEmS1FYscPVggdNQvgP0AacXzt8WeBxYB7xwgse0KfqAQ8bouixwkiSprVjg6sECp6FkwHLgR4Xz35Wfb4GzwEmSpDZhgasHC5yGkgEfA1YCr2w5/yfAfPoXuH3z6R8C7gHOBaa0/E0f8B7gu6S1dz8BXtNy+dnALYV5fwb4MvAocC9wRmF8fw38CugFrgb+I/+71us4N////+bjfRJ4DLg+P38RcHnL35yb395e4LfARylngZMkSW3FAlcPFjgNpVmAzgYuy887gFTQXkgqZS8E9iSVorcAHcDOwI9J+7U19eXnvQDoBD4N/Kbl8rOBZYV5rwLm5qePBdayoTC+FlgDHJ7P83WkchZKxt86hoMLt7G1wB1GKm9d+entSMW0zAwgzp7dG7u64rhlzpwJfkeQJEkahAWuHixwGkqzAHWR1oLNAK4gFbNd2bAG7oL8/FYnktaONfUBf9ly+k/zv/+T/HRZgbukcJ0PkkoiwMXAlYXLv8bwBa64CWVrgTswn8eRwFSGNgPfwCRJUhuxwNWDBU5DaS1A1wIfIa1pex79C9wNwFPAIy15lLQZYlOxPLX+PZQXuNbyBWnN36n5/28A/rVw+SfYtAIHcArp4C29+d8fRrkZQJw/f35csGBBXLBgQezu7p7gl68kSdLE2RwL3NVXXx2PO+64uOuuu8Zp06bFPffcM5555pnx8ccf7zfdqlWr4mmnnRZ32GGHuM0228TDDjssLl++fMD1nXnmmfHwww+PM2fOjB0dHfGLX/xi6Xznzp0bOzo6+qWzszNecMEFw4657HHo7u5ev0w6f/58C1wbay1AR5AKV3OtV2sBu4yBa8uKxrrAla2BW8zQBW4dwxe4pi2BBcBqYJuSy9MauHnz0naOE5FddnEbTEmSVJnNscC9+tWvjieccEL8yle+EpctWxYvuOCCuN1228X99tuv33QHHHBA3HnnneNVV10VlyxZEufOnRt32GGHeP/99/ebbvr06fHAAw+Mp5xySuzs7By0wB100EHx5S9/ebztttviD37wg/V54IEHhh2za+A0lGIBOhh4fv7/XdmwD9wc0hq340nFpxN4Ean0NZUVuObfw8YXuNeSytW8fH5HAk8wdIG7j3QEzVatBe6V+fU2N588nbRfXdnmlKnAzZo1fkcw8SgokiSpRoYrDnPmjN9xAcbru+qHHnpowHmXX3557OzsjFmWxRhj/MY3vhE7OzvjzTff3O++2H777eN73/ve0utdsWLFkGvgDjrooPja1752VGO2wGkogYElqqm4Bu2VwBLSPmSPALfT//fjimu/hlsDVzbvu9lQ4CAdhXIFaXPHrwOfI21aOdh1vJ10NMtHgG/l57UWuIOBH+bXtwr4AakglrHASZKktjJccejq2jwWde66667Y0dERr7jiihhjjKeddlrcaaedBkx38sknx9122630Oixw0shcC1w4QfOywEmSpLbSLgXuwgsvjJ2dnfH222+PMabNLI888sgB051//vmxs7MzPvnkkwMuG0mB23bbbeOzn/3suOWWW8aXvexl8dJLLx3R+CxwmsyOBaYDWwAnAH+k/2/LjScLnCRJaivtUODuu++++NznPjceccQR68/bY4894tve9rYB015yySWxs7Mz3nfffQMuG67AnX322fGSSy6Jy5Yti9/61rfi8ccfHzs6OuJ555037BgtcJrMFgEPk46MuZz+P1Mw3ixwkiSprWzuBe6JJ56I++yzT9xpp536HZxk963YR5MAACAASURBVN13jyeeeOKA6S+++OJRF7gyxxxzTNx6661L1+i1ssBJo2OBkyRJbWVzLnBr1qyJBx98cJw5c2a88847+1227777jvkmlGUWL14cOzs746233jrkdBY4aXQscJIkqa1srgXumWeeiUcddVScPn16vO222wZcfuqpp8add955wPmnnHLKqA9iUuaqq66KnZ2d8Qc/+MGQ01ngpNGxwEmSpLayORa4vr6++Ja3vCVOmzZt/c8GFDV/RmDZsmX97ouZM2eO+mcEyhx99NFxm222iU899dSQ01ngpNGxwEmSpLayOf4O3BlnnBE7OjriWWedFW+99dZ+ae7b1tfXF/fff/+4yy67xCuvvDJ2d3fHuXPnxpkzZw7Y/+3mm2+OV199dfyP//iP2NHREd/znvfEq6++Ol599dXrp7nlllvi61//+njppZfGRqMRr7nmmnj00UfHzs7O+IlPfGLYMVvgpNGxwEmSpLYyXHGYjHbbbbfY2dlZmnPOOWf9dKtWrYqnnXZanDlzZtxmm23ivHnz4vLlywdc30EHHTTo9TWtWLEiHnXUUXGnnXaKU6dOjdOnT4+vec1r4lVXXTWiMVvgpNGxwEmSpLayORa4ycgCJ42OBU6SJLUVC1w9WOCk0bHASZKktmKBqwcLnDQ6FjhJktRWLHD1YIGTRscCJ0mS2ooFrh4scNLoWOAkSVJbscDVgwVOGh0LnCRJaisWuHqwwEmjY4GTJEltxQJXDxY4aXRSgZs9O5WkumbOnAl+S5EkSZsrC1w9WOCk0UkFzjcwSZLUJprFYOXKlbG3t9dUlJUrV1rgpFGwwEmSpLayevXquOOOOzbLgakwO+64Y1y9enXp42SBk8pZ4CRJUttZvXp15WugTO+g5S1GC5w0GAucJEmSascCJ5WzwEmSJKl2LHBSOQucJEmSascCJ5WzwEmSJKl2LHBSOQucJEmSascCJ5WzwEmSJKl2LHBSOQucJEmSascCJ5WzwEmSJKl2LHBSOQucJEmSascCJ5WzwEmSJKl2LHBSOQucJEmSascCJ5WzwEmSJKl2LHBSOQucJEmSascCJ5WzwEmSJKl2LHBSOQucJEmSascCJ5WzwEmSJKl2LHBSOQucJEmSascCJ5WzwEmSJKl2LHBSuRlAnD27N3Z1xQnPnDlVvzVIkiSpjixwUrkZQJw1qzdCnPB0dVX91iBJkqQ6ssBJ5SxwkiRJqh0LnFTOAidJkqTascBJ5SxwkiRJqh0LnFTOAidJkqTascBJ5SxwkiRJqh0LnFTOAidJkqTascBJ5SxwkiRJqh0LnFTOAidJkqTascBJ5SxwkiRJqh0LnFTOAidJkqTascBJ5SxwkiRJqh0LnFTOAidJkqTascBppM4EusfpuucCfUDnOF3/aFjgJEmSVDsWOAF8B3ga6AVWAfcC1wBHTdD85wLrsMBZ4CRJkjQkC5wAMuDcltM7AO8CHgM+Mkbz2HKQ87fAAmeBkyRJ0ohY4AQDC1zTqcAzwAuBs4FbWi57N7CctNbud8DlwMyWy5vTnwvcD/xvfv49wELgxvxv38+GAncc8Iv8/JuAWS3X92zg88BK4EHgemCPwnhPAu4AHs3HdkLLZTsC1wG/JxXTO4DjS25zkwVOkiRJtWOBEwxe4KYCa4HTSYVsWctlxwAvzv+/M/DfwJdbLj8b+CPwIeBZ+XVBKnC/A17VMo+5pH3gvgRsC0wHvgssarm+64AG8Cf533wa+C2wdX75KcBvgNn56f1JRXD//HQX8GZgGjAF+Ot8fHuV3G6wwEmSJKmGLHCCwQscpDVW/8TAAlf0ZuAPLafPJq0tK7oH+GjhvOYauK6W894N3Jn/fxap4L205fIt8vn9RX76J8A7Ctf7+TyDuQOYP8hlM4A4e3Zv7OqKE545c6p+a5AkSVIdWeAEQ6+BW0f5Grhjge8BD5A2WXw8n7Yjv/xs0lq0onsYWLTK9oE7mbSGDeCV+eVbF/7uf4D35f9/irRp5CN5VuWnr8sv345U5u7Ox7uKtAbunJIxQl7gent7q36NSpIkSetZ4ATD7wP3IvoXuC7SppV/wYaDk7yZ/iVssDV29+TX22q4Ardjfvmft1w+hbQv3Fvy03cDf1V243IXATfTfy3fHQy+5nEGEOfPnx8XLFgQFyxYELu7u6t+vUqSJKkNdXd3r18mnT9/vgVOpUeh/BvSPmTn5ee1FrI9SYXq0Pz07sAPGL8CB2lN2k3Ac0n7sX2StInmNvnlf0c6AMoc0lrArfL/vyK//KukA6dsTdon729J5XTIAtc7b17anrHK7LKL22NKkiQpxugaOCUZsIa0yeGjpOJ0LfD6lmmKhez9pIOR9JI2lXwPIytwdzO6AtfcBPI+0r5vN5CKZKu3kTarfIS0di4AB+SXvYi0Bu7x/DrOZeh9/1KBmzVr4o9g4hFRJEmSNAgLnFTOAidJkqTascBJ5SxwkiRJqh0LnFTOAidJkqTascBJ5SxwkiRJqh0LnFTOAidJkqTascBJ5SxwkiRJqh0LnFTOAidJkqTascBJ5SxwkiRJqh0LnFTOAidJkqTascBJ5SxwkiRJqh0LnFTOAidJkqTascBJ5SxwkiRJqh0LnFTOAidJkqTascBJ5SxwkiRJqh0LnFTOAidJkqTascBJ5SxwkiRJqh0LnFTOAidJkqTascBJ5VKBmz07FaDJnDlzqn6fkSRJ0hixwEnlUoHr7a36NSpJkiStZ4GTylngJEmSVDsWOKmcBU6SJEm1Y4GTylngJEmSVDsWOKmcBU6SJEm1Y4GTylngJEmSVDsWOKmcBU6SJEm1Y4GTylngJEmSVDsWOKmcBU6SJEm1Y4GTylngJEmSVDsWOKmcBU6SJEm1Y4GTylngJEmSVDsWOKmcBU6SJEm1Y4GTylngJEmSVDsWOKmcBU6SJEm1Y4GTylngJEmSVDsWOKmcBU6SJEm1Y4GTylngJEmSVDsWOKmcBU6SJEm1Y4GTylngJEmSVDsWOKncDCDOnt0bu7qiMeOaOXOq/iiQJEmThQVOKjcDiLNm9UaIxoxrurqq/iiQJEmThQWuJnro2e8mbppT9Ti0ngXOTFgscJIkaaQscDVwHddtnZE9lpH9biELO6sejwALnJnAWOAkSdJIWeBqoEHj7YHwRCA83aDxxqrHI8ACZyYwFjhJkjRSFrgaCIRGIHwxEL4RCF+vejwCLHBmAmOBkyRJI2WBq9hSlu4SCGsbNA4JhOMCYU033dtXPS5Z4MzExQInSZJGygJXsUA4KxDuBbiIi7YMhIcaNN5T9bhkgTMTFwucJEkaKQtcxQJhRSCc13L6sxnZ7VWOSYAFzkxgLHCSJGmkLHAVatA4MBDW9dCzR/O8QNg3ENYtYclLqxybLHBm4mKBkyRJI2WBq1AgXBYIt5ac//NA+GQVY9J6FjgzYbHASZKkkbLAVaT5228NGu8qXhYIHwyE3y9m8ZQqxibAAmcmMBY4SZI0Uha4ivTQ87yM7ORv8s3pxcuu47odMrKTr+Xa7aoYmwALnJnAWOAkSdJIWeCkchY4M2GxwEmSpJGywNVIg8aBS1iyTdXjEGCBMxMYC5wkSRopC1xNLGbxlEBY16DxiqrHUkMnAndN8DwtcGbCYoGTJEkjZYGricUsnpKR9bVRgcuAc6sexBAscGbCYoGTJEkjZYGrCQvcuNvYI3pa4MyExQInSZJGygJXEwtZ2JmR3RMIf1b1WCZIxoYCdw9wFnA98BjwK+DNLdOeDKwc5G+b7gFOzf+/K9CXn74DeBI4AHgG2KXwd98Gyn5zzwJnJiwWOEmSNFIWOFUlo3+B+w2wd356AdALbJufPhn47SB/23QPAwvcLcDzgQ7gWUA38JGWv9mZVOr2KBnfDCDOnt0bu7qiMeOaOXOq/iiQJEmThQWuPjoC4bKlLC2uIdpcFQvch1ou25pUwF6Znx5tgTusMM2bgfuAzvz0uUAYZHwzgNjb21v1a1SSJElazwJXE22+D1xr+WrqAw7J/z+aArcOeHFhms78et6c//8+4C8GGd8MIM6fPz8uWLAgLliwIHZ3d1f9epUkSVIb6u7uXr9MOn/+fAtcHVjgNqrAfYv++61tQdrPrVjgXlgy37OAG4E3AQ/kf1smrYGbNy9t32bMRGWXXdwGU5IkDco1cDVhgduoAvdh0oFOZgHTgE8ATzNwE8qyArcjsAa4Hfj4EONLBW7WrOqPcGHMcOnqqvqzRJIkTRALXH10ZGRnX8/1O1Y9kAkSgHPy/9/NwAK3jsEL3HTgSuBR0sFP3lm4jl0ZfA0cwGJg7RCXgwXOTKZY4CRJahsWOE0GpwIrxvD6Pg4sGWYaC5yZPLHASZLUNixwNbGYxVMCYV0bbUK5Mf6TtN/aWNgF+ANw+DDTWeDM5IkFTpKktmGBq4k23AdupH4G/BQYi/vlCtIPhX96BNNa4MzkiQVOkqS2YYGrCdfA1Y4FzkyeWOAkSWobFriacA1c7VjgzOSJBU6SpLZhgauRBo1dL+KiLasehwALnJlMscBJktQ2LHA1EggnfZtvP6fqcQiwwJnJFAucJEltwwJXE+4DVzsWODN5YoGTJKltWOBqwn3gascCZyZPLHCSJLUNC1xNWOBqxwJnJk8scJIktQ0LXE0sZGFnRpbdxE27Vz0WARY4M5ligZMkqW1Y4KRyFjgzeWKBkySpbVjgaiJfAxdcA1cbFjgzeWKBkySpbVjgasJ94GrHAmcmTyxwkiS1DQtcTVjgascCZyZPLHCSJLUNC1xNWOBqxwJnJk8scJIktQ0LXI1kZCd/m28/p+pxCGgWuNmz08KxMXXOnDlVf5ZIkqQJYoGrkaUs3WUhC7eoehwCmgWut7fq16gkSZK0ngWuJhazeEogrHMTytqwwEmSJKl2LHA14T5wtWOBkyRJUu1Y4GrCNXC1Y4GTJElS7VjgasI1cLVjgZMkSVLtWOCkchY4SZIk1Y4FTipngZMkSVLtWOCkchY4SZIk1Y4FTipngZMkSVLtWOCkchY4SZIk1Y4FTipngZMkSVLtWOAqtJSlz+6h53mt5wXCSQ0aH2/QOKSqcQmwwEmSJKmGLHAVCoRvBsLnmqcbNP45I+sLhIcDYW0gHFfl+NqcBU6SJEm1Y4GrUEb2u0A4tvV0RvYRgAaNzwTCrdWNru1Z4CRJklQ7FrgKBcKapSw9IP//3oGwrkHjRQA99BwcCI9WO8K2ZoGTJElS7VjgKpSRrQyEkwAC4f0Z2d3Nyxo0XmeBq5QFTpIkSbVjgatQIHwuI/tdg8a/BcJDDRofb7ns/2VkP65yfG3OAidJkqTascBV6AZumBEIl2ZkyzOyRUtYsk3zskD4Xmuh04SzwEmSJKl2LHBSOQucJEmSascCJ5WzwEmSJKl2LHDV6mjQeEcgLMnIfpaR3d2aQPh11QNsYxY4SZIk1Y4FrkKB8LGMrC8j++98X7gLi6l6jG1sBhBnz+6NXV3RtEHmzKn67ViSJGl4FrgKBcJ9gXBu1eNQqRlAnDWrN0I0bZCurqrfjiVJkoZngatQIPQ2aBxS9ThUygLXZrHASZKkycACV6GMbFGDxkerHodKWeDaLBY4SZI0GVjgJliDxqtacnggrAiETwbCEYXLXtWg8aqqx9vGLHBtFgucJEmaDCxwEywj6wuEdc3kBzHpKzs/ENZVPd42ZoFrs1jgJEnSZGCBm2CBMHdjUvV425gFrs1igZMkSZOBBU4qZ4Frs1jgJEnSZGCBq1AgrBtsP7dA2MdNKCtlgWuzWOAkSdJkYIGrUEbWN1iBW8rSV2dkf5zoMWk9C1ybxQInSZImAwvcBLuJm57fPMJkXuBOKTn65IEZ2aKM7FdVj7eNWeDaLBY4SZI0GVjgJlhGdnbxiJPF5EelfKZB4/Sqx9vGLHBtFgucJEmaDCxwE6xBY9dAmLuUpQfla+DeVTzyZA89+/XQM7PqsbY5C1ybxQInSZImAwtchQJh7jf55vSqx6FSFrg2iwVOkiRNBhY4bc4uBD4/yr+1wLVZLHCSJGkysMBVrEHjlEC4NSN7JCN7qpgxms13gKeBx4BHgZ8Cp47RdW+uLHBtFgucJEmaDCxwFWrQeHsgPB0IF+UHNrkkEL6Yl7lfZWRnj9GsMuDc/P8dwF8CfcCBY3T9myMLXJvFAidJkiYDC1yFMrIfB8KHF7N4Sn5Ak1cAXMu12wXCjxo0/n7MZrWhwDX9AViQX/YZ4MuktXP3AmcUpt03n+4h4J78ujrzy3YllcEXtkw/Nz+vOc3ZwC3AOcDv8vl8HNgOuDI/fTdwdGG+pwDL2bDW8KSWy5rzPQm4g7R28fvAXi3TLAIubzl9DvCLfNp7gX8HplLOAtdmscBJkqTJwAJXoYzs8R56DgY6MrJnAmFu87Ieeo7PyO4es1ltKHBTgLcDa4ED8stWkUoXwLH5Zc1Ctiep8LyFtPZuZ+DHwJn55bsC6xhY4NbRv8A9Dbwnn/8+wB+B24D982kWAA+zoVAdB/QCB+XzPRR4nA0lb1dSgbsJeC7wLOBr+e1pWkT/AveXQFf+/72AXwHnUc4C12axwEmSpMnAAlehQPh9g8bhABnZb1t/9y0Qjg6EJ8ZoVhmwGngEeBD4IfBXLZddUpj+QVJhA7gAuKJw+Ymk8gMjL3DFHyW/nXSQkabtSYXsz/PT3cAnC3/zGeCGlvn2Aa9pufwooPU+W0T/Alf096T7oswMIM6e3Ru7uqJpg8yZU/XbsSRJ0vAscBXKyG4MhL8DCIRLM7J7GjSO6aHnDYFwZyB8b8xmNXATyqEuu4cNBzm5AXiKVP6aeZS0dgxGXuCWFeZxC/DhltNbkQpZc43cncC7C3/zHuB/N2K+xQL3N8CPSJuCrgKeJG1KWWYGEHt7e6t+jUqSJEnrWeAq1EPPkQ0aZwB00z0rEH6UkfXlBzS59yZuevkYzWpTCtxlDFxD16q45gzSGrpNLXAjWQO3MQVuP9JmmweSNuOEtAbut4PcrhlAnD9/flywYEFcsGBB7O7urvr1KkmSpDbU3d29fpl0/vz5Frga6eim+8U99LzsIi7acgyvd1MK3BzSGrfjgS1J5ehFwBEt068gbWo5hVSofsSmF7jj2bBvXidwCGmt35vyy5ubUI60wB1BWpP4p/npV+TjHrLA9c6bl7atM+2VXXZxG01JklRLroFrD4HBC1zZZXfT/3fiXgksIe0b9whp/7XTWy7fn3SUyMeA75KOYjlcgVvGwAK3jg0FjnwMd5KK23Lg5JbLNnYNXAfwKdLRN1eR1uT9M8MVuFmzqj+6htk80tVV9fu9JEnaDFjgKraEJS8JhK8EwopAWNP8KYGM7COBcMRwf69xY4EzYxsLnCRJGgMWuAr10HNwIDydkd0eCOe3/hZcIJwbCN+seoxtzAJnxjYWOEmSNAYscBXKyG4LhCsBFrJwi9YC10PPmzOyldWOsK1Z4MzYxgInSZLGgAWuQhnZ6h565gEsZvGU1gLXoHFgIKypdoRtzQJnxjYWOEmSNAYscBUKhAcC4UQoLXCnZGSDHWBD488CZ8Y2FjhJkjQGLHAVCoQvZGQ/66Hnec0Ct5SlsxezeNuM7MeB8F9Vj7GNWeDM2MYCJ0mSxoAFrkLXc/2OGdndgdCbkX0rENYFwpKMbGUg/KKHnplVj7GNWeDM2MYCJ0mSxoAFrmJLWfrsjOzsQPhuRvbLQLg1EM69lmu3q3psbc4CZ8Y2FjhJkjQGLHBSOQucGdtY4CRJ0hiwwEnlLHBmbGOBkyRJY8ACN8EysnsysrtHmqrH28YscGZsY4GTJEljwAI3wQLhcxnZhS1ZGQhPBML1gXBZ/u8TGdlvA+GzVY+3jVngzNjGAidJksaABa5CgbAgI/th8WiT13HdDhnZDzOy91Y1NlngzBjHAidJksaABa5CgXBvILyp7LIeet4cCPdO9Ji0ngXOjG0scJIkaQxY4CqUkT0VCH8xyGUnZGRPTfSYtJ4FzoxtLHCSJGkMWOAqFAiNjOxXS1jyktbzl7J0r0BYEQg9VY1NFjgzxrHASZKkMWCBq1APPXvkBytZm5Etzwvd8kBYGwj39tCzR9VjbGMWODO2scBJkqQxYIGr2A3csFWDxhmBcFlGdmP+79/cwA1bVT22NpcK3OzZacHbmE3NnDlVv99LkqTNgAVOKpcKXG9v1a9RSZIkaT0LnFTOAidJkqTascBJ5SxwkiRJqh0LnFTOAidJkqTascBJ5SxwkiRJqh0L3ATLyELzd98C4aQeemZWPSaVssBJkiSpdixwEyz/jbd98/+va9B4VdVjUikLnCRJkmrHAjfBAuHeQDjvRm7cLSPrC4Sjl7J0l8FS9XjbmAVOkiRJtWOBm2ANGu/Li9u6kaTq8bYxC5wkSZJqxwJXgUD4sx56js/I+jKyD2VkJwyWqsfaxixwkiRJqh0LXIUyskVLWPKCqsehUhY4SZIk1Y4FriYWs3haN92zFrN4WtVjEWCBkyRJUg1Z4CoWCK/PyH6YH51yXSCszU8fVfXY2pwFTpIkSbVjgatQIBwdCOsystszsg9kZCc3aPxTRnZ7IKxt0Hhj1WNsYxY4SZIk1Y4FrkKB8KNAuHqQy64OhP+Z6DFpPQucJEmSascCV6GMbHUPPUeWXdZDz5EZ2eqJHpPWs8BJkiSpdixwFcrIHmzQOL3ssgaN0wPhgYkek9azwEmSJKl2LHAVCoRLAuHhQHh94fyjMrI/BMLnqxqbLHCSJEmqHwtchb7Nt58TCD/If9D78UD4df7vukC49Vqu3a7qMbYxC5wkSZJqxwJXsYUs7MyPRnl+RnZxIJzfoPHGhSzsrHpsbc4CJ0mSpNqxwEnlZgBx9uze2NUVjTHGGGPMRmbOnKqrzubJAieVmwHEWbN6I0RjjDHGGLOR6eqquupsnixwUjkLnDHGGGPMJsQCNz4scFI5C5wxxhhjzCbEAjc+LHBSOQucMcYYY8wmxAI3PixwUjkLnDHGGGPMJsQCNz4scBVbyMItAuGdgXBJRnbTTdy0O0APPccHwp5Vj6+NWeCMMcYYYzYhFrjxYYGr0I3cuFsgrMjIngqEHwTCugaNVwBkZBcGwqVVj7GNWeCMMcYYYzYhFrjxYYGrUCB8IyP78fVcv+NCFm6RkfW1FLgTMrJfVT3GNmaBM8YYY4zZhFjgxocFrkIZ2eOB8CaAxSye0lrgGjQOzMieqnaEbc0CZ4wxxhizCbHAjQ8LXIUysscaNN4IAwtcIBwbCA9VO8K2ZoEzxhhjjNmEWODGhwWuQoGwJCO7DgYWuIzsmozsmmpH2NYscMYYY4wxmxAL3PiwwFWoQeNVGdnqQLg1I/vHQFgXCB8LhG8GwhNLWfrnVY+xjVngjDHGGGM2IRa48WGBq1he4rKM7JmMrC8Q1mZky3roeWXVY2tzFjhjjDHGmE2IBW58WOBqYhGLpt7ETc+/juu2rnosAixwxhhjjDGbFAvc+LDA1cxiFm+7hCUvWcjCzqrHUnMnAneNwfX0AYeUnG+BM8YYY4zZhFjgxocFrkIZ2QcC4dzm6R56XhsIj+b7wv26h54XjtOs/xz4KvA74DHgbuDLwOxxmt9EWARcPoq/s8AZY4wxxoxDLHDjwwJXoUD4eYPG6S2nf5CR3dKg8caM7LZA+Mo4zPYg4CngU8Au+XkzgFOA88ZhfhNlERY4Y4wxxpjaxAI3PixwFcqPNHkQQA89zwuEdQ0aBwI0aByTkf1uHGb7c+ALw0xzCrAceBT4KXBSy2W7kkrPScAdpDV43wde0jLNtvk8HgJ+C/wdsLJwPS8BrgN+n1/2X0Dr/n/3AGcB1+fz+BXw5pbLT87/DuBM4I/A08Dj+fQ7ATu2zOOxfLzHF26rBc4YY4wxZhxigRsfFrgKZWSreug5EqCHnrdmZI8vZOEWAIEwNyN7aoxn+WJSYTl0iGmOA3pJa+o68mkfB47OL981v46bgOcCzwK+BmQt13EZcCvwPGAqcDGpXDUL3EzgQVKx2wLYPr++z7dcxz3Ab4C989ML8nFtm58+mVQOmxYxcA1cF6n0TQOmAH9NKnp7tUwzZIGbPbs3dnVFY4wxxhizkZkzp+qqs3mywFUoIwsZ2XVLWPLSQPheRnZty2UnZ2T3jPEs9wfWAXsOMU038MnCeZ8Bbsj/3yxwr2m5/Cjgifz/HcAa4IiWy6cDa9lQ4BYA3y3M4zX533Xkp+8BPtRy+db5fJs/rzCSAlfmDmB+y+khC1xvb2/Vr1FJkiRpPQtchXro2S8jeyQQ1mVkq5aydP1BRALhG4Fw5RjPciRr4O4E3l047z3A/+b/35VUAlsPsDI3P6+TtFauj/5ruQD+wIYC91nSGrlHWvIo8CQwK5/mHuDUwnW0lq2RFLjtSGv17s6vfxVpDdw5g1xnqxlAnD9/flywYEFcsGBB7O7urvr1KkmSpDbU3d29fpl0/vz5FrgqLWbxtoGwz1KWPrv1/EB4fQ89e4zDLIfbB24ka+CGKnDNNXBHtlw+g/5r4D4M9Awzzo0tcJcysMBdBNxM2pSy6Q7g3JbTQ6+Bmzcvrf83xhhjjDExHnVU1V2m7bkGrv3MJa3p+jc2HIVyOvB24COkfeBW5dN1kspNL/CmfNrmJpSDFThI+8B9n3QQka2Bz9F/H7idgYdJa/qmtZzXnAdsfIE7D/heyxgg/VTCjfkYngX8LfAMG1PgZs2qfg9gY4wxxpi6pKur6v7S9ixwFQqEDw+Ts8Zp1i8llZvm0RnvBq5gwwFDTiVtStlLOhrlyS1/uytDr4GDDUehfJh0pMi/zef1Fy1/swdwDem36FaRNtFs3eftbgYWuHUMXuB2JRW45iaZOwEvIq2Bexy4j1TcMvoXuNbrbGWBM8YYY4wpxgJXOQtchTKy1SXpy8j6AuHpcTgKZVW2IxWlfaseyEawwBljjDHGFGOBq5wFrmYWs3haydcG7gAAIABJREFUg8YxgfCTJSx5yfB/UUs7AweS1sjNJK3tu4v+mzfWnQXOGGOMMaYYC1zlLHA1lZH9TSB8p+pxjNKLgJ+QNsF8iPRj3LtXOqKNZ4EzxhhjjCnGAlc5C1xN9dBzWCA8WfU42pgFzhhjjDGmGAtc5SxwNfRNvjk9I7smI7ur6rG0MQucMcYYY0wxFrjKWeAqlJHdlZH9rDWBsCIjWx0IazOyE6oeYxuzwBljjDHGFGOBq5wFrkKB8IWMbFEhFwbCB8fpR7w1chY4Y4wxxphiLHCVs8BJ5SxwxhhjjDHFWOAqZ4GTylngjDHGGGOKscBVzgJXsW66t2/QOCMQPhUIny3kv6oeXxuzwBljjDHGFGOBq5wFrkI99OwRCA9lZI8FwrpAeCAjeyYj6wuEhzOyu6seYxuzwBljjDHGFGOBq5wFrkIZ2XUZ2Q2LWTwtI+tr0HjFQhZukZGdnJGtbNB4RdVjbGMWOGOMMcaYYixwlbPAVSgj+79AOHohCzvztW77tlz2jxnZsirH1+YscMYYY4wxxVjgKmeBq1BG9liDxoEAgfBwILypeVmDxiGB8GR1o2t7FjhjjDHGmGIscJWzwFUoI/txDz1vBQiEmzOya1suuzgQflPZ4GSBM8YYY4wpxgJXOQtchRo0PpqRXQwQCEdkZH/MyB7JyB4MhHUZ2XurHmMbs8AZY4wxxhRjgaucBa5GAmGfBo2P5j8pcETV42lzqcDNnp3eqIwxxhhjTIxz5lTdX9qeBU4qlwpcb2/Vr1FJkiRpPQvcBLuO63YIhEt76Jk32DQ99MwLhEu/zbefM5FjUz8WOEmSJNWOBW6CBcJ5gfCLhSzcYrBp8t+Cu6tBY+EEDk39WeAkSZJUOxa4CZaRLR/JwUkysvcGwk8mYkwqZYGTJElS7VjgJlhG9lQgzB1uuqUsPSgje2oixqRSFjhJkiTVjgVugmVkj/fQc9hw0/XQc1hG9vhEjEmlLHCSJEmqHQvcBAuEH2VkHxnBdOcFwo8mYkwqZYGTJElS7VjgJlhG9oFA6A2EvQebZilLZ+fTvH8ix6Z+LHCSJEmqHQvcBFvEoqmB8KNAeDIQPhkIh97ETbt30/3iQDg0/xHvJwPhfxaxaGrV421jFjhJkiTVjgWuAtdy7XaB8OVAWBsI6wpZGwhfvpZrt6t6nG3OAidJkqTascBVqEGjKxBODIT3Z2QfyMj+8gZu2KnqcQmwwEmSJKmGLHBSOQucJEmSascCJ5WzwEmSJKl2LHBSOQucJEmSascCJ5WzwEmSJKl2LHBSOQucJEmSascCJ5WzwEmSJKl2LHA1sZjFUwJhXYPGK6oeiwALnCRJkmrIAlcTi1k8JSPrs8DVhgVOkiRJtWOBqwnXwNWOBU6SJEm1Y4GrCdfA1Y4FTpIkSbVjgauRBo1dL+KiLaseh/5/e3cebldd33v8nTCoIBEc0HAqaNGqFYfQOFsoSFTQUlvHSiE4dTCWGm29t7ZIRFtta+21WhUnqi2Vm9aHpgnhDHt9fwqKaOuAXnFAQQkKKgKHGSU594/fbycr+6wzJSdZKyfv1/N8npy99tp7/9baZ+esz1nDAUqBW7ZsfGJoaMLsgixf3vZ/f5IkSXseC1yHBHHaBjYc0vY4BJQCt3Tp+ARMmF2QoaG2//uTJEna81jgOsJz4DrHAmeBkyRJ6hwLXEd4DlznWOAscJIkSZ1jgesIC1znWOAscJIkSZ1jgeuINaxZnEhplNFHtj0WARY4C5wkSVIHWeCkZhY4C5wkSVLnWOA6ouyBC/fAdYYFzgInSZLUORa4jvAcuM6xwFngJEmSOscC1xEWuM6xwFngJEmSOscC1xEWuM6xwFngJEmSOscC1yGJtHIDGw5pexwCLHAWOEmSpA6ywHXIGGOHr2HNvm2PQ4AFzgInSZLUQRa4jljL2n2C2OwhlJ1hgbPASZIkdY4FriM8B26X+gDwoTk+xgJngZMkSeocC1xH7AV74B4G/BvwQ+AW4FpgA/DgFsc0HQucBU6SJKlzLHAdsRfsgbuCvCfsfuX2g4BTgUNbG9H0LHAWOEmSpM6xwGl3uD+wBXjiNPM8BUjADcDVwNnAPrX7twCrgS8CtwKXAb9Wu/844L+Bm8pzXMK2sngu8InavGcDm4Bx4Brg7Q3jscBZ4CRJkjrHAtcdi4J4y4Vc+JC2B7KLfBX4AnA68DhgUe2+R5EPq3xxmf5Q4CvAn9fm2QJ8p8y7H3AW8BPgoHL/tcDK8vW+5EJ4n3K7XuBOIJe3oXL74DLvIAucBU6SJKlzLHAdsRecA3cIsIa85+wO4GfA3wL7A+8B/nVg/pcDV9ZubwFeW7u9iHw+3Snl9vfIe9YOa3jteoE7hlz8ngvce5rxLgEmli0bnxgamjC7IMuXt/3fnyRJ0p7HAtcRe8E5cHX7ASeTD3c8C9gI3AncWMvN5EMc+7YAJw48z+eB/12+fixwHnAdeU/dGmBxua9e4CDvBfx0ef5E3is3aAkwMT4+3vZnVJIkSdrKAtcRe1mB6/sP4D+BjwIfmWHeqfbA/V7DvI8HrgdeVW4PFri+/cjn1d0JHDhw3xJgYtWqVROrV6+eWL169cTw8HDbn1dJkiTthYaHh7duk65atcoC1xGLEuncMcYOb3sgu8DBwDvI577tT94z9izyYZSrgeXkPW4vIpeqxcCRwHNqz7EF+Dbw6DLPmeRDIZeU26cDDyzzPpx8Ttxp5Xa9wD0J+HW2HT75GuB2Jh9OmffArViRj/Uz2+ekk9r+f0ySJGmv5B447Q4HAB8Gvkk+bPFG4GvAn9bmeRIwQi5lNwJfJpervi3A68lXmryFfEGU/lUo9yP/TbnryVeo/D7wNrZdKKVe4PpXqxwnH8L5BWBFw5hzgVu6tP2rfXQxXoFEkiSpFRa4jljDmsWJdFUQj217LB21BTh+N76eBc4CJ0mS1DkWuI7YS8+BmwsLXJdigZMkSWqFBa4jLHAz2owFrjuxwEmSJLXCAtcRFrjOscBZ4CRJkjrHAtchQRw7wsjg5ezVDgucBU6SJKlzLHBSMwucBU6SJKlzLHAtWc/6BwZx8nrWHzB43wVccHAQJ29ko29KeyxwFjhJkqTOscC1ZB3rDgri9iBeOXhfIr0xiBvO4Zz92hibAAucBU6SJKmDLHAtCuK8ID7TMP3yIN7Xxpi0lQXOAidJktQ5FrgW9eitCGLzRVz0sP60UUafGMTmUUaXtzg0WeAscJIkSR1kgWvXoiB+EMSZ/QlBvDuRvt7moARY4CxwkiRJHWSBa1lF9fZEuhLy34IL4vpEemPb45IFzgInSZLUPRa4lo0y+sjyB7yfHsTzEunnI4wc2va4ZIGzwEmSJHWPBa4DEumSIM4J4vxEWt/2eARY4CxwkiRJHWSB64BEelUQNyfSHUG8sO3xCLDAWeAkSZI6yALXAetYd1Ai3ZFIP/Vvv3WGBc4CJ0mS1DkWuI4I4jk9ese1PQ5tZYGzwEmSJHWOBU5qlgvcsmW5rJjts3x52/93SZIk7ZUscFKzXODGx9v+jEqSJElbWeCkZhY4SZIkdY4FTmpmgZMkSVLnWOCkZhY4SZIkdY4FTmpmgZMkSVLnWOCkZhY4SZIkdY4FTmpmgZMkSVLnWOCkZhY4SZIkdY4FTmpmgZMkSVLnWOCkZhY4SZIkdY4FTmpmgZMkSVLnWOCkZhY4SZIkdY4FTmpmgZMkSVLnWOCkZhY4SZIkdY4FTmpmgZMkSVLnWOCkZhY4SZIkdY4FTmpmgZMkSVLnWOCkZhY4SZIkdY4FTmpmgZMkSVLnWOCkZhY4SZIkdY4FTmq2BJhYtmx8YmhowhhTsnx52z+2JEnau1ngpGZLgImlS8cnYMIYUzI01PaPLUmS9m4WOKmZBc6YhljgJElqlwVOamaBM6YhFjhJktplgZOaWeCMaYgFTpKkdlngpGYWOGMaYoGTJKldFjipmQXOmIZY4CRJapcFTmpmgTOmIRY4SZLaZYGTmlngjGmIBU6SpHZZ4KRmFjhjGmKBkySpXRY4qZkFzpiGWOAkSWqXBU5qZoEzpiEWOEmS2mWBk5pZ4IxpiAVOkqR2WeCkZhY4YxpigZMkqV0WOKmZBc6YhljgJElqlwVOamaBM6YhFjhJktplgVtYEnD2LOddCWzahWOZL3NZpvlkgTOmIRY4SZLaZYFbWBKzLzunA9fMYr59d3g0O2e/8u9clmk+WeCMaYgFTpKkdlngFpbEtrJzNXAmcCFwC3Al8IJy3zOBO4F7gFvL/b9b7tsCvB74XLnvJcBjgR7wE+Am4DLguNrrHlEe92rgG8DNwBjwy7V5XgT8D3BjeZ51wMNq968k7xF8bRn7LcAHyhjvqo0TYA1wycCynwt8onb7auAsYLg89ttlzMcAlwPjwChwKM0scMY0xAInSVK7LHALS2L7Avd94Anl9mpyablvub2S5j1wW4ArgEeV2/ciF7hnAfuT94y9hVzSHljmOaI87jLgMODewIfL8ywu8zwbeFz5+v7kAndp7XVXAr8APggcUJ5jcJn6zgIuHph2LpML3NXAUcAi4F3Aj4D/KK9/ILmkfqBhHUApcMuWjU8MDU0YY0qWL2/7x5YkSXs3C9zCMljg/qJ23wHkkvWkcnu6AvfqWbzWTcDzytf9AndS7f77kgvZM6Z4/DJgM7lI9cfzc3JhrNuZAvfm2u3Hl9d7cm3aG4AvTTG+JcDE+Ph4259RSZIkaSsL3MIyWOBeOXD/FuD48vV0Be6EgWkPBT4J/IC85+0m8qGNryj39wvcYwYedx3wsvL1seTDMH9UnmOcXKgeXhvPtTMsU99sC1x9+Y8sr3d4bdofAN9peE0oBW7VqlUTq1evnli9evXE8PBw259XSZIk7YWGh4e3bpOuWrXKAreAzKXAncrUBe74gWnDwPlsO2QSconrP/9Me+D2I5+/9gbynkCAJ5ILVf88uakKZcXkAte052yEXVDgxlesyMeMGWMm5/DDPd5SkqTdzD1wC8tcCtwK4A7y+WBTzdP3eeAj5CJ2IPBOcjkbLHCXAkPkknYO286BO5B8eGR//sOADcyuwJ1HLo91x5Tne0Z5/heTL8oyU4HbwlwL3NKl7V81wpg9NUNDbf+MkyRpwbHALSwBvLV8fRWTC9xmtpWzfciHRd5AvjLkyxrm6VtOvoLkbeRitGrg+Y8gl6NXkUvbOHnP2ZG15ziNbVeX/Eq5PZsCd3SZ/8aSvjXAj8v43wv8C9sXuMHl37E9cBY4Y3Y8FjhJkuadBU7z4Qi2L2MLgQXOmJ2NBU6SpHlngdN8OIK8B84CZ4zZFgucJEnzzgKn+XAE7oEzxgzGAidJ0ryzwEnNLHDG7GwscJIkzTsLnNTMAmfMzsYCJ0nSvLPASc0scMbsbCxwkiTNOwuc1MwCZ8zOxgInSdK8s8BJzSxwxuxsLHCSJM07C5zUzAJnzM7GAidJ0ryzwEnNLHDG7GwscJIkzTsLnNTMAmfMzsYCJ0nSvLPASc0scMbsbCxwkiTNOwuc1MwCZ8zOxgInSdK8s8BJzSxwxuxsLHCSJM07C5zUzAJnzM7GAidJ0ryzwEnNLHDG7GwscJIkzTsLnNQsF7hly/JGqDFm7lm+vO2fcZIkLTgWOKlZLnDj421/RiVJkqStLHBSMwucJEmSOscCJzWzwEmSJKlzLHBSMwucJEmSOscCJzWzwEmSJKlzLHBSMwucJEmSOscCJzWzwEmSJKlzLHBSMwucJEmSOscCJzWzwEmSJKlzLHBSMwucJEmSOscCJzWzwEmSJKlzLHBSMwucJEmSOscCJzWzwEmSJKlzLHBSMwucJEmSOscCJzWzwEmSJKlzLHBSMwucJEmSOscCJzWzwEmSJKlzLHBSMwucJEmSOscCJzWzwEmSJKlzLHBSMwucJEmSOscCJzWzwEmSJKlzLHBSsyXAxLJl4xNDQxPGGGOMMZOyfHnbm/LaG1ngpGZLgImlS8cnYMIYY4wxZlKGhtrelNfeyAInNbPAGWOMMWbaWODUBguc1MwCZ4wxxphpY4FTGyxwUjMLnDHGGGOmjQVObbDASc0scMYYY4yZNhY4tcECJzWzwBljjDFm2ljg1AYLnNTMAmeMMcaYaWOBUxsscFIzC5wxxhhjpo0FTm2wwEnNLHDGGGOMmTYWOLXBAic1s8AZY4wxZtpY4NQGC5zUzAJnjDHGmGljgVMbLHBSMwucMcYYY6aNBU5tsMBJzSxwxhhjjJk2Fji1wQInNbPAGWOMMWbaWODUBgucumIlsKntQdRY4IwxxhgzbSxwaoMFTrvaYmDRLOY7HbhmHl5vv3l4DrDAGWOMMWaGWODUBgucdkQC3gt8CrgF+DZwarnvWGAL8NIy/U7gUHKReyNwBXAz8N/A8eUxzyzz3QPcWp7zd8t9hwHnAdcC15evH9gwlk8CNwLvB44oY3gFcDlwG3AxMASsAr5f5v0gU5dLC5wxxhhjpo0FTm2wwGlHJOB24CRyMTsRuBt4GtsK3KeAQ8h7xBYDa4AvA48oz/Fb5GL18HJ7JZP3wO0PfBP4G+DewAHAx4HRgbHcCjyn3L432wrcMPCA8rhLgG8B7yhjOhK4iVw0m1jgjDHGGDNtLHBqgwVOOyIB/z4w7Xzgw+QCt5ltRa3vZuCEgWmjwJvL1yuZXOB+m8nnxQ2Ry9lhtbGcNzDPEWWep9emnUEuevU9bv8F/D3NlgATy5aNTwwNTRhjjDHGTMry5W1vymtvZIHTjkjkvWJ17yDv8eoXuH1r9x1KLlQ3kw9dvJG89+tW4H1lnqYC9ybgF7XH9B93O/DU2ljePvC4I8oYfrk27VXAVQPzfRL40BTLuASYGB8fb/szKkmSJG1lgdOOSMDagWnnAx9hW4FbXLtvf3LpeuY0z3kqkwvcacCVsxjL2QPT5q3ArVq1amL16tUTq1evnhgeHm778ypJkqS90PDw8NZt0lWrVlngNGeJfP7aieSi9lzyRUieTnOBg3yo4qXAo8vt+wC/Djyy3F4B3AHcv/aY+5IvOHI2275BDwVeMjCWpgK3hfnYA7diRT4+whhjjDFm+fKJiZNOantbXns598BpRyTgH9l2FcoryXvLYOoCtwj4Y+Dr5MMgrwMuBB5T7t+HXKhuIB8q+bIyfSnwz8APyIdgfod81cm+YBfugRtfurT9M6SNMcYY050MDbW9/a69nAVOOyIxuTQtNBY4Y4wxxkyOBU4ts8BpRyQscMYYY4zZG2OBU8sscNoRTYctLjQWOGOMMcZMjgVOLbPASc0scMYYY4yZHAucWmaBk5pZ4IwxxhgzORY4tcwCJzWzwBljjDFmcixwapkFTmpmgTPGGGPM5Fjg1DILnNTMAmeMMcaYybHAqWUWOKmZBc4YY4wxk2OBU8sscFIzC5wxxhhjJscCp5ZZ4KRmFjhjjDHGTI4FTi2zwEnNLHDGGGOMmRwLnFpmgZOaWeCMMcYYMzkWOLXMAic1s8AZY4wxZnIscGqZBU5qZoEzxhhjzORY4NQyC5zUzAJnjDHGmMmxwKllFjipWS5wy5bl/6iNMcYYY4aGJiaWL297+117OQuc1CwXuPHxtj+jkiRJ0lYWOKmZBU6SJEmdY4GTmlngJEmS1DkWOKmZBU6SJEmdY4GTmlngJEmS1DkWOKmZBU6SJEmdY4GTmlngJEmS1DkWOKmZBU6SJEmdY4GTmlngJEmS1DkWOKmZBU6SJEmdY4GTmlngJEmS1DkWOKmZBU6SJEmdY4GTmlngJEmS1DkWOKmZBW6BGB4ebnsI2km+hwuD7+PC4Pu45/M93PNZ4KRmFrgFYvXq1W0PQTvJ93Bh8H1cGHwf93y+h3s+C5zUzAK3QPiDas/ne7gw+D4uDL6Pez7fwz2fBU5qtgSY2LRp08T4+LjZg7Nq1arWx2B8D43v40KJ7+OeH9/DPT+bNm2ywEkNhsgfDGOMMcYYY7qYISRttYj8oVhijDHGGGNMxzJE3l6VJEmSJEmSJEmSJEmSJEmStPd6K/BD4Fbg08BjWx2N5uIs4B7gFvL7dwtwXqsj0my8FLgYGAc2A4sH7n888BngNuBa8vus7pnpfdwC3MH2n0//f+2WdwBfI7+HPwT+DfilgXkeCqwnv38/Ad4L7Lsbx6iZzeZ9/D5wJ9t/Hk/afUPUDN4CfBe4mfw5uwh4wsA8/myUij8DfgD8KnAv4K/JH4oD2hyUZu0s8gak9iwryBv/r2Dyhv99gR8Bbwf2B44CNgF/spvHqJlN9z5CLnDH7e5BaU7+ClhGLmRLyL8A+0rt/kXkYnAucCC5zF0O/MPuHaZmMNP7CHA1+bOqbnokcL/y9b7AG4Dr2XbhEn82SjVXAa+r3d6H/JuPU9oZjubIArdnO5bJG/4ryT+06tPOAK7cjePS3DS9j5AL3PG7fzjaCU8gv5f9DcljgbuBQ2rznEzeg7Pf7h2a5mDwfYRc4F7ZznA0R/cCXk9+Dx9QpvmzUSqWkDcwnjIwfQR41+4fjnbAWeQNiR+TfzidBzyszQFpTpo2/N9NPnSk7mllvvvupnFpbqYrcD8Cfgr8D/Dq3Twuzd2byL/Y7DsD+ObAPEvJ7+1Ru2tQmrPB9xHyz8jrgRvIe1X/DA+F7ZqTgJvIn697gL+r3efPRqn4JfKH5FED088HPrT7h6Md8KvkQ3ogb1T8K/kYcg+B3TM0bfh/BPjkwHyPLvMdtpvGpbmZqsAdR/5N8r7AicCNwB/s3qFpDk4g/0JsRW3aXwKfH5jv3uSfnU/fTePS3DS9jwC/Tj4MdjH5vbuafO6cuudg8qGRL6xN82ejVLgHbuHZn3yS9gltD0Sz4h64hWGqAjfoLOCzu3442gHPJ//m/+SB6e6B27NM9T42WUk+51/dtIh8QZPHldv+bJRqms6B+zGeA7en2p981bvB3zyqm5o2/E/D4/z3NLMtcG8BPrfrh6M5OoW80d/0i69jgLtoPgdu/10/NM3BdO9jk9PIV6xUN+0L3A78Trntz0ap5k/Jl9Z9LHAf8pWcNuEheHuKF7PtBN8HA58gl/IDWxuRZmMx+dC6Z5M3/A8otxeRf5P4Q+Bt5EO1jiJfKdYrbXXPdO/jMuBo8oUu9inz/AxY1cpINZXXkTf6nzHF/YuArwIfI382Dydf3dCrUHbLTO/jI4Bnsu3z+VTge2x/jpXadQZwaPn6QeRTeW4kb9uAPxulSdYA15H/rsan8e8U7UnWkfeY3kYu3ucBv9zqiDQbK8mHYG0u6X99TLn/KPLVRW8nXwTjzBbGqJlN9z4+H7iCvKfmRvJG/2vaGaamsYV8lclb2P7vg9WLwEOBDeW+nwLvwStQds1M7+OTyEV8nHxY3jeA/0X+5Yq6YT15W/RWclH7T/Ivwer82ShJkiRJkiRJkiRJkiRJkiRJkiRJkiRJkiRJkiRJkiRJkiRJkiRJkiRJkiRJkiRJkrRLBPH9RNpS8osgvhfE+3v0HtD22HZUIq1MpFPaHoeaVVRHJNJZo4weNp/Pm0h3BvGW+XzOqZRl2BLES3bH60mSJEkAJNLVQfxHj96TgnhGIr0xiNsS6ZK2x7ajEikl0sa2x6FmQRybSFsqqifP5/Na4CRJkrRD1rHuoPWsf2Db45iNUuDeX59WUf1lEJsrqqN35rnXsnb/nRvdjrHAzU5b788YY79Rvr8scAtQj96D17P+gLbHIUmSNJNFPXorgjgviNuDOLntAc1GU4Hr0Xtu2Th9YX1aEJ8N4vZEujGIT9QPs+xv0FZUrwjifYn0kyB+WLv/xES6OJFuDeLmRLq4R+9p/fvXse6gIP4xkTYFcVcifb2ienF9XEH8cyJ9s0fvaYn0xbKev1pRHV9bnlTGvrn/b3+jvizXRUFcn0i3JtJXKqpTB9dJEI9KpEikO4L4fhBnBPHBRLq6Pt+FXPiQIP45iB8n0p2J9MUeveNmsc5PCeLTifTTsi4+36P33MH5ynL+dykm3+rRe1kiXZRIMTDf84P4RhnDV4J4ViJ9M4iPDa67IJ4VxP+U5/z92a77Mu5XBfG9sl4+G8QTBkvTTOu4v/et//70v+7fP9uxBPHKMpY7E+nSMcaWzVTggvhQIn1ncHp57Jb+ezCb75OmAtf0WQriKeVzcczA41+fSFeUZbymolqzhjWL+/dvZOOS8j3XXw8/CmLdGGP3m2r5uqIcwnxLEB8bXG5JkqTWjTL6yIrq7UH8oJSFzwTxyj3lN9BTbHS+NojN/YLVo/eCIO5JpHN79J5bisRViXRx/zG1DdprE+nciurZQTyvvMZLy7pZ16P3gnLfW/obv2tYs28QlyXSporq1aWAvLeM4YTaWM8N4meJ9LUevd+rqJ6dSJcEMb6BDYcAjDDy6CC+FMTnevSeVFE9uX+uVUX1h0GcUVE9u0fvuDKGuyuq0/uvsZGN90qka4L4VkX14iBODuILiXRNIl3Vn2+MsfuVdXBFEC8v5f38IO4eYeTR063zIN4cxO8H8awevRMS6R+CuKde/kYYOTSRbkmkSyuq3wziJUF8q6zfqD3XExLp54m0vqI6saI6vYzrp/UCl0jnluL93VKyjx1j7DGzXfdBPK8UrnMrqmdXVK9LpCuDuLtemmZax+tYd1BF9UdlD9zpFdWT+3vidmAs/1K+l86IfO7mdmMZ1N/z16P3pPr0RPq7IH7cL1Cz+T6ZS4Ery3pMbdq7Swk+s6I6PojVkQ9bflttno+W0nbaGGPPDOJ3gvhgj96Dp1q+rqi9x5eVz/13gzhzjLHD2x6bJEnaS61j3UGJ9KpEuqRsSF4ZxJkXcdHD2h7bXCXS1Yn0gbWs3WcjG+9VNnKvTaQrN7LxXgBlT8fa+uNKcdhSUT0btm3QJtJYw2tcE0RvmjGsTKRfjDH2uIHpFyTSpbXb5waxuT5f2Vu2paL63dp8szmEctFa1u4TxDlBXNafWDY876mojuxP28CsWTjnAAAJn0lEQVSGQ8oG9tYCl0hnBTE+uEGdSF8O4t9meO2mcYwEcX5tuf4miPF1rDuoP62U080DBe7/JtJV9b03QTynlIvtClzZmH7GwHhnte7LxvhnBub5g/I6U5WmxnUcxLHRcAjlHL4PPp9In6/PU1H90QxjAViUSJsS6R/qE8svX94zl2XY0T1wI4w8PIh7gnjtwDL+SSLdegEXHFxuf72ietc0y7JH6NH7lSD+qqzje4KoKqpT95RfcEmSpAWgbBzfEcTNQZxTUT19psesZe0+/dQ2tBfVpwOLBuct06d8jjWsWTzTvPXpTUqB61+Fsn/I4WU9eo8HGGb4EWX6CwfGsG8Q11dUfwnbbdCeMbC+HlUOT3vZNOv0X4O4fHDcibQqiLv666bsRbpu4OGLUr565ptqy9RY4IYZXlr2bFyTSL+oLfeNtbF8LJG+1jDGDfUCF8RnE+m/GtbJ3wbx3enWeY/eryTSv5c9LJtr4/hybRkikf6rYRz/r17gEumqIP5xcL6UD1WdtAeu4flmXPdrWLM4kX4exBvqj13P+gcOlqZZruPGAjeXsSTSG+uP3cjGB82iwFFRvSvyob2Lyu1jyvf8U+ayDDta4Cqq1wSxeSMbH1RfxhFGjkqkLWOMPbP/fgVxQxBvCuIJ0y1T3y78v6Px/6qpnmOadX98EB8vvwy5pX4ItSRJ0i7To3dcIv20lLjzg3jedBsvUc75qeUq2LpBXS9NbynTtzt/a4yxw8ueifpzRJk3DTzHabUNy63PMd3ylAL37xXV0T16j+/vAeirqJ5ef76GsvehMl9/D9xLBx8/eAhZwxhGB5+7/hr9QyDLOrui4fHbnfs0RYFbFMSXEunqshF9bEV1dBAfSaQ7ao+9KIhq8DVKsavvgftO0zopY75rqmVdy9r7lr0Rl1dUp44x9syK6uhE2lhftpTPV/tow7LGQIG7M4gzG+a7qqHAfbNhvunW/T2jjB7Wo/fgUkKazhe8p7buZ7WOp9kDN59jadQ/3y2IZ5XX/MBA4Z7VMuxogQvizdN9rwfxcsjfJxXVO8v7uDmRftT/ZclUdtX/HYl01sA4P9Zf3vpzTPcZP4dz9gvihUH8ZxB3J9KPRhldPt3ySJIkzZv+xkgirU95z8T1Qbx7lNEnDs47wsiBFdXR/QTxWIAxxg6vT7+QCx8CUJ9WUR29hjX7bmDDIfVpo4w+Eraef7d1+gY2HHIO5+w3+BzTLUvTRufA+B9dNtJWDT5vRXV0/7yWqa7KV/Y2bXeI46Agzk+kr40xtqzpNdawZt8y1h0ucP09iRXVbw+89scHysVs98BdFsTIVGOeall79E4oG9fLBp7/0wMFbqf2wAVxW0OBm7TuZrPuZ7sHbg7reKo9cLMeS9rBPXBlXVwRxEfL3r2fBPHW/n2zXYYpCtw3g/hI/XEV1Yn1clPOr9vco/e0pmXsn8s58BxHJtLbyuudNtVy7ar/Oy7kwoc0feaDeGx9+ggjBw6OKfI5gO8vexPvCuJTFdVv1g/5lSRJ2q3KxSbemEhfL7/JvjyR3ji4J6urZipwkP/Yd0x9jhAw/WXVI/+x8EnnxtXuf2Ui3VpRDc0w1lkVuCBG0uQrNT4+5UM5n9+fdgEXHJxINw5smP9hEPcMM/yI/rRhhu8fA+fABXF2Im1ay9r7TjfmhmU9OYjNI4wcVXvNI0spuaI27Z2JdMtGNi7pTxtj7DEx+Ry489PAOXC1q4jOpsDNat1HvrjIxfVpFdUf1kvTbNdxubrmpCszzuH7YNI5cEG8drYFLogzE+mmyBcG2Vy/6Mwcvk+aCtxoqp2rV17rPfUCN8zwIyKfY7ldQZyNIH5WUb1zro/b3daz/oGRL9TzrfL9+uWK6nXDDN+/7bFJkiRtZ5TR5UG8r/y2eY/9MwKDSum4O4iPBHHyGGO/UVGdGsQnolwUY4YC98JyeNu6Hr0X9OitSKS/qMrl4csezc9GvkLiH5Xn/80g/jyID9bGOqsCV1H9nyBuLs/xa8MMLy2v8YMgvhHEyT16LyqHyl1Z3zDfyMZ7lfm+HcRLyhU4v1CmbT3U7gIuODiIb6d8ifnTK6pjyrxnp9rVBAdtZOODghgvy/uclP+kwHcjXyhm67KVQwVvSaTPB/FbKV/J81tBXBu1C8KUwvHzIC4M4qSK6hVlr9wN9b1BU6272a77IE4q7+/Hq3Llx1SuQtk/tG+267hH7wEpn1t27hhjTw3i1+Y6lvLLkvPKOvyTmMVVKGvfH0eWZbk2iC81rI8Zl6Hp+73KV87cnEhvC+JZVb467Xdj4PDClK96OZ5IZ/XorSjr87VBDJ/DOfuVZfxcEH9WUZ3Yo3dc+Z6+p6r9yYyuSqSVkY9K+Pv6LyokSZI66xzO2a++56TLysb+P800X5Uv9jAS+eIttyXSFYn03mGGl5b7jygb1Y1/2Lj8HbnPxba/I/fpqF04Yi1r7xPEX5cN3rsS6bpEGq22v7rkuUF8o2EZ7ojaeWCjjB6WSOuD+FnUzi8cZfSJZQy3JdJVVf5bXGfVN8zLWH8liKo87w8iX+b9vMGN/R69BwTxTylfZfOulP9m17ognjPduoz8t9i+WtbFFUG8PPKhm9sVrDHGnppIX0z5b519p8z3uSA+NfB8z4t8aOWdQVxeDtP8YRB/P9O6m+26B6jynx/4XiLdkUiX9ug9rZSTP66t+1mt44rqNaUU/Txq52nOYSyn18cS+aqo230fzPAe9C9x/4bB+2azDE3f72tYs7iienv5PhgP4uPlz0tMOj+slL0vlfHfmPLfNTyzdv87U/6bfjeXXBa1v8vYZRdwwcGzuaiJJEmStEusZe3+kQ8D/XCb4yjned2SSH8x3XxjjD0m5fMWT9mV4+mf39W/cqIkSZIk7Xbl0LVXBHFsj96LEimCuLvpIjW7eBx/FcTLK6pjEumURPpKIt3Uvypnbb73lUP9ji17dr6bSFevZe195mssG9m4JPL5XL9V/lbgGeUwuS/M12tIkiRJ0pxVVK+PfL7ZbeUwuot79I5rYRzvTKSryqGRNyfSxqYSGfkKiZsiX+XvhkRaO8LIw+dzLOXQxnWJdF3ky8BfF8RHe/QeMJ+vI0mSJEmSJEmSJEmSJEmSJEmSJEmSJEmSJEmSJEmSJEmSJEmSJEmSJEmSJEmSJEmSJEmSJEmSJEmSJEmSJEmSJEmSJEmSJEmSJEmSJEmSJEmSJEmSJEmSJEmSJEmSJEmSJEmSJEmSJEmSJEmSJEmSJEmSJEmSJEmSJEmSJEmSJEmSJEmSJEmStDD8f+D7SpNIV+WjAAAAAElFTkSuQmCC\">"
      ],
      "text/plain": [
       "<IPython.core.display.HTML object>"
      ]
     },
     "metadata": {},
     "output_type": "display_data"
    },
    {
     "data": {
      "text/plain": [
       "<matplotlib.text.Text at 0x7f4b809b1128>"
      ]
     },
     "execution_count": 98,
     "metadata": {},
     "output_type": "execute_result"
    }
   ],
   "source": [
    "final_frames1.plot(kind='barh', title='Variations in the deaths for under 5yrs of age for developed region', rot=0, color=(['r','b']),\n",
    "                  figsize=(11, 8), edgecolor='w', linewidth=2, width=0.7)\n",
    "plt.ylabel('<------ Cause of deaths ------>', fontsize=14, color='m')\n",
    "plt.xlabel('<------ Percentage aggregated values ------>', fontsize=14, color='m')\n",
    "#plt.savefig(\"image.png\")\n",
    "\n",
    "#for i,v in final_frames1(2000):\n",
    "#    plt.text(v +1, i+.75, str(v), color='black')\n",
    "#plt.show()\n",
    " "
   ]
  },
  {
   "cell_type": "markdown",
   "metadata": {},
   "source": [
    "# Divinding developing dataframe according to years (2000&2015)"
   ]
  },
  {
   "cell_type": "markdown",
   "metadata": {},
   "source": [
    "# 2015"
   ]
  },
  {
   "cell_type": "code",
   "execution_count": 115,
   "metadata": {
    "collapsed": true
   },
   "outputs": [],
   "source": [
    "developing_2015 = developing_countries.reset_index(drop=True)\n",
    "developing_2015 = developing_2015[:126]"
   ]
  },
  {
   "cell_type": "code",
   "execution_count": 116,
   "metadata": {
    "collapsed": true
   },
   "outputs": [],
   "source": [
    "Preterm_developing_2015 = developing_2015['Preterm']\n",
    "Preterm_developing_2015 = Preterm_developing_2015.mean()"
   ]
  },
  {
   "cell_type": "code",
   "execution_count": 117,
   "metadata": {
    "collapsed": true
   },
   "outputs": [],
   "source": [
    "Intrapartum_developing_2015 = developing_2015['Intrapartum']\n",
    "Intrapartum_developing_2015 = Intrapartum_developing_2015.mean()"
   ]
  },
  {
   "cell_type": "code",
   "execution_count": 118,
   "metadata": {
    "collapsed": true
   },
   "outputs": [],
   "source": [
    "Sepsis_developing_2015 = developing_2015['Sepsis']\n",
    "Sepsis_developing_2015 = Sepsis_developing_2015.mean()"
   ]
  },
  {
   "cell_type": "code",
   "execution_count": 119,
   "metadata": {
    "collapsed": true
   },
   "outputs": [],
   "source": [
    "Congenital_developing_2015 = developing_2015['Congenital']\n",
    "Congenital_developing_2015 = Congenital_developing_2015.mean()"
   ]
  },
  {
   "cell_type": "code",
   "execution_count": 120,
   "metadata": {
    "collapsed": true
   },
   "outputs": [],
   "source": [
    "Pneumonia_developing_2015 = developing_2015['Pneumonia']\n",
    "Pneumonia_developing_2015 = Pneumonia_developing_2015.mean()"
   ]
  },
  {
   "cell_type": "code",
   "execution_count": 121,
   "metadata": {
    "collapsed": true
   },
   "outputs": [],
   "source": [
    "Injury_developing_2015 = developing_2015['Injury']\n",
    "Injury_developing_2015 = Injury_developing_2015.mean()"
   ]
  },
  {
   "cell_type": "code",
   "execution_count": 122,
   "metadata": {
    "collapsed": true
   },
   "outputs": [],
   "source": [
    "Diarrhoea_developing_2015 = developing_2015['Diarrhoea']\n",
    "Diarrhoea_developing_2015 = Diarrhoea_developing_2015.mean()"
   ]
  },
  {
   "cell_type": "code",
   "execution_count": 123,
   "metadata": {
    "collapsed": true
   },
   "outputs": [],
   "source": [
    "Meningitis_developing_2015 = developing_2015['Meningitis']\n",
    "Meningitis_developing_2015 = Meningitis_developing_2015.mean()"
   ]
  },
  {
   "cell_type": "markdown",
   "metadata": {},
   "source": [
    "# 2000"
   ]
  },
  {
   "cell_type": "code",
   "execution_count": 124,
   "metadata": {
    "collapsed": true
   },
   "outputs": [],
   "source": [
    "developing_2000 = developing_countries.reset_index(drop=True)\n",
    "developing_2000 = developing_2000[126:]"
   ]
  },
  {
   "cell_type": "code",
   "execution_count": 125,
   "metadata": {
    "collapsed": true
   },
   "outputs": [],
   "source": [
    "Preterm_developing_2000 = developing_2000['Preterm']\n",
    "Preterm_developing_2000 = Preterm_developing_2000.mean()"
   ]
  },
  {
   "cell_type": "code",
   "execution_count": 126,
   "metadata": {
    "collapsed": true
   },
   "outputs": [],
   "source": [
    "Intrapartum_developing_2000 = developing_2000['Intrapartum']\n",
    "Intrapartum_developing_2000 = Intrapartum_developing_2000.mean()"
   ]
  },
  {
   "cell_type": "code",
   "execution_count": 127,
   "metadata": {
    "collapsed": true
   },
   "outputs": [],
   "source": [
    "Sepsis_developing_2000 = developing_2000['Sepsis']\n",
    "Sepsis_developing_2000 = Sepsis_developing_2000.mean()"
   ]
  },
  {
   "cell_type": "code",
   "execution_count": 128,
   "metadata": {
    "collapsed": true
   },
   "outputs": [],
   "source": [
    "Congenital_developing_2000 = developing_2000['Congenital']\n",
    "Congenital_developing_2000 = Congenital_developing_2000.mean()"
   ]
  },
  {
   "cell_type": "code",
   "execution_count": 129,
   "metadata": {
    "collapsed": true
   },
   "outputs": [],
   "source": [
    "Pneumonia_developing_2000 = developing_2000['Pneumonia']\n",
    "Pneumonia_developing_2000 = Pneumonia_developing_2000.mean()"
   ]
  },
  {
   "cell_type": "code",
   "execution_count": 130,
   "metadata": {
    "collapsed": true
   },
   "outputs": [],
   "source": [
    "Injury_developing_2000 = developing_2000['Injury']\n",
    "Injury_developing_2000 = Injury_developing_2000.mean()"
   ]
  },
  {
   "cell_type": "code",
   "execution_count": 131,
   "metadata": {
    "collapsed": true
   },
   "outputs": [],
   "source": [
    "Diarrhoea_developing_2000 = developing_2000['Diarrhoea']\n",
    "Diarrhoea_developing_2000 = Diarrhoea_developing_2000.mean()"
   ]
  },
  {
   "cell_type": "code",
   "execution_count": 132,
   "metadata": {
    "collapsed": true
   },
   "outputs": [],
   "source": [
    "Meningitis_developing_2000 = developing_2000['Meningitis']\n",
    "Meningitis_developing_2000 = Meningitis_developing_2000.mean()"
   ]
  },
  {
   "cell_type": "markdown",
   "metadata": {},
   "source": [
    "# Creating dataframes for developing countries (2000&2015)"
   ]
  },
  {
   "cell_type": "code",
   "execution_count": 133,
   "metadata": {
    "collapsed": false
   },
   "outputs": [
    {
     "data": {
      "text/html": [
       "<div>\n",
       "<table border=\"1\" class=\"dataframe\">\n",
       "  <thead>\n",
       "    <tr style=\"text-align: right;\">\n",
       "      <th></th>\n",
       "      <th>2000</th>\n",
       "      <th>2015</th>\n",
       "    </tr>\n",
       "  </thead>\n",
       "  <tbody>\n",
       "    <tr>\n",
       "      <th>preterm</th>\n",
       "      <td>17.414286</td>\n",
       "      <td>18.894444</td>\n",
       "    </tr>\n",
       "  </tbody>\n",
       "</table>\n",
       "</div>"
      ],
      "text/plain": [
       "              2000       2015\n",
       "preterm  17.414286  18.894444"
      ]
     },
     "execution_count": 133,
     "metadata": {},
     "output_type": "execute_result"
    }
   ],
   "source": [
    "developing_countries_2000 = {'preterm':Preterm_developing_2000}\n",
    "developing_countries_2015 = {'preterm':Preterm_developing_2015}\n",
    "developing_d0 = pd.Series(developing_countries_2000)\n",
    "developing_d0 = pd.DataFrame(developing_d0)\n",
    "developing_d0.columns=['2000']\n",
    "developing_d00 = pd.Series(developing_countries_2015)\n",
    "developing_d00 = pd.DataFrame(developing_d00)\n",
    "developing_d00.columns = ['2015']\n",
    "resdg0 = pd.concat([developing_d0, developing_d00], axis=1, join_axes=[developing_d0.index])\n",
    "resdg0"
   ]
  },
  {
   "cell_type": "code",
   "execution_count": 134,
   "metadata": {
    "collapsed": false
   },
   "outputs": [
    {
     "data": {
      "text/html": [
       "<div>\n",
       "<table border=\"1\" class=\"dataframe\">\n",
       "  <thead>\n",
       "    <tr style=\"text-align: right;\">\n",
       "      <th></th>\n",
       "      <th>2000</th>\n",
       "      <th>2015</th>\n",
       "    </tr>\n",
       "  </thead>\n",
       "  <tbody>\n",
       "    <tr>\n",
       "      <th>Intrapartum</th>\n",
       "      <td>10.005556</td>\n",
       "      <td>10.961905</td>\n",
       "    </tr>\n",
       "  </tbody>\n",
       "</table>\n",
       "</div>"
      ],
      "text/plain": [
       "                  2000       2015\n",
       "Intrapartum  10.005556  10.961905"
      ]
     },
     "execution_count": 134,
     "metadata": {},
     "output_type": "execute_result"
    }
   ],
   "source": [
    "developing_countries_2000 = {'Intrapartum':Intrapartum_developing_2000}\n",
    "developing_countries_2015 = {'Intrapartum':Intrapartum_developing_2015}\n",
    "developing_d1 = pd.Series(developing_countries_2000)\n",
    "developing_d1 = pd.DataFrame(developing_d1)\n",
    "developing_d1.columns=['2000']\n",
    "developing_d11 = pd.Series(developing_countries_2015)\n",
    "developing_d11 = pd.DataFrame(developing_d11)\n",
    "developing_d11.columns = ['2015']\n",
    "resdg1 = pd.concat([developing_d1, developing_d11], axis=1, join_axes=[developing_d1.index])\n",
    "resdg1"
   ]
  },
  {
   "cell_type": "code",
   "execution_count": 135,
   "metadata": {
    "collapsed": false
   },
   "outputs": [
    {
     "data": {
      "text/html": [
       "<div>\n",
       "<table border=\"1\" class=\"dataframe\">\n",
       "  <thead>\n",
       "    <tr style=\"text-align: right;\">\n",
       "      <th></th>\n",
       "      <th>2000</th>\n",
       "      <th>2015</th>\n",
       "    </tr>\n",
       "  </thead>\n",
       "  <tbody>\n",
       "    <tr>\n",
       "      <th>Sepsis</th>\n",
       "      <td>5.007937</td>\n",
       "      <td>6.166667</td>\n",
       "    </tr>\n",
       "  </tbody>\n",
       "</table>\n",
       "</div>"
      ],
      "text/plain": [
       "            2000      2015\n",
       "Sepsis  5.007937  6.166667"
      ]
     },
     "execution_count": 135,
     "metadata": {},
     "output_type": "execute_result"
    }
   ],
   "source": [
    "developing_countries_2000 = {'Sepsis':Sepsis_developing_2000}\n",
    "developing_countries_2015 = {'Sepsis':Sepsis_developing_2015}\n",
    "developing_d2 = pd.Series(developing_countries_2000)\n",
    "developing_d2 = pd.DataFrame(developing_d2)\n",
    "developing_d2.columns=['2000']\n",
    "developing_d22 = pd.Series(developing_countries_2015)\n",
    "developing_d22 = pd.DataFrame(developing_d22)\n",
    "developing_d22.columns = ['2015']\n",
    "resdg2 = pd.concat([developing_d2, developing_d22], axis=1, join_axes=[developing_d2.index])\n",
    "resdg2"
   ]
  },
  {
   "cell_type": "code",
   "execution_count": 136,
   "metadata": {
    "collapsed": false
   },
   "outputs": [
    {
     "data": {
      "text/html": [
       "<div>\n",
       "<table border=\"1\" class=\"dataframe\">\n",
       "  <thead>\n",
       "    <tr style=\"text-align: right;\">\n",
       "      <th></th>\n",
       "      <th>2000</th>\n",
       "      <th>2015</th>\n",
       "    </tr>\n",
       "  </thead>\n",
       "  <tbody>\n",
       "    <tr>\n",
       "      <th>Congenital</th>\n",
       "      <td>10.869841</td>\n",
       "      <td>15.06746</td>\n",
       "    </tr>\n",
       "  </tbody>\n",
       "</table>\n",
       "</div>"
      ],
      "text/plain": [
       "                 2000      2015\n",
       "Congenital  10.869841  15.06746"
      ]
     },
     "execution_count": 136,
     "metadata": {},
     "output_type": "execute_result"
    }
   ],
   "source": [
    "developing_countries_2000 = {'Congenital':Congenital_developing_2000}\n",
    "developing_countries_2015 = {'Congenital':Congenital_developing_2015}\n",
    "developing_d3 = pd.Series(developing_countries_2000)\n",
    "developing_d3 = pd.DataFrame(developing_d3)\n",
    "developing_d3.columns=['2000']\n",
    "developing_d33 = pd.Series(developing_countries_2015)\n",
    "developing_d33 = pd.DataFrame(developing_d33)\n",
    "developing_d33.columns = ['2015']\n",
    "resdg3 = pd.concat([developing_d3, developing_d33], axis=1, join_axes=[developing_d3.index])\n",
    "resdg3"
   ]
  },
  {
   "cell_type": "code",
   "execution_count": 137,
   "metadata": {
    "collapsed": false
   },
   "outputs": [
    {
     "data": {
      "text/html": [
       "<div>\n",
       "<table border=\"1\" class=\"dataframe\">\n",
       "  <thead>\n",
       "    <tr style=\"text-align: right;\">\n",
       "      <th></th>\n",
       "      <th>2000</th>\n",
       "      <th>2015</th>\n",
       "    </tr>\n",
       "  </thead>\n",
       "  <tbody>\n",
       "    <tr>\n",
       "      <th>Pneumonia</th>\n",
       "      <td>15.336508</td>\n",
       "      <td>13.174603</td>\n",
       "    </tr>\n",
       "  </tbody>\n",
       "</table>\n",
       "</div>"
      ],
      "text/plain": [
       "                2000       2015\n",
       "Pneumonia  15.336508  13.174603"
      ]
     },
     "execution_count": 137,
     "metadata": {},
     "output_type": "execute_result"
    }
   ],
   "source": [
    "developing_countries_2000 = {'Pneumonia':Pneumonia_developing_2000}\n",
    "developing_countries_2015 = {'Pneumonia':Pneumonia_developing_2015}\n",
    "developing_d4 = pd.Series(developing_countries_2000)\n",
    "developing_d4 = pd.DataFrame(developing_d4)\n",
    "developing_d4.columns=['2000']\n",
    "developing_d44 = pd.Series(developing_countries_2015)\n",
    "developing_d44 = pd.DataFrame(developing_d44)\n",
    "developing_d44.columns = ['2015']\n",
    "resdg4 = pd.concat([developing_d4, developing_d44], axis=1, join_axes=[developing_d4.index])\n",
    "resdg4"
   ]
  },
  {
   "cell_type": "code",
   "execution_count": 138,
   "metadata": {
    "collapsed": false
   },
   "outputs": [
    {
     "data": {
      "text/html": [
       "<div>\n",
       "<table border=\"1\" class=\"dataframe\">\n",
       "  <thead>\n",
       "    <tr style=\"text-align: right;\">\n",
       "      <th></th>\n",
       "      <th>2000</th>\n",
       "      <th>2015</th>\n",
       "    </tr>\n",
       "  </thead>\n",
       "  <tbody>\n",
       "    <tr>\n",
       "      <th>Injury</th>\n",
       "      <td>5.307937</td>\n",
       "      <td>6.892063</td>\n",
       "    </tr>\n",
       "  </tbody>\n",
       "</table>\n",
       "</div>"
      ],
      "text/plain": [
       "            2000      2015\n",
       "Injury  5.307937  6.892063"
      ]
     },
     "execution_count": 138,
     "metadata": {},
     "output_type": "execute_result"
    }
   ],
   "source": [
    "developing_countries_2000 = {'Injury':Injury_developing_2000}\n",
    "developing_countries_2015 = {'Injury':Injury_developing_2015}\n",
    "developing_d5 = pd.Series(developing_countries_2000)\n",
    "developing_d5 = pd.DataFrame(developing_d5)\n",
    "developing_d5.columns=['2000']\n",
    "developing_d55 = pd.Series(developing_countries_2015)\n",
    "developing_d55 = pd.DataFrame(developing_d55)\n",
    "developing_d55.columns = ['2015']\n",
    "resdg5 = pd.concat([developing_d5, developing_d55], axis=1, join_axes=[developing_d5.index])\n",
    "resdg5"
   ]
  },
  {
   "cell_type": "code",
   "execution_count": 139,
   "metadata": {
    "collapsed": false
   },
   "outputs": [
    {
     "data": {
      "text/html": [
       "<div>\n",
       "<table border=\"1\" class=\"dataframe\">\n",
       "  <thead>\n",
       "    <tr style=\"text-align: right;\">\n",
       "      <th></th>\n",
       "      <th>2000</th>\n",
       "      <th>2015</th>\n",
       "    </tr>\n",
       "  </thead>\n",
       "  <tbody>\n",
       "    <tr>\n",
       "      <th>Diarrhoea</th>\n",
       "      <td>9.390476</td>\n",
       "      <td>6.109524</td>\n",
       "    </tr>\n",
       "  </tbody>\n",
       "</table>\n",
       "</div>"
      ],
      "text/plain": [
       "               2000      2015\n",
       "Diarrhoea  9.390476  6.109524"
      ]
     },
     "execution_count": 139,
     "metadata": {},
     "output_type": "execute_result"
    }
   ],
   "source": [
    "developing_countries_2000 = {'Diarrhoea':Diarrhoea_developing_2000}\n",
    "developing_countries_2015 = {'Diarrhoea':Diarrhoea_developing_2015}\n",
    "developing_d6 = pd.Series(developing_countries_2000)\n",
    "developing_d6 = pd.DataFrame(developing_d6)\n",
    "developing_d6.columns=['2000']\n",
    "developing_d66 = pd.Series(developing_countries_2015)\n",
    "developing_d66 = pd.DataFrame(developing_d66)\n",
    "developing_d66.columns = ['2015']\n",
    "resdg6 = pd.concat([developing_d6, developing_d66], axis=1, join_axes=[developing_d6.index])\n",
    "resdg6"
   ]
  },
  {
   "cell_type": "code",
   "execution_count": 140,
   "metadata": {
    "collapsed": false
   },
   "outputs": [
    {
     "data": {
      "text/html": [
       "<div>\n",
       "<table border=\"1\" class=\"dataframe\">\n",
       "  <thead>\n",
       "    <tr style=\"text-align: right;\">\n",
       "      <th></th>\n",
       "      <th>2000</th>\n",
       "      <th>2015</th>\n",
       "    </tr>\n",
       "  </thead>\n",
       "  <tbody>\n",
       "    <tr>\n",
       "      <th>Meningitis</th>\n",
       "      <td>2.330952</td>\n",
       "      <td>1.547619</td>\n",
       "    </tr>\n",
       "  </tbody>\n",
       "</table>\n",
       "</div>"
      ],
      "text/plain": [
       "                2000      2015\n",
       "Meningitis  2.330952  1.547619"
      ]
     },
     "execution_count": 140,
     "metadata": {},
     "output_type": "execute_result"
    }
   ],
   "source": [
    "developing_countries_2000 = {'Meningitis':Meningitis_developing_2000}\n",
    "developing_countries_2015 = {'Meningitis':Meningitis_developing_2015}\n",
    "developing_d7 = pd.Series(developing_countries_2000)\n",
    "developing_d7 = pd.DataFrame(developing_d7)\n",
    "developing_d7.columns=['2000']\n",
    "developing_d77 = pd.Series(developing_countries_2015)\n",
    "developing_d77 = pd.DataFrame(developing_d77)\n",
    "developing_d77.columns = ['2015']\n",
    "resdg7 = pd.concat([developing_d7, developing_d77], axis=1, join_axes=[developing_d7.index])\n",
    "resdg7"
   ]
  },
  {
   "cell_type": "code",
   "execution_count": 141,
   "metadata": {
    "collapsed": false
   },
   "outputs": [
    {
     "data": {
      "text/html": [
       "<div>\n",
       "<table border=\"1\" class=\"dataframe\">\n",
       "  <thead>\n",
       "    <tr style=\"text-align: right;\">\n",
       "      <th></th>\n",
       "      <th>2000</th>\n",
       "      <th>2015</th>\n",
       "    </tr>\n",
       "  </thead>\n",
       "  <tbody>\n",
       "    <tr>\n",
       "      <th>preterm</th>\n",
       "      <td>17.414286</td>\n",
       "      <td>18.894444</td>\n",
       "    </tr>\n",
       "    <tr>\n",
       "      <th>Intrapartum</th>\n",
       "      <td>10.005556</td>\n",
       "      <td>10.961905</td>\n",
       "    </tr>\n",
       "    <tr>\n",
       "      <th>Sepsis</th>\n",
       "      <td>5.007937</td>\n",
       "      <td>6.166667</td>\n",
       "    </tr>\n",
       "    <tr>\n",
       "      <th>Congenital</th>\n",
       "      <td>10.869841</td>\n",
       "      <td>15.067460</td>\n",
       "    </tr>\n",
       "    <tr>\n",
       "      <th>Pneumonia</th>\n",
       "      <td>15.336508</td>\n",
       "      <td>13.174603</td>\n",
       "    </tr>\n",
       "    <tr>\n",
       "      <th>Injury</th>\n",
       "      <td>5.307937</td>\n",
       "      <td>6.892063</td>\n",
       "    </tr>\n",
       "    <tr>\n",
       "      <th>Diarrhoea</th>\n",
       "      <td>9.390476</td>\n",
       "      <td>6.109524</td>\n",
       "    </tr>\n",
       "    <tr>\n",
       "      <th>Meningitis</th>\n",
       "      <td>2.330952</td>\n",
       "      <td>1.547619</td>\n",
       "    </tr>\n",
       "  </tbody>\n",
       "</table>\n",
       "</div>"
      ],
      "text/plain": [
       "                  2000       2015\n",
       "preterm      17.414286  18.894444\n",
       "Intrapartum  10.005556  10.961905\n",
       "Sepsis        5.007937   6.166667\n",
       "Congenital   10.869841  15.067460\n",
       "Pneumonia    15.336508  13.174603\n",
       "Injury        5.307937   6.892063\n",
       "Diarrhoea     9.390476   6.109524\n",
       "Meningitis    2.330952   1.547619"
      ]
     },
     "execution_count": 141,
     "metadata": {},
     "output_type": "execute_result"
    }
   ],
   "source": [
    "frames2 = [resdg0,resdg1,resdg2,resdg3,resdg4,resdg5,resdg6,resdg7]\n",
    "final_frames2 = pd.concat(frames2)\n",
    "final_frames2\n"
   ]
  },
  {
   "cell_type": "code",
   "execution_count": 142,
   "metadata": {
    "collapsed": false
   },
   "outputs": [],
   "source": [
    "#get_ipython().magic('matplotlib nbagg')\n",
    "#developing2000 = list(final_frames2['2000'])\n",
    "#final_frames2_index = list(final_frames2.index)\n",
    "#colors = ['gold', 'yellowgreen', 'lightcoral', 'lightskyblue','sage', 'tan', 'plum', 'gainsboro']\n",
    "#explode = (0, 0, 0, 0, 0, 0, 0, 0)  \n",
    "#plt.pie(developing2000, explode=explode, labels=final_frames2_index, colors=colors,\n",
    "#        autopct='%1.1f%%', shadow=True, startangle=360)\n",
    "#plt.axis('equal')\n",
    "#plt.title(\"For developing region in the year 2000\", y=1.08)\n",
    "#plt.show()\n"
   ]
  },
  {
   "cell_type": "code",
   "execution_count": 143,
   "metadata": {
    "collapsed": false
   },
   "outputs": [],
   "source": [
    "#get_ipython().magic('matplotlib nbagg')\n",
    "#final_frames2_index = list(final_frames2.index)\n",
    "#developing2015 = list(final_frames2['2015'])\n",
    "#colors = ['gold', 'yellowgreen', 'lightcoral', 'lightskyblue','sage', 'tan', 'plum', 'gainsboro']\n",
    "#explode = (0.1, 0, 0.1, 0.1, 0, 0.1, 0, 0)  \n",
    "#plt.pie(developing2015, explode=explode, labels=final_frames2_index, colors=colors,\n",
    "#        autopct='%1.1f%%', shadow=True, startangle=360)\n",
    "#plt.axis('equal')\n",
    "#plt.title(\"For developing region in the year 2015\", y=1.08)\n",
    "#plt.show()"
   ]
  },
  {
   "cell_type": "markdown",
   "metadata": {
    "collapsed": true
   },
   "source": [
    "# ----------------New_born_first_month-------------------"
   ]
  },
  {
   "cell_type": "code",
   "execution_count": 144,
   "metadata": {
    "collapsed": false,
    "scrolled": true
   },
   "outputs": [
    {
     "data": {
      "text/plain": [
       "['ISO_Code',\n",
       " 'CountryName',\n",
       " 'Year',\n",
       " 'Pneumonia .1',\n",
       " 'Preterm ',\n",
       " 'Intrapartum ',\n",
       " 'Sepis ',\n",
       " 'Tetanus ',\n",
       " 'Congenital ',\n",
       " 'Diarrheoea ']"
      ]
     },
     "execution_count": 144,
     "metadata": {},
     "output_type": "execute_result"
    }
   ],
   "source": [
    "list(new_born_first_month)"
   ]
  },
  {
   "cell_type": "markdown",
   "metadata": {},
   "source": [
    "# Extracting top 30 countries (2015) "
   ]
  },
  {
   "cell_type": "markdown",
   "metadata": {},
   "source": [
    "# Preterm"
   ]
  },
  {
   "cell_type": "code",
   "execution_count": 145,
   "metadata": {
    "collapsed": false,
    "scrolled": true
   },
   "outputs": [],
   "source": [
    "new_born_first_month_Preterm = new_born_first_month[:194]\n",
    "new_born_first_month_Preterm = new_born_first_month_Preterm[['CountryName','Preterm ']]\n",
    "new_born_first_month_Preterm = new_born_first_month_Preterm.sort_values(by='Preterm ', ascending=False)\n",
    "new_born_first_month_Preterm = new_born_first_month_Preterm[:30].reset_index(drop=True)\n",
    "#new_born_first_month_Preterm.to_csv('Preterm_top30.csv')\n",
    "#new_born_first_month_Preterm\n"
   ]
  },
  {
   "cell_type": "code",
   "execution_count": 146,
   "metadata": {
    "collapsed": false,
    "scrolled": true
   },
   "outputs": [],
   "source": [
    "new_born_first_month_Intrapartum = new_born_first_month[:194]\n",
    "new_born_first_month_Intrapartum = new_born_first_month_Intrapartum[['CountryName','Intrapartum ']]\n",
    "new_born_first_month_Intrapartum = new_born_first_month_Intrapartum.sort_values(by='Intrapartum ', ascending=False)\n",
    "new_born_first_month_Intrapartum = new_born_first_month_Intrapartum[:30].reset_index(drop=True)\n",
    "#new_born_first_month_Intrapartum.to_csv('Intrapartum_top30.csv')\n",
    "#new_born_first_month_Intrapartum\n"
   ]
  },
  {
   "cell_type": "code",
   "execution_count": 147,
   "metadata": {
    "collapsed": false
   },
   "outputs": [],
   "source": [
    "new_born_first_month_Sepsis = new_born_first_month[:194]\n",
    "new_born_first_month_Sepsis = new_born_first_month_Sepsis[['CountryName','Sepis ']]\n",
    "new_born_first_month_Sepsis = new_born_first_month_Sepsis.sort_values(by='Sepis ', ascending=False)\n",
    "new_born_first_month_Sepsis = new_born_first_month_Sepsis[:30].reset_index(drop=True)\n",
    "#new_born_first_month_Sepsis.to_csv('Sepsis_top30.csv')\n",
    "#new_born_first_month_Sepsis"
   ]
  },
  {
   "cell_type": "code",
   "execution_count": 148,
   "metadata": {
    "collapsed": false,
    "scrolled": true
   },
   "outputs": [],
   "source": [
    "new_born_first_month_Congenital = new_born_first_month[:194]\n",
    "new_born_first_month_Congenital = new_born_first_month_Congenital[['CountryName','Congenital ']]\n",
    "new_born_first_month_Congenital = new_born_first_month_Congenital.sort_values(by='Congenital ', ascending=False)\n",
    "new_born_first_month_Congenital = new_born_first_month_Congenital[:30].reset_index(drop=True)\n",
    "#new_born_first_month_Congenital.to_csv('Congenital_top30.csv')\n",
    "#new_born_first_month_Congenital"
   ]
  },
  {
   "cell_type": "markdown",
   "metadata": {
    "collapsed": false
   },
   "source": [
    "# Analysis over Asia country"
   ]
  },
  {
   "cell_type": "code",
   "execution_count": 149,
   "metadata": {
    "collapsed": false,
    "scrolled": true
   },
   "outputs": [],
   "source": [
    "asian_countries = pd.read_csv('Asia_Country_list.csv')\n",
    "#asian_countries"
   ]
  },
  {
   "cell_type": "code",
   "execution_count": 150,
   "metadata": {
    "collapsed": false
   },
   "outputs": [],
   "source": [
    "asian_countries['Country'] = asian_countries['Countries  ']\n",
    "asia = pd.DataFrame(asian_countries['Country'])\n",
    "#asia"
   ]
  },
  {
   "cell_type": "code",
   "execution_count": 151,
   "metadata": {
    "collapsed": false
   },
   "outputs": [],
   "source": [
    "remove_spaces = [x.strip().replace(' ', ' ') for x in asia.Country]\n",
    "remove_spaces = pd.DataFrame(remove_spaces)\n",
    "formated = remove_spaces.rename(columns={0:\"Country\"})\n",
    "column_names = list(formated.Country)"
   ]
  },
  {
   "cell_type": "code",
   "execution_count": 152,
   "metadata": {
    "collapsed": false,
    "scrolled": true
   },
   "outputs": [
    {
     "data": {
      "text/plain": [
       "Preterm        21.280952\n",
       "Intrapartum    10.030952\n",
       "Sepsis          5.233333\n",
       "Congenital     20.402381\n",
       "Pneumonia      11.054762\n",
       "dtype: float64"
      ]
     },
     "execution_count": 152,
     "metadata": {},
     "output_type": "execute_result"
    }
   ],
   "source": [
    "major_diseases = under_five[['ISO_Code','CountryName','Preterm','Intrapartum','Sepsis','Congenital','Pneumonia']][:194]\n",
    "major_diseases1 = major_diseases.loc[major_diseases['CountryName'].isin(column_names)]\n",
    "major_disease = major_diseases1.reset_index(drop=True)\n",
    "#major_disease.to_csv('List_Asian_Countries_With_Cause_For_Deaths.csv')\n",
    "major_disease.mean()"
   ]
  },
  {
   "cell_type": "code",
   "execution_count": 153,
   "metadata": {
    "collapsed": false
   },
   "outputs": [],
   "source": [
    "asian_countries_preterm = major_disease[['CountryName','ISO_Code','Preterm']]\n",
    "asian_countries_preterm.to_csv('asia_preterm.csv')"
   ]
  },
  {
   "cell_type": "markdown",
   "metadata": {
    "collapsed": true
   },
   "source": [
    "# Analysis over Europe country"
   ]
  },
  {
   "cell_type": "code",
   "execution_count": 154,
   "metadata": {
    "collapsed": false
   },
   "outputs": [],
   "source": [
    "european_countries = pd.read_csv('European_country_list.csv')\n",
    "european_countries['Country'] = european_countries['Country ']\n",
    "european_countries = pd.DataFrame(european_countries['Country'])\n",
    "#european_countries\n",
    "#column_names1 = list(european_countries.Country)\n"
   ]
  },
  {
   "cell_type": "code",
   "execution_count": 155,
   "metadata": {
    "collapsed": true
   },
   "outputs": [],
   "source": [
    "remove_spaces1 = [x.strip().replace(' ', ' ') for x in european_countries.Country]\n",
    "remove_spaces1 = pd.DataFrame(remove_spaces1)\n",
    "formated1 = remove_spaces1.rename(columns={0:\"Country\"})\n",
    "column_names1 = list(formated1.Country)"
   ]
  },
  {
   "cell_type": "code",
   "execution_count": 156,
   "metadata": {
    "collapsed": false
   },
   "outputs": [
    {
     "data": {
      "text/plain": [
       "Preterm        25.26875\n",
       "Intrapartum     8.52500\n",
       "Sepsis          3.28750\n",
       "Congenital     29.75625\n",
       "Pneumonia       5.00625\n",
       "dtype: float64"
      ]
     },
     "execution_count": 156,
     "metadata": {},
     "output_type": "execute_result"
    }
   ],
   "source": [
    "europe_major_diseases = under_five[['ISO_Code','CountryName','Preterm','Intrapartum','Sepsis','Congenital','Pneumonia']][:194]\n",
    "european_major_diseases1 = europe_major_diseases.loc[europe_major_diseases['CountryName'].isin(column_names1)]\n",
    "european_major_disease = european_major_diseases1.reset_index(drop=True)\n",
    "european_major_disease.mean()"
   ]
  },
  {
   "cell_type": "code",
   "execution_count": 157,
   "metadata": {
    "collapsed": false
   },
   "outputs": [],
   "source": [
    "european_countries_congenital = european_major_disease[['CountryName','ISO_Code','Congenital']]\n",
    "european_countries_congenital.to_csv('europe_congenital.csv')"
   ]
  },
  {
   "cell_type": "markdown",
   "metadata": {},
   "source": [
    "# Analysis over African Country"
   ]
  },
  {
   "cell_type": "code",
   "execution_count": 158,
   "metadata": {
    "collapsed": false
   },
   "outputs": [],
   "source": [
    "african_countries = pd.read_csv('african_country_list.csv')\n",
    "african_countries['Country'] = african_countries['Country    ']\n",
    "african_countries = pd.DataFrame(african_countries['Country'])\n",
    "#africanan_countries"
   ]
  },
  {
   "cell_type": "code",
   "execution_count": 159,
   "metadata": {
    "collapsed": true
   },
   "outputs": [],
   "source": [
    "remove_spaces2 = [x.strip().replace(' ', ' ') for x in african_countries.Country]\n",
    "remove_spaces2 = pd.DataFrame(remove_spaces2)\n",
    "formated2 = remove_spaces2.rename(columns={0:\"Country\"})\n",
    "column_names2 = list(formated2.Country)"
   ]
  },
  {
   "cell_type": "code",
   "execution_count": 160,
   "metadata": {
    "collapsed": false,
    "scrolled": true
   },
   "outputs": [
    {
     "data": {
      "text/plain": [
       "Preterm        14.716\n",
       "Intrapartum    11.420\n",
       "Sepsis          6.508\n",
       "Congenital      9.010\n",
       "Pneumonia      15.140\n",
       "dtype: float64"
      ]
     },
     "execution_count": 160,
     "metadata": {},
     "output_type": "execute_result"
    }
   ],
   "source": [
    "africa_major_diseases = under_five[['ISO_Code','CountryName','Preterm','Intrapartum','Sepsis','Congenital','Pneumonia']][:194]\n",
    "africa_major_diseases1 = africa_major_diseases.loc[africa_major_diseases['CountryName'].isin(column_names2)]\n",
    "africa_major_disease = africa_major_diseases1.reset_index(drop=True)\n",
    "africa_major_disease.mean()"
   ]
  },
  {
   "cell_type": "code",
   "execution_count": 161,
   "metadata": {
    "collapsed": true
   },
   "outputs": [],
   "source": [
    "african_countries_congenital = africa_major_disease[['CountryName','ISO_Code','Pneumonia']]\n",
    "african_countries_congenital.to_csv('africa_pneumonia.csv')"
   ]
  },
  {
   "cell_type": "markdown",
   "metadata": {
    "collapsed": true
   },
   "source": [
    "# Analysis over north America country"
   ]
  },
  {
   "cell_type": "code",
   "execution_count": 162,
   "metadata": {
    "collapsed": false
   },
   "outputs": [],
   "source": [
    "north_america_countries = pd.read_csv('north_america_country_list.csv')\n",
    "column_names3 = list(north_america_countries.Country)"
   ]
  },
  {
   "cell_type": "code",
   "execution_count": 163,
   "metadata": {
    "collapsed": false
   },
   "outputs": [
    {
     "data": {
      "text/plain": [
       "Preterm        23.382609\n",
       "Intrapartum     9.486957\n",
       "Sepsis          5.352174\n",
       "Congenital     22.313043\n",
       "Pneumonia       8.217391\n",
       "dtype: float64"
      ]
     },
     "execution_count": 163,
     "metadata": {},
     "output_type": "execute_result"
    }
   ],
   "source": [
    "north_america_major_diseases = under_five[['ISO_Code','CountryName','Preterm','Intrapartum','Sepsis','Congenital','Pneumonia']][:194]\n",
    "north_america_major_diseases1 = north_america_major_diseases.loc[north_america_major_diseases['CountryName'].isin(column_names3)]\n",
    "north_america_major_disease = north_america_major_diseases1.reset_index(drop=True)\n",
    "north_america_major_disease.mean()"
   ]
  },
  {
   "cell_type": "code",
   "execution_count": 164,
   "metadata": {
    "collapsed": true
   },
   "outputs": [],
   "source": [
    "north_america_countries_preterm = north_america_major_disease[['CountryName','ISO_Code','Preterm']]\n",
    "north_america_countries_preterm.to_csv('north_america_preterm.csv')"
   ]
  },
  {
   "cell_type": "markdown",
   "metadata": {},
   "source": [
    "# Analysis over south America country"
   ]
  },
  {
   "cell_type": "code",
   "execution_count": 165,
   "metadata": {
    "collapsed": true
   },
   "outputs": [],
   "source": [
    "south_america_countries = pd.read_csv('south_america_country_list.csv')\n",
    "column_names4 = list(south_america_countries.Country)"
   ]
  },
  {
   "cell_type": "code",
   "execution_count": 166,
   "metadata": {
    "collapsed": false
   },
   "outputs": [
    {
     "data": {
      "text/plain": [
       "Preterm        21.961538\n",
       "Intrapartum     8.407692\n",
       "Sepsis          6.384615\n",
       "Congenital     23.223077\n",
       "Pneumonia       9.000000\n",
       "dtype: float64"
      ]
     },
     "execution_count": 166,
     "metadata": {},
     "output_type": "execute_result"
    }
   ],
   "source": [
    "south_america_major_diseases = under_five[['ISO_Code','CountryName','Preterm','Intrapartum','Sepsis','Congenital','Pneumonia']][:194]\n",
    "south_america_major_diseases1 = south_america_major_diseases.loc[south_america_major_diseases['CountryName'].isin(column_names4)]\n",
    "south_america_major_disease = south_america_major_diseases1.reset_index(drop=True)\n",
    "south_america_major_disease.mean()"
   ]
  },
  {
   "cell_type": "code",
   "execution_count": 167,
   "metadata": {
    "collapsed": true
   },
   "outputs": [],
   "source": [
    "south_america_countries_congenital = south_america_major_disease[['CountryName','ISO_Code','Congenital']]\n",
    "south_america_countries_congenital.to_csv('south_america_congenital.csv')"
   ]
  },
  {
   "cell_type": "code",
   "execution_count": null,
   "metadata": {
    "collapsed": true
   },
   "outputs": [],
   "source": []
  }
 ],
 "metadata": {
  "anaconda-cloud": {},
  "kernelspec": {
   "display_name": "IPython (Python 3)",
   "language": "python",
   "name": "python3"
  },
  "language_info": {
   "codemirror_mode": {
    "name": "ipython",
    "version": 3
   },
   "file_extension": ".py",
   "mimetype": "text/x-python",
   "name": "python",
   "nbconvert_exporter": "python",
   "pygments_lexer": "ipython3",
   "version": "3.5.2"
  }
 },
 "nbformat": 4,
 "nbformat_minor": 0
}
