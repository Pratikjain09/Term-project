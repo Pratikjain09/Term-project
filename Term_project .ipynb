{
 "cells": [
  {
   "cell_type": "markdown",
   "metadata": {
    "collapsed": true
   },
   "source": [
    "  --------------------------------------------------------\n",
    "    Project Code :Python for Data Analysis\n",
    "    Participants : Pretik C P, Deepak Nayak\n",
    "    ME Big Data, SOIS\n",
    "  -----------------------------------------------------------\n"
   ]
  },
  {
   "cell_type": "code",
   "execution_count": 2,
   "metadata": {
    "collapsed": false
   },
   "outputs": [
    {
     "data": {
      "text/html": [
       "<link media=\"all\" href=\"files/nv.d3.css\" type=\"text/css\"\n",
       "                        rel=\"stylesheet\"/>"
      ],
      "text/plain": [
       "<IPython.core.display.HTML object>"
      ]
     },
     "metadata": {},
     "output_type": "display_data"
    },
    {
     "data": {
      "application/javascript": [
       "$.getScript(\"files/nv.d3.js\")"
      ],
      "text/plain": [
       "<IPython.core.display.Javascript object>"
      ]
     },
     "metadata": {},
     "output_type": "display_data"
    },
    {
     "data": {
      "application/javascript": [
       "$.getScript(\"files/d3.v3.js\", function() {\n",
       "                              $.getScript(\"files/nv.d3.js\", function() {})});"
      ],
      "text/plain": [
       "<IPython.core.display.Javascript object>"
      ]
     },
     "metadata": {},
     "output_type": "display_data"
    },
    {
     "data": {
      "text/html": [
       "<script src=\"files/d3.v3.js\"></script>"
      ],
      "text/plain": [
       "<IPython.core.display.HTML object>"
      ]
     },
     "metadata": {},
     "output_type": "display_data"
    },
    {
     "data": {
      "text/html": [
       "<script src=\"files/nv.d3.js\"></script>"
      ],
      "text/plain": [
       "<IPython.core.display.HTML object>"
      ]
     },
     "metadata": {},
     "output_type": "display_data"
    }
   ],
   "source": [
    "import pandas as pd\n",
    "import numpy as np\n",
    "import matplotlib.pyplot as plt\n",
    "from nvd3 import multiBarChart,multiBarHorizontalChart\n",
    "import nvd3\n",
    "nvd3.ipynb.initialize_javascript()\n",
    "from IPython.core.display import display, HTML\n"
   ]
  },
  {
   "cell_type": "markdown",
   "metadata": {},
   "source": [
    "# Reading xlsx file "
   ]
  },
  {
   "cell_type": "code",
   "execution_count": 3,
   "metadata": {
    "collapsed": false,
    "scrolled": true
   },
   "outputs": [],
   "source": [
    "df = pd.read_excel('cod.xlsx')\n",
    "#df\n",
    "\n"
   ]
  },
  {
   "cell_type": "markdown",
   "metadata": {},
   "source": [
    "# Creating DataFrames"
   ]
  },
  {
   "cell_type": "code",
   "execution_count": 4,
   "metadata": {
    "collapsed": false,
    "scrolled": true
   },
   "outputs": [],
   "source": [
    "df1 = pd.DataFrame(df)\n",
    "#df1"
   ]
  },
  {
   "cell_type": "markdown",
   "metadata": {
    "collapsed": false
   },
   "source": [
    "# Converting to csv file"
   ]
  },
  {
   "cell_type": "code",
   "execution_count": 5,
   "metadata": {
    "collapsed": false,
    "scrolled": true
   },
   "outputs": [],
   "source": [
    "df1.to_csv('cod_data.csv')\n"
   ]
  },
  {
   "cell_type": "code",
   "execution_count": 6,
   "metadata": {
    "collapsed": false
   },
   "outputs": [],
   "source": [
    "csv_file = pd.read_csv('cod_data.csv')\n",
    "#list(csv_file,)"
   ]
  },
  {
   "cell_type": "markdown",
   "metadata": {},
   "source": [
    "# Deaths of children Under 5 year"
   ]
  },
  {
   "cell_type": "code",
   "execution_count": 7,
   "metadata": {
    "collapsed": false
   },
   "outputs": [],
   "source": [
    "selected_columns_under5 = csv_file[['ISO_Code',\n",
    "'CountryName',\n",
    " 'Year','Preterm',\n",
    " 'Pertussis',\n",
    " 'Intrapartum',\n",
    " 'Sepsis',\n",
    " 'Tetanus',\n",
    " 'Congenital',\n",
    " 'Pneumonia',\n",
    " 'Diarrhoea',\n",
    " 'Malaria',\n",
    " 'Aids',\n",
    " 'Measles',\n",
    " 'Injury',\n",
    " 'Meningitis']]"
   ]
  },
  {
   "cell_type": "code",
   "execution_count": 8,
   "metadata": {
    "collapsed": false,
    "scrolled": false
   },
   "outputs": [
    {
     "data": {
      "text/plain": [
       "['ISO_Code',\n",
       " 'CountryName',\n",
       " 'Year',\n",
       " 'Preterm',\n",
       " 'Pertussis',\n",
       " 'Intrapartum',\n",
       " 'Sepsis',\n",
       " 'Tetanus',\n",
       " 'Congenital',\n",
       " 'Pneumonia',\n",
       " 'Diarrhoea',\n",
       " 'Malaria',\n",
       " 'Aids',\n",
       " 'Measles',\n",
       " 'Injury',\n",
       " 'Meningitis']"
      ]
     },
     "execution_count": 8,
     "metadata": {},
     "output_type": "execute_result"
    }
   ],
   "source": [
    "list(selected_columns_under5)"
   ]
  },
  {
   "cell_type": "code",
   "execution_count": 9,
   "metadata": {
    "collapsed": false,
    "scrolled": true
   },
   "outputs": [],
   "source": [
    "under_five = pd.DataFrame(selected_columns_under5)"
   ]
  },
  {
   "cell_type": "code",
   "execution_count": 10,
   "metadata": {
    "collapsed": false,
    "scrolled": true
   },
   "outputs": [],
   "source": [
    "#under_five"
   ]
  },
  {
   "cell_type": "markdown",
   "metadata": {
    "collapsed": false
   },
   "source": [
    "# New born(first month)"
   ]
  },
  {
   "cell_type": "code",
   "execution_count": 11,
   "metadata": {
    "collapsed": true
   },
   "outputs": [],
   "source": [
    "selected_columns_2 = csv_file[['ISO_Code',\n",
    " 'CountryName',\n",
    " 'Year','Pneumonia .1',\n",
    " 'Preterm ',\n",
    " 'Intrapartum ',\n",
    " 'Sepis ',\n",
    " 'Tetanus ',\n",
    " 'Congenital ',\n",
    " 'Diarrheoea ']]"
   ]
  },
  {
   "cell_type": "code",
   "execution_count": 12,
   "metadata": {
    "collapsed": false
   },
   "outputs": [
    {
     "data": {
      "text/plain": [
       "['ISO_Code',\n",
       " 'CountryName',\n",
       " 'Year',\n",
       " 'Pneumonia .1',\n",
       " 'Preterm ',\n",
       " 'Intrapartum ',\n",
       " 'Sepis ',\n",
       " 'Tetanus ',\n",
       " 'Congenital ',\n",
       " 'Diarrheoea ']"
      ]
     },
     "execution_count": 12,
     "metadata": {},
     "output_type": "execute_result"
    }
   ],
   "source": [
    "list(selected_columns_2)"
   ]
  },
  {
   "cell_type": "code",
   "execution_count": 13,
   "metadata": {
    "collapsed": true
   },
   "outputs": [],
   "source": [
    "new_born_first_month = pd.DataFrame(selected_columns_2)"
   ]
  },
  {
   "cell_type": "code",
   "execution_count": 14,
   "metadata": {
    "collapsed": false,
    "scrolled": true
   },
   "outputs": [],
   "source": [
    "#new_born_first_month\n"
   ]
  },
  {
   "cell_type": "markdown",
   "metadata": {},
   "source": [
    "# Death of childrens in Newborn"
   ]
  },
  {
   "cell_type": "code",
   "execution_count": 15,
   "metadata": {
    "collapsed": true
   },
   "outputs": [],
   "source": [
    "selected_columns_3 = csv_file[['ISO_Code',\n",
    " 'CountryName',\n",
    " 'Year','Pneumonia (Newborn)',\n",
    " 'Preterm (Newborn)',\n",
    " 'Intrapartum (Newborn)',\n",
    " 'Sepis (Newborn)',\n",
    " 'Tetanus (Newborn)',\n",
    " 'Congenital (Newborn)',\n",
    " 'Diarrheoea (Newborn)']]"
   ]
  },
  {
   "cell_type": "code",
   "execution_count": 16,
   "metadata": {
    "collapsed": false
   },
   "outputs": [
    {
     "data": {
      "text/plain": [
       "['ISO_Code',\n",
       " 'CountryName',\n",
       " 'Year',\n",
       " 'Pneumonia (Newborn)',\n",
       " 'Preterm (Newborn)',\n",
       " 'Intrapartum (Newborn)',\n",
       " 'Sepis (Newborn)',\n",
       " 'Tetanus (Newborn)',\n",
       " 'Congenital (Newborn)',\n",
       " 'Diarrheoea (Newborn)']"
      ]
     },
     "execution_count": 16,
     "metadata": {},
     "output_type": "execute_result"
    }
   ],
   "source": [
    "list(selected_columns_3)"
   ]
  },
  {
   "cell_type": "code",
   "execution_count": 17,
   "metadata": {
    "collapsed": true
   },
   "outputs": [],
   "source": [
    "new_born = pd.DataFrame(selected_columns_3)"
   ]
  },
  {
   "cell_type": "code",
   "execution_count": 18,
   "metadata": {
    "collapsed": false,
    "scrolled": true
   },
   "outputs": [],
   "source": [
    "#new_born"
   ]
  },
  {
   "cell_type": "markdown",
   "metadata": {},
   "source": [
    "# Death in 1-59 months"
   ]
  },
  {
   "cell_type": "code",
   "execution_count": 19,
   "metadata": {
    "collapsed": false
   },
   "outputs": [],
   "source": [
    "selected_columns_4 = csv_file[['ISO_Code',\n",
    " 'CountryName',\n",
    " 'Year','Pneumonia ',\n",
    " 'Diarrhoea ',\n",
    " 'Malaria ',\n",
    " 'AIDS ',\n",
    " 'Measles ',\n",
    " 'Injuries ',\n",
    " 'Meningitis ']]"
   ]
  },
  {
   "cell_type": "code",
   "execution_count": 20,
   "metadata": {
    "collapsed": true
   },
   "outputs": [],
   "source": [
    "one_to_59 = pd.DataFrame(selected_columns_4)"
   ]
  },
  {
   "cell_type": "code",
   "execution_count": 21,
   "metadata": {
    "collapsed": false,
    "scrolled": true
   },
   "outputs": [],
   "source": [
    "#one_to_59\n"
   ]
  },
  {
   "cell_type": "markdown",
   "metadata": {},
   "source": [
    "### List of dataframes"
   ]
  },
  {
   "cell_type": "code",
   "execution_count": 22,
   "metadata": {
    "collapsed": false
   },
   "outputs": [],
   "source": [
    "#under_five\n",
    "#new_born_first_month\n",
    "#new_born\n",
    "#one_to_59"
   ]
  },
  {
   "cell_type": "markdown",
   "metadata": {},
   "source": [
    "# --------------Under_Five-------------------"
   ]
  },
  {
   "cell_type": "markdown",
   "metadata": {},
   "source": [
    "# Creating a list of Dveloping Countries"
   ]
  },
  {
   "cell_type": "code",
   "execution_count": 23,
   "metadata": {
    "collapsed": false
   },
   "outputs": [],
   "source": [
    "a = ['AFG','ALB','DZA','AGO','ARG','ARM','AZE','BGD','BLR','BLZ','BEN','BTN','BOL','BIH','BWA','BRA','BGR','BFA',\n",
    "     'BDI','KHM','CMR','CAF','TCD','CHN','COL','COM','COG','CRI','CIV','CUB','DJI','DMA','DOM','ECU','EGY','SLV','ERI',\n",
    "     'ETH','FJI','GAB','GMB','GEO','GHA','GRD','GTM','GIN','GNB','GUY','HTI','HUN','IND','IDN','IRN','IRQ','JAM','JOR',\n",
    "     'KAZ','KEN','KIR','KGZ','LAO','LBN','LSO','LBR','LBY','MDG','MYS','MDV','MLI','MHL','MRT','MUS','MEX','MNG','MNE',\n",
    "     'MAR','MOZ','MMR','NAM','NPL','NIC','NER','NGA','PAK','PLW','PAN','PNG','PRY','PER','PHL','ROU','RUS','RWA','WSM',\n",
    "     'STP','SEN','SRB','SYC','SLE','SLB','SOM','ZAF','SSD','LKA','SDN','SUR','SWZ','SYR','TJK','THA','TLS','TGO','TON',\n",
    "     'TUN','TUR','TKM','TUV','UGA','UKR','UZB','VUT','VEN','VNM','YEM','ZMB','ZWE']  "
   ]
  },
  {
   "cell_type": "markdown",
   "metadata": {},
   "source": [
    "# DataFrame for Developing countries"
   ]
  },
  {
   "cell_type": "code",
   "execution_count": 24,
   "metadata": {
    "collapsed": false,
    "scrolled": true
   },
   "outputs": [
    {
     "data": {
      "text/html": [
       "<div>\n",
       "<table border=\"1\" class=\"dataframe\">\n",
       "  <thead>\n",
       "    <tr style=\"text-align: right;\">\n",
       "      <th></th>\n",
       "      <th>ISO_Code</th>\n",
       "      <th>CountryName</th>\n",
       "      <th>Year</th>\n",
       "      <th>Preterm</th>\n",
       "      <th>Pertussis</th>\n",
       "      <th>Intrapartum</th>\n",
       "      <th>Sepsis</th>\n",
       "      <th>Tetanus</th>\n",
       "      <th>Congenital</th>\n",
       "      <th>Pneumonia</th>\n",
       "      <th>Diarrhoea</th>\n",
       "      <th>Malaria</th>\n",
       "      <th>Aids</th>\n",
       "      <th>Measles</th>\n",
       "      <th>Injury</th>\n",
       "      <th>Meningitis</th>\n",
       "    </tr>\n",
       "  </thead>\n",
       "  <tbody>\n",
       "    <tr>\n",
       "      <th>0</th>\n",
       "      <td>AFG</td>\n",
       "      <td>Afghanistan</td>\n",
       "      <td>2015</td>\n",
       "      <td>14.6</td>\n",
       "      <td>1.2</td>\n",
       "      <td>11.0</td>\n",
       "      <td>7.0</td>\n",
       "      <td>0.8</td>\n",
       "      <td>4.9</td>\n",
       "      <td>19.8</td>\n",
       "      <td>12.4</td>\n",
       "      <td>0.0</td>\n",
       "      <td>0.0</td>\n",
       "      <td>1.0</td>\n",
       "      <td>7.3</td>\n",
       "      <td>2.5</td>\n",
       "    </tr>\n",
       "    <tr>\n",
       "      <th>1</th>\n",
       "      <td>ALB</td>\n",
       "      <td>Albania</td>\n",
       "      <td>2015</td>\n",
       "      <td>20.8</td>\n",
       "      <td>0.7</td>\n",
       "      <td>7.5</td>\n",
       "      <td>2.7</td>\n",
       "      <td>0.4</td>\n",
       "      <td>27.5</td>\n",
       "      <td>11.9</td>\n",
       "      <td>1.2</td>\n",
       "      <td>0.0</td>\n",
       "      <td>0.3</td>\n",
       "      <td>0.0</td>\n",
       "      <td>8.7</td>\n",
       "      <td>1.9</td>\n",
       "    </tr>\n",
       "    <tr>\n",
       "      <th>2</th>\n",
       "      <td>DZA</td>\n",
       "      <td>Algeria</td>\n",
       "      <td>2015</td>\n",
       "      <td>21.9</td>\n",
       "      <td>0.8</td>\n",
       "      <td>13.7</td>\n",
       "      <td>8.8</td>\n",
       "      <td>0.2</td>\n",
       "      <td>16.3</td>\n",
       "      <td>12.9</td>\n",
       "      <td>5.0</td>\n",
       "      <td>0.0</td>\n",
       "      <td>0.1</td>\n",
       "      <td>0.1</td>\n",
       "      <td>6.2</td>\n",
       "      <td>0.8</td>\n",
       "    </tr>\n",
       "    <tr>\n",
       "      <th>3</th>\n",
       "      <td>AGO</td>\n",
       "      <td>Angola</td>\n",
       "      <td>2015</td>\n",
       "      <td>12.5</td>\n",
       "      <td>0.5</td>\n",
       "      <td>10.8</td>\n",
       "      <td>5.0</td>\n",
       "      <td>1.2</td>\n",
       "      <td>5.8</td>\n",
       "      <td>17.4</td>\n",
       "      <td>14.7</td>\n",
       "      <td>6.3</td>\n",
       "      <td>1.2</td>\n",
       "      <td>0.3</td>\n",
       "      <td>5.3</td>\n",
       "      <td>1.4</td>\n",
       "    </tr>\n",
       "    <tr>\n",
       "      <th>4</th>\n",
       "      <td>ARG</td>\n",
       "      <td>Argentina</td>\n",
       "      <td>2015</td>\n",
       "      <td>25.7</td>\n",
       "      <td>0.6</td>\n",
       "      <td>3.9</td>\n",
       "      <td>4.9</td>\n",
       "      <td>0.0</td>\n",
       "      <td>28.1</td>\n",
       "      <td>7.4</td>\n",
       "      <td>1.3</td>\n",
       "      <td>0.0</td>\n",
       "      <td>0.1</td>\n",
       "      <td>0.0</td>\n",
       "      <td>7.8</td>\n",
       "      <td>1.3</td>\n",
       "    </tr>\n",
       "    <tr>\n",
       "      <th>5</th>\n",
       "      <td>ARM</td>\n",
       "      <td>Armenia</td>\n",
       "      <td>2015</td>\n",
       "      <td>23.4</td>\n",
       "      <td>0.6</td>\n",
       "      <td>8.5</td>\n",
       "      <td>3.5</td>\n",
       "      <td>0.0</td>\n",
       "      <td>26.4</td>\n",
       "      <td>10.7</td>\n",
       "      <td>1.3</td>\n",
       "      <td>0.0</td>\n",
       "      <td>0.2</td>\n",
       "      <td>0.0</td>\n",
       "      <td>8.5</td>\n",
       "      <td>1.7</td>\n",
       "    </tr>\n",
       "    <tr>\n",
       "      <th>6</th>\n",
       "      <td>AZE</td>\n",
       "      <td>Azerbaijan</td>\n",
       "      <td>2015</td>\n",
       "      <td>24.3</td>\n",
       "      <td>0.5</td>\n",
       "      <td>13.6</td>\n",
       "      <td>6.9</td>\n",
       "      <td>0.2</td>\n",
       "      <td>14.1</td>\n",
       "      <td>12.2</td>\n",
       "      <td>5.9</td>\n",
       "      <td>0.0</td>\n",
       "      <td>0.1</td>\n",
       "      <td>0.0</td>\n",
       "      <td>6.2</td>\n",
       "      <td>0.6</td>\n",
       "    </tr>\n",
       "    <tr>\n",
       "      <th>7</th>\n",
       "      <td>BGD</td>\n",
       "      <td>Bangladesh</td>\n",
       "      <td>2015</td>\n",
       "      <td>19.8</td>\n",
       "      <td>0.4</td>\n",
       "      <td>14.9</td>\n",
       "      <td>12.4</td>\n",
       "      <td>0.3</td>\n",
       "      <td>9.3</td>\n",
       "      <td>14.5</td>\n",
       "      <td>6.0</td>\n",
       "      <td>0.2</td>\n",
       "      <td>0.0</td>\n",
       "      <td>1.9</td>\n",
       "      <td>6.0</td>\n",
       "      <td>1.5</td>\n",
       "    </tr>\n",
       "    <tr>\n",
       "      <th>8</th>\n",
       "      <td>BLR</td>\n",
       "      <td>Belarus</td>\n",
       "      <td>2015</td>\n",
       "      <td>20.7</td>\n",
       "      <td>1.4</td>\n",
       "      <td>7.1</td>\n",
       "      <td>2.4</td>\n",
       "      <td>0.0</td>\n",
       "      <td>35.4</td>\n",
       "      <td>6.1</td>\n",
       "      <td>0.6</td>\n",
       "      <td>0.0</td>\n",
       "      <td>0.1</td>\n",
       "      <td>0.0</td>\n",
       "      <td>8.1</td>\n",
       "      <td>1.3</td>\n",
       "    </tr>\n",
       "    <tr>\n",
       "      <th>9</th>\n",
       "      <td>BLZ</td>\n",
       "      <td>Belize</td>\n",
       "      <td>2015</td>\n",
       "      <td>17.3</td>\n",
       "      <td>0.0</td>\n",
       "      <td>8.0</td>\n",
       "      <td>7.6</td>\n",
       "      <td>0.0</td>\n",
       "      <td>23.9</td>\n",
       "      <td>8.3</td>\n",
       "      <td>3.1</td>\n",
       "      <td>0.0</td>\n",
       "      <td>1.2</td>\n",
       "      <td>0.0</td>\n",
       "      <td>7.0</td>\n",
       "      <td>1.5</td>\n",
       "    </tr>\n",
       "    <tr>\n",
       "      <th>10</th>\n",
       "      <td>BEN</td>\n",
       "      <td>Benin</td>\n",
       "      <td>2015</td>\n",
       "      <td>12.9</td>\n",
       "      <td>1.0</td>\n",
       "      <td>9.4</td>\n",
       "      <td>7.0</td>\n",
       "      <td>0.2</td>\n",
       "      <td>5.1</td>\n",
       "      <td>15.4</td>\n",
       "      <td>10.8</td>\n",
       "      <td>11.6</td>\n",
       "      <td>1.1</td>\n",
       "      <td>0.7</td>\n",
       "      <td>5.7</td>\n",
       "      <td>2.4</td>\n",
       "    </tr>\n",
       "    <tr>\n",
       "      <th>11</th>\n",
       "      <td>BTN</td>\n",
       "      <td>Bhutan</td>\n",
       "      <td>2015</td>\n",
       "      <td>21.9</td>\n",
       "      <td>0.4</td>\n",
       "      <td>12.0</td>\n",
       "      <td>9.0</td>\n",
       "      <td>0.2</td>\n",
       "      <td>11.1</td>\n",
       "      <td>14.6</td>\n",
       "      <td>6.2</td>\n",
       "      <td>0.0</td>\n",
       "      <td>1.6</td>\n",
       "      <td>0.0</td>\n",
       "      <td>7.5</td>\n",
       "      <td>1.2</td>\n",
       "    </tr>\n",
       "    <tr>\n",
       "      <th>12</th>\n",
       "      <td>BOL</td>\n",
       "      <td>Bolivia</td>\n",
       "      <td>2015</td>\n",
       "      <td>18.7</td>\n",
       "      <td>2.9</td>\n",
       "      <td>14.5</td>\n",
       "      <td>6.5</td>\n",
       "      <td>0.3</td>\n",
       "      <td>14.6</td>\n",
       "      <td>13.9</td>\n",
       "      <td>6.1</td>\n",
       "      <td>0.0</td>\n",
       "      <td>0.3</td>\n",
       "      <td>0.0</td>\n",
       "      <td>7.5</td>\n",
       "      <td>1.0</td>\n",
       "    </tr>\n",
       "    <tr>\n",
       "      <th>13</th>\n",
       "      <td>BIH</td>\n",
       "      <td>Bosnia &amp; Herzegovina</td>\n",
       "      <td>2015</td>\n",
       "      <td>31.4</td>\n",
       "      <td>0.6</td>\n",
       "      <td>9.8</td>\n",
       "      <td>4.9</td>\n",
       "      <td>0.0</td>\n",
       "      <td>32.5</td>\n",
       "      <td>5.1</td>\n",
       "      <td>0.4</td>\n",
       "      <td>0.0</td>\n",
       "      <td>0.1</td>\n",
       "      <td>0.8</td>\n",
       "      <td>2.9</td>\n",
       "      <td>0.5</td>\n",
       "    </tr>\n",
       "    <tr>\n",
       "      <th>14</th>\n",
       "      <td>BWA</td>\n",
       "      <td>Botswana</td>\n",
       "      <td>2015</td>\n",
       "      <td>21.6</td>\n",
       "      <td>0.3</td>\n",
       "      <td>12.2</td>\n",
       "      <td>7.0</td>\n",
       "      <td>0.2</td>\n",
       "      <td>11.1</td>\n",
       "      <td>12.4</td>\n",
       "      <td>6.3</td>\n",
       "      <td>0.0</td>\n",
       "      <td>5.1</td>\n",
       "      <td>0.7</td>\n",
       "      <td>6.4</td>\n",
       "      <td>0.6</td>\n",
       "    </tr>\n",
       "    <tr>\n",
       "      <th>15</th>\n",
       "      <td>BRA</td>\n",
       "      <td>Brazil</td>\n",
       "      <td>2015</td>\n",
       "      <td>18.9</td>\n",
       "      <td>0.2</td>\n",
       "      <td>9.3</td>\n",
       "      <td>7.8</td>\n",
       "      <td>0.0</td>\n",
       "      <td>22.1</td>\n",
       "      <td>9.1</td>\n",
       "      <td>2.5</td>\n",
       "      <td>0.0</td>\n",
       "      <td>0.2</td>\n",
       "      <td>0.0</td>\n",
       "      <td>6.1</td>\n",
       "      <td>1.2</td>\n",
       "    </tr>\n",
       "    <tr>\n",
       "      <th>16</th>\n",
       "      <td>BGR</td>\n",
       "      <td>Bulgaria</td>\n",
       "      <td>2015</td>\n",
       "      <td>25.5</td>\n",
       "      <td>0.0</td>\n",
       "      <td>9.8</td>\n",
       "      <td>2.5</td>\n",
       "      <td>0.0</td>\n",
       "      <td>25.0</td>\n",
       "      <td>17.0</td>\n",
       "      <td>1.1</td>\n",
       "      <td>0.0</td>\n",
       "      <td>0.0</td>\n",
       "      <td>0.4</td>\n",
       "      <td>5.2</td>\n",
       "      <td>1.8</td>\n",
       "    </tr>\n",
       "    <tr>\n",
       "      <th>17</th>\n",
       "      <td>BFA</td>\n",
       "      <td>Burkina Faso</td>\n",
       "      <td>2015</td>\n",
       "      <td>11.2</td>\n",
       "      <td>1.0</td>\n",
       "      <td>9.0</td>\n",
       "      <td>6.8</td>\n",
       "      <td>0.2</td>\n",
       "      <td>4.3</td>\n",
       "      <td>12.8</td>\n",
       "      <td>8.2</td>\n",
       "      <td>21.4</td>\n",
       "      <td>0.6</td>\n",
       "      <td>2.3</td>\n",
       "      <td>5.8</td>\n",
       "      <td>2.0</td>\n",
       "    </tr>\n",
       "    <tr>\n",
       "      <th>18</th>\n",
       "      <td>BDI</td>\n",
       "      <td>Burundi</td>\n",
       "      <td>2015</td>\n",
       "      <td>12.9</td>\n",
       "      <td>1.1</td>\n",
       "      <td>12.0</td>\n",
       "      <td>6.0</td>\n",
       "      <td>0.3</td>\n",
       "      <td>5.6</td>\n",
       "      <td>16.0</td>\n",
       "      <td>10.1</td>\n",
       "      <td>6.5</td>\n",
       "      <td>0.9</td>\n",
       "      <td>0.1</td>\n",
       "      <td>7.9</td>\n",
       "      <td>1.8</td>\n",
       "    </tr>\n",
       "    <tr>\n",
       "      <th>19</th>\n",
       "      <td>KHM</td>\n",
       "      <td>Cambodia</td>\n",
       "      <td>2015</td>\n",
       "      <td>16.4</td>\n",
       "      <td>2.9</td>\n",
       "      <td>13.0</td>\n",
       "      <td>8.7</td>\n",
       "      <td>0.2</td>\n",
       "      <td>10.7</td>\n",
       "      <td>16.5</td>\n",
       "      <td>6.7</td>\n",
       "      <td>0.3</td>\n",
       "      <td>0.5</td>\n",
       "      <td>0.0</td>\n",
       "      <td>8.1</td>\n",
       "      <td>1.8</td>\n",
       "    </tr>\n",
       "    <tr>\n",
       "      <th>20</th>\n",
       "      <td>CMR</td>\n",
       "      <td>Cameroon</td>\n",
       "      <td>2015</td>\n",
       "      <td>10.4</td>\n",
       "      <td>1.1</td>\n",
       "      <td>10.8</td>\n",
       "      <td>5.3</td>\n",
       "      <td>0.3</td>\n",
       "      <td>6.2</td>\n",
       "      <td>15.5</td>\n",
       "      <td>11.3</td>\n",
       "      <td>9.9</td>\n",
       "      <td>4.0</td>\n",
       "      <td>0.2</td>\n",
       "      <td>6.9</td>\n",
       "      <td>1.8</td>\n",
       "    </tr>\n",
       "    <tr>\n",
       "      <th>21</th>\n",
       "      <td>CAF</td>\n",
       "      <td>Central African Republic</td>\n",
       "      <td>2015</td>\n",
       "      <td>10.8</td>\n",
       "      <td>0.9</td>\n",
       "      <td>11.9</td>\n",
       "      <td>5.1</td>\n",
       "      <td>1.3</td>\n",
       "      <td>4.0</td>\n",
       "      <td>16.0</td>\n",
       "      <td>10.4</td>\n",
       "      <td>15.3</td>\n",
       "      <td>3.4</td>\n",
       "      <td>0.9</td>\n",
       "      <td>4.4</td>\n",
       "      <td>3.5</td>\n",
       "    </tr>\n",
       "    <tr>\n",
       "      <th>22</th>\n",
       "      <td>TCD</td>\n",
       "      <td>Chad</td>\n",
       "      <td>2015</td>\n",
       "      <td>10.1</td>\n",
       "      <td>0.9</td>\n",
       "      <td>10.4</td>\n",
       "      <td>4.6</td>\n",
       "      <td>1.2</td>\n",
       "      <td>4.2</td>\n",
       "      <td>23.3</td>\n",
       "      <td>13.7</td>\n",
       "      <td>6.0</td>\n",
       "      <td>2.1</td>\n",
       "      <td>0.2</td>\n",
       "      <td>5.6</td>\n",
       "      <td>5.0</td>\n",
       "    </tr>\n",
       "    <tr>\n",
       "      <th>23</th>\n",
       "      <td>CHN</td>\n",
       "      <td>China</td>\n",
       "      <td>2015</td>\n",
       "      <td>18.3</td>\n",
       "      <td>0.8</td>\n",
       "      <td>14.3</td>\n",
       "      <td>2.9</td>\n",
       "      <td>0.1</td>\n",
       "      <td>17.9</td>\n",
       "      <td>12.1</td>\n",
       "      <td>2.8</td>\n",
       "      <td>0.0</td>\n",
       "      <td>0.2</td>\n",
       "      <td>0.3</td>\n",
       "      <td>16.6</td>\n",
       "      <td>1.4</td>\n",
       "    </tr>\n",
       "    <tr>\n",
       "      <th>24</th>\n",
       "      <td>COL</td>\n",
       "      <td>Colombia</td>\n",
       "      <td>2015</td>\n",
       "      <td>21.0</td>\n",
       "      <td>0.3</td>\n",
       "      <td>5.7</td>\n",
       "      <td>7.2</td>\n",
       "      <td>0.0</td>\n",
       "      <td>24.8</td>\n",
       "      <td>10.2</td>\n",
       "      <td>2.1</td>\n",
       "      <td>0.1</td>\n",
       "      <td>0.2</td>\n",
       "      <td>0.0</td>\n",
       "      <td>6.7</td>\n",
       "      <td>1.2</td>\n",
       "    </tr>\n",
       "    <tr>\n",
       "      <th>25</th>\n",
       "      <td>COM</td>\n",
       "      <td>Comoros</td>\n",
       "      <td>2015</td>\n",
       "      <td>19.3</td>\n",
       "      <td>1.5</td>\n",
       "      <td>12.2</td>\n",
       "      <td>7.1</td>\n",
       "      <td>0.5</td>\n",
       "      <td>6.3</td>\n",
       "      <td>15.8</td>\n",
       "      <td>7.5</td>\n",
       "      <td>7.9</td>\n",
       "      <td>1.1</td>\n",
       "      <td>0.0</td>\n",
       "      <td>5.1</td>\n",
       "      <td>2.1</td>\n",
       "    </tr>\n",
       "    <tr>\n",
       "      <th>26</th>\n",
       "      <td>COG</td>\n",
       "      <td>Congo</td>\n",
       "      <td>2015</td>\n",
       "      <td>15.6</td>\n",
       "      <td>2.0</td>\n",
       "      <td>11.2</td>\n",
       "      <td>5.9</td>\n",
       "      <td>0.2</td>\n",
       "      <td>9.6</td>\n",
       "      <td>13.4</td>\n",
       "      <td>7.1</td>\n",
       "      <td>5.6</td>\n",
       "      <td>6.3</td>\n",
       "      <td>0.7</td>\n",
       "      <td>6.8</td>\n",
       "      <td>1.0</td>\n",
       "    </tr>\n",
       "    <tr>\n",
       "      <th>27</th>\n",
       "      <td>CRI</td>\n",
       "      <td>Costa Rica</td>\n",
       "      <td>2015</td>\n",
       "      <td>27.7</td>\n",
       "      <td>0.1</td>\n",
       "      <td>7.6</td>\n",
       "      <td>1.4</td>\n",
       "      <td>0.0</td>\n",
       "      <td>38.8</td>\n",
       "      <td>5.0</td>\n",
       "      <td>1.0</td>\n",
       "      <td>0.0</td>\n",
       "      <td>0.0</td>\n",
       "      <td>0.0</td>\n",
       "      <td>3.8</td>\n",
       "      <td>1.0</td>\n",
       "    </tr>\n",
       "    <tr>\n",
       "      <th>28</th>\n",
       "      <td>CIV</td>\n",
       "      <td>Cote d Ivoire</td>\n",
       "      <td>2015</td>\n",
       "      <td>14.5</td>\n",
       "      <td>0.9</td>\n",
       "      <td>12.2</td>\n",
       "      <td>8.4</td>\n",
       "      <td>0.6</td>\n",
       "      <td>4.7</td>\n",
       "      <td>14.5</td>\n",
       "      <td>7.6</td>\n",
       "      <td>16.7</td>\n",
       "      <td>2.1</td>\n",
       "      <td>0.2</td>\n",
       "      <td>4.3</td>\n",
       "      <td>2.1</td>\n",
       "    </tr>\n",
       "    <tr>\n",
       "      <th>29</th>\n",
       "      <td>CUB</td>\n",
       "      <td>Cuba</td>\n",
       "      <td>2015</td>\n",
       "      <td>16.8</td>\n",
       "      <td>0.0</td>\n",
       "      <td>7.7</td>\n",
       "      <td>4.6</td>\n",
       "      <td>0.0</td>\n",
       "      <td>23.5</td>\n",
       "      <td>11.2</td>\n",
       "      <td>1.3</td>\n",
       "      <td>0.0</td>\n",
       "      <td>0.1</td>\n",
       "      <td>0.0</td>\n",
       "      <td>8.5</td>\n",
       "      <td>2.9</td>\n",
       "    </tr>\n",
       "    <tr>\n",
       "      <th>...</th>\n",
       "      <td>...</td>\n",
       "      <td>...</td>\n",
       "      <td>...</td>\n",
       "      <td>...</td>\n",
       "      <td>...</td>\n",
       "      <td>...</td>\n",
       "      <td>...</td>\n",
       "      <td>...</td>\n",
       "      <td>...</td>\n",
       "      <td>...</td>\n",
       "      <td>...</td>\n",
       "      <td>...</td>\n",
       "      <td>...</td>\n",
       "      <td>...</td>\n",
       "      <td>...</td>\n",
       "      <td>...</td>\n",
       "    </tr>\n",
       "    <tr>\n",
       "      <th>222</th>\n",
       "      <td>SRB</td>\n",
       "      <td>Serbia</td>\n",
       "      <td>2000</td>\n",
       "      <td>31.2</td>\n",
       "      <td>0.0</td>\n",
       "      <td>16.4</td>\n",
       "      <td>4.7</td>\n",
       "      <td>0.0</td>\n",
       "      <td>26.4</td>\n",
       "      <td>5.4</td>\n",
       "      <td>0.9</td>\n",
       "      <td>0.0</td>\n",
       "      <td>0.3</td>\n",
       "      <td>0.0</td>\n",
       "      <td>4.8</td>\n",
       "      <td>1.4</td>\n",
       "    </tr>\n",
       "    <tr>\n",
       "      <th>223</th>\n",
       "      <td>SYC</td>\n",
       "      <td>Seychelles</td>\n",
       "      <td>2000</td>\n",
       "      <td>27.3</td>\n",
       "      <td>0.0</td>\n",
       "      <td>9.4</td>\n",
       "      <td>6.3</td>\n",
       "      <td>0.0</td>\n",
       "      <td>25.3</td>\n",
       "      <td>6.6</td>\n",
       "      <td>1.2</td>\n",
       "      <td>0.0</td>\n",
       "      <td>0.0</td>\n",
       "      <td>0.0</td>\n",
       "      <td>8.3</td>\n",
       "      <td>1.0</td>\n",
       "    </tr>\n",
       "    <tr>\n",
       "      <th>224</th>\n",
       "      <td>SLE</td>\n",
       "      <td>Sierra Leone</td>\n",
       "      <td>2000</td>\n",
       "      <td>7.0</td>\n",
       "      <td>0.5</td>\n",
       "      <td>5.6</td>\n",
       "      <td>3.0</td>\n",
       "      <td>1.0</td>\n",
       "      <td>2.5</td>\n",
       "      <td>12.8</td>\n",
       "      <td>13.6</td>\n",
       "      <td>26.0</td>\n",
       "      <td>0.5</td>\n",
       "      <td>15.8</td>\n",
       "      <td>2.0</td>\n",
       "      <td>2.6</td>\n",
       "    </tr>\n",
       "    <tr>\n",
       "      <th>225</th>\n",
       "      <td>SLB</td>\n",
       "      <td>Solomon Islands</td>\n",
       "      <td>2000</td>\n",
       "      <td>13.5</td>\n",
       "      <td>2.9</td>\n",
       "      <td>12.3</td>\n",
       "      <td>6.5</td>\n",
       "      <td>0.2</td>\n",
       "      <td>9.7</td>\n",
       "      <td>16.4</td>\n",
       "      <td>7.7</td>\n",
       "      <td>12.1</td>\n",
       "      <td>0.0</td>\n",
       "      <td>0.0</td>\n",
       "      <td>5.6</td>\n",
       "      <td>2.9</td>\n",
       "    </tr>\n",
       "    <tr>\n",
       "      <th>226</th>\n",
       "      <td>SOM</td>\n",
       "      <td>Somalia</td>\n",
       "      <td>2000</td>\n",
       "      <td>7.4</td>\n",
       "      <td>0.7</td>\n",
       "      <td>8.2</td>\n",
       "      <td>2.9</td>\n",
       "      <td>1.7</td>\n",
       "      <td>2.8</td>\n",
       "      <td>17.7</td>\n",
       "      <td>15.7</td>\n",
       "      <td>1.1</td>\n",
       "      <td>0.4</td>\n",
       "      <td>26.2</td>\n",
       "      <td>3.3</td>\n",
       "      <td>3.9</td>\n",
       "    </tr>\n",
       "    <tr>\n",
       "      <th>227</th>\n",
       "      <td>ZAF</td>\n",
       "      <td>South Africa</td>\n",
       "      <td>2000</td>\n",
       "      <td>9.5</td>\n",
       "      <td>0.2</td>\n",
       "      <td>5.7</td>\n",
       "      <td>2.7</td>\n",
       "      <td>0.0</td>\n",
       "      <td>4.8</td>\n",
       "      <td>14.6</td>\n",
       "      <td>11.7</td>\n",
       "      <td>0.2</td>\n",
       "      <td>28.5</td>\n",
       "      <td>0.6</td>\n",
       "      <td>5.0</td>\n",
       "      <td>1.3</td>\n",
       "    </tr>\n",
       "    <tr>\n",
       "      <th>228</th>\n",
       "      <td>SSD</td>\n",
       "      <td>South Sudan</td>\n",
       "      <td>2000</td>\n",
       "      <td>8.5</td>\n",
       "      <td>1.1</td>\n",
       "      <td>10.9</td>\n",
       "      <td>3.2</td>\n",
       "      <td>4.8</td>\n",
       "      <td>3.3</td>\n",
       "      <td>18.8</td>\n",
       "      <td>15.9</td>\n",
       "      <td>12.8</td>\n",
       "      <td>1.5</td>\n",
       "      <td>3.4</td>\n",
       "      <td>3.3</td>\n",
       "      <td>4.4</td>\n",
       "    </tr>\n",
       "    <tr>\n",
       "      <th>229</th>\n",
       "      <td>LKA</td>\n",
       "      <td>Sri Lanka</td>\n",
       "      <td>2000</td>\n",
       "      <td>22.8</td>\n",
       "      <td>0.6</td>\n",
       "      <td>8.4</td>\n",
       "      <td>4.0</td>\n",
       "      <td>0.5</td>\n",
       "      <td>23.6</td>\n",
       "      <td>10.1</td>\n",
       "      <td>4.1</td>\n",
       "      <td>0.3</td>\n",
       "      <td>0.0</td>\n",
       "      <td>0.0</td>\n",
       "      <td>6.1</td>\n",
       "      <td>0.9</td>\n",
       "    </tr>\n",
       "    <tr>\n",
       "      <th>230</th>\n",
       "      <td>SDN</td>\n",
       "      <td>Sudan</td>\n",
       "      <td>2000</td>\n",
       "      <td>13.3</td>\n",
       "      <td>1.2</td>\n",
       "      <td>9.8</td>\n",
       "      <td>5.1</td>\n",
       "      <td>0.8</td>\n",
       "      <td>3.6</td>\n",
       "      <td>21.1</td>\n",
       "      <td>15.0</td>\n",
       "      <td>2.2</td>\n",
       "      <td>0.1</td>\n",
       "      <td>5.6</td>\n",
       "      <td>5.1</td>\n",
       "      <td>5.0</td>\n",
       "    </tr>\n",
       "    <tr>\n",
       "      <th>231</th>\n",
       "      <td>SUR</td>\n",
       "      <td>Suriname</td>\n",
       "      <td>2000</td>\n",
       "      <td>20.9</td>\n",
       "      <td>0.0</td>\n",
       "      <td>7.9</td>\n",
       "      <td>14.7</td>\n",
       "      <td>0.0</td>\n",
       "      <td>12.2</td>\n",
       "      <td>8.2</td>\n",
       "      <td>6.6</td>\n",
       "      <td>3.0</td>\n",
       "      <td>1.2</td>\n",
       "      <td>0.0</td>\n",
       "      <td>8.2</td>\n",
       "      <td>2.1</td>\n",
       "    </tr>\n",
       "    <tr>\n",
       "      <th>232</th>\n",
       "      <td>SWZ</td>\n",
       "      <td>Swaziland</td>\n",
       "      <td>2000</td>\n",
       "      <td>6.8</td>\n",
       "      <td>0.8</td>\n",
       "      <td>6.0</td>\n",
       "      <td>2.3</td>\n",
       "      <td>0.1</td>\n",
       "      <td>4.3</td>\n",
       "      <td>15.9</td>\n",
       "      <td>12.3</td>\n",
       "      <td>0.0</td>\n",
       "      <td>35.2</td>\n",
       "      <td>0.0</td>\n",
       "      <td>3.6</td>\n",
       "      <td>2.0</td>\n",
       "    </tr>\n",
       "    <tr>\n",
       "      <th>233</th>\n",
       "      <td>SYR</td>\n",
       "      <td>Syria</td>\n",
       "      <td>2000</td>\n",
       "      <td>22.6</td>\n",
       "      <td>0.9</td>\n",
       "      <td>10.9</td>\n",
       "      <td>3.6</td>\n",
       "      <td>0.6</td>\n",
       "      <td>20.7</td>\n",
       "      <td>14.4</td>\n",
       "      <td>9.5</td>\n",
       "      <td>0.0</td>\n",
       "      <td>0.0</td>\n",
       "      <td>0.1</td>\n",
       "      <td>4.2</td>\n",
       "      <td>0.6</td>\n",
       "    </tr>\n",
       "    <tr>\n",
       "      <th>234</th>\n",
       "      <td>TJK</td>\n",
       "      <td>Tajikistan</td>\n",
       "      <td>2000</td>\n",
       "      <td>13.8</td>\n",
       "      <td>0.2</td>\n",
       "      <td>10.1</td>\n",
       "      <td>3.9</td>\n",
       "      <td>0.5</td>\n",
       "      <td>5.5</td>\n",
       "      <td>22.6</td>\n",
       "      <td>15.5</td>\n",
       "      <td>0.0</td>\n",
       "      <td>0.3</td>\n",
       "      <td>0.0</td>\n",
       "      <td>6.0</td>\n",
       "      <td>4.5</td>\n",
       "    </tr>\n",
       "    <tr>\n",
       "      <th>235</th>\n",
       "      <td>THA</td>\n",
       "      <td>Thailand</td>\n",
       "      <td>2000</td>\n",
       "      <td>23.3</td>\n",
       "      <td>0.4</td>\n",
       "      <td>8.1</td>\n",
       "      <td>5.6</td>\n",
       "      <td>0.4</td>\n",
       "      <td>20.4</td>\n",
       "      <td>13.0</td>\n",
       "      <td>4.8</td>\n",
       "      <td>1.0</td>\n",
       "      <td>3.5</td>\n",
       "      <td>0.2</td>\n",
       "      <td>4.6</td>\n",
       "      <td>1.1</td>\n",
       "    </tr>\n",
       "    <tr>\n",
       "      <th>236</th>\n",
       "      <td>TLS</td>\n",
       "      <td>Timor Leste</td>\n",
       "      <td>2000</td>\n",
       "      <td>12.3</td>\n",
       "      <td>0.9</td>\n",
       "      <td>11.1</td>\n",
       "      <td>4.3</td>\n",
       "      <td>1.5</td>\n",
       "      <td>3.6</td>\n",
       "      <td>22.5</td>\n",
       "      <td>16.1</td>\n",
       "      <td>7.2</td>\n",
       "      <td>0.0</td>\n",
       "      <td>0.0</td>\n",
       "      <td>5.5</td>\n",
       "      <td>3.3</td>\n",
       "    </tr>\n",
       "    <tr>\n",
       "      <th>237</th>\n",
       "      <td>TGO</td>\n",
       "      <td>Togo</td>\n",
       "      <td>2000</td>\n",
       "      <td>9.3</td>\n",
       "      <td>0.9</td>\n",
       "      <td>9.1</td>\n",
       "      <td>4.9</td>\n",
       "      <td>0.7</td>\n",
       "      <td>2.8</td>\n",
       "      <td>11.8</td>\n",
       "      <td>8.4</td>\n",
       "      <td>26.9</td>\n",
       "      <td>4.0</td>\n",
       "      <td>10.2</td>\n",
       "      <td>2.5</td>\n",
       "      <td>2.1</td>\n",
       "    </tr>\n",
       "    <tr>\n",
       "      <th>238</th>\n",
       "      <td>TON</td>\n",
       "      <td>Tonga</td>\n",
       "      <td>2000</td>\n",
       "      <td>19.5</td>\n",
       "      <td>0.0</td>\n",
       "      <td>6.0</td>\n",
       "      <td>4.6</td>\n",
       "      <td>0.0</td>\n",
       "      <td>23.6</td>\n",
       "      <td>12.8</td>\n",
       "      <td>4.9</td>\n",
       "      <td>0.0</td>\n",
       "      <td>0.0</td>\n",
       "      <td>0.0</td>\n",
       "      <td>8.9</td>\n",
       "      <td>1.7</td>\n",
       "    </tr>\n",
       "    <tr>\n",
       "      <th>239</th>\n",
       "      <td>TUN</td>\n",
       "      <td>Tunisia</td>\n",
       "      <td>2000</td>\n",
       "      <td>24.6</td>\n",
       "      <td>0.3</td>\n",
       "      <td>11.5</td>\n",
       "      <td>3.4</td>\n",
       "      <td>1.3</td>\n",
       "      <td>17.7</td>\n",
       "      <td>15.2</td>\n",
       "      <td>5.5</td>\n",
       "      <td>0.0</td>\n",
       "      <td>0.0</td>\n",
       "      <td>0.0</td>\n",
       "      <td>4.9</td>\n",
       "      <td>0.7</td>\n",
       "    </tr>\n",
       "    <tr>\n",
       "      <th>240</th>\n",
       "      <td>TUR</td>\n",
       "      <td>Turkey</td>\n",
       "      <td>2000</td>\n",
       "      <td>24.0</td>\n",
       "      <td>0.0</td>\n",
       "      <td>7.2</td>\n",
       "      <td>3.9</td>\n",
       "      <td>0.0</td>\n",
       "      <td>24.7</td>\n",
       "      <td>8.1</td>\n",
       "      <td>1.0</td>\n",
       "      <td>0.0</td>\n",
       "      <td>0.0</td>\n",
       "      <td>0.0</td>\n",
       "      <td>3.3</td>\n",
       "      <td>0.7</td>\n",
       "    </tr>\n",
       "    <tr>\n",
       "      <th>241</th>\n",
       "      <td>TKM</td>\n",
       "      <td>Turkmenistan</td>\n",
       "      <td>2000</td>\n",
       "      <td>16.3</td>\n",
       "      <td>0.2</td>\n",
       "      <td>10.4</td>\n",
       "      <td>3.7</td>\n",
       "      <td>0.4</td>\n",
       "      <td>7.6</td>\n",
       "      <td>21.1</td>\n",
       "      <td>14.3</td>\n",
       "      <td>0.0</td>\n",
       "      <td>0.0</td>\n",
       "      <td>0.0</td>\n",
       "      <td>6.0</td>\n",
       "      <td>2.8</td>\n",
       "    </tr>\n",
       "    <tr>\n",
       "      <th>242</th>\n",
       "      <td>TUV</td>\n",
       "      <td>Tuvalu</td>\n",
       "      <td>2000</td>\n",
       "      <td>26.5</td>\n",
       "      <td>0.0</td>\n",
       "      <td>11.3</td>\n",
       "      <td>4.7</td>\n",
       "      <td>0.0</td>\n",
       "      <td>13.0</td>\n",
       "      <td>17.9</td>\n",
       "      <td>6.0</td>\n",
       "      <td>0.0</td>\n",
       "      <td>0.0</td>\n",
       "      <td>0.0</td>\n",
       "      <td>6.3</td>\n",
       "      <td>1.5</td>\n",
       "    </tr>\n",
       "    <tr>\n",
       "      <th>243</th>\n",
       "      <td>UGA</td>\n",
       "      <td>Uganda</td>\n",
       "      <td>2000</td>\n",
       "      <td>7.5</td>\n",
       "      <td>0.8</td>\n",
       "      <td>7.4</td>\n",
       "      <td>3.5</td>\n",
       "      <td>0.3</td>\n",
       "      <td>2.6</td>\n",
       "      <td>13.2</td>\n",
       "      <td>10.1</td>\n",
       "      <td>27.2</td>\n",
       "      <td>7.5</td>\n",
       "      <td>7.0</td>\n",
       "      <td>2.8</td>\n",
       "      <td>2.7</td>\n",
       "    </tr>\n",
       "    <tr>\n",
       "      <th>244</th>\n",
       "      <td>UKR</td>\n",
       "      <td>Ukraine</td>\n",
       "      <td>2000</td>\n",
       "      <td>25.8</td>\n",
       "      <td>0.5</td>\n",
       "      <td>7.9</td>\n",
       "      <td>4.0</td>\n",
       "      <td>0.0</td>\n",
       "      <td>22.8</td>\n",
       "      <td>14.7</td>\n",
       "      <td>2.0</td>\n",
       "      <td>0.0</td>\n",
       "      <td>3.7</td>\n",
       "      <td>0.2</td>\n",
       "      <td>6.5</td>\n",
       "      <td>1.6</td>\n",
       "    </tr>\n",
       "    <tr>\n",
       "      <th>245</th>\n",
       "      <td>UZB</td>\n",
       "      <td>Uzbekistan</td>\n",
       "      <td>2000</td>\n",
       "      <td>19.6</td>\n",
       "      <td>0.3</td>\n",
       "      <td>12.2</td>\n",
       "      <td>4.5</td>\n",
       "      <td>0.5</td>\n",
       "      <td>9.2</td>\n",
       "      <td>18.7</td>\n",
       "      <td>11.0</td>\n",
       "      <td>0.0</td>\n",
       "      <td>0.2</td>\n",
       "      <td>0.0</td>\n",
       "      <td>5.3</td>\n",
       "      <td>2.9</td>\n",
       "    </tr>\n",
       "    <tr>\n",
       "      <th>246</th>\n",
       "      <td>VUT</td>\n",
       "      <td>Vanuatu</td>\n",
       "      <td>2000</td>\n",
       "      <td>17.4</td>\n",
       "      <td>1.8</td>\n",
       "      <td>8.3</td>\n",
       "      <td>2.9</td>\n",
       "      <td>0.7</td>\n",
       "      <td>15.7</td>\n",
       "      <td>15.6</td>\n",
       "      <td>15.6</td>\n",
       "      <td>7.9</td>\n",
       "      <td>0.0</td>\n",
       "      <td>0.0</td>\n",
       "      <td>5.2</td>\n",
       "      <td>1.4</td>\n",
       "    </tr>\n",
       "    <tr>\n",
       "      <th>247</th>\n",
       "      <td>VEN</td>\n",
       "      <td>Venezuela</td>\n",
       "      <td>2000</td>\n",
       "      <td>25.2</td>\n",
       "      <td>0.5</td>\n",
       "      <td>9.0</td>\n",
       "      <td>9.7</td>\n",
       "      <td>0.0</td>\n",
       "      <td>14.9</td>\n",
       "      <td>8.1</td>\n",
       "      <td>10.4</td>\n",
       "      <td>0.1</td>\n",
       "      <td>0.2</td>\n",
       "      <td>0.0</td>\n",
       "      <td>6.5</td>\n",
       "      <td>1.9</td>\n",
       "    </tr>\n",
       "    <tr>\n",
       "      <th>248</th>\n",
       "      <td>VNM</td>\n",
       "      <td>Vietnam</td>\n",
       "      <td>2000</td>\n",
       "      <td>18.0</td>\n",
       "      <td>0.2</td>\n",
       "      <td>6.7</td>\n",
       "      <td>3.4</td>\n",
       "      <td>0.4</td>\n",
       "      <td>15.1</td>\n",
       "      <td>19.2</td>\n",
       "      <td>13.9</td>\n",
       "      <td>0.2</td>\n",
       "      <td>0.2</td>\n",
       "      <td>6.7</td>\n",
       "      <td>3.4</td>\n",
       "      <td>1.5</td>\n",
       "    </tr>\n",
       "    <tr>\n",
       "      <th>249</th>\n",
       "      <td>YEM</td>\n",
       "      <td>Yemen</td>\n",
       "      <td>2000</td>\n",
       "      <td>14.2</td>\n",
       "      <td>1.2</td>\n",
       "      <td>9.8</td>\n",
       "      <td>6.2</td>\n",
       "      <td>1.3</td>\n",
       "      <td>3.7</td>\n",
       "      <td>21.9</td>\n",
       "      <td>14.8</td>\n",
       "      <td>1.2</td>\n",
       "      <td>0.0</td>\n",
       "      <td>5.2</td>\n",
       "      <td>5.6</td>\n",
       "      <td>3.0</td>\n",
       "    </tr>\n",
       "    <tr>\n",
       "      <th>250</th>\n",
       "      <td>ZMB</td>\n",
       "      <td>Zambia</td>\n",
       "      <td>2000</td>\n",
       "      <td>6.8</td>\n",
       "      <td>0.6</td>\n",
       "      <td>7.7</td>\n",
       "      <td>3.8</td>\n",
       "      <td>0.3</td>\n",
       "      <td>3.0</td>\n",
       "      <td>16.5</td>\n",
       "      <td>14.4</td>\n",
       "      <td>15.0</td>\n",
       "      <td>11.2</td>\n",
       "      <td>4.8</td>\n",
       "      <td>3.3</td>\n",
       "      <td>2.8</td>\n",
       "    </tr>\n",
       "    <tr>\n",
       "      <th>251</th>\n",
       "      <td>ZWE</td>\n",
       "      <td>Zimbabwe</td>\n",
       "      <td>2000</td>\n",
       "      <td>7.7</td>\n",
       "      <td>0.2</td>\n",
       "      <td>6.7</td>\n",
       "      <td>2.7</td>\n",
       "      <td>0.2</td>\n",
       "      <td>3.3</td>\n",
       "      <td>12.3</td>\n",
       "      <td>8.7</td>\n",
       "      <td>3.4</td>\n",
       "      <td>41.2</td>\n",
       "      <td>0.3</td>\n",
       "      <td>2.9</td>\n",
       "      <td>1.9</td>\n",
       "    </tr>\n",
       "  </tbody>\n",
       "</table>\n",
       "<p>252 rows × 16 columns</p>\n",
       "</div>"
      ],
      "text/plain": [
       "    ISO_Code               CountryName  Year  Preterm  Pertussis  Intrapartum  \\\n",
       "0        AFG               Afghanistan  2015     14.6        1.2         11.0   \n",
       "1        ALB                   Albania  2015     20.8        0.7          7.5   \n",
       "2        DZA                   Algeria  2015     21.9        0.8         13.7   \n",
       "3        AGO                    Angola  2015     12.5        0.5         10.8   \n",
       "4        ARG                 Argentina  2015     25.7        0.6          3.9   \n",
       "5        ARM                   Armenia  2015     23.4        0.6          8.5   \n",
       "6        AZE                Azerbaijan  2015     24.3        0.5         13.6   \n",
       "7        BGD                Bangladesh  2015     19.8        0.4         14.9   \n",
       "8        BLR                   Belarus  2015     20.7        1.4          7.1   \n",
       "9        BLZ                    Belize  2015     17.3        0.0          8.0   \n",
       "10       BEN                     Benin  2015     12.9        1.0          9.4   \n",
       "11       BTN                    Bhutan  2015     21.9        0.4         12.0   \n",
       "12       BOL                   Bolivia  2015     18.7        2.9         14.5   \n",
       "13       BIH      Bosnia & Herzegovina  2015     31.4        0.6          9.8   \n",
       "14       BWA                  Botswana  2015     21.6        0.3         12.2   \n",
       "15       BRA                    Brazil  2015     18.9        0.2          9.3   \n",
       "16       BGR                  Bulgaria  2015     25.5        0.0          9.8   \n",
       "17       BFA              Burkina Faso  2015     11.2        1.0          9.0   \n",
       "18       BDI                   Burundi  2015     12.9        1.1         12.0   \n",
       "19       KHM                  Cambodia  2015     16.4        2.9         13.0   \n",
       "20       CMR                  Cameroon  2015     10.4        1.1         10.8   \n",
       "21       CAF  Central African Republic  2015     10.8        0.9         11.9   \n",
       "22       TCD                      Chad  2015     10.1        0.9         10.4   \n",
       "23       CHN                     China  2015     18.3        0.8         14.3   \n",
       "24       COL                  Colombia  2015     21.0        0.3          5.7   \n",
       "25       COM                   Comoros  2015     19.3        1.5         12.2   \n",
       "26       COG                     Congo  2015     15.6        2.0         11.2   \n",
       "27       CRI                Costa Rica  2015     27.7        0.1          7.6   \n",
       "28       CIV             Cote d Ivoire  2015     14.5        0.9         12.2   \n",
       "29       CUB                      Cuba  2015     16.8        0.0          7.7   \n",
       "..       ...                       ...   ...      ...        ...          ...   \n",
       "222      SRB                    Serbia  2000     31.2        0.0         16.4   \n",
       "223      SYC                Seychelles  2000     27.3        0.0          9.4   \n",
       "224      SLE              Sierra Leone  2000      7.0        0.5          5.6   \n",
       "225      SLB           Solomon Islands  2000     13.5        2.9         12.3   \n",
       "226      SOM                   Somalia  2000      7.4        0.7          8.2   \n",
       "227      ZAF              South Africa  2000      9.5        0.2          5.7   \n",
       "228      SSD               South Sudan  2000      8.5        1.1         10.9   \n",
       "229      LKA                 Sri Lanka  2000     22.8        0.6          8.4   \n",
       "230      SDN                     Sudan  2000     13.3        1.2          9.8   \n",
       "231      SUR                  Suriname  2000     20.9        0.0          7.9   \n",
       "232      SWZ                 Swaziland  2000      6.8        0.8          6.0   \n",
       "233      SYR                     Syria  2000     22.6        0.9         10.9   \n",
       "234      TJK                Tajikistan  2000     13.8        0.2         10.1   \n",
       "235      THA                  Thailand  2000     23.3        0.4          8.1   \n",
       "236      TLS               Timor Leste  2000     12.3        0.9         11.1   \n",
       "237      TGO                      Togo  2000      9.3        0.9          9.1   \n",
       "238      TON                     Tonga  2000     19.5        0.0          6.0   \n",
       "239      TUN                   Tunisia  2000     24.6        0.3         11.5   \n",
       "240      TUR                    Turkey  2000     24.0        0.0          7.2   \n",
       "241      TKM              Turkmenistan  2000     16.3        0.2         10.4   \n",
       "242      TUV                    Tuvalu  2000     26.5        0.0         11.3   \n",
       "243      UGA                    Uganda  2000      7.5        0.8          7.4   \n",
       "244      UKR                   Ukraine  2000     25.8        0.5          7.9   \n",
       "245      UZB                Uzbekistan  2000     19.6        0.3         12.2   \n",
       "246      VUT                   Vanuatu  2000     17.4        1.8          8.3   \n",
       "247      VEN                 Venezuela  2000     25.2        0.5          9.0   \n",
       "248      VNM                   Vietnam  2000     18.0        0.2          6.7   \n",
       "249      YEM                     Yemen  2000     14.2        1.2          9.8   \n",
       "250      ZMB                    Zambia  2000      6.8        0.6          7.7   \n",
       "251      ZWE                  Zimbabwe  2000      7.7        0.2          6.7   \n",
       "\n",
       "     Sepsis  Tetanus  Congenital  Pneumonia  Diarrhoea  Malaria  Aids  \\\n",
       "0       7.0      0.8         4.9       19.8       12.4      0.0   0.0   \n",
       "1       2.7      0.4        27.5       11.9        1.2      0.0   0.3   \n",
       "2       8.8      0.2        16.3       12.9        5.0      0.0   0.1   \n",
       "3       5.0      1.2         5.8       17.4       14.7      6.3   1.2   \n",
       "4       4.9      0.0        28.1        7.4        1.3      0.0   0.1   \n",
       "5       3.5      0.0        26.4       10.7        1.3      0.0   0.2   \n",
       "6       6.9      0.2        14.1       12.2        5.9      0.0   0.1   \n",
       "7      12.4      0.3         9.3       14.5        6.0      0.2   0.0   \n",
       "8       2.4      0.0        35.4        6.1        0.6      0.0   0.1   \n",
       "9       7.6      0.0        23.9        8.3        3.1      0.0   1.2   \n",
       "10      7.0      0.2         5.1       15.4       10.8     11.6   1.1   \n",
       "11      9.0      0.2        11.1       14.6        6.2      0.0   1.6   \n",
       "12      6.5      0.3        14.6       13.9        6.1      0.0   0.3   \n",
       "13      4.9      0.0        32.5        5.1        0.4      0.0   0.1   \n",
       "14      7.0      0.2        11.1       12.4        6.3      0.0   5.1   \n",
       "15      7.8      0.0        22.1        9.1        2.5      0.0   0.2   \n",
       "16      2.5      0.0        25.0       17.0        1.1      0.0   0.0   \n",
       "17      6.8      0.2         4.3       12.8        8.2     21.4   0.6   \n",
       "18      6.0      0.3         5.6       16.0       10.1      6.5   0.9   \n",
       "19      8.7      0.2        10.7       16.5        6.7      0.3   0.5   \n",
       "20      5.3      0.3         6.2       15.5       11.3      9.9   4.0   \n",
       "21      5.1      1.3         4.0       16.0       10.4     15.3   3.4   \n",
       "22      4.6      1.2         4.2       23.3       13.7      6.0   2.1   \n",
       "23      2.9      0.1        17.9       12.1        2.8      0.0   0.2   \n",
       "24      7.2      0.0        24.8       10.2        2.1      0.1   0.2   \n",
       "25      7.1      0.5         6.3       15.8        7.5      7.9   1.1   \n",
       "26      5.9      0.2         9.6       13.4        7.1      5.6   6.3   \n",
       "27      1.4      0.0        38.8        5.0        1.0      0.0   0.0   \n",
       "28      8.4      0.6         4.7       14.5        7.6     16.7   2.1   \n",
       "29      4.6      0.0        23.5       11.2        1.3      0.0   0.1   \n",
       "..      ...      ...         ...        ...        ...      ...   ...   \n",
       "222     4.7      0.0        26.4        5.4        0.9      0.0   0.3   \n",
       "223     6.3      0.0        25.3        6.6        1.2      0.0   0.0   \n",
       "224     3.0      1.0         2.5       12.8       13.6     26.0   0.5   \n",
       "225     6.5      0.2         9.7       16.4        7.7     12.1   0.0   \n",
       "226     2.9      1.7         2.8       17.7       15.7      1.1   0.4   \n",
       "227     2.7      0.0         4.8       14.6       11.7      0.2  28.5   \n",
       "228     3.2      4.8         3.3       18.8       15.9     12.8   1.5   \n",
       "229     4.0      0.5        23.6       10.1        4.1      0.3   0.0   \n",
       "230     5.1      0.8         3.6       21.1       15.0      2.2   0.1   \n",
       "231    14.7      0.0        12.2        8.2        6.6      3.0   1.2   \n",
       "232     2.3      0.1         4.3       15.9       12.3      0.0  35.2   \n",
       "233     3.6      0.6        20.7       14.4        9.5      0.0   0.0   \n",
       "234     3.9      0.5         5.5       22.6       15.5      0.0   0.3   \n",
       "235     5.6      0.4        20.4       13.0        4.8      1.0   3.5   \n",
       "236     4.3      1.5         3.6       22.5       16.1      7.2   0.0   \n",
       "237     4.9      0.7         2.8       11.8        8.4     26.9   4.0   \n",
       "238     4.6      0.0        23.6       12.8        4.9      0.0   0.0   \n",
       "239     3.4      1.3        17.7       15.2        5.5      0.0   0.0   \n",
       "240     3.9      0.0        24.7        8.1        1.0      0.0   0.0   \n",
       "241     3.7      0.4         7.6       21.1       14.3      0.0   0.0   \n",
       "242     4.7      0.0        13.0       17.9        6.0      0.0   0.0   \n",
       "243     3.5      0.3         2.6       13.2       10.1     27.2   7.5   \n",
       "244     4.0      0.0        22.8       14.7        2.0      0.0   3.7   \n",
       "245     4.5      0.5         9.2       18.7       11.0      0.0   0.2   \n",
       "246     2.9      0.7        15.7       15.6       15.6      7.9   0.0   \n",
       "247     9.7      0.0        14.9        8.1       10.4      0.1   0.2   \n",
       "248     3.4      0.4        15.1       19.2       13.9      0.2   0.2   \n",
       "249     6.2      1.3         3.7       21.9       14.8      1.2   0.0   \n",
       "250     3.8      0.3         3.0       16.5       14.4     15.0  11.2   \n",
       "251     2.7      0.2         3.3       12.3        8.7      3.4  41.2   \n",
       "\n",
       "     Measles  Injury  Meningitis  \n",
       "0        1.0     7.3         2.5  \n",
       "1        0.0     8.7         1.9  \n",
       "2        0.1     6.2         0.8  \n",
       "3        0.3     5.3         1.4  \n",
       "4        0.0     7.8         1.3  \n",
       "5        0.0     8.5         1.7  \n",
       "6        0.0     6.2         0.6  \n",
       "7        1.9     6.0         1.5  \n",
       "8        0.0     8.1         1.3  \n",
       "9        0.0     7.0         1.5  \n",
       "10       0.7     5.7         2.4  \n",
       "11       0.0     7.5         1.2  \n",
       "12       0.0     7.5         1.0  \n",
       "13       0.8     2.9         0.5  \n",
       "14       0.7     6.4         0.6  \n",
       "15       0.0     6.1         1.2  \n",
       "16       0.4     5.2         1.8  \n",
       "17       2.3     5.8         2.0  \n",
       "18       0.1     7.9         1.8  \n",
       "19       0.0     8.1         1.8  \n",
       "20       0.2     6.9         1.8  \n",
       "21       0.9     4.4         3.5  \n",
       "22       0.2     5.6         5.0  \n",
       "23       0.3    16.6         1.4  \n",
       "24       0.0     6.7         1.2  \n",
       "25       0.0     5.1         2.1  \n",
       "26       0.7     6.8         1.0  \n",
       "27       0.0     3.8         1.0  \n",
       "28       0.2     4.3         2.1  \n",
       "29       0.0     8.5         2.9  \n",
       "..       ...     ...         ...  \n",
       "222      0.0     4.8         1.4  \n",
       "223      0.0     8.3         1.0  \n",
       "224     15.8     2.0         2.6  \n",
       "225      0.0     5.6         2.9  \n",
       "226     26.2     3.3         3.9  \n",
       "227      0.6     5.0         1.3  \n",
       "228      3.4     3.3         4.4  \n",
       "229      0.0     6.1         0.9  \n",
       "230      5.6     5.1         5.0  \n",
       "231      0.0     8.2         2.1  \n",
       "232      0.0     3.6         2.0  \n",
       "233      0.1     4.2         0.6  \n",
       "234      0.0     6.0         4.5  \n",
       "235      0.2     4.6         1.1  \n",
       "236      0.0     5.5         3.3  \n",
       "237     10.2     2.5         2.1  \n",
       "238      0.0     8.9         1.7  \n",
       "239      0.0     4.9         0.7  \n",
       "240      0.0     3.3         0.7  \n",
       "241      0.0     6.0         2.8  \n",
       "242      0.0     6.3         1.5  \n",
       "243      7.0     2.8         2.7  \n",
       "244      0.2     6.5         1.6  \n",
       "245      0.0     5.3         2.9  \n",
       "246      0.0     5.2         1.4  \n",
       "247      0.0     6.5         1.9  \n",
       "248      6.7     3.4         1.5  \n",
       "249      5.2     5.6         3.0  \n",
       "250      4.8     3.3         2.8  \n",
       "251      0.3     2.9         1.9  \n",
       "\n",
       "[252 rows x 16 columns]"
      ]
     },
     "execution_count": 24,
     "metadata": {},
     "output_type": "execute_result"
    }
   ],
   "source": [
    "developing_countries = under_five.loc[under_five['ISO_Code'].isin(a)]\n",
    "developing_countries.reset_index(drop=True)\n",
    "\n",
    "            \n",
    "      "
   ]
  },
  {
   "cell_type": "markdown",
   "metadata": {},
   "source": [
    "# DataFrame for Developed Countries"
   ]
  },
  {
   "cell_type": "code",
   "execution_count": 25,
   "metadata": {
    "collapsed": false,
    "scrolled": true
   },
   "outputs": [
    {
     "data": {
      "text/html": [
       "<div>\n",
       "<table border=\"1\" class=\"dataframe\">\n",
       "  <thead>\n",
       "    <tr style=\"text-align: right;\">\n",
       "      <th></th>\n",
       "      <th>ISO_Code</th>\n",
       "      <th>CountryName</th>\n",
       "      <th>Year</th>\n",
       "      <th>Preterm</th>\n",
       "      <th>Pertussis</th>\n",
       "      <th>Intrapartum</th>\n",
       "      <th>Sepsis</th>\n",
       "      <th>Tetanus</th>\n",
       "      <th>Congenital</th>\n",
       "      <th>Pneumonia</th>\n",
       "      <th>Diarrhoea</th>\n",
       "      <th>Malaria</th>\n",
       "      <th>Aids</th>\n",
       "      <th>Measles</th>\n",
       "      <th>Injury</th>\n",
       "      <th>Meningitis</th>\n",
       "    </tr>\n",
       "  </thead>\n",
       "  <tbody>\n",
       "    <tr>\n",
       "      <th>0</th>\n",
       "      <td>AND</td>\n",
       "      <td>Andorra</td>\n",
       "      <td>2015</td>\n",
       "      <td>24.3</td>\n",
       "      <td>0.0</td>\n",
       "      <td>7.4</td>\n",
       "      <td>2.9</td>\n",
       "      <td>0.0</td>\n",
       "      <td>36.0</td>\n",
       "      <td>2.7</td>\n",
       "      <td>0.1</td>\n",
       "      <td>0.0</td>\n",
       "      <td>0.0</td>\n",
       "      <td>0.0</td>\n",
       "      <td>6.1</td>\n",
       "      <td>0.8</td>\n",
       "    </tr>\n",
       "    <tr>\n",
       "      <th>1</th>\n",
       "      <td>ATG</td>\n",
       "      <td>Antigua &amp; Barbuda</td>\n",
       "      <td>2015</td>\n",
       "      <td>26.5</td>\n",
       "      <td>0.0</td>\n",
       "      <td>14.2</td>\n",
       "      <td>0.0</td>\n",
       "      <td>0.0</td>\n",
       "      <td>21.6</td>\n",
       "      <td>3.2</td>\n",
       "      <td>0.0</td>\n",
       "      <td>0.0</td>\n",
       "      <td>2.6</td>\n",
       "      <td>0.0</td>\n",
       "      <td>4.5</td>\n",
       "      <td>0.0</td>\n",
       "    </tr>\n",
       "    <tr>\n",
       "      <th>2</th>\n",
       "      <td>AUS</td>\n",
       "      <td>Australia</td>\n",
       "      <td>2015</td>\n",
       "      <td>19.7</td>\n",
       "      <td>0.1</td>\n",
       "      <td>10.4</td>\n",
       "      <td>1.2</td>\n",
       "      <td>0.0</td>\n",
       "      <td>28.0</td>\n",
       "      <td>2.7</td>\n",
       "      <td>0.3</td>\n",
       "      <td>0.1</td>\n",
       "      <td>0.0</td>\n",
       "      <td>0.0</td>\n",
       "      <td>7.7</td>\n",
       "      <td>0.9</td>\n",
       "    </tr>\n",
       "    <tr>\n",
       "      <th>3</th>\n",
       "      <td>AUT</td>\n",
       "      <td>Austria</td>\n",
       "      <td>2015</td>\n",
       "      <td>23.5</td>\n",
       "      <td>0.0</td>\n",
       "      <td>6.5</td>\n",
       "      <td>1.6</td>\n",
       "      <td>0.0</td>\n",
       "      <td>33.6</td>\n",
       "      <td>1.5</td>\n",
       "      <td>0.4</td>\n",
       "      <td>0.0</td>\n",
       "      <td>0.1</td>\n",
       "      <td>0.0</td>\n",
       "      <td>4.9</td>\n",
       "      <td>1.8</td>\n",
       "    </tr>\n",
       "    <tr>\n",
       "      <th>4</th>\n",
       "      <td>BHS</td>\n",
       "      <td>Bahamas</td>\n",
       "      <td>2015</td>\n",
       "      <td>28.2</td>\n",
       "      <td>0.0</td>\n",
       "      <td>8.3</td>\n",
       "      <td>3.9</td>\n",
       "      <td>0.0</td>\n",
       "      <td>11.7</td>\n",
       "      <td>13.0</td>\n",
       "      <td>0.6</td>\n",
       "      <td>0.0</td>\n",
       "      <td>0.9</td>\n",
       "      <td>0.0</td>\n",
       "      <td>9.9</td>\n",
       "      <td>0.6</td>\n",
       "    </tr>\n",
       "    <tr>\n",
       "      <th>5</th>\n",
       "      <td>BHR</td>\n",
       "      <td>Bahrain</td>\n",
       "      <td>2015</td>\n",
       "      <td>21.9</td>\n",
       "      <td>0.0</td>\n",
       "      <td>2.9</td>\n",
       "      <td>0.6</td>\n",
       "      <td>0.0</td>\n",
       "      <td>36.1</td>\n",
       "      <td>2.3</td>\n",
       "      <td>0.4</td>\n",
       "      <td>0.0</td>\n",
       "      <td>0.4</td>\n",
       "      <td>0.0</td>\n",
       "      <td>5.6</td>\n",
       "      <td>1.2</td>\n",
       "    </tr>\n",
       "    <tr>\n",
       "      <th>6</th>\n",
       "      <td>BRB</td>\n",
       "      <td>Barbados</td>\n",
       "      <td>2015</td>\n",
       "      <td>19.1</td>\n",
       "      <td>0.0</td>\n",
       "      <td>12.7</td>\n",
       "      <td>13.1</td>\n",
       "      <td>0.0</td>\n",
       "      <td>18.8</td>\n",
       "      <td>2.6</td>\n",
       "      <td>0.0</td>\n",
       "      <td>0.0</td>\n",
       "      <td>0.0</td>\n",
       "      <td>0.0</td>\n",
       "      <td>6.6</td>\n",
       "      <td>0.0</td>\n",
       "    </tr>\n",
       "    <tr>\n",
       "      <th>7</th>\n",
       "      <td>BEL</td>\n",
       "      <td>Belgium</td>\n",
       "      <td>2015</td>\n",
       "      <td>16.3</td>\n",
       "      <td>0.3</td>\n",
       "      <td>9.1</td>\n",
       "      <td>2.0</td>\n",
       "      <td>0.0</td>\n",
       "      <td>29.4</td>\n",
       "      <td>1.6</td>\n",
       "      <td>0.1</td>\n",
       "      <td>0.0</td>\n",
       "      <td>0.0</td>\n",
       "      <td>0.0</td>\n",
       "      <td>9.7</td>\n",
       "      <td>1.6</td>\n",
       "    </tr>\n",
       "    <tr>\n",
       "      <th>8</th>\n",
       "      <td>BRN</td>\n",
       "      <td>Brunei</td>\n",
       "      <td>2015</td>\n",
       "      <td>18.1</td>\n",
       "      <td>0.0</td>\n",
       "      <td>8.7</td>\n",
       "      <td>8.0</td>\n",
       "      <td>0.0</td>\n",
       "      <td>25.2</td>\n",
       "      <td>3.7</td>\n",
       "      <td>2.3</td>\n",
       "      <td>0.0</td>\n",
       "      <td>0.0</td>\n",
       "      <td>0.0</td>\n",
       "      <td>2.8</td>\n",
       "      <td>0.3</td>\n",
       "    </tr>\n",
       "    <tr>\n",
       "      <th>9</th>\n",
       "      <td>CAN</td>\n",
       "      <td>Canada</td>\n",
       "      <td>2015</td>\n",
       "      <td>27.1</td>\n",
       "      <td>0.2</td>\n",
       "      <td>9.2</td>\n",
       "      <td>3.2</td>\n",
       "      <td>0.0</td>\n",
       "      <td>31.4</td>\n",
       "      <td>2.1</td>\n",
       "      <td>0.3</td>\n",
       "      <td>0.0</td>\n",
       "      <td>0.0</td>\n",
       "      <td>0.0</td>\n",
       "      <td>6.7</td>\n",
       "      <td>1.0</td>\n",
       "    </tr>\n",
       "    <tr>\n",
       "      <th>10</th>\n",
       "      <td>CPV</td>\n",
       "      <td>Cape Verde</td>\n",
       "      <td>2015</td>\n",
       "      <td>20.9</td>\n",
       "      <td>0.7</td>\n",
       "      <td>8.5</td>\n",
       "      <td>4.5</td>\n",
       "      <td>0.4</td>\n",
       "      <td>20.9</td>\n",
       "      <td>13.7</td>\n",
       "      <td>5.3</td>\n",
       "      <td>0.0</td>\n",
       "      <td>0.7</td>\n",
       "      <td>0.0</td>\n",
       "      <td>4.8</td>\n",
       "      <td>1.3</td>\n",
       "    </tr>\n",
       "    <tr>\n",
       "      <th>11</th>\n",
       "      <td>CHL</td>\n",
       "      <td>Chile</td>\n",
       "      <td>2015</td>\n",
       "      <td>26.5</td>\n",
       "      <td>0.5</td>\n",
       "      <td>4.2</td>\n",
       "      <td>2.7</td>\n",
       "      <td>0.0</td>\n",
       "      <td>39.9</td>\n",
       "      <td>3.5</td>\n",
       "      <td>0.1</td>\n",
       "      <td>0.0</td>\n",
       "      <td>0.1</td>\n",
       "      <td>0.0</td>\n",
       "      <td>6.5</td>\n",
       "      <td>0.9</td>\n",
       "    </tr>\n",
       "    <tr>\n",
       "      <th>12</th>\n",
       "      <td>COD</td>\n",
       "      <td>Congo DR</td>\n",
       "      <td>2015</td>\n",
       "      <td>12.6</td>\n",
       "      <td>1.0</td>\n",
       "      <td>9.9</td>\n",
       "      <td>5.0</td>\n",
       "      <td>0.4</td>\n",
       "      <td>4.8</td>\n",
       "      <td>15.2</td>\n",
       "      <td>10.5</td>\n",
       "      <td>11.9</td>\n",
       "      <td>1.1</td>\n",
       "      <td>3.1</td>\n",
       "      <td>5.7</td>\n",
       "      <td>2.6</td>\n",
       "    </tr>\n",
       "    <tr>\n",
       "      <th>13</th>\n",
       "      <td>COK</td>\n",
       "      <td>Cook Islands</td>\n",
       "      <td>2015</td>\n",
       "      <td>28.2</td>\n",
       "      <td>0.0</td>\n",
       "      <td>11.2</td>\n",
       "      <td>3.8</td>\n",
       "      <td>0.0</td>\n",
       "      <td>29.0</td>\n",
       "      <td>4.8</td>\n",
       "      <td>0.7</td>\n",
       "      <td>0.0</td>\n",
       "      <td>0.0</td>\n",
       "      <td>0.0</td>\n",
       "      <td>5.5</td>\n",
       "      <td>0.8</td>\n",
       "    </tr>\n",
       "    <tr>\n",
       "      <th>14</th>\n",
       "      <td>HRV</td>\n",
       "      <td>Croatia</td>\n",
       "      <td>2015</td>\n",
       "      <td>15.6</td>\n",
       "      <td>0.0</td>\n",
       "      <td>7.2</td>\n",
       "      <td>3.4</td>\n",
       "      <td>0.0</td>\n",
       "      <td>27.3</td>\n",
       "      <td>2.7</td>\n",
       "      <td>0.0</td>\n",
       "      <td>0.0</td>\n",
       "      <td>0.0</td>\n",
       "      <td>0.0</td>\n",
       "      <td>4.5</td>\n",
       "      <td>2.5</td>\n",
       "    </tr>\n",
       "    <tr>\n",
       "      <th>15</th>\n",
       "      <td>CYP</td>\n",
       "      <td>Cyprus</td>\n",
       "      <td>2015</td>\n",
       "      <td>24.8</td>\n",
       "      <td>1.2</td>\n",
       "      <td>8.4</td>\n",
       "      <td>3.3</td>\n",
       "      <td>0.0</td>\n",
       "      <td>35.8</td>\n",
       "      <td>2.6</td>\n",
       "      <td>0.2</td>\n",
       "      <td>0.0</td>\n",
       "      <td>0.1</td>\n",
       "      <td>0.0</td>\n",
       "      <td>5.0</td>\n",
       "      <td>0.7</td>\n",
       "    </tr>\n",
       "    <tr>\n",
       "      <th>16</th>\n",
       "      <td>CZE</td>\n",
       "      <td>Czech Republic</td>\n",
       "      <td>2015</td>\n",
       "      <td>25.9</td>\n",
       "      <td>0.0</td>\n",
       "      <td>10.1</td>\n",
       "      <td>4.6</td>\n",
       "      <td>0.0</td>\n",
       "      <td>22.6</td>\n",
       "      <td>6.0</td>\n",
       "      <td>1.0</td>\n",
       "      <td>0.0</td>\n",
       "      <td>0.0</td>\n",
       "      <td>0.0</td>\n",
       "      <td>8.3</td>\n",
       "      <td>1.5</td>\n",
       "    </tr>\n",
       "    <tr>\n",
       "      <th>17</th>\n",
       "      <td>DNK</td>\n",
       "      <td>Denmark</td>\n",
       "      <td>2015</td>\n",
       "      <td>38.4</td>\n",
       "      <td>0.0</td>\n",
       "      <td>8.3</td>\n",
       "      <td>1.4</td>\n",
       "      <td>0.0</td>\n",
       "      <td>24.7</td>\n",
       "      <td>1.2</td>\n",
       "      <td>0.6</td>\n",
       "      <td>0.0</td>\n",
       "      <td>0.0</td>\n",
       "      <td>0.0</td>\n",
       "      <td>4.1</td>\n",
       "      <td>0.9</td>\n",
       "    </tr>\n",
       "    <tr>\n",
       "      <th>18</th>\n",
       "      <td>GNQ</td>\n",
       "      <td>Equatorial Guinea</td>\n",
       "      <td>2015</td>\n",
       "      <td>13.1</td>\n",
       "      <td>1.3</td>\n",
       "      <td>11.3</td>\n",
       "      <td>4.4</td>\n",
       "      <td>0.5</td>\n",
       "      <td>6.1</td>\n",
       "      <td>15.8</td>\n",
       "      <td>7.5</td>\n",
       "      <td>8.6</td>\n",
       "      <td>4.5</td>\n",
       "      <td>9.2</td>\n",
       "      <td>4.5</td>\n",
       "      <td>1.1</td>\n",
       "    </tr>\n",
       "    <tr>\n",
       "      <th>19</th>\n",
       "      <td>EST</td>\n",
       "      <td>Estonia</td>\n",
       "      <td>2015</td>\n",
       "      <td>10.8</td>\n",
       "      <td>0.0</td>\n",
       "      <td>12.4</td>\n",
       "      <td>8.3</td>\n",
       "      <td>0.0</td>\n",
       "      <td>28.0</td>\n",
       "      <td>5.6</td>\n",
       "      <td>0.5</td>\n",
       "      <td>0.0</td>\n",
       "      <td>0.0</td>\n",
       "      <td>0.0</td>\n",
       "      <td>16.4</td>\n",
       "      <td>2.1</td>\n",
       "    </tr>\n",
       "    <tr>\n",
       "      <th>20</th>\n",
       "      <td>FSM</td>\n",
       "      <td>Federated States of Micronesia</td>\n",
       "      <td>2015</td>\n",
       "      <td>19.5</td>\n",
       "      <td>0.0</td>\n",
       "      <td>13.8</td>\n",
       "      <td>7.0</td>\n",
       "      <td>0.2</td>\n",
       "      <td>12.4</td>\n",
       "      <td>14.6</td>\n",
       "      <td>6.2</td>\n",
       "      <td>0.0</td>\n",
       "      <td>0.0</td>\n",
       "      <td>0.0</td>\n",
       "      <td>7.0</td>\n",
       "      <td>1.4</td>\n",
       "    </tr>\n",
       "    <tr>\n",
       "      <th>21</th>\n",
       "      <td>FIN</td>\n",
       "      <td>Finland</td>\n",
       "      <td>2015</td>\n",
       "      <td>20.0</td>\n",
       "      <td>0.0</td>\n",
       "      <td>9.0</td>\n",
       "      <td>2.8</td>\n",
       "      <td>0.0</td>\n",
       "      <td>31.9</td>\n",
       "      <td>2.6</td>\n",
       "      <td>0.0</td>\n",
       "      <td>0.0</td>\n",
       "      <td>0.0</td>\n",
       "      <td>0.0</td>\n",
       "      <td>7.6</td>\n",
       "      <td>0.7</td>\n",
       "    </tr>\n",
       "    <tr>\n",
       "      <th>22</th>\n",
       "      <td>FRA</td>\n",
       "      <td>France</td>\n",
       "      <td>2015</td>\n",
       "      <td>17.6</td>\n",
       "      <td>0.0</td>\n",
       "      <td>10.1</td>\n",
       "      <td>3.0</td>\n",
       "      <td>0.0</td>\n",
       "      <td>26.8</td>\n",
       "      <td>1.8</td>\n",
       "      <td>1.2</td>\n",
       "      <td>0.0</td>\n",
       "      <td>0.1</td>\n",
       "      <td>0.0</td>\n",
       "      <td>7.3</td>\n",
       "      <td>1.6</td>\n",
       "    </tr>\n",
       "    <tr>\n",
       "      <th>23</th>\n",
       "      <td>DEU</td>\n",
       "      <td>Germany</td>\n",
       "      <td>2015</td>\n",
       "      <td>28.0</td>\n",
       "      <td>0.0</td>\n",
       "      <td>6.8</td>\n",
       "      <td>2.1</td>\n",
       "      <td>0.0</td>\n",
       "      <td>31.2</td>\n",
       "      <td>1.9</td>\n",
       "      <td>0.4</td>\n",
       "      <td>0.0</td>\n",
       "      <td>0.0</td>\n",
       "      <td>0.0</td>\n",
       "      <td>5.2</td>\n",
       "      <td>0.8</td>\n",
       "    </tr>\n",
       "    <tr>\n",
       "      <th>24</th>\n",
       "      <td>GRC</td>\n",
       "      <td>Greece</td>\n",
       "      <td>2015</td>\n",
       "      <td>34.0</td>\n",
       "      <td>0.0</td>\n",
       "      <td>5.4</td>\n",
       "      <td>0.5</td>\n",
       "      <td>0.0</td>\n",
       "      <td>43.6</td>\n",
       "      <td>3.3</td>\n",
       "      <td>0.0</td>\n",
       "      <td>0.0</td>\n",
       "      <td>0.0</td>\n",
       "      <td>0.0</td>\n",
       "      <td>4.0</td>\n",
       "      <td>0.4</td>\n",
       "    </tr>\n",
       "    <tr>\n",
       "      <th>25</th>\n",
       "      <td>HND</td>\n",
       "      <td>Honduras</td>\n",
       "      <td>2015</td>\n",
       "      <td>19.5</td>\n",
       "      <td>1.1</td>\n",
       "      <td>7.7</td>\n",
       "      <td>7.8</td>\n",
       "      <td>0.6</td>\n",
       "      <td>18.9</td>\n",
       "      <td>11.2</td>\n",
       "      <td>7.8</td>\n",
       "      <td>0.0</td>\n",
       "      <td>1.6</td>\n",
       "      <td>0.0</td>\n",
       "      <td>3.6</td>\n",
       "      <td>1.0</td>\n",
       "    </tr>\n",
       "    <tr>\n",
       "      <th>26</th>\n",
       "      <td>ISL</td>\n",
       "      <td>Iceland</td>\n",
       "      <td>2015</td>\n",
       "      <td>28.8</td>\n",
       "      <td>0.0</td>\n",
       "      <td>4.5</td>\n",
       "      <td>7.3</td>\n",
       "      <td>0.0</td>\n",
       "      <td>14.5</td>\n",
       "      <td>0.0</td>\n",
       "      <td>0.0</td>\n",
       "      <td>0.0</td>\n",
       "      <td>0.0</td>\n",
       "      <td>0.0</td>\n",
       "      <td>2.1</td>\n",
       "      <td>0.0</td>\n",
       "    </tr>\n",
       "    <tr>\n",
       "      <th>27</th>\n",
       "      <td>IRL</td>\n",
       "      <td>Ireland</td>\n",
       "      <td>2015</td>\n",
       "      <td>24.7</td>\n",
       "      <td>0.0</td>\n",
       "      <td>6.6</td>\n",
       "      <td>2.3</td>\n",
       "      <td>0.0</td>\n",
       "      <td>43.1</td>\n",
       "      <td>2.0</td>\n",
       "      <td>0.3</td>\n",
       "      <td>0.0</td>\n",
       "      <td>0.0</td>\n",
       "      <td>0.0</td>\n",
       "      <td>3.9</td>\n",
       "      <td>1.8</td>\n",
       "    </tr>\n",
       "    <tr>\n",
       "      <th>28</th>\n",
       "      <td>ISR</td>\n",
       "      <td>Israel</td>\n",
       "      <td>2015</td>\n",
       "      <td>21.5</td>\n",
       "      <td>0.0</td>\n",
       "      <td>3.9</td>\n",
       "      <td>2.7</td>\n",
       "      <td>0.0</td>\n",
       "      <td>35.7</td>\n",
       "      <td>1.8</td>\n",
       "      <td>0.5</td>\n",
       "      <td>0.0</td>\n",
       "      <td>0.0</td>\n",
       "      <td>0.0</td>\n",
       "      <td>6.6</td>\n",
       "      <td>1.2</td>\n",
       "    </tr>\n",
       "    <tr>\n",
       "      <th>29</th>\n",
       "      <td>ITA</td>\n",
       "      <td>Italy</td>\n",
       "      <td>2015</td>\n",
       "      <td>26.2</td>\n",
       "      <td>0.0</td>\n",
       "      <td>7.5</td>\n",
       "      <td>3.4</td>\n",
       "      <td>0.0</td>\n",
       "      <td>26.9</td>\n",
       "      <td>1.5</td>\n",
       "      <td>0.2</td>\n",
       "      <td>0.0</td>\n",
       "      <td>0.0</td>\n",
       "      <td>0.0</td>\n",
       "      <td>3.4</td>\n",
       "      <td>0.6</td>\n",
       "    </tr>\n",
       "    <tr>\n",
       "      <th>...</th>\n",
       "      <td>...</td>\n",
       "      <td>...</td>\n",
       "      <td>...</td>\n",
       "      <td>...</td>\n",
       "      <td>...</td>\n",
       "      <td>...</td>\n",
       "      <td>...</td>\n",
       "      <td>...</td>\n",
       "      <td>...</td>\n",
       "      <td>...</td>\n",
       "      <td>...</td>\n",
       "      <td>...</td>\n",
       "      <td>...</td>\n",
       "      <td>...</td>\n",
       "      <td>...</td>\n",
       "      <td>...</td>\n",
       "    </tr>\n",
       "    <tr>\n",
       "      <th>106</th>\n",
       "      <td>MWI</td>\n",
       "      <td>Malawi</td>\n",
       "      <td>2000</td>\n",
       "      <td>7.5</td>\n",
       "      <td>0.6</td>\n",
       "      <td>7.0</td>\n",
       "      <td>3.8</td>\n",
       "      <td>0.3</td>\n",
       "      <td>2.9</td>\n",
       "      <td>16.2</td>\n",
       "      <td>13.9</td>\n",
       "      <td>15.7</td>\n",
       "      <td>14.6</td>\n",
       "      <td>0.2</td>\n",
       "      <td>3.1</td>\n",
       "      <td>3.9</td>\n",
       "    </tr>\n",
       "    <tr>\n",
       "      <th>107</th>\n",
       "      <td>MLT</td>\n",
       "      <td>Malta</td>\n",
       "      <td>2000</td>\n",
       "      <td>36.6</td>\n",
       "      <td>0.0</td>\n",
       "      <td>6.7</td>\n",
       "      <td>3.1</td>\n",
       "      <td>0.0</td>\n",
       "      <td>20.6</td>\n",
       "      <td>1.5</td>\n",
       "      <td>0.0</td>\n",
       "      <td>0.0</td>\n",
       "      <td>0.0</td>\n",
       "      <td>0.0</td>\n",
       "      <td>4.8</td>\n",
       "      <td>5.2</td>\n",
       "    </tr>\n",
       "    <tr>\n",
       "      <th>108</th>\n",
       "      <td>MDA</td>\n",
       "      <td>Moldova</td>\n",
       "      <td>2000</td>\n",
       "      <td>5.9</td>\n",
       "      <td>0.0</td>\n",
       "      <td>13.5</td>\n",
       "      <td>8.2</td>\n",
       "      <td>0.0</td>\n",
       "      <td>25.7</td>\n",
       "      <td>26.3</td>\n",
       "      <td>1.4</td>\n",
       "      <td>0.0</td>\n",
       "      <td>0.0</td>\n",
       "      <td>0.0</td>\n",
       "      <td>10.4</td>\n",
       "      <td>1.7</td>\n",
       "    </tr>\n",
       "    <tr>\n",
       "      <th>109</th>\n",
       "      <td>MCO</td>\n",
       "      <td>Monaco</td>\n",
       "      <td>2000</td>\n",
       "      <td>38.8</td>\n",
       "      <td>0.0</td>\n",
       "      <td>13.0</td>\n",
       "      <td>4.0</td>\n",
       "      <td>0.0</td>\n",
       "      <td>32.4</td>\n",
       "      <td>0.4</td>\n",
       "      <td>0.0</td>\n",
       "      <td>0.0</td>\n",
       "      <td>0.0</td>\n",
       "      <td>0.0</td>\n",
       "      <td>0.5</td>\n",
       "      <td>0.0</td>\n",
       "    </tr>\n",
       "    <tr>\n",
       "      <th>110</th>\n",
       "      <td>NRU</td>\n",
       "      <td>Nauru</td>\n",
       "      <td>2000</td>\n",
       "      <td>22.1</td>\n",
       "      <td>0.0</td>\n",
       "      <td>13.9</td>\n",
       "      <td>6.5</td>\n",
       "      <td>0.5</td>\n",
       "      <td>10.9</td>\n",
       "      <td>16.4</td>\n",
       "      <td>8.9</td>\n",
       "      <td>0.0</td>\n",
       "      <td>0.0</td>\n",
       "      <td>0.0</td>\n",
       "      <td>5.3</td>\n",
       "      <td>1.7</td>\n",
       "    </tr>\n",
       "    <tr>\n",
       "      <th>111</th>\n",
       "      <td>NLD</td>\n",
       "      <td>Netherlands</td>\n",
       "      <td>2000</td>\n",
       "      <td>21.2</td>\n",
       "      <td>0.0</td>\n",
       "      <td>11.8</td>\n",
       "      <td>3.3</td>\n",
       "      <td>0.0</td>\n",
       "      <td>35.6</td>\n",
       "      <td>2.3</td>\n",
       "      <td>0.0</td>\n",
       "      <td>0.0</td>\n",
       "      <td>0.0</td>\n",
       "      <td>0.0</td>\n",
       "      <td>5.8</td>\n",
       "      <td>2.9</td>\n",
       "    </tr>\n",
       "    <tr>\n",
       "      <th>112</th>\n",
       "      <td>NZL</td>\n",
       "      <td>New Zealand</td>\n",
       "      <td>2000</td>\n",
       "      <td>22.4</td>\n",
       "      <td>0.4</td>\n",
       "      <td>6.4</td>\n",
       "      <td>1.1</td>\n",
       "      <td>0.0</td>\n",
       "      <td>28.8</td>\n",
       "      <td>5.7</td>\n",
       "      <td>0.4</td>\n",
       "      <td>0.0</td>\n",
       "      <td>0.0</td>\n",
       "      <td>0.0</td>\n",
       "      <td>12.2</td>\n",
       "      <td>4.2</td>\n",
       "    </tr>\n",
       "    <tr>\n",
       "      <th>113</th>\n",
       "      <td>NIU</td>\n",
       "      <td>Niue</td>\n",
       "      <td>2000</td>\n",
       "      <td>4.8</td>\n",
       "      <td>0.0</td>\n",
       "      <td>2.6</td>\n",
       "      <td>0.0</td>\n",
       "      <td>0.0</td>\n",
       "      <td>21.4</td>\n",
       "      <td>20.9</td>\n",
       "      <td>4.0</td>\n",
       "      <td>0.0</td>\n",
       "      <td>0.0</td>\n",
       "      <td>0.0</td>\n",
       "      <td>13.6</td>\n",
       "      <td>4.2</td>\n",
       "    </tr>\n",
       "    <tr>\n",
       "      <th>114</th>\n",
       "      <td>NOR</td>\n",
       "      <td>Norway</td>\n",
       "      <td>2000</td>\n",
       "      <td>12.3</td>\n",
       "      <td>0.0</td>\n",
       "      <td>10.1</td>\n",
       "      <td>1.1</td>\n",
       "      <td>0.0</td>\n",
       "      <td>37.1</td>\n",
       "      <td>3.4</td>\n",
       "      <td>0.5</td>\n",
       "      <td>0.0</td>\n",
       "      <td>0.0</td>\n",
       "      <td>0.0</td>\n",
       "      <td>6.2</td>\n",
       "      <td>5.0</td>\n",
       "    </tr>\n",
       "    <tr>\n",
       "      <th>115</th>\n",
       "      <td>OMN</td>\n",
       "      <td>Oman</td>\n",
       "      <td>2000</td>\n",
       "      <td>18.1</td>\n",
       "      <td>1.0</td>\n",
       "      <td>8.3</td>\n",
       "      <td>2.8</td>\n",
       "      <td>0.0</td>\n",
       "      <td>25.2</td>\n",
       "      <td>11.1</td>\n",
       "      <td>2.2</td>\n",
       "      <td>0.0</td>\n",
       "      <td>0.4</td>\n",
       "      <td>0.0</td>\n",
       "      <td>9.4</td>\n",
       "      <td>0.9</td>\n",
       "    </tr>\n",
       "    <tr>\n",
       "      <th>116</th>\n",
       "      <td>POL</td>\n",
       "      <td>Poland</td>\n",
       "      <td>2000</td>\n",
       "      <td>25.9</td>\n",
       "      <td>0.0</td>\n",
       "      <td>9.2</td>\n",
       "      <td>5.8</td>\n",
       "      <td>0.0</td>\n",
       "      <td>36.3</td>\n",
       "      <td>5.0</td>\n",
       "      <td>0.2</td>\n",
       "      <td>0.0</td>\n",
       "      <td>0.0</td>\n",
       "      <td>0.0</td>\n",
       "      <td>6.1</td>\n",
       "      <td>1.1</td>\n",
       "    </tr>\n",
       "    <tr>\n",
       "      <th>117</th>\n",
       "      <td>PRT</td>\n",
       "      <td>Portugal</td>\n",
       "      <td>2000</td>\n",
       "      <td>18.3</td>\n",
       "      <td>0.1</td>\n",
       "      <td>6.4</td>\n",
       "      <td>2.4</td>\n",
       "      <td>0.0</td>\n",
       "      <td>31.5</td>\n",
       "      <td>3.7</td>\n",
       "      <td>0.2</td>\n",
       "      <td>0.2</td>\n",
       "      <td>0.2</td>\n",
       "      <td>0.0</td>\n",
       "      <td>9.5</td>\n",
       "      <td>4.4</td>\n",
       "    </tr>\n",
       "    <tr>\n",
       "      <th>118</th>\n",
       "      <td>QAT</td>\n",
       "      <td>Qatar</td>\n",
       "      <td>2000</td>\n",
       "      <td>25.0</td>\n",
       "      <td>0.7</td>\n",
       "      <td>9.1</td>\n",
       "      <td>2.6</td>\n",
       "      <td>0.0</td>\n",
       "      <td>25.5</td>\n",
       "      <td>5.2</td>\n",
       "      <td>0.8</td>\n",
       "      <td>0.0</td>\n",
       "      <td>0.1</td>\n",
       "      <td>0.0</td>\n",
       "      <td>9.8</td>\n",
       "      <td>0.8</td>\n",
       "    </tr>\n",
       "    <tr>\n",
       "      <th>119</th>\n",
       "      <td>KNA</td>\n",
       "      <td>Saint Kitts &amp; Nevis</td>\n",
       "      <td>2000</td>\n",
       "      <td>35.1</td>\n",
       "      <td>0.0</td>\n",
       "      <td>19.1</td>\n",
       "      <td>3.7</td>\n",
       "      <td>0.0</td>\n",
       "      <td>12.3</td>\n",
       "      <td>2.6</td>\n",
       "      <td>2.6</td>\n",
       "      <td>0.0</td>\n",
       "      <td>0.0</td>\n",
       "      <td>0.0</td>\n",
       "      <td>1.7</td>\n",
       "      <td>0.0</td>\n",
       "    </tr>\n",
       "    <tr>\n",
       "      <th>120</th>\n",
       "      <td>LCA</td>\n",
       "      <td>Saint Lucia</td>\n",
       "      <td>2000</td>\n",
       "      <td>30.9</td>\n",
       "      <td>0.0</td>\n",
       "      <td>10.4</td>\n",
       "      <td>10.5</td>\n",
       "      <td>0.0</td>\n",
       "      <td>13.7</td>\n",
       "      <td>4.0</td>\n",
       "      <td>2.3</td>\n",
       "      <td>0.0</td>\n",
       "      <td>2.2</td>\n",
       "      <td>0.0</td>\n",
       "      <td>5.7</td>\n",
       "      <td>0.8</td>\n",
       "    </tr>\n",
       "    <tr>\n",
       "      <th>121</th>\n",
       "      <td>SMR</td>\n",
       "      <td>San Marino</td>\n",
       "      <td>2000</td>\n",
       "      <td>3.3</td>\n",
       "      <td>0.0</td>\n",
       "      <td>4.1</td>\n",
       "      <td>0.0</td>\n",
       "      <td>0.0</td>\n",
       "      <td>30.5</td>\n",
       "      <td>5.2</td>\n",
       "      <td>0.2</td>\n",
       "      <td>0.0</td>\n",
       "      <td>0.0</td>\n",
       "      <td>0.0</td>\n",
       "      <td>18.8</td>\n",
       "      <td>3.0</td>\n",
       "    </tr>\n",
       "    <tr>\n",
       "      <th>122</th>\n",
       "      <td>SAU</td>\n",
       "      <td>Saudi Arabia</td>\n",
       "      <td>2000</td>\n",
       "      <td>22.9</td>\n",
       "      <td>0.8</td>\n",
       "      <td>10.4</td>\n",
       "      <td>3.9</td>\n",
       "      <td>0.0</td>\n",
       "      <td>21.4</td>\n",
       "      <td>9.8</td>\n",
       "      <td>2.6</td>\n",
       "      <td>0.0</td>\n",
       "      <td>0.0</td>\n",
       "      <td>0.1</td>\n",
       "      <td>9.0</td>\n",
       "      <td>0.8</td>\n",
       "    </tr>\n",
       "    <tr>\n",
       "      <th>123</th>\n",
       "      <td>SGP</td>\n",
       "      <td>Singapore</td>\n",
       "      <td>2000</td>\n",
       "      <td>20.3</td>\n",
       "      <td>0.0</td>\n",
       "      <td>3.6</td>\n",
       "      <td>1.7</td>\n",
       "      <td>0.0</td>\n",
       "      <td>33.1</td>\n",
       "      <td>8.8</td>\n",
       "      <td>0.0</td>\n",
       "      <td>0.0</td>\n",
       "      <td>0.0</td>\n",
       "      <td>0.0</td>\n",
       "      <td>6.3</td>\n",
       "      <td>4.0</td>\n",
       "    </tr>\n",
       "    <tr>\n",
       "      <th>124</th>\n",
       "      <td>SVK</td>\n",
       "      <td>Slovakia</td>\n",
       "      <td>2000</td>\n",
       "      <td>31.4</td>\n",
       "      <td>0.0</td>\n",
       "      <td>4.9</td>\n",
       "      <td>1.5</td>\n",
       "      <td>0.0</td>\n",
       "      <td>27.9</td>\n",
       "      <td>11.4</td>\n",
       "      <td>1.3</td>\n",
       "      <td>0.0</td>\n",
       "      <td>0.0</td>\n",
       "      <td>0.0</td>\n",
       "      <td>5.2</td>\n",
       "      <td>1.5</td>\n",
       "    </tr>\n",
       "    <tr>\n",
       "      <th>125</th>\n",
       "      <td>SVN</td>\n",
       "      <td>Slovenia</td>\n",
       "      <td>2000</td>\n",
       "      <td>32.2</td>\n",
       "      <td>0.0</td>\n",
       "      <td>7.9</td>\n",
       "      <td>4.9</td>\n",
       "      <td>0.0</td>\n",
       "      <td>38.6</td>\n",
       "      <td>0.0</td>\n",
       "      <td>0.0</td>\n",
       "      <td>0.0</td>\n",
       "      <td>0.0</td>\n",
       "      <td>0.0</td>\n",
       "      <td>6.6</td>\n",
       "      <td>0.0</td>\n",
       "    </tr>\n",
       "    <tr>\n",
       "      <th>126</th>\n",
       "      <td>ESP</td>\n",
       "      <td>Spain</td>\n",
       "      <td>2000</td>\n",
       "      <td>22.8</td>\n",
       "      <td>0.1</td>\n",
       "      <td>8.0</td>\n",
       "      <td>5.2</td>\n",
       "      <td>0.0</td>\n",
       "      <td>34.9</td>\n",
       "      <td>2.0</td>\n",
       "      <td>0.2</td>\n",
       "      <td>0.0</td>\n",
       "      <td>0.1</td>\n",
       "      <td>0.0</td>\n",
       "      <td>5.5</td>\n",
       "      <td>2.9</td>\n",
       "    </tr>\n",
       "    <tr>\n",
       "      <th>127</th>\n",
       "      <td>VCT</td>\n",
       "      <td>St Vincent &amp; the Grenadines</td>\n",
       "      <td>2000</td>\n",
       "      <td>35.8</td>\n",
       "      <td>0.0</td>\n",
       "      <td>11.2</td>\n",
       "      <td>3.5</td>\n",
       "      <td>0.0</td>\n",
       "      <td>16.1</td>\n",
       "      <td>3.3</td>\n",
       "      <td>3.4</td>\n",
       "      <td>0.0</td>\n",
       "      <td>3.2</td>\n",
       "      <td>0.0</td>\n",
       "      <td>6.8</td>\n",
       "      <td>1.1</td>\n",
       "    </tr>\n",
       "    <tr>\n",
       "      <th>128</th>\n",
       "      <td>SWE</td>\n",
       "      <td>Sweden</td>\n",
       "      <td>2000</td>\n",
       "      <td>16.5</td>\n",
       "      <td>0.4</td>\n",
       "      <td>9.0</td>\n",
       "      <td>4.8</td>\n",
       "      <td>0.0</td>\n",
       "      <td>45.1</td>\n",
       "      <td>1.8</td>\n",
       "      <td>0.0</td>\n",
       "      <td>0.0</td>\n",
       "      <td>0.0</td>\n",
       "      <td>0.0</td>\n",
       "      <td>4.2</td>\n",
       "      <td>1.3</td>\n",
       "    </tr>\n",
       "    <tr>\n",
       "      <th>129</th>\n",
       "      <td>CHE</td>\n",
       "      <td>Switzerland</td>\n",
       "      <td>2000</td>\n",
       "      <td>25.8</td>\n",
       "      <td>0.0</td>\n",
       "      <td>8.1</td>\n",
       "      <td>2.7</td>\n",
       "      <td>0.0</td>\n",
       "      <td>30.9</td>\n",
       "      <td>1.5</td>\n",
       "      <td>0.3</td>\n",
       "      <td>0.0</td>\n",
       "      <td>0.0</td>\n",
       "      <td>0.0</td>\n",
       "      <td>8.0</td>\n",
       "      <td>2.0</td>\n",
       "    </tr>\n",
       "    <tr>\n",
       "      <th>130</th>\n",
       "      <td>TZA</td>\n",
       "      <td>Tanzania</td>\n",
       "      <td>2000</td>\n",
       "      <td>7.9</td>\n",
       "      <td>0.8</td>\n",
       "      <td>9.2</td>\n",
       "      <td>4.5</td>\n",
       "      <td>0.4</td>\n",
       "      <td>3.3</td>\n",
       "      <td>18.0</td>\n",
       "      <td>13.6</td>\n",
       "      <td>12.7</td>\n",
       "      <td>9.9</td>\n",
       "      <td>2.0</td>\n",
       "      <td>3.9</td>\n",
       "      <td>3.6</td>\n",
       "    </tr>\n",
       "    <tr>\n",
       "      <th>131</th>\n",
       "      <td>TTO</td>\n",
       "      <td>Trinidad &amp; Tobago</td>\n",
       "      <td>2000</td>\n",
       "      <td>37.5</td>\n",
       "      <td>0.0</td>\n",
       "      <td>26.6</td>\n",
       "      <td>2.8</td>\n",
       "      <td>0.0</td>\n",
       "      <td>12.6</td>\n",
       "      <td>3.2</td>\n",
       "      <td>1.0</td>\n",
       "      <td>0.0</td>\n",
       "      <td>3.0</td>\n",
       "      <td>0.0</td>\n",
       "      <td>2.5</td>\n",
       "      <td>1.2</td>\n",
       "    </tr>\n",
       "    <tr>\n",
       "      <th>132</th>\n",
       "      <td>ARE</td>\n",
       "      <td>United Arab Emirates</td>\n",
       "      <td>2000</td>\n",
       "      <td>25.2</td>\n",
       "      <td>0.9</td>\n",
       "      <td>9.0</td>\n",
       "      <td>2.2</td>\n",
       "      <td>0.0</td>\n",
       "      <td>26.3</td>\n",
       "      <td>5.4</td>\n",
       "      <td>0.8</td>\n",
       "      <td>0.0</td>\n",
       "      <td>0.0</td>\n",
       "      <td>0.0</td>\n",
       "      <td>8.7</td>\n",
       "      <td>0.8</td>\n",
       "    </tr>\n",
       "    <tr>\n",
       "      <th>133</th>\n",
       "      <td>GBR</td>\n",
       "      <td>United Kingdom</td>\n",
       "      <td>2000</td>\n",
       "      <td>35.0</td>\n",
       "      <td>0.1</td>\n",
       "      <td>6.2</td>\n",
       "      <td>2.7</td>\n",
       "      <td>0.0</td>\n",
       "      <td>23.7</td>\n",
       "      <td>4.1</td>\n",
       "      <td>1.3</td>\n",
       "      <td>0.0</td>\n",
       "      <td>0.1</td>\n",
       "      <td>0.0</td>\n",
       "      <td>5.0</td>\n",
       "      <td>3.0</td>\n",
       "    </tr>\n",
       "    <tr>\n",
       "      <th>134</th>\n",
       "      <td>USA</td>\n",
       "      <td>United States of America</td>\n",
       "      <td>2000</td>\n",
       "      <td>27.4</td>\n",
       "      <td>0.0</td>\n",
       "      <td>4.8</td>\n",
       "      <td>2.7</td>\n",
       "      <td>0.0</td>\n",
       "      <td>25.3</td>\n",
       "      <td>3.1</td>\n",
       "      <td>2.0</td>\n",
       "      <td>0.0</td>\n",
       "      <td>0.1</td>\n",
       "      <td>0.0</td>\n",
       "      <td>11.4</td>\n",
       "      <td>0.9</td>\n",
       "    </tr>\n",
       "    <tr>\n",
       "      <th>135</th>\n",
       "      <td>URY</td>\n",
       "      <td>Uruguay</td>\n",
       "      <td>2000</td>\n",
       "      <td>21.9</td>\n",
       "      <td>0.0</td>\n",
       "      <td>7.4</td>\n",
       "      <td>6.5</td>\n",
       "      <td>0.0</td>\n",
       "      <td>26.0</td>\n",
       "      <td>8.8</td>\n",
       "      <td>3.1</td>\n",
       "      <td>0.0</td>\n",
       "      <td>0.4</td>\n",
       "      <td>0.0</td>\n",
       "      <td>7.4</td>\n",
       "      <td>1.2</td>\n",
       "    </tr>\n",
       "  </tbody>\n",
       "</table>\n",
       "<p>136 rows × 16 columns</p>\n",
       "</div>"
      ],
      "text/plain": [
       "    ISO_Code                     CountryName  Year  Preterm  Pertussis  \\\n",
       "0        AND                         Andorra  2015     24.3        0.0   \n",
       "1        ATG               Antigua & Barbuda  2015     26.5        0.0   \n",
       "2        AUS                       Australia  2015     19.7        0.1   \n",
       "3        AUT                         Austria  2015     23.5        0.0   \n",
       "4        BHS                         Bahamas  2015     28.2        0.0   \n",
       "5        BHR                         Bahrain  2015     21.9        0.0   \n",
       "6        BRB                        Barbados  2015     19.1        0.0   \n",
       "7        BEL                         Belgium  2015     16.3        0.3   \n",
       "8        BRN                          Brunei  2015     18.1        0.0   \n",
       "9        CAN                          Canada  2015     27.1        0.2   \n",
       "10       CPV                      Cape Verde  2015     20.9        0.7   \n",
       "11       CHL                           Chile  2015     26.5        0.5   \n",
       "12       COD                        Congo DR  2015     12.6        1.0   \n",
       "13       COK                    Cook Islands  2015     28.2        0.0   \n",
       "14       HRV                         Croatia  2015     15.6        0.0   \n",
       "15       CYP                          Cyprus  2015     24.8        1.2   \n",
       "16       CZE                  Czech Republic  2015     25.9        0.0   \n",
       "17       DNK                         Denmark  2015     38.4        0.0   \n",
       "18       GNQ               Equatorial Guinea  2015     13.1        1.3   \n",
       "19       EST                         Estonia  2015     10.8        0.0   \n",
       "20       FSM  Federated States of Micronesia  2015     19.5        0.0   \n",
       "21       FIN                         Finland  2015     20.0        0.0   \n",
       "22       FRA                          France  2015     17.6        0.0   \n",
       "23       DEU                         Germany  2015     28.0        0.0   \n",
       "24       GRC                          Greece  2015     34.0        0.0   \n",
       "25       HND                        Honduras  2015     19.5        1.1   \n",
       "26       ISL                         Iceland  2015     28.8        0.0   \n",
       "27       IRL                         Ireland  2015     24.7        0.0   \n",
       "28       ISR                          Israel  2015     21.5        0.0   \n",
       "29       ITA                           Italy  2015     26.2        0.0   \n",
       "..       ...                             ...   ...      ...        ...   \n",
       "106      MWI                          Malawi  2000      7.5        0.6   \n",
       "107      MLT                           Malta  2000     36.6        0.0   \n",
       "108      MDA                         Moldova  2000      5.9        0.0   \n",
       "109      MCO                          Monaco  2000     38.8        0.0   \n",
       "110      NRU                           Nauru  2000     22.1        0.0   \n",
       "111      NLD                     Netherlands  2000     21.2        0.0   \n",
       "112      NZL                     New Zealand  2000     22.4        0.4   \n",
       "113      NIU                            Niue  2000      4.8        0.0   \n",
       "114      NOR                          Norway  2000     12.3        0.0   \n",
       "115      OMN                            Oman  2000     18.1        1.0   \n",
       "116      POL                          Poland  2000     25.9        0.0   \n",
       "117      PRT                        Portugal  2000     18.3        0.1   \n",
       "118      QAT                           Qatar  2000     25.0        0.7   \n",
       "119      KNA             Saint Kitts & Nevis  2000     35.1        0.0   \n",
       "120      LCA                     Saint Lucia  2000     30.9        0.0   \n",
       "121      SMR                      San Marino  2000      3.3        0.0   \n",
       "122      SAU                    Saudi Arabia  2000     22.9        0.8   \n",
       "123      SGP                       Singapore  2000     20.3        0.0   \n",
       "124      SVK                        Slovakia  2000     31.4        0.0   \n",
       "125      SVN                        Slovenia  2000     32.2        0.0   \n",
       "126      ESP                           Spain  2000     22.8        0.1   \n",
       "127      VCT     St Vincent & the Grenadines  2000     35.8        0.0   \n",
       "128      SWE                          Sweden  2000     16.5        0.4   \n",
       "129      CHE                     Switzerland  2000     25.8        0.0   \n",
       "130      TZA                        Tanzania  2000      7.9        0.8   \n",
       "131      TTO               Trinidad & Tobago  2000     37.5        0.0   \n",
       "132      ARE            United Arab Emirates  2000     25.2        0.9   \n",
       "133      GBR                  United Kingdom  2000     35.0        0.1   \n",
       "134      USA        United States of America  2000     27.4        0.0   \n",
       "135      URY                         Uruguay  2000     21.9        0.0   \n",
       "\n",
       "     Intrapartum  Sepsis  Tetanus  Congenital  Pneumonia  Diarrhoea  Malaria  \\\n",
       "0            7.4     2.9      0.0        36.0        2.7        0.1      0.0   \n",
       "1           14.2     0.0      0.0        21.6        3.2        0.0      0.0   \n",
       "2           10.4     1.2      0.0        28.0        2.7        0.3      0.1   \n",
       "3            6.5     1.6      0.0        33.6        1.5        0.4      0.0   \n",
       "4            8.3     3.9      0.0        11.7       13.0        0.6      0.0   \n",
       "5            2.9     0.6      0.0        36.1        2.3        0.4      0.0   \n",
       "6           12.7    13.1      0.0        18.8        2.6        0.0      0.0   \n",
       "7            9.1     2.0      0.0        29.4        1.6        0.1      0.0   \n",
       "8            8.7     8.0      0.0        25.2        3.7        2.3      0.0   \n",
       "9            9.2     3.2      0.0        31.4        2.1        0.3      0.0   \n",
       "10           8.5     4.5      0.4        20.9       13.7        5.3      0.0   \n",
       "11           4.2     2.7      0.0        39.9        3.5        0.1      0.0   \n",
       "12           9.9     5.0      0.4         4.8       15.2       10.5     11.9   \n",
       "13          11.2     3.8      0.0        29.0        4.8        0.7      0.0   \n",
       "14           7.2     3.4      0.0        27.3        2.7        0.0      0.0   \n",
       "15           8.4     3.3      0.0        35.8        2.6        0.2      0.0   \n",
       "16          10.1     4.6      0.0        22.6        6.0        1.0      0.0   \n",
       "17           8.3     1.4      0.0        24.7        1.2        0.6      0.0   \n",
       "18          11.3     4.4      0.5         6.1       15.8        7.5      8.6   \n",
       "19          12.4     8.3      0.0        28.0        5.6        0.5      0.0   \n",
       "20          13.8     7.0      0.2        12.4       14.6        6.2      0.0   \n",
       "21           9.0     2.8      0.0        31.9        2.6        0.0      0.0   \n",
       "22          10.1     3.0      0.0        26.8        1.8        1.2      0.0   \n",
       "23           6.8     2.1      0.0        31.2        1.9        0.4      0.0   \n",
       "24           5.4     0.5      0.0        43.6        3.3        0.0      0.0   \n",
       "25           7.7     7.8      0.6        18.9       11.2        7.8      0.0   \n",
       "26           4.5     7.3      0.0        14.5        0.0        0.0      0.0   \n",
       "27           6.6     2.3      0.0        43.1        2.0        0.3      0.0   \n",
       "28           3.9     2.7      0.0        35.7        1.8        0.5      0.0   \n",
       "29           7.5     3.4      0.0        26.9        1.5        0.2      0.0   \n",
       "..           ...     ...      ...         ...        ...        ...      ...   \n",
       "106          7.0     3.8      0.3         2.9       16.2       13.9     15.7   \n",
       "107          6.7     3.1      0.0        20.6        1.5        0.0      0.0   \n",
       "108         13.5     8.2      0.0        25.7       26.3        1.4      0.0   \n",
       "109         13.0     4.0      0.0        32.4        0.4        0.0      0.0   \n",
       "110         13.9     6.5      0.5        10.9       16.4        8.9      0.0   \n",
       "111         11.8     3.3      0.0        35.6        2.3        0.0      0.0   \n",
       "112          6.4     1.1      0.0        28.8        5.7        0.4      0.0   \n",
       "113          2.6     0.0      0.0        21.4       20.9        4.0      0.0   \n",
       "114         10.1     1.1      0.0        37.1        3.4        0.5      0.0   \n",
       "115          8.3     2.8      0.0        25.2       11.1        2.2      0.0   \n",
       "116          9.2     5.8      0.0        36.3        5.0        0.2      0.0   \n",
       "117          6.4     2.4      0.0        31.5        3.7        0.2      0.2   \n",
       "118          9.1     2.6      0.0        25.5        5.2        0.8      0.0   \n",
       "119         19.1     3.7      0.0        12.3        2.6        2.6      0.0   \n",
       "120         10.4    10.5      0.0        13.7        4.0        2.3      0.0   \n",
       "121          4.1     0.0      0.0        30.5        5.2        0.2      0.0   \n",
       "122         10.4     3.9      0.0        21.4        9.8        2.6      0.0   \n",
       "123          3.6     1.7      0.0        33.1        8.8        0.0      0.0   \n",
       "124          4.9     1.5      0.0        27.9       11.4        1.3      0.0   \n",
       "125          7.9     4.9      0.0        38.6        0.0        0.0      0.0   \n",
       "126          8.0     5.2      0.0        34.9        2.0        0.2      0.0   \n",
       "127         11.2     3.5      0.0        16.1        3.3        3.4      0.0   \n",
       "128          9.0     4.8      0.0        45.1        1.8        0.0      0.0   \n",
       "129          8.1     2.7      0.0        30.9        1.5        0.3      0.0   \n",
       "130          9.2     4.5      0.4         3.3       18.0       13.6     12.7   \n",
       "131         26.6     2.8      0.0        12.6        3.2        1.0      0.0   \n",
       "132          9.0     2.2      0.0        26.3        5.4        0.8      0.0   \n",
       "133          6.2     2.7      0.0        23.7        4.1        1.3      0.0   \n",
       "134          4.8     2.7      0.0        25.3        3.1        2.0      0.0   \n",
       "135          7.4     6.5      0.0        26.0        8.8        3.1      0.0   \n",
       "\n",
       "     Aids  Measles  Injury  Meningitis  \n",
       "0     0.0      0.0     6.1         0.8  \n",
       "1     2.6      0.0     4.5         0.0  \n",
       "2     0.0      0.0     7.7         0.9  \n",
       "3     0.1      0.0     4.9         1.8  \n",
       "4     0.9      0.0     9.9         0.6  \n",
       "5     0.4      0.0     5.6         1.2  \n",
       "6     0.0      0.0     6.6         0.0  \n",
       "7     0.0      0.0     9.7         1.6  \n",
       "8     0.0      0.0     2.8         0.3  \n",
       "9     0.0      0.0     6.7         1.0  \n",
       "10    0.7      0.0     4.8         1.3  \n",
       "11    0.1      0.0     6.5         0.9  \n",
       "12    1.1      3.1     5.7         2.6  \n",
       "13    0.0      0.0     5.5         0.8  \n",
       "14    0.0      0.0     4.5         2.5  \n",
       "15    0.1      0.0     5.0         0.7  \n",
       "16    0.0      0.0     8.3         1.5  \n",
       "17    0.0      0.0     4.1         0.9  \n",
       "18    4.5      9.2     4.5         1.1  \n",
       "19    0.0      0.0    16.4         2.1  \n",
       "20    0.0      0.0     7.0         1.4  \n",
       "21    0.0      0.0     7.6         0.7  \n",
       "22    0.1      0.0     7.3         1.6  \n",
       "23    0.0      0.0     5.2         0.8  \n",
       "24    0.0      0.0     4.0         0.4  \n",
       "25    1.6      0.0     3.6         1.0  \n",
       "26    0.0      0.0     2.1         0.0  \n",
       "27    0.0      0.0     3.9         1.8  \n",
       "28    0.0      0.0     6.6         1.2  \n",
       "29    0.0      0.0     3.4         0.6  \n",
       "..    ...      ...     ...         ...  \n",
       "106  14.6      0.2     3.1         3.9  \n",
       "107   0.0      0.0     4.8         5.2  \n",
       "108   0.0      0.0    10.4         1.7  \n",
       "109   0.0      0.0     0.5         0.0  \n",
       "110   0.0      0.0     5.3         1.7  \n",
       "111   0.0      0.0     5.8         2.9  \n",
       "112   0.0      0.0    12.2         4.2  \n",
       "113   0.0      0.0    13.6         4.2  \n",
       "114   0.0      0.0     6.2         5.0  \n",
       "115   0.4      0.0     9.4         0.9  \n",
       "116   0.0      0.0     6.1         1.1  \n",
       "117   0.2      0.0     9.5         4.4  \n",
       "118   0.1      0.0     9.8         0.8  \n",
       "119   0.0      0.0     1.7         0.0  \n",
       "120   2.2      0.0     5.7         0.8  \n",
       "121   0.0      0.0    18.8         3.0  \n",
       "122   0.0      0.1     9.0         0.8  \n",
       "123   0.0      0.0     6.3         4.0  \n",
       "124   0.0      0.0     5.2         1.5  \n",
       "125   0.0      0.0     6.6         0.0  \n",
       "126   0.1      0.0     5.5         2.9  \n",
       "127   3.2      0.0     6.8         1.1  \n",
       "128   0.0      0.0     4.2         1.3  \n",
       "129   0.0      0.0     8.0         2.0  \n",
       "130   9.9      2.0     3.9         3.6  \n",
       "131   3.0      0.0     2.5         1.2  \n",
       "132   0.0      0.0     8.7         0.8  \n",
       "133   0.1      0.0     5.0         3.0  \n",
       "134   0.1      0.0    11.4         0.9  \n",
       "135   0.4      0.0     7.4         1.2  \n",
       "\n",
       "[136 rows x 16 columns]"
      ]
     },
     "execution_count": 25,
     "metadata": {},
     "output_type": "execute_result"
    }
   ],
   "source": [
    "developed_countries = under_five.loc[~under_five['ISO_Code'].isin(a)]\n",
    "developed_countries.reset_index(drop=True)\n",
    " \n"
   ]
  },
  {
   "cell_type": "markdown",
   "metadata": {},
   "source": [
    "# Calculating aggr value for diseases (Developed)"
   ]
  },
  {
   "cell_type": "code",
   "execution_count": 26,
   "metadata": {
    "collapsed": false,
    "scrolled": true
   },
   "outputs": [
    {
     "data": {
      "text/plain": [
       "23.030882352941184"
      ]
     },
     "execution_count": 26,
     "metadata": {},
     "output_type": "execute_result"
    }
   ],
   "source": [
    "Preterm_developed = developed_countries['Preterm']\n",
    "Preterm_developed = Preterm_developed.mean()\n",
    "Preterm_developed"
   ]
  },
  {
   "cell_type": "code",
   "execution_count": 27,
   "metadata": {
    "collapsed": false
   },
   "outputs": [
    {
     "data": {
      "text/plain": [
       "9.029411764705884"
      ]
     },
     "execution_count": 27,
     "metadata": {},
     "output_type": "execute_result"
    }
   ],
   "source": [
    "Intrapartum_developed = developed_countries['Intrapartum']\n",
    "Intrapartum_developed = Intrapartum_developed.mean()\n",
    "Intrapartum_developed"
   ]
  },
  {
   "cell_type": "code",
   "execution_count": 28,
   "metadata": {
    "collapsed": false
   },
   "outputs": [
    {
     "data": {
      "text/plain": [
       "3.5823529411764707"
      ]
     },
     "execution_count": 28,
     "metadata": {},
     "output_type": "execute_result"
    }
   ],
   "source": [
    "Sepsis_developed = developed_countries['Sepsis']\n",
    "Sepsis_developed = Sepsis_developed.mean()\n",
    "Sepsis_developed"
   ]
  },
  {
   "cell_type": "code",
   "execution_count": 29,
   "metadata": {
    "collapsed": false
   },
   "outputs": [
    {
     "data": {
      "text/plain": [
       "26.03088235294117"
      ]
     },
     "execution_count": 29,
     "metadata": {},
     "output_type": "execute_result"
    }
   ],
   "source": [
    "Congenital_developed = developed_countries['Congenital']\n",
    "Congenital_developed = Congenital_developed.mean()\n",
    "Congenital_developed"
   ]
  },
  {
   "cell_type": "code",
   "execution_count": 30,
   "metadata": {
    "collapsed": false
   },
   "outputs": [
    {
     "data": {
      "text/plain": [
       "6.061029411764706"
      ]
     },
     "execution_count": 30,
     "metadata": {},
     "output_type": "execute_result"
    }
   ],
   "source": [
    "Pneumonia_developed = developed_countries['Pneumonia']\n",
    "Pneumonia_developed = Pneumonia_developed.mean()\n",
    "Pneumonia_developed"
   ]
  },
  {
   "cell_type": "code",
   "execution_count": 31,
   "metadata": {
    "collapsed": false
   },
   "outputs": [
    {
     "data": {
      "text/plain": [
       "7.263970588235293"
      ]
     },
     "execution_count": 31,
     "metadata": {},
     "output_type": "execute_result"
    }
   ],
   "source": [
    "Injury_developed = developed_countries['Injury']\n",
    "Injury_developed = Injury_developed.mean()\n",
    "Injury_developed"
   ]
  },
  {
   "cell_type": "code",
   "execution_count": 32,
   "metadata": {
    "collapsed": false
   },
   "outputs": [
    {
     "data": {
      "text/plain": [
       "1.8720588235294124"
      ]
     },
     "execution_count": 32,
     "metadata": {},
     "output_type": "execute_result"
    }
   ],
   "source": [
    "Diarrhoea_developed = developed_countries['Diarrhoea']\n",
    "Diarrhoea_developed = Diarrhoea_developed.mean()\n",
    "Diarrhoea_developed"
   ]
  },
  {
   "cell_type": "markdown",
   "metadata": {},
   "source": [
    "# Calculating aggr value for diseases (developing)"
   ]
  },
  {
   "cell_type": "code",
   "execution_count": 33,
   "metadata": {
    "collapsed": false
   },
   "outputs": [
    {
     "data": {
      "text/plain": [
       "18.154365079365085"
      ]
     },
     "execution_count": 33,
     "metadata": {},
     "output_type": "execute_result"
    }
   ],
   "source": [
    "Preterm_developing = developing_countries['Preterm']\n",
    "Preterm_developing = Preterm_developing.mean()\n",
    "Preterm_developing"
   ]
  },
  {
   "cell_type": "code",
   "execution_count": 34,
   "metadata": {
    "collapsed": false
   },
   "outputs": [
    {
     "data": {
      "text/plain": [
       "10.483730158730165"
      ]
     },
     "execution_count": 34,
     "metadata": {},
     "output_type": "execute_result"
    }
   ],
   "source": [
    "Intrapartum_developing = developing_countries['Intrapartum']\n",
    "Intrapartum_developing = Intrapartum_developing.mean()\n",
    "Intrapartum_developing"
   ]
  },
  {
   "cell_type": "code",
   "execution_count": 35,
   "metadata": {
    "collapsed": false
   },
   "outputs": [
    {
     "data": {
      "text/plain": [
       "5.587301587301585"
      ]
     },
     "execution_count": 35,
     "metadata": {},
     "output_type": "execute_result"
    }
   ],
   "source": [
    "Sepsis_developing = developing_countries['Sepsis']\n",
    "Sepsis_developing = Sepsis_developing.mean()\n",
    "Sepsis_developing"
   ]
  },
  {
   "cell_type": "code",
   "execution_count": 36,
   "metadata": {
    "collapsed": false
   },
   "outputs": [
    {
     "data": {
      "text/plain": [
       "12.968650793650797"
      ]
     },
     "execution_count": 36,
     "metadata": {},
     "output_type": "execute_result"
    }
   ],
   "source": [
    "Congenital_developing = developing_countries['Congenital']\n",
    "Congenital_developing = Congenital_developing.mean()\n",
    "Congenital_developing"
   ]
  },
  {
   "cell_type": "code",
   "execution_count": 37,
   "metadata": {
    "collapsed": false
   },
   "outputs": [
    {
     "data": {
      "text/plain": [
       "14.255555555555555"
      ]
     },
     "execution_count": 37,
     "metadata": {},
     "output_type": "execute_result"
    }
   ],
   "source": [
    "Pneumonia_developing = developing_countries['Pneumonia']\n",
    "Pneumonia_developing = Pneumonia_developing.mean()\n",
    "Pneumonia_developing"
   ]
  },
  {
   "cell_type": "code",
   "execution_count": 38,
   "metadata": {
    "collapsed": false
   },
   "outputs": [
    {
     "data": {
      "text/plain": [
       "6.099999999999998"
      ]
     },
     "execution_count": 38,
     "metadata": {},
     "output_type": "execute_result"
    }
   ],
   "source": [
    "Injury_developing = developing_countries['Injury']\n",
    "Injury_developing = Injury_developing.mean()\n",
    "Injury_developing"
   ]
  },
  {
   "cell_type": "code",
   "execution_count": 39,
   "metadata": {
    "collapsed": false
   },
   "outputs": [
    {
     "data": {
      "text/plain": [
       "7.750000000000002"
      ]
     },
     "execution_count": 39,
     "metadata": {},
     "output_type": "execute_result"
    }
   ],
   "source": [
    "Diarrhoea_developing = developing_countries['Diarrhoea']\n",
    "Diarrhoea_developing = Diarrhoea_developing.mean()\n",
    "Diarrhoea_developing"
   ]
  },
  {
   "cell_type": "markdown",
   "metadata": {},
   "source": [
    "# Creating a dataframe for aggr values"
   ]
  },
  {
   "cell_type": "code",
   "execution_count": 40,
   "metadata": {
    "collapsed": false
   },
   "outputs": [],
   "source": [
    "developed={'preterm':Preterm_developed}\n",
    "developing={'preterm':Preterm_developing}"
   ]
  },
  {
   "cell_type": "code",
   "execution_count": 41,
   "metadata": {
    "collapsed": false
   },
   "outputs": [
    {
     "data": {
      "text/html": [
       "<div>\n",
       "<table border=\"1\" class=\"dataframe\">\n",
       "  <thead>\n",
       "    <tr style=\"text-align: right;\">\n",
       "      <th></th>\n",
       "      <th>Developed</th>\n",
       "    </tr>\n",
       "  </thead>\n",
       "  <tbody>\n",
       "    <tr>\n",
       "      <th>preterm</th>\n",
       "      <td>23.030882</td>\n",
       "    </tr>\n",
       "  </tbody>\n",
       "</table>\n",
       "</div>"
      ],
      "text/plain": [
       "         Developed\n",
       "preterm  23.030882"
      ]
     },
     "execution_count": 41,
     "metadata": {},
     "output_type": "execute_result"
    }
   ],
   "source": [
    "d=pd.Series(developed)\n",
    "d=pd.DataFrame(d)\n",
    "d.columns=['Developed']\n",
    "d"
   ]
  },
  {
   "cell_type": "code",
   "execution_count": 42,
   "metadata": {
    "collapsed": false
   },
   "outputs": [
    {
     "data": {
      "text/html": [
       "<div>\n",
       "<table border=\"1\" class=\"dataframe\">\n",
       "  <thead>\n",
       "    <tr style=\"text-align: right;\">\n",
       "      <th></th>\n",
       "      <th>Developing</th>\n",
       "    </tr>\n",
       "  </thead>\n",
       "  <tbody>\n",
       "    <tr>\n",
       "      <th>preterm</th>\n",
       "      <td>18.154365</td>\n",
       "    </tr>\n",
       "  </tbody>\n",
       "</table>\n",
       "</div>"
      ],
      "text/plain": [
       "         Developing\n",
       "preterm   18.154365"
      ]
     },
     "execution_count": 42,
     "metadata": {},
     "output_type": "execute_result"
    }
   ],
   "source": [
    "d0 = pd.Series(developing)\n",
    "d0= pd.DataFrame(d0)\n",
    "d0.columns = ['Developing']\n",
    "d0"
   ]
  },
  {
   "cell_type": "code",
   "execution_count": 43,
   "metadata": {
    "collapsed": false
   },
   "outputs": [
    {
     "data": {
      "text/html": [
       "<div>\n",
       "<table border=\"1\" class=\"dataframe\">\n",
       "  <thead>\n",
       "    <tr style=\"text-align: right;\">\n",
       "      <th></th>\n",
       "      <th>Developed</th>\n",
       "      <th>Developing</th>\n",
       "    </tr>\n",
       "  </thead>\n",
       "  <tbody>\n",
       "    <tr>\n",
       "      <th>preterm</th>\n",
       "      <td>23.030882</td>\n",
       "      <td>18.154365</td>\n",
       "    </tr>\n",
       "  </tbody>\n",
       "</table>\n",
       "</div>"
      ],
      "text/plain": [
       "         Developed  Developing\n",
       "preterm  23.030882   18.154365"
      ]
     },
     "execution_count": 43,
     "metadata": {},
     "output_type": "execute_result"
    }
   ],
   "source": [
    "res = pd.concat([d, d0], axis=1, join_axes=[d.index])\n",
    "res"
   ]
  },
  {
   "cell_type": "code",
   "execution_count": 44,
   "metadata": {
    "collapsed": false
   },
   "outputs": [],
   "source": [
    "developed={'Intrapartum':Intrapartum_developed}\n",
    "developing={'Intrapartum':Intrapartum_developing}"
   ]
  },
  {
   "cell_type": "code",
   "execution_count": 45,
   "metadata": {
    "collapsed": false
   },
   "outputs": [
    {
     "data": {
      "text/html": [
       "<div>\n",
       "<table border=\"1\" class=\"dataframe\">\n",
       "  <thead>\n",
       "    <tr style=\"text-align: right;\">\n",
       "      <th></th>\n",
       "      <th>Developed</th>\n",
       "    </tr>\n",
       "  </thead>\n",
       "  <tbody>\n",
       "    <tr>\n",
       "      <th>Intrapartum</th>\n",
       "      <td>9.029412</td>\n",
       "    </tr>\n",
       "  </tbody>\n",
       "</table>\n",
       "</div>"
      ],
      "text/plain": [
       "             Developed\n",
       "Intrapartum   9.029412"
      ]
     },
     "execution_count": 45,
     "metadata": {},
     "output_type": "execute_result"
    }
   ],
   "source": [
    "d1=pd.Series(developed)\n",
    "d1=pd.DataFrame(d1)\n",
    "d1.columns=['Developed']\n",
    "d1"
   ]
  },
  {
   "cell_type": "code",
   "execution_count": 46,
   "metadata": {
    "collapsed": false
   },
   "outputs": [
    {
     "data": {
      "text/html": [
       "<div>\n",
       "<table border=\"1\" class=\"dataframe\">\n",
       "  <thead>\n",
       "    <tr style=\"text-align: right;\">\n",
       "      <th></th>\n",
       "      <th>Developing</th>\n",
       "    </tr>\n",
       "  </thead>\n",
       "  <tbody>\n",
       "    <tr>\n",
       "      <th>Intrapartum</th>\n",
       "      <td>10.48373</td>\n",
       "    </tr>\n",
       "  </tbody>\n",
       "</table>\n",
       "</div>"
      ],
      "text/plain": [
       "             Developing\n",
       "Intrapartum    10.48373"
      ]
     },
     "execution_count": 46,
     "metadata": {},
     "output_type": "execute_result"
    }
   ],
   "source": [
    "d11 = pd.Series(developing)\n",
    "d11 = pd.DataFrame(d11)\n",
    "d11.columns = ['Developing']\n",
    "d11"
   ]
  },
  {
   "cell_type": "code",
   "execution_count": 47,
   "metadata": {
    "collapsed": false
   },
   "outputs": [
    {
     "data": {
      "text/html": [
       "<div>\n",
       "<table border=\"1\" class=\"dataframe\">\n",
       "  <thead>\n",
       "    <tr style=\"text-align: right;\">\n",
       "      <th></th>\n",
       "      <th>Developed</th>\n",
       "      <th>Developing</th>\n",
       "    </tr>\n",
       "  </thead>\n",
       "  <tbody>\n",
       "    <tr>\n",
       "      <th>Intrapartum</th>\n",
       "      <td>9.029412</td>\n",
       "      <td>10.48373</td>\n",
       "    </tr>\n",
       "  </tbody>\n",
       "</table>\n",
       "</div>"
      ],
      "text/plain": [
       "             Developed  Developing\n",
       "Intrapartum   9.029412    10.48373"
      ]
     },
     "execution_count": 47,
     "metadata": {},
     "output_type": "execute_result"
    }
   ],
   "source": [
    "res1 = pd.concat([d1, d11], axis=1, join_axes=[d1.index])\n",
    "res1"
   ]
  },
  {
   "cell_type": "code",
   "execution_count": 48,
   "metadata": {
    "collapsed": true
   },
   "outputs": [],
   "source": [
    "developed={'Sepsis':Sepsis_developed}\n",
    "developing={'Sepsis':Sepsis_developing}"
   ]
  },
  {
   "cell_type": "code",
   "execution_count": 49,
   "metadata": {
    "collapsed": false
   },
   "outputs": [
    {
     "data": {
      "text/html": [
       "<div>\n",
       "<table border=\"1\" class=\"dataframe\">\n",
       "  <thead>\n",
       "    <tr style=\"text-align: right;\">\n",
       "      <th></th>\n",
       "      <th>Developed</th>\n",
       "    </tr>\n",
       "  </thead>\n",
       "  <tbody>\n",
       "    <tr>\n",
       "      <th>Sepsis</th>\n",
       "      <td>3.582353</td>\n",
       "    </tr>\n",
       "  </tbody>\n",
       "</table>\n",
       "</div>"
      ],
      "text/plain": [
       "        Developed\n",
       "Sepsis   3.582353"
      ]
     },
     "execution_count": 49,
     "metadata": {},
     "output_type": "execute_result"
    }
   ],
   "source": [
    "d2=pd.Series(developed)\n",
    "d2=pd.DataFrame(d2)\n",
    "d2.columns=['Developed']\n",
    "d2"
   ]
  },
  {
   "cell_type": "code",
   "execution_count": 50,
   "metadata": {
    "collapsed": false
   },
   "outputs": [
    {
     "data": {
      "text/html": [
       "<div>\n",
       "<table border=\"1\" class=\"dataframe\">\n",
       "  <thead>\n",
       "    <tr style=\"text-align: right;\">\n",
       "      <th></th>\n",
       "      <th>Developing</th>\n",
       "    </tr>\n",
       "  </thead>\n",
       "  <tbody>\n",
       "    <tr>\n",
       "      <th>Sepsis</th>\n",
       "      <td>5.587302</td>\n",
       "    </tr>\n",
       "  </tbody>\n",
       "</table>\n",
       "</div>"
      ],
      "text/plain": [
       "        Developing\n",
       "Sepsis    5.587302"
      ]
     },
     "execution_count": 50,
     "metadata": {},
     "output_type": "execute_result"
    }
   ],
   "source": [
    "d22 = pd.Series(developing)\n",
    "d22 = pd.DataFrame(d22)\n",
    "d22.columns = ['Developing']\n",
    "d22"
   ]
  },
  {
   "cell_type": "code",
   "execution_count": 51,
   "metadata": {
    "collapsed": false
   },
   "outputs": [
    {
     "data": {
      "text/html": [
       "<div>\n",
       "<table border=\"1\" class=\"dataframe\">\n",
       "  <thead>\n",
       "    <tr style=\"text-align: right;\">\n",
       "      <th></th>\n",
       "      <th>Developed</th>\n",
       "      <th>Developing</th>\n",
       "    </tr>\n",
       "  </thead>\n",
       "  <tbody>\n",
       "    <tr>\n",
       "      <th>Sepsis</th>\n",
       "      <td>3.582353</td>\n",
       "      <td>5.587302</td>\n",
       "    </tr>\n",
       "  </tbody>\n",
       "</table>\n",
       "</div>"
      ],
      "text/plain": [
       "        Developed  Developing\n",
       "Sepsis   3.582353    5.587302"
      ]
     },
     "execution_count": 51,
     "metadata": {},
     "output_type": "execute_result"
    }
   ],
   "source": [
    "res2 = pd.concat([d2, d22], axis=1, join_axes=[d2.index])\n",
    "res2"
   ]
  },
  {
   "cell_type": "code",
   "execution_count": 52,
   "metadata": {
    "collapsed": false
   },
   "outputs": [],
   "source": [
    "developed={'Congenital':Congenital_developed}\n",
    "developing={'Congenital':Congenital_developing}"
   ]
  },
  {
   "cell_type": "code",
   "execution_count": 53,
   "metadata": {
    "collapsed": false
   },
   "outputs": [
    {
     "data": {
      "text/html": [
       "<div>\n",
       "<table border=\"1\" class=\"dataframe\">\n",
       "  <thead>\n",
       "    <tr style=\"text-align: right;\">\n",
       "      <th></th>\n",
       "      <th>Developed</th>\n",
       "    </tr>\n",
       "  </thead>\n",
       "  <tbody>\n",
       "    <tr>\n",
       "      <th>Congenital</th>\n",
       "      <td>26.030882</td>\n",
       "    </tr>\n",
       "  </tbody>\n",
       "</table>\n",
       "</div>"
      ],
      "text/plain": [
       "            Developed\n",
       "Congenital  26.030882"
      ]
     },
     "execution_count": 53,
     "metadata": {},
     "output_type": "execute_result"
    }
   ],
   "source": [
    "d3=pd.Series(developed)\n",
    "d3=pd.DataFrame(d3)\n",
    "d3.columns=['Developed']\n",
    "d3"
   ]
  },
  {
   "cell_type": "code",
   "execution_count": 54,
   "metadata": {
    "collapsed": false
   },
   "outputs": [
    {
     "data": {
      "text/html": [
       "<div>\n",
       "<table border=\"1\" class=\"dataframe\">\n",
       "  <thead>\n",
       "    <tr style=\"text-align: right;\">\n",
       "      <th></th>\n",
       "      <th>Developing</th>\n",
       "    </tr>\n",
       "  </thead>\n",
       "  <tbody>\n",
       "    <tr>\n",
       "      <th>Congenital</th>\n",
       "      <td>12.968651</td>\n",
       "    </tr>\n",
       "  </tbody>\n",
       "</table>\n",
       "</div>"
      ],
      "text/plain": [
       "            Developing\n",
       "Congenital   12.968651"
      ]
     },
     "execution_count": 54,
     "metadata": {},
     "output_type": "execute_result"
    }
   ],
   "source": [
    "d33 = pd.Series(developing)\n",
    "d33 = pd.DataFrame(d33)\n",
    "d33.columns = ['Developing']\n",
    "d33"
   ]
  },
  {
   "cell_type": "code",
   "execution_count": 55,
   "metadata": {
    "collapsed": false
   },
   "outputs": [
    {
     "data": {
      "text/html": [
       "<div>\n",
       "<table border=\"1\" class=\"dataframe\">\n",
       "  <thead>\n",
       "    <tr style=\"text-align: right;\">\n",
       "      <th></th>\n",
       "      <th>Developed</th>\n",
       "      <th>Developing</th>\n",
       "    </tr>\n",
       "  </thead>\n",
       "  <tbody>\n",
       "    <tr>\n",
       "      <th>Congenital</th>\n",
       "      <td>26.030882</td>\n",
       "      <td>12.968651</td>\n",
       "    </tr>\n",
       "  </tbody>\n",
       "</table>\n",
       "</div>"
      ],
      "text/plain": [
       "            Developed  Developing\n",
       "Congenital  26.030882   12.968651"
      ]
     },
     "execution_count": 55,
     "metadata": {},
     "output_type": "execute_result"
    }
   ],
   "source": [
    "res3 = pd.concat([d3, d33], axis=1, join_axes=[d3.index])\n",
    "res3"
   ]
  },
  {
   "cell_type": "code",
   "execution_count": 56,
   "metadata": {
    "collapsed": true
   },
   "outputs": [],
   "source": [
    "developed={'Pneumonia':Pneumonia_developed}\n",
    "developing={'Pneumonia':Pneumonia_developing}"
   ]
  },
  {
   "cell_type": "code",
   "execution_count": 57,
   "metadata": {
    "collapsed": false
   },
   "outputs": [
    {
     "data": {
      "text/html": [
       "<div>\n",
       "<table border=\"1\" class=\"dataframe\">\n",
       "  <thead>\n",
       "    <tr style=\"text-align: right;\">\n",
       "      <th></th>\n",
       "      <th>Developed</th>\n",
       "    </tr>\n",
       "  </thead>\n",
       "  <tbody>\n",
       "    <tr>\n",
       "      <th>Pneumonia</th>\n",
       "      <td>6.061029</td>\n",
       "    </tr>\n",
       "  </tbody>\n",
       "</table>\n",
       "</div>"
      ],
      "text/plain": [
       "           Developed\n",
       "Pneumonia   6.061029"
      ]
     },
     "execution_count": 57,
     "metadata": {},
     "output_type": "execute_result"
    }
   ],
   "source": [
    "d4=pd.Series(developed)\n",
    "d4=pd.DataFrame(d4)\n",
    "d4.columns=['Developed']\n",
    "d4"
   ]
  },
  {
   "cell_type": "code",
   "execution_count": 58,
   "metadata": {
    "collapsed": false
   },
   "outputs": [
    {
     "data": {
      "text/html": [
       "<div>\n",
       "<table border=\"1\" class=\"dataframe\">\n",
       "  <thead>\n",
       "    <tr style=\"text-align: right;\">\n",
       "      <th></th>\n",
       "      <th>Developing</th>\n",
       "    </tr>\n",
       "  </thead>\n",
       "  <tbody>\n",
       "    <tr>\n",
       "      <th>Pneumonia</th>\n",
       "      <td>14.255556</td>\n",
       "    </tr>\n",
       "  </tbody>\n",
       "</table>\n",
       "</div>"
      ],
      "text/plain": [
       "           Developing\n",
       "Pneumonia   14.255556"
      ]
     },
     "execution_count": 58,
     "metadata": {},
     "output_type": "execute_result"
    }
   ],
   "source": [
    "d44 = pd.Series(developing)\n",
    "d44 = pd.DataFrame(d44)\n",
    "d44.columns = ['Developing']\n",
    "d44"
   ]
  },
  {
   "cell_type": "code",
   "execution_count": 59,
   "metadata": {
    "collapsed": false
   },
   "outputs": [
    {
     "data": {
      "text/html": [
       "<div>\n",
       "<table border=\"1\" class=\"dataframe\">\n",
       "  <thead>\n",
       "    <tr style=\"text-align: right;\">\n",
       "      <th></th>\n",
       "      <th>Developed</th>\n",
       "      <th>Developing</th>\n",
       "    </tr>\n",
       "  </thead>\n",
       "  <tbody>\n",
       "    <tr>\n",
       "      <th>Pneumonia</th>\n",
       "      <td>6.061029</td>\n",
       "      <td>14.255556</td>\n",
       "    </tr>\n",
       "  </tbody>\n",
       "</table>\n",
       "</div>"
      ],
      "text/plain": [
       "           Developed  Developing\n",
       "Pneumonia   6.061029   14.255556"
      ]
     },
     "execution_count": 59,
     "metadata": {},
     "output_type": "execute_result"
    }
   ],
   "source": [
    "res4 = pd.concat([d4, d44], axis=1, join_axes=[d4.index])\n",
    "res4"
   ]
  },
  {
   "cell_type": "code",
   "execution_count": 60,
   "metadata": {
    "collapsed": true
   },
   "outputs": [],
   "source": [
    "developed={'Injury':Injury_developed}\n",
    "developing={'Injury':Injury_developing}"
   ]
  },
  {
   "cell_type": "code",
   "execution_count": 61,
   "metadata": {
    "collapsed": false
   },
   "outputs": [
    {
     "data": {
      "text/html": [
       "<div>\n",
       "<table border=\"1\" class=\"dataframe\">\n",
       "  <thead>\n",
       "    <tr style=\"text-align: right;\">\n",
       "      <th></th>\n",
       "      <th>Developed</th>\n",
       "    </tr>\n",
       "  </thead>\n",
       "  <tbody>\n",
       "    <tr>\n",
       "      <th>Injury</th>\n",
       "      <td>7.263971</td>\n",
       "    </tr>\n",
       "  </tbody>\n",
       "</table>\n",
       "</div>"
      ],
      "text/plain": [
       "        Developed\n",
       "Injury   7.263971"
      ]
     },
     "execution_count": 61,
     "metadata": {},
     "output_type": "execute_result"
    }
   ],
   "source": [
    "d5=pd.Series(developed)\n",
    "d5=pd.DataFrame(d5)\n",
    "d5.columns=['Developed']\n",
    "d5"
   ]
  },
  {
   "cell_type": "code",
   "execution_count": 62,
   "metadata": {
    "collapsed": false
   },
   "outputs": [
    {
     "data": {
      "text/html": [
       "<div>\n",
       "<table border=\"1\" class=\"dataframe\">\n",
       "  <thead>\n",
       "    <tr style=\"text-align: right;\">\n",
       "      <th></th>\n",
       "      <th>Developing</th>\n",
       "    </tr>\n",
       "  </thead>\n",
       "  <tbody>\n",
       "    <tr>\n",
       "      <th>Injury</th>\n",
       "      <td>6.1</td>\n",
       "    </tr>\n",
       "  </tbody>\n",
       "</table>\n",
       "</div>"
      ],
      "text/plain": [
       "        Developing\n",
       "Injury         6.1"
      ]
     },
     "execution_count": 62,
     "metadata": {},
     "output_type": "execute_result"
    }
   ],
   "source": [
    "d55 = pd.Series(developing)\n",
    "d55 = pd.DataFrame(d55)\n",
    "d55.columns = ['Developing']\n",
    "d55"
   ]
  },
  {
   "cell_type": "code",
   "execution_count": 63,
   "metadata": {
    "collapsed": false
   },
   "outputs": [
    {
     "data": {
      "text/html": [
       "<div>\n",
       "<table border=\"1\" class=\"dataframe\">\n",
       "  <thead>\n",
       "    <tr style=\"text-align: right;\">\n",
       "      <th></th>\n",
       "      <th>Developed</th>\n",
       "      <th>Developing</th>\n",
       "    </tr>\n",
       "  </thead>\n",
       "  <tbody>\n",
       "    <tr>\n",
       "      <th>Injury</th>\n",
       "      <td>7.263971</td>\n",
       "      <td>6.1</td>\n",
       "    </tr>\n",
       "  </tbody>\n",
       "</table>\n",
       "</div>"
      ],
      "text/plain": [
       "        Developed  Developing\n",
       "Injury   7.263971         6.1"
      ]
     },
     "execution_count": 63,
     "metadata": {},
     "output_type": "execute_result"
    }
   ],
   "source": [
    "res5 = pd.concat([d5, d55], axis=1, join_axes=[d5.index])\n",
    "res5"
   ]
  },
  {
   "cell_type": "code",
   "execution_count": 64,
   "metadata": {
    "collapsed": true
   },
   "outputs": [],
   "source": [
    "developed={'Diarrhoea':Diarrhoea_developed}\n",
    "developing={'Diarrhoea':Diarrhoea_developing}"
   ]
  },
  {
   "cell_type": "code",
   "execution_count": 65,
   "metadata": {
    "collapsed": false
   },
   "outputs": [
    {
     "data": {
      "text/html": [
       "<div>\n",
       "<table border=\"1\" class=\"dataframe\">\n",
       "  <thead>\n",
       "    <tr style=\"text-align: right;\">\n",
       "      <th></th>\n",
       "      <th>Developed</th>\n",
       "    </tr>\n",
       "  </thead>\n",
       "  <tbody>\n",
       "    <tr>\n",
       "      <th>Diarrhoea</th>\n",
       "      <td>1.872059</td>\n",
       "    </tr>\n",
       "  </tbody>\n",
       "</table>\n",
       "</div>"
      ],
      "text/plain": [
       "           Developed\n",
       "Diarrhoea   1.872059"
      ]
     },
     "execution_count": 65,
     "metadata": {},
     "output_type": "execute_result"
    }
   ],
   "source": [
    "d6=pd.Series(developed)\n",
    "d6=pd.DataFrame(d6)\n",
    "d6.columns=['Developed']\n",
    "d6"
   ]
  },
  {
   "cell_type": "code",
   "execution_count": 66,
   "metadata": {
    "collapsed": false
   },
   "outputs": [
    {
     "data": {
      "text/html": [
       "<div>\n",
       "<table border=\"1\" class=\"dataframe\">\n",
       "  <thead>\n",
       "    <tr style=\"text-align: right;\">\n",
       "      <th></th>\n",
       "      <th>Developing</th>\n",
       "    </tr>\n",
       "  </thead>\n",
       "  <tbody>\n",
       "    <tr>\n",
       "      <th>Diarrhoea</th>\n",
       "      <td>7.75</td>\n",
       "    </tr>\n",
       "  </tbody>\n",
       "</table>\n",
       "</div>"
      ],
      "text/plain": [
       "           Developing\n",
       "Diarrhoea        7.75"
      ]
     },
     "execution_count": 66,
     "metadata": {},
     "output_type": "execute_result"
    }
   ],
   "source": [
    "d66 = pd.Series(developing)\n",
    "d66 = pd.DataFrame(d66)\n",
    "d66.columns = ['Developing']\n",
    "d66"
   ]
  },
  {
   "cell_type": "code",
   "execution_count": 67,
   "metadata": {
    "collapsed": false
   },
   "outputs": [
    {
     "data": {
      "text/html": [
       "<div>\n",
       "<table border=\"1\" class=\"dataframe\">\n",
       "  <thead>\n",
       "    <tr style=\"text-align: right;\">\n",
       "      <th></th>\n",
       "      <th>Developed</th>\n",
       "      <th>Developing</th>\n",
       "    </tr>\n",
       "  </thead>\n",
       "  <tbody>\n",
       "    <tr>\n",
       "      <th>Diarrhoea</th>\n",
       "      <td>1.872059</td>\n",
       "      <td>7.75</td>\n",
       "    </tr>\n",
       "  </tbody>\n",
       "</table>\n",
       "</div>"
      ],
      "text/plain": [
       "           Developed  Developing\n",
       "Diarrhoea   1.872059        7.75"
      ]
     },
     "execution_count": 67,
     "metadata": {},
     "output_type": "execute_result"
    }
   ],
   "source": [
    "res6 = pd.concat([d6, d66], axis=1, join_axes=[d6.index])\n",
    "res6"
   ]
  },
  {
   "cell_type": "code",
   "execution_count": 68,
   "metadata": {
    "collapsed": false
   },
   "outputs": [],
   "source": [
    "frames = [res,res1,res2,res3,res4,res5,res6]"
   ]
  },
  {
   "cell_type": "code",
   "execution_count": 69,
   "metadata": {
    "collapsed": false
   },
   "outputs": [
    {
     "data": {
      "text/html": [
       "<div>\n",
       "<table border=\"1\" class=\"dataframe\">\n",
       "  <thead>\n",
       "    <tr style=\"text-align: right;\">\n",
       "      <th></th>\n",
       "      <th>Developed</th>\n",
       "      <th>Developing</th>\n",
       "    </tr>\n",
       "  </thead>\n",
       "  <tbody>\n",
       "    <tr>\n",
       "      <th>preterm</th>\n",
       "      <td>23.030882</td>\n",
       "      <td>18.154365</td>\n",
       "    </tr>\n",
       "    <tr>\n",
       "      <th>Intrapartum</th>\n",
       "      <td>9.029412</td>\n",
       "      <td>10.483730</td>\n",
       "    </tr>\n",
       "    <tr>\n",
       "      <th>Sepsis</th>\n",
       "      <td>3.582353</td>\n",
       "      <td>5.587302</td>\n",
       "    </tr>\n",
       "    <tr>\n",
       "      <th>Congenital</th>\n",
       "      <td>26.030882</td>\n",
       "      <td>12.968651</td>\n",
       "    </tr>\n",
       "    <tr>\n",
       "      <th>Pneumonia</th>\n",
       "      <td>6.061029</td>\n",
       "      <td>14.255556</td>\n",
       "    </tr>\n",
       "    <tr>\n",
       "      <th>Injury</th>\n",
       "      <td>7.263971</td>\n",
       "      <td>6.100000</td>\n",
       "    </tr>\n",
       "    <tr>\n",
       "      <th>Diarrhoea</th>\n",
       "      <td>1.872059</td>\n",
       "      <td>7.750000</td>\n",
       "    </tr>\n",
       "  </tbody>\n",
       "</table>\n",
       "</div>"
      ],
      "text/plain": [
       "             Developed  Developing\n",
       "preterm      23.030882   18.154365\n",
       "Intrapartum   9.029412   10.483730\n",
       "Sepsis        3.582353    5.587302\n",
       "Congenital   26.030882   12.968651\n",
       "Pneumonia     6.061029   14.255556\n",
       "Injury        7.263971    6.100000\n",
       "Diarrhoea     1.872059    7.750000"
      ]
     },
     "execution_count": 69,
     "metadata": {},
     "output_type": "execute_result"
    }
   ],
   "source": [
    "final_frames = pd.concat(frames)\n",
    "final_frames"
   ]
  },
  {
   "cell_type": "code",
   "execution_count": 72,
   "metadata": {
    "collapsed": false
   },
   "outputs": [
    {
     "data": {
      "text/html": [
       "<!DOCTYPE html>\n",
       "<html lang=\"en\">\n",
       "    <head>\n",
       "        <meta charset=\"utf-8\" />\n",
       "        <link href=\"https://cdnjs.cloudflare.com/ajax/libs/nvd3/1.7.0/nv.d3.min.css\" rel=\"stylesheet\" />\n",
       "        <script src=\"https://cdnjs.cloudflare.com/ajax/libs/d3/3.5.5/d3.min.js\"></script>\n",
       "        <script src=\"https://cdnjs.cloudflare.com/ajax/libs/nvd3/1.7.0/nv.d3.min.js\"></script>\n",
       "    </head>\n",
       "    <body>\n",
       "        \n",
       "    <div id=\"multibarchart\"><svg style=\"width:1100px;height:500px;\"></svg></div>\n",
       "\n",
       "\n",
       "    <script>\n",
       "\n",
       "\n",
       "\n",
       "        data_multibarchart=[{\"yAxis\": \"1\", \"values\": [{\"y\": 23.030882352941184, \"x\": \"preterm\"}, {\"y\": 9.029411764705884, \"x\": \"Intrapartum\"}, {\"y\": 3.5823529411764707, \"x\": \"Sepsis\"}, {\"y\": 26.03088235294117, \"x\": \"Congenital\"}, {\"y\": 6.061029411764706, \"x\": \"Pneumonia\"}, {\"y\": 7.263970588235293, \"x\": \"Injury\"}, {\"y\": 1.8720588235294124, \"x\": \"Diarrhoea\"}], \"key\": \"Developed\"}, {\"yAxis\": \"1\", \"values\": [{\"y\": 18.154365079365085, \"x\": \"preterm\"}, {\"y\": 10.483730158730165, \"x\": \"Intrapartum\"}, {\"y\": 5.587301587301585, \"x\": \"Sepsis\"}, {\"y\": 12.968650793650797, \"x\": \"Congenital\"}, {\"y\": 14.255555555555555, \"x\": \"Pneumonia\"}, {\"y\": 6.099999999999998, \"x\": \"Injury\"}, {\"y\": 7.750000000000002, \"x\": \"Diarrhoea\"}], \"key\": \"Developing\"}];\n",
       "\n",
       "    nv.addGraph(function() {\n",
       "        var chart = nv.models.multiBarChart();\n",
       "\n",
       "        chart.margin({top: 30, right: 60, bottom: 20, left: 60});\n",
       "\n",
       "        var datum = data_multibarchart;\n",
       "\n",
       "\n",
       "\n",
       "\n",
       "\n",
       "            chart.yAxis\n",
       "                .tickFormat(d3.format(',.2f'));\n",
       "\n",
       "\n",
       "      chart.showLegend(true);\n",
       "\n",
       "\n",
       "\n",
       "        \n",
       "\n",
       "\n",
       "        d3.select('#multibarchart svg')\n",
       "            .datum(datum)\n",
       "            .transition().duration(500)\n",
       "            .attr('width', 1100)\n",
       "            .attr('height', 500)\n",
       "            .call(chart);\n",
       "\n",
       "\n",
       "    });\n",
       "\n",
       "\n",
       "\n",
       "\n",
       "    </script>\n",
       "\n",
       "    </body>\n",
       "</html>"
      ],
      "text/plain": [
       "<IPython.core.display.HTML object>"
      ]
     },
     "metadata": {},
     "output_type": "display_data"
    }
   ],
   "source": [
    "chart = multiBarChart(width=1100, height=500, x_axis_format=None)\n",
    "causes = list(final_frames.index)\n",
    "Developed = list(final_frames.Developed)\n",
    "Developing = list(final_frames.Developing)\n",
    "chart.add_serie(name=\"Developed\", y=Developed, x=causes)\n",
    "chart.add_serie(name=\"Developing\", y=Developing, x=causes)\n",
    "chart.buildhtml()\n",
    "display(HTML(chart.htmlcontent))"
   ]
  },
  {
   "cell_type": "code",
   "execution_count": 73,
   "metadata": {
    "collapsed": false
   },
   "outputs": [],
   "source": [
    "#get_ipython().magic('matplotlib nbagg')\n",
    "#final_frames.plot(kind='barh', title='Variations of the diseases for under 5yrs of age', rot=0, color=(['g','y']),\n",
    "#                  stacked=True, figsize=(12, 6), edgecolor='b', linewidth=1, fontsize='13', )\n",
    "#plt.ylabel('<------ Cause of death ------>', fontsize=14, color='b')\n",
    "#plt.xlabel('<------ Percentage aggregated values ------>', fontsize=14, color='b')\n",
    "\n"
   ]
  },
  {
   "cell_type": "markdown",
   "metadata": {
    "collapsed": true
   },
   "source": [
    "# Divideing developed dataframe according to years"
   ]
  },
  {
   "cell_type": "markdown",
   "metadata": {},
   "source": [
    "# For 2015"
   ]
  },
  {
   "cell_type": "code",
   "execution_count": 74,
   "metadata": {
    "collapsed": false,
    "scrolled": true
   },
   "outputs": [],
   "source": [
    "developed_2015 = developed_countries.reset_index(drop=True)\n",
    "developed_2015 = developed_2015[:68]"
   ]
  },
  {
   "cell_type": "code",
   "execution_count": 75,
   "metadata": {
    "collapsed": false
   },
   "outputs": [],
   "source": [
    "Preterm_developed_2015 = developed_2015['Preterm']\n",
    "Preterm_developed_2015 = Preterm_developed_2015.mean()"
   ]
  },
  {
   "cell_type": "code",
   "execution_count": 76,
   "metadata": {
    "collapsed": true
   },
   "outputs": [],
   "source": [
    "Intrapartum_developed_2015 = developed_2015['Intrapartum']\n",
    "Intrapartum_developed_2015 = Intrapartum_developed_2015.mean()"
   ]
  },
  {
   "cell_type": "code",
   "execution_count": 77,
   "metadata": {
    "collapsed": true
   },
   "outputs": [],
   "source": [
    "Sepsis_developed_2015 = developed_2015['Sepsis']\n",
    "Sepsis_developed_2015 = Sepsis_developed_2015.mean()"
   ]
  },
  {
   "cell_type": "code",
   "execution_count": 78,
   "metadata": {
    "collapsed": true
   },
   "outputs": [],
   "source": [
    "Congenital_developed_2015 = developed_2015['Congenital']\n",
    "Congenital_developed_2015 = Congenital_developed_2015.mean()"
   ]
  },
  {
   "cell_type": "code",
   "execution_count": 79,
   "metadata": {
    "collapsed": true
   },
   "outputs": [],
   "source": [
    "Pneumonia_developed_2015 = developed_2015['Pneumonia']\n",
    "Pneumonia_developed_2015 = Pneumonia_developed_2015.mean()"
   ]
  },
  {
   "cell_type": "code",
   "execution_count": 80,
   "metadata": {
    "collapsed": true
   },
   "outputs": [],
   "source": [
    "Injury_developed_2015 = developed_2015['Injury']\n",
    "Injury_developed_2015 = Injury_developed_2015.mean()"
   ]
  },
  {
   "cell_type": "code",
   "execution_count": 81,
   "metadata": {
    "collapsed": true
   },
   "outputs": [],
   "source": [
    "Diarrhoea_developed_2015 = developed_2015['Diarrhoea']\n",
    "Diarrhoea_developed_2015 = Diarrhoea_developed_2015.mean()"
   ]
  },
  {
   "cell_type": "code",
   "execution_count": 82,
   "metadata": {
    "collapsed": false
   },
   "outputs": [],
   "source": [
    "Meningitis_developed_2015 = developed_2015['Meningitis']\n",
    "Meningitis_developed_2015 = Meningitis_developed_2015.mean()\n"
   ]
  },
  {
   "cell_type": "markdown",
   "metadata": {},
   "source": [
    "# For 2000"
   ]
  },
  {
   "cell_type": "code",
   "execution_count": 83,
   "metadata": {
    "collapsed": false,
    "scrolled": true
   },
   "outputs": [],
   "source": [
    "developed_2000 = developed_countries.reset_index(drop=True)\n",
    "developed_2000 = developed_2000[68:]"
   ]
  },
  {
   "cell_type": "code",
   "execution_count": 84,
   "metadata": {
    "collapsed": false
   },
   "outputs": [],
   "source": [
    "Preterm_developed_2000 = developed_2000['Preterm']\n",
    "Preterm_developed_2000 = Preterm_developed_2000.mean()"
   ]
  },
  {
   "cell_type": "code",
   "execution_count": 85,
   "metadata": {
    "collapsed": true
   },
   "outputs": [],
   "source": [
    "Intrapartum_developed_2000 = developed_2000['Intrapartum']\n",
    "Intrapartum_developed_2000 = Intrapartum_developed_2000.mean()"
   ]
  },
  {
   "cell_type": "code",
   "execution_count": 86,
   "metadata": {
    "collapsed": true
   },
   "outputs": [],
   "source": [
    "Sepsis_developed_2000 = developed_2000['Sepsis']\n",
    "Sepsis_developed_2000 = Sepsis_developed_2000.mean()"
   ]
  },
  {
   "cell_type": "code",
   "execution_count": 87,
   "metadata": {
    "collapsed": true
   },
   "outputs": [],
   "source": [
    "Congenital_developed_2000 = developed_2000['Congenital']\n",
    "Congenital_developed_2000 = Congenital_developed_2000.mean()"
   ]
  },
  {
   "cell_type": "code",
   "execution_count": 88,
   "metadata": {
    "collapsed": true
   },
   "outputs": [],
   "source": [
    "Pneumonia_developed_2000 = developed_2000['Pneumonia']\n",
    "Pneumonia_developed_2000 = Pneumonia_developed_2000.mean()"
   ]
  },
  {
   "cell_type": "code",
   "execution_count": 89,
   "metadata": {
    "collapsed": true
   },
   "outputs": [],
   "source": [
    "Injury_developed_2000 = developed_2000['Injury']\n",
    "Injury_developed_2000 = Injury_developed_2000.mean()"
   ]
  },
  {
   "cell_type": "code",
   "execution_count": 90,
   "metadata": {
    "collapsed": true
   },
   "outputs": [],
   "source": [
    "Diarrhoea_developed_2000 = developed_2000['Diarrhoea']\n",
    "Diarrhoea_developed_2000 = Diarrhoea_developed_2000.mean()"
   ]
  },
  {
   "cell_type": "code",
   "execution_count": 91,
   "metadata": {
    "collapsed": true
   },
   "outputs": [],
   "source": [
    "Meningitis_developed_2000 = developed_2000['Meningitis']\n",
    "Meningitis_developed_2000 = Meningitis_developed_2000.mean()"
   ]
  },
  {
   "cell_type": "markdown",
   "metadata": {},
   "source": [
    "# Creating Dataframe for Developed countries (2000&2015)"
   ]
  },
  {
   "cell_type": "code",
   "execution_count": 92,
   "metadata": {
    "collapsed": false
   },
   "outputs": [
    {
     "data": {
      "text/html": [
       "<div>\n",
       "<table border=\"1\" class=\"dataframe\">\n",
       "  <thead>\n",
       "    <tr style=\"text-align: right;\">\n",
       "      <th></th>\n",
       "      <th>2000</th>\n",
       "      <th>2015</th>\n",
       "    </tr>\n",
       "  </thead>\n",
       "  <tbody>\n",
       "    <tr>\n",
       "      <th>preterm</th>\n",
       "      <td>22.976471</td>\n",
       "      <td>23.085294</td>\n",
       "    </tr>\n",
       "  </tbody>\n",
       "</table>\n",
       "</div>"
      ],
      "text/plain": [
       "              2000       2015\n",
       "preterm  22.976471  23.085294"
      ]
     },
     "execution_count": 92,
     "metadata": {},
     "output_type": "execute_result"
    }
   ],
   "source": [
    "developed_countries_2000 = {'preterm':Preterm_developed_2000}\n",
    "developed_countries_2015 = {'preterm':Preterm_developed_2015}\n",
    "developed_d0 = pd.Series(developed_countries_2000)\n",
    "developed_d0 = pd.DataFrame(developed_d0)\n",
    "developed_d0.columns=['2000']\n",
    "developed_d00 = pd.Series(developed_countries_2015)\n",
    "developed_d00 = pd.DataFrame(developed_d00)\n",
    "developed_d00.columns = ['2015']\n",
    "resd0 = pd.concat([developed_d0, developed_d00], axis=1, join_axes=[developed_d0.index])\n",
    "resd0\n"
   ]
  },
  {
   "cell_type": "code",
   "execution_count": 93,
   "metadata": {
    "collapsed": false
   },
   "outputs": [
    {
     "data": {
      "text/html": [
       "<div>\n",
       "<table border=\"1\" class=\"dataframe\">\n",
       "  <thead>\n",
       "    <tr style=\"text-align: right;\">\n",
       "      <th></th>\n",
       "      <th>2000</th>\n",
       "      <th>2015</th>\n",
       "    </tr>\n",
       "  </thead>\n",
       "  <tbody>\n",
       "    <tr>\n",
       "      <th>Intrapartum</th>\n",
       "      <td>9.272059</td>\n",
       "      <td>8.786765</td>\n",
       "    </tr>\n",
       "  </tbody>\n",
       "</table>\n",
       "</div>"
      ],
      "text/plain": [
       "                 2000      2015\n",
       "Intrapartum  9.272059  8.786765"
      ]
     },
     "execution_count": 93,
     "metadata": {},
     "output_type": "execute_result"
    }
   ],
   "source": [
    "developed_countries_2000 = {'Intrapartum':Intrapartum_developed_2000}\n",
    "developed_countries_2015 = {'Intrapartum':Intrapartum_developed_2015}\n",
    "developed_d1 = pd.Series(developed_countries_2000)\n",
    "developed_d1 = pd.DataFrame(developed_d1)\n",
    "developed_d1.columns=['2000']\n",
    "developed_d11 = pd.Series(developed_countries_2015)\n",
    "developed_d11 = pd.DataFrame(developed_d11)\n",
    "developed_d11.columns = ['2015']\n",
    "resd1 = pd.concat([developed_d1, developed_d11], axis=1, join_axes=[developed_d1.index])\n",
    "resd1\n",
    "\n"
   ]
  },
  {
   "cell_type": "code",
   "execution_count": 94,
   "metadata": {
    "collapsed": false
   },
   "outputs": [
    {
     "data": {
      "text/html": [
       "<div>\n",
       "<table border=\"1\" class=\"dataframe\">\n",
       "  <thead>\n",
       "    <tr style=\"text-align: right;\">\n",
       "      <th></th>\n",
       "      <th>2000</th>\n",
       "      <th>2015</th>\n",
       "    </tr>\n",
       "  </thead>\n",
       "  <tbody>\n",
       "    <tr>\n",
       "      <th>Sepsis</th>\n",
       "      <td>3.208824</td>\n",
       "      <td>3.955882</td>\n",
       "    </tr>\n",
       "  </tbody>\n",
       "</table>\n",
       "</div>"
      ],
      "text/plain": [
       "            2000      2015\n",
       "Sepsis  3.208824  3.955882"
      ]
     },
     "execution_count": 94,
     "metadata": {},
     "output_type": "execute_result"
    }
   ],
   "source": [
    "developed_countries_2000 = {'Sepsis':Sepsis_developed_2000}\n",
    "developed_countries_2015 = {'Sepsis':Sepsis_developed_2015}\n",
    "developed_d2 = pd.Series(developed_countries_2000)\n",
    "developed_d2 = pd.DataFrame(developed_d2)\n",
    "developed_d2.columns=['2000']\n",
    "developed_d22 = pd.Series(developed_countries_2015)\n",
    "developed_d22 = pd.DataFrame(developed_d22)\n",
    "developed_d22.columns = ['2015']\n",
    "resd2 = pd.concat([developed_d2, developed_d22], axis=1, join_axes=[developed_d2.index])\n",
    "resd2"
   ]
  },
  {
   "cell_type": "code",
   "execution_count": 95,
   "metadata": {
    "collapsed": false
   },
   "outputs": [
    {
     "data": {
      "text/html": [
       "<div>\n",
       "<table border=\"1\" class=\"dataframe\">\n",
       "  <thead>\n",
       "    <tr style=\"text-align: right;\">\n",
       "      <th></th>\n",
       "      <th>2000</th>\n",
       "      <th>2015</th>\n",
       "    </tr>\n",
       "  </thead>\n",
       "  <tbody>\n",
       "    <tr>\n",
       "      <th>Congenital</th>\n",
       "      <td>25.788235</td>\n",
       "      <td>26.273529</td>\n",
       "    </tr>\n",
       "  </tbody>\n",
       "</table>\n",
       "</div>"
      ],
      "text/plain": [
       "                 2000       2015\n",
       "Congenital  25.788235  26.273529"
      ]
     },
     "execution_count": 95,
     "metadata": {},
     "output_type": "execute_result"
    }
   ],
   "source": [
    "developed_countries_2000 = {'Congenital':Congenital_developed_2000}\n",
    "developed_countries_2015 = {'Congenital':Congenital_developed_2015}\n",
    "developed_d3 = pd.Series(developed_countries_2000)\n",
    "developed_d3 = pd.DataFrame(developed_d3)\n",
    "developed_d3.columns=['2000']\n",
    "developed_d33 = pd.Series(developed_countries_2015)\n",
    "developed_d33 = pd.DataFrame(developed_d33)\n",
    "developed_d33.columns = ['2015']\n",
    "resd3 = pd.concat([developed_d3, developed_d33], axis=1, join_axes=[developed_d3.index])\n",
    "resd3\n"
   ]
  },
  {
   "cell_type": "code",
   "execution_count": 96,
   "metadata": {
    "collapsed": false
   },
   "outputs": [
    {
     "data": {
      "text/html": [
       "<div>\n",
       "<table border=\"1\" class=\"dataframe\">\n",
       "  <thead>\n",
       "    <tr style=\"text-align: right;\">\n",
       "      <th></th>\n",
       "      <th>2000</th>\n",
       "      <th>2015</th>\n",
       "    </tr>\n",
       "  </thead>\n",
       "  <tbody>\n",
       "    <tr>\n",
       "      <th>Pneumonia</th>\n",
       "      <td>6.583824</td>\n",
       "      <td>5.538235</td>\n",
       "    </tr>\n",
       "  </tbody>\n",
       "</table>\n",
       "</div>"
      ],
      "text/plain": [
       "               2000      2015\n",
       "Pneumonia  6.583824  5.538235"
      ]
     },
     "execution_count": 96,
     "metadata": {},
     "output_type": "execute_result"
    }
   ],
   "source": [
    "developed_countries_2000 = {'Pneumonia':Pneumonia_developed_2000}\n",
    "developed_countries_2015 = {'Pneumonia':Pneumonia_developed_2015}\n",
    "developed_d4 = pd.Series(developed_countries_2000)\n",
    "developed_d4 = pd.DataFrame(developed_d4)\n",
    "developed_d4.columns=['2000']\n",
    "developed_d44 = pd.Series(developed_countries_2015)\n",
    "developed_d44 = pd.DataFrame(developed_d44)\n",
    "developed_d44.columns = ['2015']\n",
    "resd4 = pd.concat([developed_d4, developed_d44], axis=1, join_axes=[developed_d4.index])\n",
    "resd4"
   ]
  },
  {
   "cell_type": "code",
   "execution_count": 97,
   "metadata": {
    "collapsed": false
   },
   "outputs": [
    {
     "data": {
      "text/html": [
       "<div>\n",
       "<table border=\"1\" class=\"dataframe\">\n",
       "  <thead>\n",
       "    <tr style=\"text-align: right;\">\n",
       "      <th></th>\n",
       "      <th>2000</th>\n",
       "      <th>2015</th>\n",
       "    </tr>\n",
       "  </thead>\n",
       "  <tbody>\n",
       "    <tr>\n",
       "      <th>Injury</th>\n",
       "      <td>7.602941</td>\n",
       "      <td>6.925</td>\n",
       "    </tr>\n",
       "  </tbody>\n",
       "</table>\n",
       "</div>"
      ],
      "text/plain": [
       "            2000   2015\n",
       "Injury  7.602941  6.925"
      ]
     },
     "execution_count": 97,
     "metadata": {},
     "output_type": "execute_result"
    }
   ],
   "source": [
    "developed_countries_2000 = {'Injury':Injury_developed_2000}\n",
    "developed_countries_2015 = {'Injury':Injury_developed_2015}\n",
    "developed_d5 = pd.Series(developed_countries_2000)\n",
    "developed_d5 = pd.DataFrame(developed_d5)\n",
    "developed_d5.columns=['2000']\n",
    "developed_d55 = pd.Series(developed_countries_2015)\n",
    "developed_d55 = pd.DataFrame(developed_d55)\n",
    "developed_d55.columns = ['2015']\n",
    "resd5 = pd.concat([developed_d5, developed_d55], axis=1, join_axes=[developed_d5.index])\n",
    "resd5"
   ]
  },
  {
   "cell_type": "code",
   "execution_count": 98,
   "metadata": {
    "collapsed": false
   },
   "outputs": [
    {
     "data": {
      "text/html": [
       "<div>\n",
       "<table border=\"1\" class=\"dataframe\">\n",
       "  <thead>\n",
       "    <tr style=\"text-align: right;\">\n",
       "      <th></th>\n",
       "      <th>2000</th>\n",
       "      <th>2015</th>\n",
       "    </tr>\n",
       "  </thead>\n",
       "  <tbody>\n",
       "    <tr>\n",
       "      <th>Diarrhoea</th>\n",
       "      <td>2.302941</td>\n",
       "      <td>1.441176</td>\n",
       "    </tr>\n",
       "  </tbody>\n",
       "</table>\n",
       "</div>"
      ],
      "text/plain": [
       "               2000      2015\n",
       "Diarrhoea  2.302941  1.441176"
      ]
     },
     "execution_count": 98,
     "metadata": {},
     "output_type": "execute_result"
    }
   ],
   "source": [
    "developed_countries_2000 = {'Diarrhoea':Diarrhoea_developed_2000}\n",
    "developed_countries_2015 = {'Diarrhoea':Diarrhoea_developed_2015}\n",
    "developed_d6 = pd.Series(developed_countries_2000)\n",
    "developed_d6 = pd.DataFrame(developed_d6)\n",
    "developed_d6.columns=['2000']\n",
    "developed_d66 = pd.Series(developed_countries_2015)\n",
    "developed_d66 = pd.DataFrame(developed_d66)\n",
    "developed_d66.columns = ['2015']\n",
    "resd6 = pd.concat([developed_d6, developed_d66], axis=1, join_axes=[developed_d6.index])\n",
    "resd6"
   ]
  },
  {
   "cell_type": "code",
   "execution_count": 99,
   "metadata": {
    "collapsed": false
   },
   "outputs": [
    {
     "data": {
      "text/html": [
       "<div>\n",
       "<table border=\"1\" class=\"dataframe\">\n",
       "  <thead>\n",
       "    <tr style=\"text-align: right;\">\n",
       "      <th></th>\n",
       "      <th>2000</th>\n",
       "      <th>2015</th>\n",
       "    </tr>\n",
       "  </thead>\n",
       "  <tbody>\n",
       "    <tr>\n",
       "      <th>Meningitis</th>\n",
       "      <td>1.905882</td>\n",
       "      <td>1.198529</td>\n",
       "    </tr>\n",
       "  </tbody>\n",
       "</table>\n",
       "</div>"
      ],
      "text/plain": [
       "                2000      2015\n",
       "Meningitis  1.905882  1.198529"
      ]
     },
     "execution_count": 99,
     "metadata": {},
     "output_type": "execute_result"
    }
   ],
   "source": [
    "developed_countries_2000 = {'Meningitis':Meningitis_developed_2000}\n",
    "developed_countries_2015 = {'Meningitis':Meningitis_developed_2015}\n",
    "developed_d7 = pd.Series(developed_countries_2000)\n",
    "developed_d7 = pd.DataFrame(developed_d7)\n",
    "developed_d7.columns=['2000']\n",
    "developed_d77 = pd.Series(developed_countries_2015)\n",
    "developed_d77 = pd.DataFrame(developed_d77)\n",
    "developed_d77.columns = ['2015']\n",
    "resd7 = pd.concat([developed_d7, developed_d77], axis=1, join_axes=[developed_d7.index])\n",
    "resd7"
   ]
  },
  {
   "cell_type": "code",
   "execution_count": 100,
   "metadata": {
    "collapsed": false
   },
   "outputs": [
    {
     "data": {
      "text/html": [
       "<div>\n",
       "<table border=\"1\" class=\"dataframe\">\n",
       "  <thead>\n",
       "    <tr style=\"text-align: right;\">\n",
       "      <th></th>\n",
       "      <th>2000</th>\n",
       "      <th>2015</th>\n",
       "    </tr>\n",
       "  </thead>\n",
       "  <tbody>\n",
       "    <tr>\n",
       "      <th>preterm</th>\n",
       "      <td>22.976471</td>\n",
       "      <td>23.085294</td>\n",
       "    </tr>\n",
       "    <tr>\n",
       "      <th>Intrapartum</th>\n",
       "      <td>9.272059</td>\n",
       "      <td>8.786765</td>\n",
       "    </tr>\n",
       "    <tr>\n",
       "      <th>Sepsis</th>\n",
       "      <td>3.208824</td>\n",
       "      <td>3.955882</td>\n",
       "    </tr>\n",
       "    <tr>\n",
       "      <th>Congenital</th>\n",
       "      <td>25.788235</td>\n",
       "      <td>26.273529</td>\n",
       "    </tr>\n",
       "    <tr>\n",
       "      <th>Pneumonia</th>\n",
       "      <td>6.583824</td>\n",
       "      <td>5.538235</td>\n",
       "    </tr>\n",
       "    <tr>\n",
       "      <th>Injury</th>\n",
       "      <td>7.602941</td>\n",
       "      <td>6.925000</td>\n",
       "    </tr>\n",
       "    <tr>\n",
       "      <th>Diarrhoea</th>\n",
       "      <td>2.302941</td>\n",
       "      <td>1.441176</td>\n",
       "    </tr>\n",
       "    <tr>\n",
       "      <th>Meningitis</th>\n",
       "      <td>1.905882</td>\n",
       "      <td>1.198529</td>\n",
       "    </tr>\n",
       "  </tbody>\n",
       "</table>\n",
       "</div>"
      ],
      "text/plain": [
       "                  2000       2015\n",
       "preterm      22.976471  23.085294\n",
       "Intrapartum   9.272059   8.786765\n",
       "Sepsis        3.208824   3.955882\n",
       "Congenital   25.788235  26.273529\n",
       "Pneumonia     6.583824   5.538235\n",
       "Injury        7.602941   6.925000\n",
       "Diarrhoea     2.302941   1.441176\n",
       "Meningitis    1.905882   1.198529"
      ]
     },
     "execution_count": 100,
     "metadata": {},
     "output_type": "execute_result"
    }
   ],
   "source": [
    "frames1 = [resd0,resd1,resd2,resd3,resd4,resd5,resd6,resd7]\n",
    "final_frames1 = pd.concat(frames1)\n",
    "final_frames1\n",
    "\n"
   ]
  },
  {
   "cell_type": "code",
   "execution_count": 103,
   "metadata": {
    "collapsed": false
   },
   "outputs": [],
   "source": [
    "final_frames1.plot(kind='barh', title='Variations in the deaths for under 5yrs of age for developed region', rot=0, color=(['r','b']),\n",
    "                  figsize=(11, 8), edgecolor='w', linewidth=2, width=0.7)\n",
    "plt.ylabel('<------ Cause of deaths ------>', fontsize=14, color='m')\n",
    "plt.xlabel('<------ Percentage aggregated values ------>', fontsize=14, color='m')\n",
    "#plt.savefig(\"image.png\")\n",
    "\n",
    "#for i,v in final_frames1(2000):\n",
    "#    plt.text(v +1, i+.75, str(v), color='black')\n",
    "plt.show()\n",
    " "
   ]
  },
  {
   "cell_type": "markdown",
   "metadata": {},
   "source": [
    "# Divinding developing dataframe according to years (2000&2015)"
   ]
  },
  {
   "cell_type": "markdown",
   "metadata": {},
   "source": [
    "# 2015"
   ]
  },
  {
   "cell_type": "code",
   "execution_count": 247,
   "metadata": {
    "collapsed": true
   },
   "outputs": [],
   "source": [
    "developing_2015 = developing_countries.reset_index(drop=True)\n",
    "developing_2015 = developing_2015[:126]"
   ]
  },
  {
   "cell_type": "code",
   "execution_count": 248,
   "metadata": {
    "collapsed": true
   },
   "outputs": [],
   "source": [
    "Preterm_developing_2015 = developing_2015['Preterm']\n",
    "Preterm_developing_2015 = Preterm_developing_2015.mean()"
   ]
  },
  {
   "cell_type": "code",
   "execution_count": 249,
   "metadata": {
    "collapsed": true
   },
   "outputs": [],
   "source": [
    "Intrapartum_developing_2015 = developing_2015['Intrapartum']\n",
    "Intrapartum_developing_2015 = Intrapartum_developing_2015.mean()"
   ]
  },
  {
   "cell_type": "code",
   "execution_count": 250,
   "metadata": {
    "collapsed": true
   },
   "outputs": [],
   "source": [
    "Sepsis_developing_2015 = developing_2015['Sepsis']\n",
    "Sepsis_developing_2015 = Sepsis_developing_2015.mean()"
   ]
  },
  {
   "cell_type": "code",
   "execution_count": 251,
   "metadata": {
    "collapsed": true
   },
   "outputs": [],
   "source": [
    "Congenital_developing_2015 = developing_2015['Congenital']\n",
    "Congenital_developing_2015 = Congenital_developing_2015.mean()"
   ]
  },
  {
   "cell_type": "code",
   "execution_count": 252,
   "metadata": {
    "collapsed": true
   },
   "outputs": [],
   "source": [
    "Pneumonia_developing_2015 = developing_2015['Pneumonia']\n",
    "Pneumonia_developing_2015 = Pneumonia_developing_2015.mean()"
   ]
  },
  {
   "cell_type": "code",
   "execution_count": 253,
   "metadata": {
    "collapsed": true
   },
   "outputs": [],
   "source": [
    "Injury_developing_2015 = developing_2015['Injury']\n",
    "Injury_developing_2015 = Injury_developing_2015.mean()"
   ]
  },
  {
   "cell_type": "code",
   "execution_count": 254,
   "metadata": {
    "collapsed": true
   },
   "outputs": [],
   "source": [
    "Diarrhoea_developing_2015 = developing_2015['Diarrhoea']\n",
    "Diarrhoea_developing_2015 = Diarrhoea_developing_2015.mean()"
   ]
  },
  {
   "cell_type": "code",
   "execution_count": 255,
   "metadata": {
    "collapsed": true
   },
   "outputs": [],
   "source": [
    "Meningitis_developing_2015 = developing_2015['Meningitis']\n",
    "Meningitis_developing_2015 = Meningitis_developing_2015.mean()"
   ]
  },
  {
   "cell_type": "markdown",
   "metadata": {},
   "source": [
    "# 2000"
   ]
  },
  {
   "cell_type": "code",
   "execution_count": 256,
   "metadata": {
    "collapsed": true
   },
   "outputs": [],
   "source": [
    "developing_2000 = developing_countries.reset_index(drop=True)\n",
    "developing_2000 = developing_2000[126:]"
   ]
  },
  {
   "cell_type": "code",
   "execution_count": 257,
   "metadata": {
    "collapsed": true
   },
   "outputs": [],
   "source": [
    "Preterm_developing_2000 = developing_2000['Preterm']\n",
    "Preterm_developing_2000 = Preterm_developing_2000.mean()"
   ]
  },
  {
   "cell_type": "code",
   "execution_count": 258,
   "metadata": {
    "collapsed": true
   },
   "outputs": [],
   "source": [
    "Intrapartum_developing_2000 = developing_2000['Intrapartum']\n",
    "Intrapartum_developing_2000 = Intrapartum_developing_2000.mean()"
   ]
  },
  {
   "cell_type": "code",
   "execution_count": 259,
   "metadata": {
    "collapsed": true
   },
   "outputs": [],
   "source": [
    "Sepsis_developing_2000 = developing_2000['Sepsis']\n",
    "Sepsis_developing_2000 = Sepsis_developing_2000.mean()"
   ]
  },
  {
   "cell_type": "code",
   "execution_count": 260,
   "metadata": {
    "collapsed": true
   },
   "outputs": [],
   "source": [
    "Congenital_developing_2000 = developing_2000['Congenital']\n",
    "Congenital_developing_2000 = Congenital_developing_2000.mean()"
   ]
  },
  {
   "cell_type": "code",
   "execution_count": 261,
   "metadata": {
    "collapsed": true
   },
   "outputs": [],
   "source": [
    "Pneumonia_developing_2000 = developing_2000['Pneumonia']\n",
    "Pneumonia_developing_2000 = Pneumonia_developing_2000.mean()"
   ]
  },
  {
   "cell_type": "code",
   "execution_count": 262,
   "metadata": {
    "collapsed": true
   },
   "outputs": [],
   "source": [
    "Injury_developing_2000 = developing_2000['Injury']\n",
    "Injury_developing_2000 = Injury_developing_2000.mean()"
   ]
  },
  {
   "cell_type": "code",
   "execution_count": 263,
   "metadata": {
    "collapsed": true
   },
   "outputs": [],
   "source": [
    "Diarrhoea_developing_2000 = developing_2000['Diarrhoea']\n",
    "Diarrhoea_developing_2000 = Diarrhoea_developing_2000.mean()"
   ]
  },
  {
   "cell_type": "code",
   "execution_count": 264,
   "metadata": {
    "collapsed": true
   },
   "outputs": [],
   "source": [
    "Meningitis_developing_2000 = developing_2000['Meningitis']\n",
    "Meningitis_developing_2000 = Meningitis_developing_2000.mean()"
   ]
  },
  {
   "cell_type": "markdown",
   "metadata": {},
   "source": [
    "# Creating dataframes for developing countries (2000&2015)"
   ]
  },
  {
   "cell_type": "code",
   "execution_count": 265,
   "metadata": {
    "collapsed": false
   },
   "outputs": [
    {
     "data": {
      "text/html": [
       "<div>\n",
       "<table border=\"1\" class=\"dataframe\">\n",
       "  <thead>\n",
       "    <tr style=\"text-align: right;\">\n",
       "      <th></th>\n",
       "      <th>2000</th>\n",
       "      <th>2015</th>\n",
       "    </tr>\n",
       "  </thead>\n",
       "  <tbody>\n",
       "    <tr>\n",
       "      <th>preterm</th>\n",
       "      <td>17.414286</td>\n",
       "      <td>18.894444</td>\n",
       "    </tr>\n",
       "  </tbody>\n",
       "</table>\n",
       "</div>"
      ],
      "text/plain": [
       "              2000       2015\n",
       "preterm  17.414286  18.894444"
      ]
     },
     "execution_count": 265,
     "metadata": {},
     "output_type": "execute_result"
    }
   ],
   "source": [
    "developing_countries_2000 = {'preterm':Preterm_developing_2000}\n",
    "developing_countries_2015 = {'preterm':Preterm_developing_2015}\n",
    "developing_d0 = pd.Series(developing_countries_2000)\n",
    "developing_d0 = pd.DataFrame(developing_d0)\n",
    "developing_d0.columns=['2000']\n",
    "developing_d00 = pd.Series(developing_countries_2015)\n",
    "developing_d00 = pd.DataFrame(developing_d00)\n",
    "developing_d00.columns = ['2015']\n",
    "resdg0 = pd.concat([developing_d0, developing_d00], axis=1, join_axes=[developing_d0.index])\n",
    "resdg0"
   ]
  },
  {
   "cell_type": "code",
   "execution_count": 266,
   "metadata": {
    "collapsed": false
   },
   "outputs": [
    {
     "data": {
      "text/html": [
       "<div>\n",
       "<table border=\"1\" class=\"dataframe\">\n",
       "  <thead>\n",
       "    <tr style=\"text-align: right;\">\n",
       "      <th></th>\n",
       "      <th>2000</th>\n",
       "      <th>2015</th>\n",
       "    </tr>\n",
       "  </thead>\n",
       "  <tbody>\n",
       "    <tr>\n",
       "      <th>Intrapartum</th>\n",
       "      <td>10.005556</td>\n",
       "      <td>10.961905</td>\n",
       "    </tr>\n",
       "  </tbody>\n",
       "</table>\n",
       "</div>"
      ],
      "text/plain": [
       "                  2000       2015\n",
       "Intrapartum  10.005556  10.961905"
      ]
     },
     "execution_count": 266,
     "metadata": {},
     "output_type": "execute_result"
    }
   ],
   "source": [
    "developing_countries_2000 = {'Intrapartum':Intrapartum_developing_2000}\n",
    "developing_countries_2015 = {'Intrapartum':Intrapartum_developing_2015}\n",
    "developing_d1 = pd.Series(developing_countries_2000)\n",
    "developing_d1 = pd.DataFrame(developing_d1)\n",
    "developing_d1.columns=['2000']\n",
    "developing_d11 = pd.Series(developing_countries_2015)\n",
    "developing_d11 = pd.DataFrame(developing_d11)\n",
    "developing_d11.columns = ['2015']\n",
    "resdg1 = pd.concat([developing_d1, developing_d11], axis=1, join_axes=[developing_d1.index])\n",
    "resdg1"
   ]
  },
  {
   "cell_type": "code",
   "execution_count": 267,
   "metadata": {
    "collapsed": false
   },
   "outputs": [
    {
     "data": {
      "text/html": [
       "<div>\n",
       "<table border=\"1\" class=\"dataframe\">\n",
       "  <thead>\n",
       "    <tr style=\"text-align: right;\">\n",
       "      <th></th>\n",
       "      <th>2000</th>\n",
       "      <th>2015</th>\n",
       "    </tr>\n",
       "  </thead>\n",
       "  <tbody>\n",
       "    <tr>\n",
       "      <th>Sepsis</th>\n",
       "      <td>5.007937</td>\n",
       "      <td>6.166667</td>\n",
       "    </tr>\n",
       "  </tbody>\n",
       "</table>\n",
       "</div>"
      ],
      "text/plain": [
       "            2000      2015\n",
       "Sepsis  5.007937  6.166667"
      ]
     },
     "execution_count": 267,
     "metadata": {},
     "output_type": "execute_result"
    }
   ],
   "source": [
    "developing_countries_2000 = {'Sepsis':Sepsis_developing_2000}\n",
    "developing_countries_2015 = {'Sepsis':Sepsis_developing_2015}\n",
    "developing_d2 = pd.Series(developing_countries_2000)\n",
    "developing_d2 = pd.DataFrame(developing_d2)\n",
    "developing_d2.columns=['2000']\n",
    "developing_d22 = pd.Series(developing_countries_2015)\n",
    "developing_d22 = pd.DataFrame(developing_d22)\n",
    "developing_d22.columns = ['2015']\n",
    "resdg2 = pd.concat([developing_d2, developing_d22], axis=1, join_axes=[developing_d2.index])\n",
    "resdg2"
   ]
  },
  {
   "cell_type": "code",
   "execution_count": 268,
   "metadata": {
    "collapsed": false
   },
   "outputs": [
    {
     "data": {
      "text/html": [
       "<div>\n",
       "<table border=\"1\" class=\"dataframe\">\n",
       "  <thead>\n",
       "    <tr style=\"text-align: right;\">\n",
       "      <th></th>\n",
       "      <th>2000</th>\n",
       "      <th>2015</th>\n",
       "    </tr>\n",
       "  </thead>\n",
       "  <tbody>\n",
       "    <tr>\n",
       "      <th>Congenital</th>\n",
       "      <td>10.869841</td>\n",
       "      <td>15.06746</td>\n",
       "    </tr>\n",
       "  </tbody>\n",
       "</table>\n",
       "</div>"
      ],
      "text/plain": [
       "                 2000      2015\n",
       "Congenital  10.869841  15.06746"
      ]
     },
     "execution_count": 268,
     "metadata": {},
     "output_type": "execute_result"
    }
   ],
   "source": [
    "developing_countries_2000 = {'Congenital':Congenital_developing_2000}\n",
    "developing_countries_2015 = {'Congenital':Congenital_developing_2015}\n",
    "developing_d3 = pd.Series(developing_countries_2000)\n",
    "developing_d3 = pd.DataFrame(developing_d3)\n",
    "developing_d3.columns=['2000']\n",
    "developing_d33 = pd.Series(developing_countries_2015)\n",
    "developing_d33 = pd.DataFrame(developing_d33)\n",
    "developing_d33.columns = ['2015']\n",
    "resdg3 = pd.concat([developing_d3, developing_d33], axis=1, join_axes=[developing_d3.index])\n",
    "resdg3"
   ]
  },
  {
   "cell_type": "code",
   "execution_count": 269,
   "metadata": {
    "collapsed": false
   },
   "outputs": [
    {
     "data": {
      "text/html": [
       "<div>\n",
       "<table border=\"1\" class=\"dataframe\">\n",
       "  <thead>\n",
       "    <tr style=\"text-align: right;\">\n",
       "      <th></th>\n",
       "      <th>2000</th>\n",
       "      <th>2015</th>\n",
       "    </tr>\n",
       "  </thead>\n",
       "  <tbody>\n",
       "    <tr>\n",
       "      <th>Pneumonia</th>\n",
       "      <td>15.336508</td>\n",
       "      <td>13.174603</td>\n",
       "    </tr>\n",
       "  </tbody>\n",
       "</table>\n",
       "</div>"
      ],
      "text/plain": [
       "                2000       2015\n",
       "Pneumonia  15.336508  13.174603"
      ]
     },
     "execution_count": 269,
     "metadata": {},
     "output_type": "execute_result"
    }
   ],
   "source": [
    "developing_countries_2000 = {'Pneumonia':Pneumonia_developing_2000}\n",
    "developing_countries_2015 = {'Pneumonia':Pneumonia_developing_2015}\n",
    "developing_d4 = pd.Series(developing_countries_2000)\n",
    "developing_d4 = pd.DataFrame(developing_d4)\n",
    "developing_d4.columns=['2000']\n",
    "developing_d44 = pd.Series(developing_countries_2015)\n",
    "developing_d44 = pd.DataFrame(developing_d44)\n",
    "developing_d44.columns = ['2015']\n",
    "resdg4 = pd.concat([developing_d4, developing_d44], axis=1, join_axes=[developing_d4.index])\n",
    "resdg4"
   ]
  },
  {
   "cell_type": "code",
   "execution_count": 270,
   "metadata": {
    "collapsed": false
   },
   "outputs": [
    {
     "data": {
      "text/html": [
       "<div>\n",
       "<table border=\"1\" class=\"dataframe\">\n",
       "  <thead>\n",
       "    <tr style=\"text-align: right;\">\n",
       "      <th></th>\n",
       "      <th>2000</th>\n",
       "      <th>2015</th>\n",
       "    </tr>\n",
       "  </thead>\n",
       "  <tbody>\n",
       "    <tr>\n",
       "      <th>Injury</th>\n",
       "      <td>5.307937</td>\n",
       "      <td>6.892063</td>\n",
       "    </tr>\n",
       "  </tbody>\n",
       "</table>\n",
       "</div>"
      ],
      "text/plain": [
       "            2000      2015\n",
       "Injury  5.307937  6.892063"
      ]
     },
     "execution_count": 270,
     "metadata": {},
     "output_type": "execute_result"
    }
   ],
   "source": [
    "developing_countries_2000 = {'Injury':Injury_developing_2000}\n",
    "developing_countries_2015 = {'Injury':Injury_developing_2015}\n",
    "developing_d5 = pd.Series(developing_countries_2000)\n",
    "developing_d5 = pd.DataFrame(developing_d5)\n",
    "developing_d5.columns=['2000']\n",
    "developing_d55 = pd.Series(developing_countries_2015)\n",
    "developing_d55 = pd.DataFrame(developing_d55)\n",
    "developing_d55.columns = ['2015']\n",
    "resdg5 = pd.concat([developing_d5, developing_d55], axis=1, join_axes=[developing_d5.index])\n",
    "resdg5"
   ]
  },
  {
   "cell_type": "code",
   "execution_count": 271,
   "metadata": {
    "collapsed": false
   },
   "outputs": [
    {
     "data": {
      "text/html": [
       "<div>\n",
       "<table border=\"1\" class=\"dataframe\">\n",
       "  <thead>\n",
       "    <tr style=\"text-align: right;\">\n",
       "      <th></th>\n",
       "      <th>2000</th>\n",
       "      <th>2015</th>\n",
       "    </tr>\n",
       "  </thead>\n",
       "  <tbody>\n",
       "    <tr>\n",
       "      <th>Diarrhoea</th>\n",
       "      <td>9.390476</td>\n",
       "      <td>6.109524</td>\n",
       "    </tr>\n",
       "  </tbody>\n",
       "</table>\n",
       "</div>"
      ],
      "text/plain": [
       "               2000      2015\n",
       "Diarrhoea  9.390476  6.109524"
      ]
     },
     "execution_count": 271,
     "metadata": {},
     "output_type": "execute_result"
    }
   ],
   "source": [
    "developing_countries_2000 = {'Diarrhoea':Diarrhoea_developing_2000}\n",
    "developing_countries_2015 = {'Diarrhoea':Diarrhoea_developing_2015}\n",
    "developing_d6 = pd.Series(developing_countries_2000)\n",
    "developing_d6 = pd.DataFrame(developing_d6)\n",
    "developing_d6.columns=['2000']\n",
    "developing_d66 = pd.Series(developing_countries_2015)\n",
    "developing_d66 = pd.DataFrame(developing_d66)\n",
    "developing_d66.columns = ['2015']\n",
    "resdg6 = pd.concat([developing_d6, developing_d66], axis=1, join_axes=[developing_d6.index])\n",
    "resdg6"
   ]
  },
  {
   "cell_type": "code",
   "execution_count": 272,
   "metadata": {
    "collapsed": false
   },
   "outputs": [
    {
     "data": {
      "text/html": [
       "<div>\n",
       "<table border=\"1\" class=\"dataframe\">\n",
       "  <thead>\n",
       "    <tr style=\"text-align: right;\">\n",
       "      <th></th>\n",
       "      <th>2000</th>\n",
       "      <th>2015</th>\n",
       "    </tr>\n",
       "  </thead>\n",
       "  <tbody>\n",
       "    <tr>\n",
       "      <th>Meningitis</th>\n",
       "      <td>2.330952</td>\n",
       "      <td>1.547619</td>\n",
       "    </tr>\n",
       "  </tbody>\n",
       "</table>\n",
       "</div>"
      ],
      "text/plain": [
       "                2000      2015\n",
       "Meningitis  2.330952  1.547619"
      ]
     },
     "execution_count": 272,
     "metadata": {},
     "output_type": "execute_result"
    }
   ],
   "source": [
    "developing_countries_2000 = {'Meningitis':Meningitis_developing_2000}\n",
    "developing_countries_2015 = {'Meningitis':Meningitis_developing_2015}\n",
    "developing_d7 = pd.Series(developing_countries_2000)\n",
    "developing_d7 = pd.DataFrame(developing_d7)\n",
    "developing_d7.columns=['2000']\n",
    "developing_d77 = pd.Series(developing_countries_2015)\n",
    "developing_d77 = pd.DataFrame(developing_d77)\n",
    "developing_d77.columns = ['2015']\n",
    "resdg7 = pd.concat([developing_d7, developing_d77], axis=1, join_axes=[developing_d7.index])\n",
    "resdg7"
   ]
  },
  {
   "cell_type": "code",
   "execution_count": 273,
   "metadata": {
    "collapsed": false
   },
   "outputs": [
    {
     "data": {
      "text/html": [
       "<div>\n",
       "<table border=\"1\" class=\"dataframe\">\n",
       "  <thead>\n",
       "    <tr style=\"text-align: right;\">\n",
       "      <th></th>\n",
       "      <th>2000</th>\n",
       "      <th>2015</th>\n",
       "    </tr>\n",
       "  </thead>\n",
       "  <tbody>\n",
       "    <tr>\n",
       "      <th>preterm</th>\n",
       "      <td>17.414286</td>\n",
       "      <td>18.894444</td>\n",
       "    </tr>\n",
       "    <tr>\n",
       "      <th>Intrapartum</th>\n",
       "      <td>10.005556</td>\n",
       "      <td>10.961905</td>\n",
       "    </tr>\n",
       "    <tr>\n",
       "      <th>Sepsis</th>\n",
       "      <td>5.007937</td>\n",
       "      <td>6.166667</td>\n",
       "    </tr>\n",
       "    <tr>\n",
       "      <th>Congenital</th>\n",
       "      <td>10.869841</td>\n",
       "      <td>15.067460</td>\n",
       "    </tr>\n",
       "    <tr>\n",
       "      <th>Pneumonia</th>\n",
       "      <td>15.336508</td>\n",
       "      <td>13.174603</td>\n",
       "    </tr>\n",
       "    <tr>\n",
       "      <th>Injury</th>\n",
       "      <td>5.307937</td>\n",
       "      <td>6.892063</td>\n",
       "    </tr>\n",
       "    <tr>\n",
       "      <th>Diarrhoea</th>\n",
       "      <td>9.390476</td>\n",
       "      <td>6.109524</td>\n",
       "    </tr>\n",
       "    <tr>\n",
       "      <th>Meningitis</th>\n",
       "      <td>2.330952</td>\n",
       "      <td>1.547619</td>\n",
       "    </tr>\n",
       "  </tbody>\n",
       "</table>\n",
       "</div>"
      ],
      "text/plain": [
       "                  2000       2015\n",
       "preterm      17.414286  18.894444\n",
       "Intrapartum  10.005556  10.961905\n",
       "Sepsis        5.007937   6.166667\n",
       "Congenital   10.869841  15.067460\n",
       "Pneumonia    15.336508  13.174603\n",
       "Injury        5.307937   6.892063\n",
       "Diarrhoea     9.390476   6.109524\n",
       "Meningitis    2.330952   1.547619"
      ]
     },
     "execution_count": 273,
     "metadata": {},
     "output_type": "execute_result"
    }
   ],
   "source": [
    "frames2 = [resdg0,resdg1,resdg2,resdg3,resdg4,resdg5,resdg6,resdg7]\n",
    "final_frames2 = pd.concat(frames2)\n",
    "final_frames2\n"
   ]
  },
  {
   "cell_type": "code",
   "execution_count": 277,
   "metadata": {
    "collapsed": false
   },
   "outputs": [],
   "source": [
    "#get_ipython().magic('matplotlib nbagg')\n",
    "#developing2000 = list(final_frames2['2000'])\n",
    "#final_frames2_index = list(final_frames2.index)\n",
    "#colors = ['gold', 'yellowgreen', 'lightcoral', 'lightskyblue','sage', 'tan', 'plum', 'gainsboro']\n",
    "#explode = (0, 0, 0, 0, 0, 0, 0, 0)  \n",
    "#plt.pie(developing2000, explode=explode, labels=final_frames2_index, colors=colors,\n",
    "#        autopct='%1.1f%%', shadow=True, startangle=360)\n",
    "#plt.axis('equal')\n",
    "#plt.title(\"For developing region in the year 2000\", y=1.08)\n",
    "#plt.show()\n"
   ]
  },
  {
   "cell_type": "code",
   "execution_count": 278,
   "metadata": {
    "collapsed": false
   },
   "outputs": [],
   "source": [
    "#get_ipython().magic('matplotlib nbagg')\n",
    "#final_frames2_index = list(final_frames2.index)\n",
    "#developing2015 = list(final_frames2['2015'])\n",
    "#colors = ['gold', 'yellowgreen', 'lightcoral', 'lightskyblue','sage', 'tan', 'plum', 'gainsboro']\n",
    "#explode = (0.1, 0, 0.1, 0.1, 0, 0.1, 0, 0)  \n",
    "#plt.pie(developing2015, explode=explode, labels=final_frames2_index, colors=colors,\n",
    "#        autopct='%1.1f%%', shadow=True, startangle=360)\n",
    "#plt.axis('equal')\n",
    "#plt.title(\"For developing region in the year 2015\", y=1.08)\n",
    "#plt.show()"
   ]
  },
  {
   "cell_type": "markdown",
   "metadata": {
    "collapsed": true
   },
   "source": [
    "# ----------------New_born_first_month-------------------"
   ]
  },
  {
   "cell_type": "code",
   "execution_count": 279,
   "metadata": {
    "collapsed": false,
    "scrolled": true
   },
   "outputs": [
    {
     "data": {
      "text/plain": [
       "['ISO_Code',\n",
       " 'CountryName',\n",
       " 'Year',\n",
       " 'Pneumonia .1',\n",
       " 'Preterm ',\n",
       " 'Intrapartum ',\n",
       " 'Sepis ',\n",
       " 'Tetanus ',\n",
       " 'Congenital ',\n",
       " 'Diarrheoea ']"
      ]
     },
     "execution_count": 279,
     "metadata": {},
     "output_type": "execute_result"
    }
   ],
   "source": [
    "list(new_born_first_month)"
   ]
  },
  {
   "cell_type": "markdown",
   "metadata": {},
   "source": [
    "# Extracting top 50 countries (2015) "
   ]
  },
  {
   "cell_type": "code",
   "execution_count": 280,
   "metadata": {
    "collapsed": false,
    "scrolled": true
   },
   "outputs": [],
   "source": [
    "new_born_first_month_Preterm = new_born_first_month[:194]\n",
    "new_born_first_month_Preterm = new_born_first_month_Preterm[['CountryName','Preterm ']]\n",
    "new_born_first_month_Preterm = new_born_first_month_Preterm.sort_values(by='Preterm ', ascending=False)\n",
    "new_born_first_month_Preterm = new_born_first_month_Preterm[:40].reset_index(drop=True)\n",
    "new_born_first_month_Preterm.to_csv('Preterm_top30.csv')\n"
   ]
  },
  {
   "cell_type": "code",
   "execution_count": 281,
   "metadata": {
    "collapsed": false,
    "scrolled": true
   },
   "outputs": [],
   "source": [
    "new_born_first_month_Intrapartum = new_born_first_month[:194]\n",
    "new_born_first_month_Intrapartum = new_born_first_month_Intrapartum[['CountryName','Intrapartum ']]\n",
    "new_born_first_month_Intrapartum = new_born_first_month_Intrapartum.sort_values(by='Intrapartum ', ascending=False)\n",
    "new_born_first_month_Intrapartum = new_born_first_month_Intrapartum[:50].reset_index(drop=True)\n",
    "new_born_first_month_Intrapartum.to_csv('Intrapartum_top30.csv')"
   ]
  },
  {
   "cell_type": "code",
   "execution_count": 282,
   "metadata": {
    "collapsed": false
   },
   "outputs": [],
   "source": [
    "new_born_first_month_Sepsis = new_born_first_month[:194]\n",
    "new_born_first_month_Sepsis = new_born_first_month_Sepsis[['CountryName','Sepis ']]\n",
    "new_born_first_month_Sepsis = new_born_first_month_Sepsis.sort_values(by='Sepis ', ascending=False)\n",
    "new_born_first_month_Sepsis = new_born_first_month_Sepsis[:50].reset_index(drop=True)\n",
    "new_born_first_month_Sepsis.to_csv('Sepsis_top30.csv')"
   ]
  },
  {
   "cell_type": "code",
   "execution_count": 283,
   "metadata": {
    "collapsed": false,
    "scrolled": true
   },
   "outputs": [],
   "source": [
    "new_born_first_month_Congenital = new_born_first_month[:194]\n",
    "new_born_first_month_Congenital = new_born_first_month_Congenital[['CountryName','Congenital ']]\n",
    "new_born_first_month_Congenital = new_born_first_month_Congenital.sort_values(by='Congenital ', ascending=False)\n",
    "new_born_first_month_Congenital = new_born_first_month_Congenital[:50].reset_index(drop=True)\n",
    "new_born_first_month_Congenital.to_csv('Congenital_top30.csv')"
   ]
  },
  {
   "cell_type": "markdown",
   "metadata": {
    "collapsed": true
   },
   "source": [
    "# Analysis over top 5 populated nation"
   ]
  },
  {
   "cell_type": "code",
   "execution_count": 284,
   "metadata": {
    "collapsed": false
   },
   "outputs": [],
   "source": [
    "#CHN\n",
    "#IND\n",
    "#USA\n",
    "#IDN\n",
    "#BRA"
   ]
  },
  {
   "cell_type": "markdown",
   "metadata": {},
   "source": [
    "# For Preterm, Sepsis, Congenital"
   ]
  },
  {
   "cell_type": "code",
   "execution_count": 285,
   "metadata": {
    "collapsed": true
   },
   "outputs": [],
   "source": [
    "country = ['CHN','IND','USA','IDN','BRA']\n",
    "cause1 = developing_2015.loc[developing_2015['ISO_Code'].isin(country)]\n",
    "cause2 = developed_2015.loc[developed_2015['ISO_Code'].isin(country)]"
   ]
  },
  {
   "cell_type": "code",
   "execution_count": 286,
   "metadata": {
    "collapsed": true
   },
   "outputs": [],
   "source": [
    "required_columns1 = cause1[['ISO_Code','CountryName','Year','Preterm','Sepsis','Congenital',]]\n",
    "required_columns2 = cause2[['ISO_Code','CountryName','Year','Preterm','Sepsis','Congenital',]]\n"
   ]
  },
  {
   "cell_type": "code",
   "execution_count": 287,
   "metadata": {
    "collapsed": false
   },
   "outputs": [
    {
     "data": {
      "text/html": [
       "<div>\n",
       "<table border=\"1\" class=\"dataframe\">\n",
       "  <thead>\n",
       "    <tr style=\"text-align: right;\">\n",
       "      <th></th>\n",
       "      <th>ISO_Code</th>\n",
       "      <th>CountryName</th>\n",
       "      <th>Year</th>\n",
       "      <th>Preterm</th>\n",
       "      <th>Sepsis</th>\n",
       "      <th>Congenital</th>\n",
       "    </tr>\n",
       "  </thead>\n",
       "  <tbody>\n",
       "    <tr>\n",
       "      <th>0</th>\n",
       "      <td>BRA</td>\n",
       "      <td>Brazil</td>\n",
       "      <td>2015</td>\n",
       "      <td>18.9</td>\n",
       "      <td>7.8</td>\n",
       "      <td>22.1</td>\n",
       "    </tr>\n",
       "    <tr>\n",
       "      <th>1</th>\n",
       "      <td>CHN</td>\n",
       "      <td>China</td>\n",
       "      <td>2015</td>\n",
       "      <td>18.3</td>\n",
       "      <td>2.9</td>\n",
       "      <td>17.9</td>\n",
       "    </tr>\n",
       "    <tr>\n",
       "      <th>2</th>\n",
       "      <td>IND</td>\n",
       "      <td>India</td>\n",
       "      <td>2015</td>\n",
       "      <td>27.5</td>\n",
       "      <td>7.9</td>\n",
       "      <td>9.0</td>\n",
       "    </tr>\n",
       "    <tr>\n",
       "      <th>3</th>\n",
       "      <td>IDN</td>\n",
       "      <td>Indonesia</td>\n",
       "      <td>2015</td>\n",
       "      <td>18.9</td>\n",
       "      <td>6.5</td>\n",
       "      <td>10.8</td>\n",
       "    </tr>\n",
       "    <tr>\n",
       "      <th>4</th>\n",
       "      <td>USA</td>\n",
       "      <td>United States of America</td>\n",
       "      <td>2015</td>\n",
       "      <td>26.8</td>\n",
       "      <td>2.3</td>\n",
       "      <td>24.8</td>\n",
       "    </tr>\n",
       "  </tbody>\n",
       "</table>\n",
       "</div>"
      ],
      "text/plain": [
       "  ISO_Code               CountryName  Year  Preterm  Sepsis  Congenital\n",
       "0      BRA                    Brazil  2015     18.9     7.8        22.1\n",
       "1      CHN                     China  2015     18.3     2.9        17.9\n",
       "2      IND                     India  2015     27.5     7.9         9.0\n",
       "3      IDN                 Indonesia  2015     18.9     6.5        10.8\n",
       "4      USA  United States of America  2015     26.8     2.3        24.8"
      ]
     },
     "execution_count": 287,
     "metadata": {},
     "output_type": "execute_result"
    }
   ],
   "source": [
    "final_frames4 = pd.concat([required_columns1,required_columns2])\n",
    "final_frames4.reset_index(drop=True)\n"
   ]
  },
  {
   "cell_type": "code",
   "execution_count": 288,
   "metadata": {
    "collapsed": false
   },
   "outputs": [
    {
     "data": {
      "text/plain": [
       "23.085294117647056"
      ]
     },
     "execution_count": 288,
     "metadata": {},
     "output_type": "execute_result"
    }
   ],
   "source": [
    "#Percentage value of the preterm disease for developed region\n",
    "Preterm_developed_2015"
   ]
  },
  {
   "cell_type": "code",
   "execution_count": 289,
   "metadata": {
    "collapsed": false
   },
   "outputs": [
    {
     "data": {
      "text/plain": [
       "3.9558823529411775"
      ]
     },
     "execution_count": 289,
     "metadata": {},
     "output_type": "execute_result"
    }
   ],
   "source": [
    "#Percentage value of the sepsis disease for developed region\n",
    "Sepsis_developed_2015"
   ]
  },
  {
   "cell_type": "code",
   "execution_count": 290,
   "metadata": {
    "collapsed": false
   },
   "outputs": [
    {
     "data": {
      "text/plain": [
       "26.273529411764706"
      ]
     },
     "execution_count": 290,
     "metadata": {},
     "output_type": "execute_result"
    }
   ],
   "source": [
    "#Percentage value of the congenital disease for developed region\n",
    "Congenital_developed_2015"
   ]
  },
  {
   "cell_type": "code",
   "execution_count": null,
   "metadata": {
    "collapsed": false
   },
   "outputs": [],
   "source": [
    "\n"
   ]
  },
  {
   "cell_type": "code",
   "execution_count": null,
   "metadata": {
    "collapsed": false
   },
   "outputs": [],
   "source": []
  },
  {
   "cell_type": "code",
   "execution_count": null,
   "metadata": {
    "collapsed": true
   },
   "outputs": [],
   "source": []
  },
  {
   "cell_type": "code",
   "execution_count": null,
   "metadata": {
    "collapsed": true
   },
   "outputs": [],
   "source": []
  },
  {
   "cell_type": "code",
   "execution_count": null,
   "metadata": {
    "collapsed": true
   },
   "outputs": [],
   "source": []
  }
 ],
 "metadata": {
  "anaconda-cloud": {},
  "kernelspec": {
   "display_name": "Python 3",
   "language": "python",
   "name": "python3"
  },
  "language_info": {
   "codemirror_mode": {
    "name": "ipython",
    "version": 3
   },
   "file_extension": ".py",
   "mimetype": "text/x-python",
   "name": "python",
   "nbconvert_exporter": "python",
   "pygments_lexer": "ipython3",
   "version": "3.5.2"
  }
 },
 "nbformat": 4,
 "nbformat_minor": 0
}
